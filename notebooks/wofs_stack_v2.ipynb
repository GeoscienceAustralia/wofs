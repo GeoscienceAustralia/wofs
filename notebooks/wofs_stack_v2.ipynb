{
 "cells": [
  {
   "cell_type": "code",
   "execution_count": 10,
   "metadata": {
    "collapsed": true
   },
   "outputs": [],
   "source": [
    "# FZ tested working 2016-02-26\n",
    "# https://gist.github.com/v0lat1le/8c4c5ec00c554609a702\n",
    "\n",
    "import os\n",
    "import re\n",
    "import sys\n",
    "import numpy\n",
    "import netCDF4\n",
    "import rasterio\n",
    "from glob import glob\n",
    "from datetime import datetime\n",
    "from collections import namedtuple\n",
    "from osgeo import osr"
   ]
  },
  {
   "cell_type": "code",
   "execution_count": 11,
   "metadata": {
    "collapsed": true
   },
   "outputs": [],
   "source": [
    "TileInfo = namedtuple('TileInfo', ['filename', 'datetime'])\n",
    "\n",
    "def parse_filename(filename):\n",
    "    fields = re.match(\n",
    "        (\n",
    "            r\"(?P<vehicle>LS[578])\"\n",
    "            r\"_(?P<instrument>OLI_TIRS|OLI|TIRS|TM|ETM)\"\n",
    "            r\"_(?P<type>WATER)\"\n",
    "            r\"_(?P<longitude>[0-9]{3})\"\n",
    "            r\"_(?P<latitude>-[0-9]{3})\"\n",
    "            r\"_(?P<date>.*)\"\n",
    "            \"\\.tif$\"\n",
    "        ),\n",
    "        filename).groupdict()\n",
    "    return fields\n",
    "    \n",
    "def make_tileinfo(filename):\n",
    "    basename = os.path.basename(filename)\n",
    "    fields = parse_filename(os.path.basename(basename))\n",
    "    dt = datetime.strptime(fields['date'][:19], '%Y-%m-%dT%H-%M-%S')\n",
    "    return TileInfo(filename, datetime=dt)\n",
    "\n",
    "def create_netcdf(filename, tiles, timechunksize=100):\n",
    "    timechunksize = min(timechunksize, len(tiles))\n",
    "    \n",
    "    # open the first datatset to pull out spatial information\n",
    "    first = rasterio.open(tiles[0].filename)\n",
    "    crs = osr.SpatialReference(first.crs_wkt.encode('utf8'))\n",
    "    affine = first.affine\n",
    "    width, height = first.width, first.height\n",
    "        \n",
    "    with netCDF4.Dataset(filename, 'w') as nco:\n",
    "        nco.date_created = datetime.today().isoformat()  \n",
    "        nco.Conventions = 'CF-1.6'  \n",
    "\n",
    "        # crs variable\n",
    "        crs_var = nco.createVariable('crs', 'i4')\n",
    "        crs_var.long_name = crs.GetAttrValue('GEOGCS')\n",
    "        crs_var.grid_mapping_name = 'latitude_longitude'\n",
    "        crs_var.longitude_of_prime_meridian = 0.0\n",
    "        crs_var.spatial_ref = crs.ExportToWkt()\n",
    "        crs_var.semi_major_axis = crs.GetSemiMajor()\n",
    "        crs_var.semi_minor_axis = crs.GetSemiMinor()\n",
    "        crs_var.inverse_flattening = crs.GetInvFlattening()\n",
    "        crs_var.GeoTransform = affine.to_gdal()\n",
    "\n",
    "        # latitude coordinate\n",
    "        nco.createDimension('latitude', height)\n",
    "        lat_coord = nco.createVariable('latitude', 'float64', ['latitude'])\n",
    "        lat_coord.standard_name = 'latitude'\n",
    "        lat_coord.long_name = 'latitude'\n",
    "        lat_coord.axis = 'Y'\n",
    "        lat_coord.units = 'degrees_north'\n",
    "        lat_coord[:] = numpy.arange(height) * affine.e + affine.f + affine.e / 2\n",
    "\n",
    "        # longitude coordinate\n",
    "        nco.createDimension('longitude', width)\n",
    "        lon_coord = nco.createVariable('longitude', 'float64', ['longitude'])\n",
    "        lon_coord.standard_name = 'longitude'\n",
    "        lon_coord.long_name = 'longitude'\n",
    "        lon_coord.axis = 'X'\n",
    "        lon_coord.units = 'degrees_east'\n",
    "        lon_coord[:] = numpy.arange(width) * affine.a + affine.c + affine.a / 2\n",
    "\n",
    "        # time coordinate\n",
    "        nco.createDimension('time', len(tiles))\n",
    "        time_coord = nco.createVariable('time', 'double', ['time'])\n",
    "        time_coord.standard_name = 'time'\n",
    "        time_coord.long_name = 'Time, unix time-stamp'\n",
    "        time_coord.axis = 'T'\n",
    "        time_coord.calendar = 'standard'\n",
    "        time_coord.units = 'seconds since 1970-01-01 00:00:00'\n",
    "        time_coord[:] = [(tile.datetime-datetime(1970, 1, 1, 0, 0, 0)).total_seconds() for tile in tiles]\n",
    "\n",
    "        # wofs data variable\n",
    "        data_var = nco.createVariable('Data',\n",
    "                                      'uint8',\n",
    "                                      ['latitude', 'longitude', 'time'],\n",
    "                                      chunksizes=[100, 100, timechunksize],\n",
    "                                      zlib=True)\n",
    "        data_var.grid_mapping = 'crs'\n",
    "        data_var.valid_range = [0, 255]\n",
    "        data_var.flag_masks = [1, 2, 4, 8, 16, 32, 64, 128];\n",
    "        data_var.flag_meanings = \"water cloud cloud_shadow high_slope terrain_shadow over_sea no_contiguity no_source_data\"\n",
    "\n",
    "        tmp = numpy.empty(dtype='uint8', shape=(height, width, timechunksize))\n",
    "        for start_idx in range(0, len(tiles), timechunksize):\n",
    "            #read `timechunksize` worth of data into a temporary array\n",
    "            end_idx = min(start_idx+timechunksize, len(tiles))\n",
    "            for idx in range(start_idx, end_idx):\n",
    "                with rasterio.open(tiles[idx].filename) as tile_data:\n",
    "                    tmp[:,:,idx-start_idx] = tile_data.read(1)\n",
    "            #write the data into necdffile\n",
    "            data_var[:,:,start_idx:end_idx] = tmp[:,:,0:end_idx-start_idx]\n",
    "            sys.stdout.write(\"\\r%d out of %d done\" % (end_idx, len(tiles)))\n",
    "            sys.stdout.flush()"
   ]
  },
  {
   "cell_type": "code",
   "execution_count": 12,
   "metadata": {
    "collapsed": true
   },
   "outputs": [],
   "source": [
    "# Define extent dir and sort the tiles list\n",
    "#extents_dir = '/g/data/u46/fxz547/wofs/extents/149_-036'\n",
    "extents_dir = '/g/data/fk4/wofs/water_f7q/extents/149_-036'\n",
    "\n",
    "tiles = [make_tileinfo(filename) for filename in glob(os.path.join(extents_dir, '*.tif'))]\n",
    "tiles.sort(key=lambda t: t.datetime)"
   ]
  },
  {
   "cell_type": "code",
   "execution_count": 6,
   "metadata": {
    "collapsed": false
   },
   "outputs": [
    {
     "name": "stdout",
     "output_type": "stream",
     "text": [
      "1428 out of 1428 done"
     ]
    }
   ],
   "source": [
    "# create the stacked nc file\n",
    "create_netcdf('/g/data/u46/fxz547/wofs/extents/149_-036.stacked.nc', tiles)"
   ]
  },
  {
   "cell_type": "code",
   "execution_count": 13,
   "metadata": {
    "collapsed": false
   },
   "outputs": [
    {
     "name": "stdout",
     "output_type": "stream",
     "text": [
      "TileInfo(filename='/g/data/fk4/wofs/water_f7q/extents/149_-036/LS5_TM_WATER_149_-036_1987-05-22T23-08-20.154088.tif', datetime=datetime.datetime(1987, 5, 22, 23, 8, 20))\n",
      "True\n",
      "TileInfo(filename='/g/data/fk4/wofs/water_f7q/extents/149_-036/LS5_TM_WATER_149_-036_1987-07-16T23-15-17.556000.tif', datetime=datetime.datetime(1987, 7, 16, 23, 15, 17))\n",
      "True\n",
      "TileInfo(filename='/g/data/fk4/wofs/water_f7q/extents/149_-036/LS5_TM_WATER_149_-036_1987-08-24T23-22-59.125069.tif', datetime=datetime.datetime(1987, 8, 24, 23, 22, 59))\n",
      "True\n",
      "TileInfo(filename='/g/data/fk4/wofs/water_f7q/extents/149_-036/LS5_TM_WATER_149_-036_1990-06-06T23-10-16.619081.tif', datetime=datetime.datetime(1990, 6, 6, 23, 10, 16))\n",
      "True\n",
      "TileInfo(filename='/g/data/fk4/wofs/water_f7q/extents/149_-036/LS5_TM_WATER_149_-036_1992-10-10T23-05-50.533088.tif', datetime=datetime.datetime(1992, 10, 10, 23, 5, 50))\n",
      "True\n",
      "TileInfo(filename='/g/data/fk4/wofs/water_f7q/extents/149_-036/LS7_ETM_WATER_149_-036_2007-11-04T23-40-07.231415.tif', datetime=datetime.datetime(2007, 11, 4, 23, 40, 7))\n",
      "True\n"
     ]
    }
   ],
   "source": [
    "#print tiles\n",
    "\n",
    "with netCDF4.Dataset('/g/data/u46/fxz547/wofs/extents/149_-036.stacked.nc') as nco:\n",
    "    for i in [0, 1, 2,100,200,1000]:\n",
    "        print tiles[i]\n",
    "        with rasterio.open(tiles[i].filename) as tile_data:\n",
    "            print (nco['Data'][:,:,i] == tile_data.read(1)).all()"
   ]
  },
  {
   "cell_type": "code",
   "execution_count": null,
   "metadata": {
    "collapsed": false
   },
   "outputs": [
    {
     "name": "stdout",
     "output_type": "stream",
     "text": [
      "TileInfo(filename='/g/data/fk4/wofs/water_f7q/extents/149_-036/LS5_TM_WATER_149_-036_1987-05-22T23-08-20.154088.tif', datetime=datetime.datetime(1987, 5, 22, 23, 8, 20))\n",
      "False\n",
      "TileInfo(filename='/g/data/fk4/wofs/water_f7q/extents/149_-036/LS5_TM_WATER_149_-036_1987-07-16T23-15-17.556000.tif', datetime=datetime.datetime(1987, 7, 16, 23, 15, 17))\n",
      "False\n",
      "TileInfo(filename='/g/data/fk4/wofs/water_f7q/extents/149_-036/LS5_TM_WATER_149_-036_1987-08-24T23-22-59.125069.tif', datetime=datetime.datetime(1987, 8, 24, 23, 22, 59))\n",
      "False\n",
      "TileInfo(filename='/g/data/fk4/wofs/water_f7q/extents/149_-036/LS5_TM_WATER_149_-036_1990-06-06T23-10-16.619081.tif', datetime=datetime.datetime(1990, 6, 6, 23, 10, 16))\n",
      "True\n",
      "TileInfo(filename='/g/data/fk4/wofs/water_f7q/extents/149_-036/LS5_TM_WATER_149_-036_1992-10-10T23-05-50.533088.tif', datetime=datetime.datetime(1992, 10, 10, 23, 5, 50))\n",
      "False"
     ]
    }
   ],
   "source": [
    "netcdf_old='/g/data/fk4/wofs/water_f7q/extents/149_-036/LS_WATER_149_-036_1987-05-22T23-08-20.154_2014-03-28T23-47-03.171.nc'\n",
    "\n",
    "with netCDF4.Dataset(netcdf_old) as nco:\n",
    "    for i in [0, 1, 2,100,200,1000]:\n",
    "        print tiles[i]\n",
    "        with rasterio.open(tiles[i].filename) as tile_data:\n",
    "            print (nco['Data'][:,:,i] == tile_data.read(1)).all()"
   ]
  }
 ],
 "metadata": {
  "kernelspec": {
   "display_name": "Python 2",
   "language": "python",
   "name": "python2"
  },
  "language_info": {
   "codemirror_mode": {
    "name": "ipython",
    "version": 2
   },
   "file_extension": ".py",
   "mimetype": "text/x-python",
   "name": "python",
   "nbconvert_exporter": "python",
   "pygments_lexer": "ipython2",
   "version": "2.7.11"
  }
 },
 "nbformat": 4,
 "nbformat_minor": 0
}
