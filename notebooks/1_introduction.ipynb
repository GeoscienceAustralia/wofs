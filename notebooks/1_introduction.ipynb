{
 "cells": [
  {
   "cell_type": "markdown",
   "metadata": {},
   "source": [
    "# Australian Geoscience Datacube API\n",
    "This notebook describes connecting to the datacube and doing a basic query"
   ]
  },
  {
   "cell_type": "markdown",
   "metadata": {},
   "source": [
    "## Setup enviroment (optional, have your own hacks)\n",
    "\n",
    "In order to make the code work, you have to setup necessary environment first. \n",
    "\n",
    "- There are different ways (such as module load) to do this. \n",
    "- Below is a more explicit way of checking and setting environment parameters.\n"
   ]
  },
  {
   "cell_type": "code",
   "execution_count": null,
   "metadata": {
    "collapsed": false
   },
   "outputs": [],
   "source": [
    "# check which python interpreter your ipython notebook is using. pythonpath and gdal_data\n",
    "!echo \"PYTHONPATH: $PYTHONPATH || GDAL:  $GDAL_DATA\"\n",
    "\n",
    "!which python"
   ]
  },
  {
   "cell_type": "code",
   "execution_count": null,
   "metadata": {
    "collapsed": true
   },
   "outputs": [],
   "source": [
    "import sys\n",
    "\n",
    "def setup_env(agdc2dev):\n",
    "\n",
    "    paths=sys.path\n",
    "    #paths.append(agdc2dev)\n",
    "    paths.insert(0, agdc2dev)  #prepend the agdc-v2 path for import\n",
    "    \n",
    "    print \"Now, your import search paths: \"\n",
    "    for p in  sys.path:\n",
    "        print p"
   ]
  },
  {
   "cell_type": "code",
   "execution_count": null,
   "metadata": {
    "collapsed": false
   },
   "outputs": [],
   "source": [
    "# call the set_env() function if you want to use an updated agdc-v2 code, instead the canned module.\n",
    "# please chnange the path below\n",
    "\n",
    "# setup_env(\"/path2developer_branch/agdc-v2\")\n",
    "\n",
    "#After this you should be able to import necessary path modules"
   ]
  },
  {
   "cell_type": "code",
   "execution_count": null,
   "metadata": {
    "collapsed": false
   },
   "outputs": [],
   "source": [
    "import datacube.api\n",
    "from pprint import pprint\n",
    "\n",
    "from IPython.display import display\n",
    "from collections import defaultdict\n",
    "\n",
    "import xarray as xr\n",
    "import xarray.ufuncs\n",
    "\n",
    "from datacube.api import API\n",
    "from datacube.index import index_connect\n",
    "from datacube.config import LocalConfig\n",
    "from datacube.api._conversion import to_datetime\n",
    "from datacube.api import make_mask, describe_flags\n",
    "\n",
    "%matplotlib inline"
   ]
  },
  {
   "cell_type": "code",
   "execution_count": null,
   "metadata": {
    "collapsed": true
   },
   "outputs": [],
   "source": [
    "# enable the configuration to use the right database and datastore dir\n",
    "# By default, the API will use the configured database connection found in the config file.\n",
    "\n",
    "# Details on setting up the config file and database and be found here: \n",
    "# http://agdc-v2.readthedocs.org/en/develop/db_setup.html\n",
    "\n",
    "force_prod = True\n",
    "if force_prod:\n",
    "    prod_config = LocalConfig.find(['/g/data/v10/public/modules/agdc-py2-prod/1.0.2/datacube.conf'])\n",
    "    prod_index = index_connect(prod_config, application_name='api-WOfS-dev')\n",
    "    dc = API(prod_index)\n",
    "else:\n",
    "    dc = API(application_name='api-WOfS-dev')"
   ]
  },
  {
   "cell_type": "markdown",
   "metadata": {},
   "source": [
    "## Summary functions\n",
    "* __`list_fields()`__ - lists all fields that can be used for searching\n",
    "* __`list_field_values(field)`__ - lists all the values of the field found in the database\n",
    "\n",
    "Find out what fields we can search:"
   ]
  },
  {
   "cell_type": "code",
   "execution_count": null,
   "metadata": {
    "collapsed": false
   },
   "outputs": [],
   "source": [
    "dc.list_fields()"
   ]
  },
  {
   "cell_type": "markdown",
   "metadata": {},
   "source": [
    "The `product` and `platform` fields looks interesting. Find out more about them:"
   ]
  },
  {
   "cell_type": "code",
   "execution_count": null,
   "metadata": {
    "collapsed": false
   },
   "outputs": [],
   "source": [
    "dc.list_field_values('product')"
   ]
  },
  {
   "cell_type": "code",
   "execution_count": null,
   "metadata": {
    "collapsed": false
   },
   "outputs": [],
   "source": [
    "dc.list_field_values('platform')"
   ]
  },
  {
   "cell_type": "markdown",
   "metadata": {},
   "source": [
    "## Query and Access functions\n",
    "There are several API calls the describe and provide data in different ways:\n",
    "\n",
    "* __`get_descriptor()`__ - provides a descripton of the data for a given query\n",
    "* __`get_data()`__ - provides the data as `xarray.DataArray`s for each variable.  This is usually called based on information returned by the `get_descriptor` call.\n",
    "* __`get_data_array()`__ - returns an `xarray.DataArray` n-dimensional object, with the variables stack along the dimension labelled `variables`.\n",
    "* __`get_dataset()`__ - return an `xarray.Dataset` object, containing an `xarray.DataArray` for each variable."
   ]
  },
  {
   "cell_type": "markdown",
   "metadata": {},
   "source": [
    "###  get_descriptor\n",
    "We can make a query and find out about the data:\n",
    "\n",
    "The query is a nested dict of variables of terms."
   ]
  },
  {
   "cell_type": "code",
   "execution_count": null,
   "metadata": {
    "collapsed": false
   },
   "outputs": [],
   "source": [
    "query = {\n",
    "    'product': 'nbar',\n",
    "    'platform': 'LANDSAT_5',\n",
    "}\n",
    "descriptor = dc.get_descriptor(query, include_storage_units=False)\n",
    "pprint(descriptor)"
   ]
  },
  {
   "cell_type": "markdown",
   "metadata": {},
   "source": [
    "The query can be restricted to provide information on particular range along a dimension.\n",
    "\n",
    "For spatial queries, the dimension names should be used.  The default projection for the range query values is in WGS84, although"
   ]
  },
  {
   "cell_type": "code",
   "execution_count": null,
   "metadata": {
    "collapsed": false
   },
   "outputs": [],
   "source": [
    "query = {\n",
    "    'product': 'nbar',\n",
    "    'platform': 'LANDSAT_5',\n",
    "    'dimensions': {\n",
    "        'x' : {\n",
    "            'range': (148.5, 149.5),\n",
    "        },\n",
    "        'y' : {\n",
    "            'range': (-34.8, -35.8),\n",
    "        },\n",
    "        'time': {\n",
    "            'range': ((1990, 6, 1), (2020, 7 ,1)),\n",
    "        }\n",
    "    }\n",
    "}\n",
    "pprint(dc.get_descriptor(query, include_storage_units=False))"
   ]
  },
  {
   "cell_type": "markdown",
   "metadata": {},
   "source": [
    "A coordinate reference sytsem can be provided for the spatial dimensions, either as a EPSG code or a WKT description:"
   ]
  },
  {
   "cell_type": "code",
   "execution_count": null,
   "metadata": {
    "collapsed": true
   },
   "outputs": [],
   "source": [
    "query = {\n",
    "    'product': 'nbar',\n",
    "    'platform': 'LANDSAT_5',\n",
    "    'dimensions': {\n",
    "        'x' : {\n",
    "            'range': (1542112, 1563962),\n",
    "            'crs': 'EPSG:3577',\n",
    "        },\n",
    "        'y' : {\n",
    "            'range': (-3920000.5,-3926000.5),\n",
    "            'crs': 'EPSG:3577',\n",
    "        },\n",
    "        'time': {\n",
    "            'range': ((1990, 6, 1), (1990, 7 ,1)),\n",
    "        }\n",
    "    }\n",
    "}"
   ]
  },
  {
   "cell_type": "markdown",
   "metadata": {},
   "source": [
    "### get_data\n",
    "This retrieves the data, usually as a subset, based on the information provided by the `get_descriptor` call.\n",
    "\n",
    "The query is in a similar form to the `get_descriptor` call, with the addition of a `variables` parameter.  If not specified, all variables are returned.\n",
    "The query also accepts an `array_range` parameter on a dimension that provides a subset based on array indicies, rather than labelled coordinates."
   ]
  },
  {
   "cell_type": "code",
   "execution_count": null,
   "metadata": {
    "collapsed": false
   },
   "outputs": [],
   "source": [
    "query = {\n",
    "    'product': 'nbar',\n",
    "    'platform': 'LANDSAT_5',\n",
    "    'variables': ['band_3', 'band_4'],\n",
    "    'dimensions': {\n",
    "        'x' : {\n",
    "            'range': (148.5, 149.5),\n",
    "            'array_range': (0, 1),\n",
    "        },\n",
    "        'y' : {\n",
    "            'range': (-34.8, -35.8),\n",
    "            'array_range': (0, 1),\n",
    "        },\n",
    "        'time': {\n",
    "            'range': ((1990, 4, 1), (2020, 5, 1))\n",
    "        }\n",
    "    }\n",
    "}\n",
    "data = dc.get_data(query)\n",
    "data.keys()"
   ]
  },
  {
   "cell_type": "markdown",
   "metadata": {},
   "source": [
    "### get_data_array\n",
    "This is a convinence function that wraps the `get_data` function, returning only the data, stacked in a single `xarray.DataArray`.\n",
    "\n",
    "The variables are stacked along the `variable` dimension."
   ]
  },
  {
   "cell_type": "code",
   "execution_count": null,
   "metadata": {
    "collapsed": false,
    "scrolled": true
   },
   "outputs": [],
   "source": [
    "nbar = dc.get_data_array(product='nbar', platform='LANDSAT_5', y=(-34.95,-35.05), x=(148.95,149.05))\n",
    "nbar"
   ]
  },
  {
   "cell_type": "markdown",
   "metadata": {},
   "source": [
    "### get_dataset\n",
    "This is a convinience fuction similar to `get_data_array`, returning the data of the query as a `xarray.Dataset` object (similar to netcdf structure)"
   ]
  },
  {
   "cell_type": "code",
   "execution_count": null,
   "metadata": {
    "collapsed": false
   },
   "outputs": [],
   "source": [
    "dc.get_dataset(product='nbar', platform='LANDSAT_5', y=(-34.95,-35.05), x=(148.95,149.05))"
   ]
  }
 ],
 "metadata": {
  "kernelspec": {
   "display_name": "Python 2",
   "language": "python",
   "name": "python2"
  },
  "language_info": {
   "codemirror_mode": {
    "name": "ipython",
    "version": 2
   },
   "file_extension": ".py",
   "mimetype": "text/x-python",
   "name": "python",
   "nbconvert_exporter": "python",
   "pygments_lexer": "ipython2",
   "version": "2.7.11"
  }
 },
 "nbformat": 4,
 "nbformat_minor": 0
}
