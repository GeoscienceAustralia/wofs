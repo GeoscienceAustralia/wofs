{
 "cells": [
  {
   "cell_type": "code",
   "execution_count": 1,
   "metadata": {
    "collapsed": false
   },
   "outputs": [
    {
     "name": "stdout",
     "output_type": "stream",
     "text": [
      "PYTHONPATH: /projects/v10/NEMO/hpc-lpgs/python: || GDAL:  /g/data/u46/fxz547/anaconda2/share/gdal/\n",
      "/g/data/u46/fxz547/anaconda2/bin/python\n",
      "/g/data1/u46/fxz547/Githubz/agdc-v2\n",
      "\n",
      "/g/data/u46/fxz547/anaconda2/lib/python2.7/site-packages/setuptools-20.2.2-py2.7.egg\n",
      "/projects/v10/NEMO/hpc-lpgs/python\n",
      "/g/data1/u46/fxz547/Githubz/wofs/Zlocaltest\n",
      "/g/data/u46/fxz547/anaconda2/lib/python27.zip\n",
      "/g/data/u46/fxz547/anaconda2/lib/python2.7\n",
      "/g/data/u46/fxz547/anaconda2/lib/python2.7/plat-linux2\n",
      "/g/data/u46/fxz547/anaconda2/lib/python2.7/lib-tk\n",
      "/g/data/u46/fxz547/anaconda2/lib/python2.7/lib-old\n",
      "/g/data/u46/fxz547/anaconda2/lib/python2.7/lib-dynload\n",
      "/home/547/fxz547/.local/lib/python2.7/site-packages\n",
      "/g/data1/u46/fxz547/anaconda2/lib/python2.7/site-packages/Sphinx-1.3.5-py2.7.egg\n",
      "/g/data/u46/fxz547/anaconda2/lib/python2.7/site-packages\n",
      "/g/data/u46/fxz547/anaconda2/lib/python2.7/site-packages/cryptography-1.0.2-py2.7-linux-x86_64.egg\n",
      "/g/data/u46/fxz547/anaconda2/lib/python2.7/site-packages/IPython/extensions\n",
      "/home/547/fxz547/.ipython\n"
     ]
    }
   ],
   "source": [
    "!echo \"PYTHONPATH: $PYTHONPATH || GDAL:  $GDAL_DATA\"\n",
    "!which python\n",
    "\n",
    "import sys\n",
    "paths=sys.path\n",
    "#paths.append('/g/data1/u46/fxz547/Githubz/agdc-v2')\n",
    "paths.insert(0,'/g/data1/u46/fxz547/Githubz/agdc-v2')  #prepend a path\n",
    "for p in  sys.path:\n",
    "    print p"
   ]
  },
  {
   "cell_type": "code",
   "execution_count": 2,
   "metadata": {
    "ExecuteTime": {
     "end_time": "2016-04-20T10:27:18.205029",
     "start_time": "2016-04-20T10:27:17.116029"
    },
    "collapsed": false
   },
   "outputs": [
    {
     "name": "stderr",
     "output_type": "stream",
     "text": [
      "/g/data1/u46/fxz547/Githubz/agdc-v2/datacube/api/_api.py:64: UserWarning: No application name set during API initialization\n",
      "  warnings.warn('No application name set during API initialization')\n"
     ]
    }
   ],
   "source": [
    "\n",
    "%matplotlib inline\n",
    "\n",
    "from datacube.api import API, make_mask, list_flag_names\n",
    "\n",
    "import xarray as xr\n",
    "\n",
    "import sys\n",
    "sys.path.insert(0,\"/g/data1/u46/fxz547/Githubz/agdc-v2\")\n",
    "\n",
    "# cp /g/data/v10/public/modules/agdc-py2-prod/1.0.2/datacube.conf ~/.datacube.conf\n",
    "\n",
    "dc = API()\n",
    "\n",
    "CELL = (19, -29)"
   ]
  },
  {
   "cell_type": "markdown",
   "metadata": {},
   "source": [
    "# Pixel level data filtering\n",
    "This notebook steps through how to filter data using the low level Datacube bit-masking API functions."
   ]
  },
  {
   "cell_type": "markdown",
   "metadata": {},
   "source": [
    "## Load PQ Dataset (by cell)\n",
    "\n",
    "Load the pixel quality data, for all available times, in a particular cell, into an `xarray.Dataset`."
   ]
  },
  {
   "cell_type": "code",
   "execution_count": 3,
   "metadata": {
    "ExecuteTime": {
     "end_time": "2016-04-20T10:27:18.337029",
     "start_time": "2016-04-20T10:27:18.206029"
    },
    "collapsed": false
   },
   "outputs": [
    {
     "data": {
      "text/plain": [
       "<xarray.Dataset>\n",
       "Dimensions:       (time: 61, x: 4000, y: 4000)\n",
       "Coordinates:\n",
       "  * time          (time) datetime64[ns] 2013-03-27T23:45:53.380000 ...\n",
       "  * y             (y) float64 -2.8e+06 -2.8e+06 -2.8e+06 -2.8e+06 -2.8e+06 ...\n",
       "  * x             (x) float64 1.9e+06 1.9e+06 1.9e+06 1.9e+06 1.9e+06 ...\n",
       "Data variables:\n",
       "    crs           int64 0\n",
       "    pixelquality  (time, y, x) int16 0 0 0 0 0 0 0 0 0 0 0 0 0 0 0 0 0 0 0 0 ...\n",
       "Attributes:\n",
       "    license: Creative Commons Attribution 4.0 International (CC-BY 4.0)\n",
       "    title: Experimental Data files From the Australian Geoscience Data Cube - DO NOT USE\n",
       "    product_version: 0.0.0\n",
       "    summary: These files are experimental, short lived, and the format will change.\n",
       "    source: This data is a reprojection and retile of Landsat surface reflectance scene data.\n",
       "    storage_type: ls8_pq_albers"
      ]
     },
     "execution_count": 3,
     "metadata": {},
     "output_type": "execute_result"
    }
   ],
   "source": [
    "pqa = dc.get_dataset_by_cell(CELL, product='pqa', platform='LANDSAT_8')\n",
    "pqa"
   ]
  },
  {
   "cell_type": "markdown",
   "metadata": {},
   "source": [
    "## Describe the options available with the PQ\n",
    "\n",
    "Print out a listing of the available bit-mask flags in this bit-masked dataset."
   ]
  },
  {
   "cell_type": "code",
   "execution_count": 4,
   "metadata": {
    "ExecuteTime": {
     "end_time": "2016-04-20T10:27:18.341029",
     "start_time": "2016-04-20T10:27:18.338029"
    },
    "collapsed": false
   },
   "outputs": [
    {
     "ename": "NameError",
     "evalue": "name 'describe_flags' is not defined",
     "output_type": "error",
     "traceback": [
      "\u001b[1;31m---------------------------------------------------------------------------\u001b[0m",
      "\u001b[1;31mNameError\u001b[0m                                 Traceback (most recent call last)",
      "\u001b[1;32m<ipython-input-4-54a3bcc46e24>\u001b[0m in \u001b[0;36m<module>\u001b[1;34m()\u001b[0m\n\u001b[1;32m----> 1\u001b[1;33m \u001b[1;32mprint\u001b[0m\u001b[1;33m(\u001b[0m\u001b[0mdescribe_flags\u001b[0m\u001b[1;33m(\u001b[0m\u001b[0mpqa\u001b[0m\u001b[1;33m)\u001b[0m\u001b[1;33m)\u001b[0m\u001b[1;33m\u001b[0m\u001b[0m\n\u001b[0m",
      "\u001b[1;31mNameError\u001b[0m: name 'describe_flags' is not defined"
     ]
    }
   ],
   "source": [
    "print(describe_flags(pqa))"
   ]
  },
  {
   "cell_type": "code",
   "execution_count": 5,
   "metadata": {
    "ExecuteTime": {
     "end_time": "2016-04-20T10:27:18.348029",
     "start_time": "2016-04-20T10:27:18.342029"
    },
    "collapsed": false
   },
   "outputs": [
    {
     "data": {
      "text/plain": [
       "[u'band_1_saturated',\n",
       " u'band_2_saturated',\n",
       " u'band_3_saturated',\n",
       " u'band_4_saturated',\n",
       " u'band_5_saturated',\n",
       " u'band_6_1_saturated',\n",
       " u'band_6_2_saturated',\n",
       " u'band_7_saturated',\n",
       " u'cloud_acca',\n",
       " u'cloud_fmask',\n",
       " u'cloud_shadow_acca',\n",
       " u'cloud_shadow_fmask',\n",
       " u'contiguity',\n",
       " u'land_obs',\n",
       " u'sea_obs']"
      ]
     },
     "execution_count": 5,
     "metadata": {},
     "output_type": "execute_result"
    }
   ],
   "source": [
    "list_flag_names(pqa)"
   ]
  },
  {
   "cell_type": "markdown",
   "metadata": {},
   "source": [
    "## Define good pixel dict\n",
    "\n",
    "After looking at the available flags for this type of dataset, we need to define which of them we care about when masking our pixel. We define this with a dictionary of flag name to boolean value."
   ]
  },
  {
   "cell_type": "code",
   "execution_count": 6,
   "metadata": {
    "ExecuteTime": {
     "end_time": "2016-04-20T10:27:18.366029",
     "start_time": "2016-04-20T10:27:18.352029"
    },
    "collapsed": false
   },
   "outputs": [
    {
     "name": "stdout",
     "output_type": "stream",
     "text": [
      "{'cloud_shadow_acca': False, 'cloud_acca': False, 'land_obs': True, 'band_1_saturated': False, 'contiguity': True, 'band_2_saturated': False, 'band_3_saturated': False, 'band_6_1_saturated': False, 'band_7_saturated': False, 'cloud_fmask': False, 'cloud_shadow_fmask': False, 'band_6_2_saturated': False, 'band_4_saturated': False, 'band_5_saturated': False}\n"
     ]
    }
   ],
   "source": [
    "GA_GOOD_PIXEL = {name: False for name in ('band_5_saturated',\n",
    " 'band_6_1_saturated',\n",
    " 'cloud_shadow_acca',\n",
    " 'cloud_fmask',\n",
    " 'band_3_saturated',\n",
    " 'band_1_saturated',\n",
    " 'band_4_saturated',\n",
    " 'band_2_saturated',\n",
    " 'cloud_acca',\n",
    " 'band_6_2_saturated',\n",
    " 'cloud_shadow_fmask',\n",
    " 'band_7_saturated')}\n",
    "\n",
    "GA_GOOD_PIXEL.update(dict(contiguity=True, land_obs=True))  #additinal key-value pairs to the dictionary GA_GOOD_P\n",
    "\n",
    "print GA_GOOD_PIXEL"
   ]
  },
  {
   "cell_type": "markdown",
   "metadata": {},
   "source": [
    "## Make a mask to get only good pixels\n",
    "\n",
    "Now we have our Dataset of pixel quality data, layered by time and we have a dictionary describing which bits we care about in that Dataset. We need to combine the two to create a mask. This is done using the `make_mask` function available in the Datacube API."
   ]
  },
  {
   "cell_type": "code",
   "execution_count": 9,
   "metadata": {
    "ExecuteTime": {
     "end_time": "2016-04-20T10:27:18.387029",
     "start_time": "2016-04-20T10:27:18.368029"
    },
    "collapsed": false
   },
   "outputs": [
    {
     "ename": "KeyError",
     "evalue": "'values'",
     "output_type": "error",
     "traceback": [
      "\u001b[1;31m---------------------------------------------------------------------------\u001b[0m",
      "\u001b[1;31mKeyError\u001b[0m                                  Traceback (most recent call last)",
      "\u001b[1;32m<ipython-input-9-d1ff39e37678>\u001b[0m in \u001b[0;36m<module>\u001b[1;34m()\u001b[0m\n\u001b[1;32m----> 1\u001b[1;33m \u001b[0mgood_pixel_mask\u001b[0m \u001b[1;33m=\u001b[0m \u001b[0mmake_mask\u001b[0m\u001b[1;33m(\u001b[0m\u001b[0mpqa\u001b[0m\u001b[1;33m,\u001b[0m \u001b[1;33m**\u001b[0m\u001b[0mGA_GOOD_PIXEL\u001b[0m\u001b[1;33m)\u001b[0m\u001b[1;33m\u001b[0m\u001b[0m\n\u001b[0m\u001b[0;32m      2\u001b[0m \u001b[0mgood_pixel_mask\u001b[0m\u001b[1;33m\u001b[0m\u001b[0m\n",
      "\u001b[1;32m/g/data1/u46/fxz547/Githubz/agdc-v2/datacube/api/masking.pyc\u001b[0m in \u001b[0;36mmake_mask\u001b[1;34m(variable, **flags)\u001b[0m\n\u001b[0;32m    114\u001b[0m     \u001b[0mflags_def\u001b[0m \u001b[1;33m=\u001b[0m \u001b[0mget_flags_def\u001b[0m\u001b[1;33m(\u001b[0m\u001b[0mvariable\u001b[0m\u001b[1;33m)\u001b[0m\u001b[1;33m\u001b[0m\u001b[0m\n\u001b[0;32m    115\u001b[0m \u001b[1;33m\u001b[0m\u001b[0m\n\u001b[1;32m--> 116\u001b[1;33m     \u001b[0mmask\u001b[0m\u001b[1;33m,\u001b[0m \u001b[0mmask_value\u001b[0m \u001b[1;33m=\u001b[0m \u001b[0mcreate_mask_value\u001b[0m\u001b[1;33m(\u001b[0m\u001b[0mflags_def\u001b[0m\u001b[1;33m,\u001b[0m \u001b[1;33m**\u001b[0m\u001b[0mflags\u001b[0m\u001b[1;33m)\u001b[0m\u001b[1;33m\u001b[0m\u001b[0m\n\u001b[0m\u001b[0;32m    117\u001b[0m \u001b[1;33m\u001b[0m\u001b[0m\n\u001b[0;32m    118\u001b[0m     \u001b[1;32mreturn\u001b[0m \u001b[0mvariable\u001b[0m \u001b[1;33m&\u001b[0m \u001b[0mmask\u001b[0m \u001b[1;33m==\u001b[0m \u001b[0mmask_value\u001b[0m\u001b[1;33m\u001b[0m\u001b[0m\n",
      "\u001b[1;32m/g/data1/u46/fxz547/Githubz/agdc-v2/datacube/api/masking.pyc\u001b[0m in \u001b[0;36mcreate_mask_value\u001b[1;34m(bits_def, **flags)\u001b[0m\n\u001b[0;32m    127\u001b[0m \u001b[1;33m\u001b[0m\u001b[0m\n\u001b[0;32m    128\u001b[0m         \u001b[1;32mtry\u001b[0m\u001b[1;33m:\u001b[0m\u001b[1;33m\u001b[0m\u001b[0m\n\u001b[1;32m--> 129\u001b[1;33m             \u001b[1;33m[\u001b[0m\u001b[0mflag_value\u001b[0m\u001b[1;33m]\u001b[0m \u001b[1;33m=\u001b[0m \u001b[1;33m(\u001b[0m\u001b[0mbit_val\u001b[0m \u001b[1;32mfor\u001b[0m \u001b[0mbit_val\u001b[0m\u001b[1;33m,\u001b[0m \u001b[0mval_ref\u001b[0m \u001b[1;32min\u001b[0m \u001b[0mdefn\u001b[0m\u001b[1;33m[\u001b[0m\u001b[1;34m'values'\u001b[0m\u001b[1;33m]\u001b[0m\u001b[1;33m.\u001b[0m\u001b[0mitems\u001b[0m\u001b[1;33m(\u001b[0m\u001b[1;33m)\u001b[0m \u001b[1;32mif\u001b[0m \u001b[0mval_ref\u001b[0m \u001b[1;33m==\u001b[0m \u001b[0mflag_ref\u001b[0m\u001b[1;33m)\u001b[0m\u001b[1;33m\u001b[0m\u001b[0m\n\u001b[0m\u001b[0;32m    130\u001b[0m         \u001b[1;32mexcept\u001b[0m \u001b[0mValueError\u001b[0m\u001b[1;33m:\u001b[0m\u001b[1;33m\u001b[0m\u001b[0m\n\u001b[0;32m    131\u001b[0m             \u001b[1;32mraise\u001b[0m \u001b[0mValueError\u001b[0m\u001b[1;33m(\u001b[0m\u001b[1;34m'Unknown value %s specified for flag %s'\u001b[0m \u001b[1;33m%\u001b[0m \u001b[1;33m(\u001b[0m\u001b[0mflag_ref\u001b[0m\u001b[1;33m,\u001b[0m \u001b[0mflag_name\u001b[0m\u001b[1;33m)\u001b[0m\u001b[1;33m)\u001b[0m\u001b[1;33m\u001b[0m\u001b[0m\n",
      "\u001b[1;31mKeyError\u001b[0m: 'values'"
     ]
    }
   ],
   "source": [
    "good_pixel_mask = make_mask(pqa, **GA_GOOD_PIXEL)\n",
    "good_pixel_mask"
   ]
  },
  {
   "cell_type": "markdown",
   "metadata": {},
   "source": [
    "## Load NBAR Dataset (by Cell)\n",
    "\n",
    "Now we retrieve the NBAR data from Landsat 8 for bands 1, 2 and 3 for the same cell from which we retrieved the pixel quality data."
   ]
  },
  {
   "cell_type": "code",
   "execution_count": 7,
   "metadata": {
    "ExecuteTime": {
     "end_time": "2016-04-20T10:27:19.147029",
     "start_time": "2016-04-20T10:27:18.390029"
    },
    "collapsed": false
   },
   "outputs": [
    {
     "data": {
      "text/plain": [
       "<xarray.Dataset>\n",
       "Dimensions:  (time: 61, x: 4000, y: 4000)\n",
       "Coordinates:\n",
       "  * time     (time) datetime64[ns] 2013-03-27T23:45:53.380000 ...\n",
       "  * y        (y) float64 -2.8e+06 -2.8e+06 -2.8e+06 -2.8e+06 -2.8e+06 ...\n",
       "  * x        (x) float64 1.9e+06 1.9e+06 1.9e+06 1.9e+06 1.9e+06 1.9e+06 ...\n",
       "Data variables:\n",
       "    crs      int64 0\n",
       "    band_2   (time, y, x) int16 -999 -999 -999 -999 -999 -999 -999 -999 -999 ...\n",
       "    band_3   (time, y, x) int16 -999 -999 -999 -999 -999 -999 -999 -999 -999 ...\n",
       "    band_1   (time, y, x) int16 -999 -999 -999 -999 -999 -999 -999 -999 -999 ...\n",
       "Attributes:\n",
       "    license: Creative Commons Attribution 4.0 International (CC-BY 4.0)\n",
       "    title: Experimental Data files From the Australian Geoscience Data Cube - DO NOT USE\n",
       "    product_version: 0.0.0\n",
       "    summary: These files are experimental, short lived, and the format will change.\n",
       "    source: This data is a reprojection and retile of Landsat surface reflectance scene data.\n",
       "    storage_type: ls8_nbar_albers"
      ]
     },
     "execution_count": 7,
     "metadata": {},
     "output_type": "execute_result"
    }
   ],
   "source": [
    "nbar = dc.get_dataset_by_cell(CELL, variables=('band_1', 'band_2', 'band_3'), product='nbar', platform='LANDSAT_8')\n",
    "nbar"
   ]
  },
  {
   "cell_type": "markdown",
   "metadata": {},
   "source": [
    "## Apply the mask to the surface reflection data\n",
    "\n",
    "\n",
    "The loaded data can now be masked using the [`xarray.Dataset.where`](http://xarray.pydata.org/en/stable/generated/xarray.Dataset.where.html) function, which uses the co-ordinate values in both the mask and the data to ensure that they align. It will remove any data for which the mask is not available, and will throw an error if the mask and data do not overlap."
   ]
  },
  {
   "cell_type": "code",
   "execution_count": 8,
   "metadata": {
    "ExecuteTime": {
     "end_time": "2016-04-20T10:27:19.170029",
     "start_time": "2016-04-20T10:27:19.148029"
    },
    "collapsed": false
   },
   "outputs": [
    {
     "ename": "NameError",
     "evalue": "name 'good_pixel_mask' is not defined",
     "output_type": "error",
     "traceback": [
      "\u001b[1;31m---------------------------------------------------------------------------\u001b[0m",
      "\u001b[1;31mNameError\u001b[0m                                 Traceback (most recent call last)",
      "\u001b[1;32m<ipython-input-8-3e5f037ee40b>\u001b[0m in \u001b[0;36m<module>\u001b[1;34m()\u001b[0m\n\u001b[1;32m----> 1\u001b[1;33m \u001b[0mnbar_good_pixels\u001b[0m \u001b[1;33m=\u001b[0m \u001b[0mnbar\u001b[0m\u001b[1;33m.\u001b[0m\u001b[0mwhere\u001b[0m\u001b[1;33m(\u001b[0m\u001b[0mgood_pixel_mask\u001b[0m\u001b[1;33m)\u001b[0m   \u001b[1;31m#['band_1']\u001b[0m\u001b[1;33m\u001b[0m\u001b[0m\n\u001b[0m\u001b[0;32m      2\u001b[0m \u001b[0mnbar_good_pixels\u001b[0m\u001b[1;33m\u001b[0m\u001b[0m\n",
      "\u001b[1;31mNameError\u001b[0m: name 'good_pixel_mask' is not defined"
     ]
    }
   ],
   "source": [
    "nbar_good_pixels = nbar.where(good_pixel_mask)   #['band_1']\n",
    "nbar_good_pixels"
   ]
  },
  {
   "cell_type": "code",
   "execution_count": 11,
   "metadata": {
    "collapsed": false
   },
   "outputs": [
    {
     "ename": "NameError",
     "evalue": "name 'nbar_good_pixels' is not defined",
     "output_type": "error",
     "traceback": [
      "\u001b[1;31m---------------------------------------------------------------------------\u001b[0m",
      "\u001b[1;31mNameError\u001b[0m                                 Traceback (most recent call last)",
      "\u001b[1;32m<ipython-input-11-8627665f6a2b>\u001b[0m in \u001b[0;36m<module>\u001b[1;34m()\u001b[0m\n\u001b[0;32m      1\u001b[0m \u001b[1;33m\u001b[0m\u001b[0m\n\u001b[1;32m----> 2\u001b[1;33m \u001b[0mnbar_good_pixels\u001b[0m\u001b[1;33m[\u001b[0m\u001b[1;34m'band_1'\u001b[0m\u001b[1;33m]\u001b[0m\u001b[1;33m[\u001b[0m\u001b[1;36m60\u001b[0m\u001b[1;33m]\u001b[0m\u001b[1;33m.\u001b[0m\u001b[0mplot\u001b[0m\u001b[1;33m.\u001b[0m\u001b[0mimshow\u001b[0m\u001b[1;33m(\u001b[0m\u001b[1;33m)\u001b[0m\u001b[1;33m\u001b[0m\u001b[0m\n\u001b[0m",
      "\u001b[1;31mNameError\u001b[0m: name 'nbar_good_pixels' is not defined"
     ]
    }
   ],
   "source": [
    "\n",
    "nbar_good_pixels['band_1'][60].plot.imshow()"
   ]
  },
  {
   "cell_type": "code",
   "execution_count": 12,
   "metadata": {
    "collapsed": false
   },
   "outputs": [
    {
     "ename": "NameError",
     "evalue": "name 'nbar_good_pixels' is not defined",
     "output_type": "error",
     "traceback": [
      "\u001b[1;31m---------------------------------------------------------------------------\u001b[0m",
      "\u001b[1;31mNameError\u001b[0m                                 Traceback (most recent call last)",
      "\u001b[1;32m<ipython-input-12-762138593fe7>\u001b[0m in \u001b[0;36m<module>\u001b[1;34m()\u001b[0m\n\u001b[1;32m----> 1\u001b[1;33m \u001b[0mnbar_good_pixels\u001b[0m\u001b[1;33m.\u001b[0m\u001b[0mband_2\u001b[0m\u001b[1;33m[\u001b[0m\u001b[1;36m5\u001b[0m\u001b[1;33m]\u001b[0m\u001b[1;33m.\u001b[0m\u001b[0mplot\u001b[0m\u001b[1;33m(\u001b[0m\u001b[1;33m)\u001b[0m\u001b[1;33m\u001b[0m\u001b[0m\n\u001b[0m",
      "\u001b[1;31mNameError\u001b[0m: name 'nbar_good_pixels' is not defined"
     ]
    }
   ],
   "source": [
    "nbar_good_pixels.band_2[5].plot()\n"
   ]
  },
  {
   "cell_type": "code",
   "execution_count": null,
   "metadata": {
    "collapsed": true
   },
   "outputs": [],
   "source": []
  }
 ],
 "metadata": {
  "kernelspec": {
   "display_name": "Python 2",
   "language": "python",
   "name": "python2"
  },
  "language_info": {
   "codemirror_mode": {
    "name": "ipython",
    "version": 2
   },
   "file_extension": ".py",
   "mimetype": "text/x-python",
   "name": "python",
   "nbconvert_exporter": "python",
   "pygments_lexer": "ipython2",
   "version": "2.7.11"
  }
 },
 "nbformat": 4,
 "nbformat_minor": 0
}
