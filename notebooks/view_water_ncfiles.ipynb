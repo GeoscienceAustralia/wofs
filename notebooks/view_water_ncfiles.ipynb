{
 "cells": [
  {
   "cell_type": "markdown",
   "metadata": {},
   "source": [
    "# Display Water Tiles with Cloud/shadow,nodata, no-contig masked\n",
    "\n",
    "## Fei Zhang\n",
    "\n",
    "2016-06"
   ]
  },
  {
   "cell_type": "code",
   "execution_count": null,
   "metadata": {
    "collapsed": true
   },
   "outputs": [],
   "source": []
  },
  {
   "cell_type": "code",
   "execution_count": null,
   "metadata": {
    "collapsed": false
   },
   "outputs": [],
   "source": [
    "from netCDF4 import Dataset, num2date, date2num\n",
    "\n",
    "# from IPython.html.widgets import *\n",
    "from ipywidgets.widgets import *\n",
    "\n",
    "from numpy import linspace\n",
    "import numpy as np\n",
    "\n",
    "%matplotlib inline\n",
    "import matplotlib.pyplot as plt\n",
    "from pylab import rcParams\n",
    "rcParams['figure.figsize'] = 10, 10 # increase plot size a bit...\n",
    "rcParams['axes.formatter.useoffset'] = False  # disable scalar formatter / offset in axes labels\n",
    "\n",
    "import os\n",
    "import glob"
   ]
  },
  {
   "cell_type": "markdown",
   "metadata": {},
   "source": [
    "# Individual water tiles at a given date-time"
   ]
  },
  {
   "cell_type": "code",
   "execution_count": null,
   "metadata": {
    "collapsed": false
   },
   "outputs": [],
   "source": [
    "ROOT_DIR=\"/g/data/u46/users/fxz547/wofs2/extents/abc15_-40\"\n",
    "#ROOT_DIR=\"/g/data/u46/users/fxz547/wofs2/extents/abc14_-40\"\n",
    "ncfiles=glob.glob(ROOT_DIR+'/LS5_water*_1996*.nc')\n",
    "\n",
    "print sorted(ncfiles)\n"
   ]
  },
  {
   "cell_type": "code",
   "execution_count": null,
   "metadata": {
    "collapsed": false
   },
   "outputs": [],
   "source": [
    "def showimg(path2ncfile, band4view='waterextent'):\n",
    "\n",
    "    f = Dataset(path2ncfile, 'r')\n",
    "\n",
    "    # The NC data variable name?\n",
    "    # band4view='waterextent'\n",
    "    bandarray = f[band4view][:, :]  #for water tiles 2D array. this will load all data into RAM.\n",
    "    \n",
    "    # for summary, there may be a time dimension, 3D array\n",
    "    # 3D bandarray = f[band4view][:, :, :]  \n",
    "\n",
    "    fig = plt.figure()\n",
    "\n",
    "    #im = plt.imshow(bandarray[time,:,:], cmap=plt.get_cmap('viridis'), animated=True)\n",
    "    im = plt.imshow(bandarray[:,:] ) \n",
    "    #3D im = plt.imshow(bandarray[0, :,:] ) #, cmap=plt.get_cmap('viridis'))\n",
    "    plt.colorbar(orientation='vertical', shrink=0.8, label='Water=128, No-Water=0, No-Data=1');\n",
    "    \n",
    "    return \n"
   ]
  },
  {
   "cell_type": "markdown",
   "metadata": {},
   "source": [
    "# Show a list of nc files"
   ]
  },
  {
   "cell_type": "code",
   "execution_count": null,
   "metadata": {
    "collapsed": true
   },
   "outputs": [],
   "source": [
    "# Show a list of nc files\n",
    "\n",
    "# Define the list of nc tiles to be displayed\n",
    "path2nc=[os.path.join(ROOT_DIR, ncf) for ncf in sorted(ncfiles)]\n",
    "icount=0\n",
    "\n",
    "def show_im(icount):\n",
    "    path2ncimage=path2nc[ icount]  #\n",
    "\n",
    "    print('showing image number:',icount, path2ncimage)\n",
    "    showimg(path2ncimage)\n",
    "\n",
    "    icount=icount+1\n",
    "    return icount\n"
   ]
  },
  {
   "cell_type": "code",
   "execution_count": null,
   "metadata": {
    "collapsed": false
   },
   "outputs": [],
   "source": [
    "# execute this cell (ctr+enter) repeatedly until all done\n",
    "\n",
    "icount = show_im(icount)\n",
    "print(\"Next will be \", icount)"
   ]
  },
  {
   "cell_type": "code",
   "execution_count": null,
   "metadata": {
    "collapsed": false
   },
   "outputs": [],
   "source": [
    "# If want to re-view a specific water tile\n",
    "path2ncimage=path2nc[0]  #\"/g/data/u46/users/fxz547/wofs2/extents/abc15_-40/LS5_water_15_-40_1990-08-26T09-10-12.nc\"\n",
    "showimg(path2ncimage)"
   ]
  },
  {
   "cell_type": "markdown",
   "metadata": {},
   "source": [
    "# Show Water Summary and Clear Obs Summary"
   ]
  },
  {
   "cell_type": "code",
   "execution_count": null,
   "metadata": {
    "collapsed": false
   },
   "outputs": [],
   "source": [
    "def show_water_summary(path2ncfile):\n",
    "    \n",
    "    f = Dataset(path2ncfile, 'r')\n",
    "    \n",
    "    # for summary, there may be a time dimension, 3D array\n",
    "    waterdata= 'waterobs'\n",
    "    cleardata='clearobs'\n",
    "    \n",
    "    warray = f[waterdata][:,:, :]  # this will load all data into RAM - may use up memory, spit out error\n",
    "    carray = f[cleardata][:,:, :]\n",
    "   \n",
    "\n",
    "\n",
    "    #im = plt.imshow(bandarray[time,:,:], cmap=plt.get_cmap('viridis'), animated=True)\n",
    "    # 2D-tiles im = plt.imshow(bandarray[:,:] ) \n",
    "#     im = plt.imshow(bandarray[0,:,:] ) #, cmap=plt.get_cmap('viridis'))\n",
    "#     plt.colorbar(orientation='vertical', shrink=0.8, label='Water=128, No-Water=0, No-Data=1');\n",
    "\n",
    "    plt.figure( figsize=(16,13) )\n",
    "    \n",
    "    plt.subplot( 1,2,1 )\n",
    "    plt.imshow(warray[0,:,:] )\n",
    "    plt.title(\"Water Observations\"); plt.xlabel('easting'); plt.ylabel('northing')\n",
    "    plt.colorbar(orientation='vertical', shrink=0.4, label='obs counts');\n",
    "\n",
    "\n",
    "    plt.subplot( 1,2,2 )\n",
    "    #plt.imshow(subs_array)   # plotting the subset data directly\n",
    "    plt.imshow(carray[0,:,:] )\n",
    "    plt.title(\"Clear Observations\"); plt.xlabel('easting'); plt.ylabel('northing')\n",
    "    plt.colorbar(orientation='vertical', shrink=0.4, label='obs counts');\n",
    "\n",
    "    return\n",
    "\n",
    "\n"
   ]
  },
  {
   "cell_type": "code",
   "execution_count": null,
   "metadata": {
    "collapsed": false
   },
   "outputs": [],
   "source": [
    "watersummary =\"/g/data/u46/users/fxz547/wofs2/fxz547_2016-06-21T14-23-54/summaries/water_summary_15_-38.nc\"\n",
    "show_water_summary(watersummary)\n",
    "\n",
    "watersummary =\"/g/data/u46/users/fxz547/wofs2/fxz547_2016-06-21T14-23-54/summaries/water_summary_15_-39.nc\"\n",
    "show_water_summary(watersummary)\n",
    "\n",
    "\n",
    "watersummary =\"/g/data/u46/users/fxz547/wofs2/fxz547_2016-06-21T14-23-54/summaries/water_summary_15_-40.nc\"\n",
    "#watersummary =\"/g/data/u46/users/fxz547/wofs2/fxz547_2016-06-21T14-23-54/summaries/water_summary_15_-41.nc\"\n",
    "show_water_summary(watersummary)\n",
    "\n",
    "watersummary =\"/g/data/u46/users/fxz547/wofs2/fxz547_2016-06-21T14-23-54/summaries/water_summary_15_-41.nc\"\n",
    "show_water_summary(watersummary)\n",
    "\n",
    "watersummary =\"/g/data/u46/users/fxz547/wofs2/fxz547_2016-06-21T14-23-54/summaries/water_summary_15_-42.nc\"\n",
    "\n",
    "show_water_summary(watersummary)"
   ]
  },
  {
   "cell_type": "code",
   "execution_count": null,
   "metadata": {
    "collapsed": false
   },
   "outputs": [],
   "source": [
    "watersummary =\"/g/data/u46/users/fxz547/wofs2/fxz547_2016-06-21T14-23-54/summaries/water_summary_16_-38.nc\"\n",
    "show_water_summary(watersummary)\n",
    "\n",
    "watersummary =\"/g/data/u46/users/fxz547/wofs2/fxz547_2016-06-21T14-23-54/summaries/water_summary_16_-39.nc\"\n",
    "show_water_summary(watersummary)\n",
    "\n",
    "watersummary =\"/g/data/u46/users/fxz547/wofs2/fxz547_2016-06-21T14-23-54/summaries/water_summary_16_-40.nc\"\n",
    "show_water_summary(watersummary)\n",
    "\n",
    "watersummary =\"/g/data/u46/users/fxz547/wofs2/fxz547_2016-06-21T14-23-54/summaries/water_summary_16_-41.nc\"\n",
    "show_water_summary(watersummary)\n",
    "\n",
    "watersummary =\"/g/data/u46/users/fxz547/wofs2/fxz547_2016-06-21T14-23-54/summaries/water_summary_16_-42.nc\"\n",
    "show_water_summary(watersummary)\n"
   ]
  },
  {
   "cell_type": "code",
   "execution_count": null,
   "metadata": {
    "collapsed": true
   },
   "outputs": [],
   "source": []
  },
  {
   "cell_type": "code",
   "execution_count": null,
   "metadata": {
    "collapsed": true
   },
   "outputs": [],
   "source": []
  },
  {
   "cell_type": "markdown",
   "metadata": {
    "collapsed": true
   },
   "source": [
    "# How to show interactively with UI"
   ]
  },
  {
   "cell_type": "code",
   "execution_count": null,
   "metadata": {
    "collapsed": false
   },
   "outputs": [],
   "source": [
    "# Interactive show image. Computer slow not responsive enough!!\n",
    "\n",
    "def showit(nf):\n",
    "    path2ncimage=path2nc[nf]  \n",
    "    showimg(path2ncimage)\n",
    "    \n",
    "nfmax= len(path2nc) -1\n",
    "interact(showit, nf=(0,nfmax,1))"
   ]
  }
 ],
 "metadata": {
  "kernelspec": {
   "display_name": "Python 2",
   "language": "python",
   "name": "python2"
  },
  "language_info": {
   "codemirror_mode": {
    "name": "ipython",
    "version": 2
   },
   "file_extension": ".py",
   "mimetype": "text/x-python",
   "name": "python",
   "nbconvert_exporter": "python",
   "pygments_lexer": "ipython2",
   "version": "2.7.11"
  }
 },
 "nbformat": 4,
 "nbformat_minor": 0
}
