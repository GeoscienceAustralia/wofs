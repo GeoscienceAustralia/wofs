{
 "cells": [
  {
   "cell_type": "markdown",
   "metadata": {
    "collapsed": true
   },
   "source": [
    "# AGDC-V2 API for WOfS  (unification merged)\n",
    "\n",
    "Last modified & tested OK on 2016-06-21 \n",
    "\n",
    "Fei Zhang"
   ]
  },
  {
   "cell_type": "markdown",
   "metadata": {},
   "source": [
    "##  Outstanding Issues & Questions\n",
    "\n",
    "\n",
    "### Bug: list_cells() the platforms can be 1 or 3 or more, but cannot be two satellites like \n",
    "qdict={'latitude': (-36.0, -35.0), 'platform': ['LANDSAT_5', 'LANDSAT_7'], 'longitude': (149.01, 150.1), 'time': ('1990-01-01', '2016-03-31')}\n",
    "\n",
    "### gw constructor argument product repeated in function?\n",
    "\n",
    "nbar_tiles = gw.list_tiles(product='ls7_nbar_albers')\n",
    "\n",
    "### Why not keep the function list_tiles_by_cells( cell_list)??\n",
    "\n",
    "### load nbar-pqa tile data over a cell at a timestamp\n",
    "\n",
    "nbar_data = gw.load(cell, tile)  # is cell really necessary?? not really. Modified to new load(tile)"
   ]
  },
  {
   "cell_type": "code",
   "execution_count": null,
   "metadata": {
    "collapsed": false
   },
   "outputs": [],
   "source": [
    "##  Setting up environment: python modules etc\n",
    "\n",
    "# * Optional! \n",
    "# * Skip this section if you use other means to ensure correct env setup, \n",
    "# * such as module load before starting jupyter notebook.\n",
    "\n",
    "# make my current source code python modules available in this notebook\n",
    "import sys\n",
    "\n",
    "paths=sys.path\n",
    "#paths.append('/g/data1/u46/fxz547/Githubz/agdc-v2')\n",
    "paths.insert(0,'/g/data1/u46/fxz547/Githubz/agdc-v2')  #prepend a path\n",
    "paths.append('/g/data1/u46/fxz547/Githubz/wofs')\n"
   ]
  },
  {
   "cell_type": "code",
   "execution_count": null,
   "metadata": {
    "ExecuteTime": {
     "end_time": "2016-06-06T23:58:16.163296",
     "start_time": "2016-06-06T23:58:11.183109"
    },
    "collapsed": false
   },
   "outputs": [],
   "source": [
    "from IPython.display import display\n",
    "from pprint import pprint\n",
    "from __future__ import print_function\n",
    "\n",
    "from collections import defaultdict\n",
    "import xarray as xr\n",
    "import xarray.ufuncs\n",
    "\n",
    "import datacube\n",
    "from datacube.api import GridWorkflow\n",
    "from datacube.storage import  masking\n",
    "#from datacube.index import index_connect\n",
    "#from datacube.config import LocalConfig\n",
    "#from datacube.api._conversion import to_datetime\n",
    "#new updated version: from datacube.api import make_mask, describe_flags\n",
    "\n",
    "import numpy as np\n",
    "import math\n",
    "\n",
    "#from pyproj import Proj, transform\n",
    "from osgeo import gdal, osr, ogr\n",
    "from rasterio.warp import reproject, RESAMPLING\n",
    "import rasterio\n",
    "\n",
    "%matplotlib inline\n",
    "import matplotlib.pyplot as plt\n",
    "from pylab import rcParams\n",
    "rcParams['figure.figsize'] = 10, 10 # increase plot size a bit...\n",
    "rcParams['axes.formatter.useoffset'] = False  # disable scalar formatter / offset in axes labels\n"
   ]
  },
  {
   "cell_type": "markdown",
   "metadata": {
    "collapsed": true
   },
   "source": [
    "Python envionment and modules are ready to go"
   ]
  },
  {
   "cell_type": "markdown",
   "metadata": {
    "collapsed": true
   },
   "source": [
    "## Datacube Grid Workflow APIs"
   ]
  },
  {
   "cell_type": "code",
   "execution_count": null,
   "metadata": {
    "ExecuteTime": {
     "end_time": "2016-06-06T23:58:16.206742",
     "start_time": "2016-06-06T23:58:16.164915"
    },
    "collapsed": true
   },
   "outputs": [],
   "source": [
    "dc = datacube.Datacube( app='wofs-dev')\n",
    "#or to use a specific config file: \n",
    "# dc = datacube.Datacube(config='/home/547/adh547/unification.datacube.conf', app='wofs-dev')"
   ]
  },
  {
   "cell_type": "code",
   "execution_count": null,
   "metadata": {
    "ExecuteTime": {
     "end_time": "2016-06-06T23:58:16.250818",
     "start_time": "2016-06-06T23:58:16.208078"
    },
    "collapsed": false
   },
   "outputs": [],
   "source": [
    "\n",
    "my_product = 'ls5_nbar_albers' \n",
    "\n",
    "gw = GridWorkflow(dc.index , product=my_product)"
   ]
  },
  {
   "cell_type": "markdown",
   "metadata": {
    "collapsed": true
   },
   "source": [
    "## List_cells ()\n",
    "There is now no need to call list_cells for tile-based workflows, unless you just want to list the area covered:"
   ]
  },
  {
   "cell_type": "code",
   "execution_count": null,
   "metadata": {
    "ExecuteTime": {
     "end_time": "2016-06-06T23:58:19.707443",
     "start_time": "2016-06-06T23:58:17.125242"
    },
    "collapsed": false
   },
   "outputs": [],
   "source": [
    "# product_type= nbar | pqa\n",
    "qdict={'latitude': (-36.0, -35.0), 'platform': ['LANDSAT_5', 'LANDSAT_7', 'LANDSAT_8'], 'longitude': (149.01, 150.1), 'time': ('1990-01-01', '2016-03-31')}\n",
    "\n",
    "cells = gw.list_cells(product_type='nbar', product= my_product, **qdict)\n",
    "                      #longitude=(149.06,149.18), latitude=(-35.27, -35.33), time=('1996-01-01', '2016-03-20'))\n",
    "len(cells)"
   ]
  },
  {
   "cell_type": "code",
   "execution_count": null,
   "metadata": {
    "collapsed": false
   },
   "outputs": [],
   "source": [
    "# cells is now is huge dict, like the following\n",
    "# defaultdict(dict,\n",
    "#             {(15, -41): {'geobox': <datacube.model.GeoBox at 0x7fc05f3e3390>,\n",
    "#               'sources': <xarray.DataArray (time: 111)>\n",
    "#               array([ (Dataset <id=6ce1955f-5ef9-4876-8bb8-69638f45efe8 type=ls5_nbar_albers location=/g/data/u46/users/gxr547/unicube/LS5_TM_NBAR/LS5_TM_NBAR_3577_15_-41_19900302231139000000.nc>,),\n",
    "#                      (Dataset <id=94efe23b-f699-4a16-a244-ab0fc6b58461 type=ls5_nbar_albers location=/g/data/u46/users/gxr547/unicube/LS5_TM_NBAR/LS5_TM_NBAR_3577_15_-41_19900403231042000000.nc>,),\n",
    "#                      (Dataset <id=e0f376e7-a7db-4cbb-b137-b9a2865c2b02 type=ls5_nbar_albers location=/g/data/u46/users/gxr547/unicube/LS5_TM_NBAR/LS5_TM_NBAR_3577_15_-41_19900708231050000000.nc>,),\n",
    "#                      (Dataset <id=8eb3a1af-e906-419e-a22e-d523a65fa830 type=ls5_nbar_albers location=/g/data/u46/users/gxr547/unicube/LS5_TM_NBAR/LS5_TM_NBAR_3577_15_-41_19900724231046000000.nc>,),\n",
    "#                      (Dataset <id=7c317cb9-b8de-48b8-92a5"
   ]
  },
  {
   "cell_type": "code",
   "execution_count": null,
   "metadata": {
    "collapsed": false
   },
   "outputs": [],
   "source": [
    "# To get the cell indexes\n",
    "cells.keys()"
   ]
  },
  {
   "cell_type": "markdown",
   "metadata": {},
   "source": [
    "# How to get satellite and sensor from the datacube?"
   ]
  },
  {
   "cell_type": "code",
   "execution_count": null,
   "metadata": {
    "collapsed": false
   },
   "outputs": [],
   "source": [
    "prodlist=dc.list_products()  #pandas df\n",
    "\n",
    "prodlist[prodlist.name=='ls5_nbar_albers'] # the row for your product\n"
   ]
  },
  {
   "cell_type": "code",
   "execution_count": null,
   "metadata": {
    "collapsed": false
   },
   "outputs": [],
   "source": [
    "prodlist\n"
   ]
  },
  {
   "cell_type": "code",
   "execution_count": null,
   "metadata": {
    "collapsed": false
   },
   "outputs": [],
   "source": [
    "# get your values as numpy.ndarr\n",
    "pppl=prodlist[prodlist.name=='ls5_nbar_albers'][['platform','instrument']].values"
   ]
  },
  {
   "cell_type": "code",
   "execution_count": null,
   "metadata": {
    "collapsed": false
   },
   "outputs": [],
   "source": [
    "type(pppl)"
   ]
  },
  {
   "cell_type": "code",
   "execution_count": null,
   "metadata": {
    "collapsed": false
   },
   "outputs": [],
   "source": [
    "pppl.shape"
   ]
  },
  {
   "cell_type": "code",
   "execution_count": null,
   "metadata": {
    "collapsed": false
   },
   "outputs": [],
   "source": [
    "satname=pppl[0,0]\n",
    "satsensor=pppl[0,1]\n",
    "print(satname, satsensor)"
   ]
  },
  {
   "cell_type": "markdown",
   "metadata": {},
   "source": [
    "## List_Tiles()"
   ]
  },
  {
   "cell_type": "code",
   "execution_count": null,
   "metadata": {
    "ExecuteTime": {
     "end_time": "2016-06-06T23:58:24.021177",
     "start_time": "2016-06-06T23:58:19.708789"
    },
    "collapsed": false
   },
   "outputs": [],
   "source": [
    "nbar_tiles = gw.list_tiles(product_type='nbar', product=my_product, platform=['LANDSAT_5', 'LANDSAT_7', 'LANDSAT_8'],\n",
    "                           longitude=(149.06,149.18), latitude=(-35.27, -35.33), \n",
    "                           time=('1996-01-01', '2016-03-20'))\n",
    "\n",
    "sorted(nbar_tiles.keys())"
   ]
  },
  {
   "cell_type": "code",
   "execution_count": null,
   "metadata": {
    "collapsed": false
   },
   "outputs": [],
   "source": [
    "# This nbar_tiles includes scenes and tiles, a very very long list\n",
    "# nbar_tiles has 18 cells as keys\n",
    "len(nbar_tiles)"
   ]
  },
  {
   "cell_type": "markdown",
   "metadata": {},
   "source": [
    "When using the search terms, there is not currently a way to filter out non-tile based data, such as scenes, which go far beyond the requested area. For now we must use **`product='ls5_nbar_albers'`**."
   ]
  },
  {
   "cell_type": "code",
   "execution_count": null,
   "metadata": {
    "ExecuteTime": {
     "end_time": "2016-06-06T23:58:26.836636",
     "start_time": "2016-06-06T23:58:24.022585"
    },
    "collapsed": false
   },
   "outputs": [],
   "source": [
    "#bug if just 2 platforms in the list?\n",
    "#qdict={'latitude': (-36.0, -35.0), 'longitude': (149.01, 150.1),'platform':['LANDSAT_5', 'LANDSAT_7'], 'time': ('1990-01-01', '2016-03-31')}\n",
    "qdict={'latitude': (-36.0, -35.0), 'longitude': (149.01, 150.1),\n",
    "       'platform':['LANDSAT_5', 'LANDSAT_7','LANDSAT_8'], \n",
    "       'time': ('1990-01-01', '2016-03-31')}\n",
    "\n",
    "print (qdict)\n",
    "nbar_tiles = gw.list_tiles(product=my_product,**qdict)\n",
    "                       \n",
    "sorted_keylist = sorted(nbar_tiles.keys())\n",
    "\n",
    "print (len(sorted_keylist))\n",
    "\n",
    "sorted_keylist[:5]"
   ]
  },
  {
   "cell_type": "code",
   "execution_count": null,
   "metadata": {
    "collapsed": false
   },
   "outputs": [],
   "source": [
    "nbar_tiles.items()[:1]"
   ]
  },
  {
   "cell_type": "code",
   "execution_count": null,
   "metadata": {
    "ExecuteTime": {
     "end_time": "2016-06-06T23:58:29.635253",
     "start_time": "2016-06-06T23:58:26.837932"
    },
    "collapsed": false
   },
   "outputs": [],
   "source": [
    "# Pixel Quality Tiles\n",
    "qdict={'latitude': (-36.0, -35.0), 'longitude': (149.01, 150.1),\n",
    "       'platform':['LANDSAT_5', 'LANDSAT_7','LANDSAT_8'], \n",
    "       'time': ('1990-01-01', '2016-03-31')}\n",
    "print (qdict)\n",
    "pq_tiles = gw.list_tiles(product= 'ls5_pq_albers',**qdict)\n",
    "         \n",
    "sorted_keys=sorted(pq_tiles.keys())\n",
    "print(len(sorted_keys))\n",
    "sorted_keys[:5]"
   ]
  },
  {
   "cell_type": "code",
   "execution_count": null,
   "metadata": {
    "collapsed": true
   },
   "outputs": [],
   "source": [
    "# No PQ data for Canberra region (15, -40)??"
   ]
  },
  {
   "cell_type": "code",
   "execution_count": null,
   "metadata": {
    "collapsed": false
   },
   "outputs": [],
   "source": [
    "pq_tiles.items()[0]"
   ]
  },
  {
   "cell_type": "code",
   "execution_count": null,
   "metadata": {
    "collapsed": true
   },
   "outputs": [],
   "source": [
    "# after unification:\n",
    "import logging \n",
    "def get_nbarpqa_tiles_by_cell( acell, qdict): # refactor the param product='ls5_nbar_albers' OR 'ls5_pq_albers'\n",
    "    \"\"\"\n",
    "    return a list of tiles\n",
    "    :param acell: a cell index tuple (15, -40)\n",
    "    :return:\n",
    "    \"\"\"\n",
    "    # gw.list_tiles((15,-40), product='ls5_nbar_albers')\n",
    "\n",
    "    nbar_tiles = gw.list_tiles(acell, product='ls5_nbar_albers',\n",
    "                                    **qdict)  # , platform='LANDSAT_8')  # ,time=('2000', '2007'))\n",
    "    pq_tiles = gw.list_tiles(acell, product='ls5_pq_albers',\n",
    "                                  **qdict)  # , platform='LANDSAT_8')  # , time=('2000', '2007'))\n",
    "\n",
    "    if (len(pq_tiles) == len(nbar_tiles)):\n",
    "        print(\"The cells have %s nbar and %s pq tiles\", len(nbar_tiles), len(pq_tiles))\n",
    "    else:\n",
    "        logging.warn(\"Mismatched NBAR-PQA tiles: The cells have %s nbar and %s pq tiles\", len(nbar_tiles),\n",
    "                     len(pq_tiles))\n",
    "\n",
    "    # Cell, Time -> Product -> TileDef\n",
    "    tile_def = defaultdict(dict)\n",
    "\n",
    "    for index, tile in nbar_tiles.items():\n",
    "        tile_def[index[:2], index[2]]['nbar'] = tile\n",
    "\n",
    "    for index, tile in pq_tiles.items():\n",
    "        tile_def[index[:2], index[2]]['pqa'] = tile\n",
    "\n",
    "\n",
    "    for index, products in tile_def.items():\n",
    "        if len(products) < 2:\n",
    "            logging.warn('un-paired nbar-pqa product for cell %s', str(index))\n",
    "            logging.warn(\"remove this un-paired tile from the dict\")\n",
    "            tile_def.pop(index)\n",
    "        else:\n",
    "            logging.debug('%s,%s', index, len(products))\n",
    "\n",
    "    return tile_def\n",
    "\n"
   ]
  },
  {
   "cell_type": "markdown",
   "metadata": {},
   "source": [
    "Get the key for the first tile:"
   ]
  },
  {
   "cell_type": "code",
   "execution_count": null,
   "metadata": {
    "collapsed": false
   },
   "outputs": [],
   "source": [
    "#Get the key for the tile:\n",
    "acell=(15,-40)\n",
    "qdict = {'platform': ['LANDSAT_5'], 'time': ('1980-01-01', '2016-03-31')}\n",
    "\n",
    "tile_def=get_nbarpqa_tiles_by_cell( (15,-40), qdict )\n",
    "#keys = list(tile_def)"
   ]
  },
  {
   "cell_type": "code",
   "execution_count": null,
   "metadata": {
    "ExecuteTime": {
     "end_time": "2016-06-06T23:58:29.657282",
     "start_time": "2016-06-06T23:58:29.652309"
    },
    "collapsed": false,
    "scrolled": true
   },
   "outputs": [],
   "source": [
    "\n",
    "tile_keys=tile_def.keys()\n",
    "\n",
    "print (len(tile_keys))\n",
    "\n",
    "for key in tile_keys[:10]:\n",
    "    print (key)\n",
    "    cell = key[0]\n",
    "    dt_stamp=key[1]\n",
    "    \n",
    "    print (dt_stamp)\n",
    "    \n",
    "    #ISO \n",
    "    isostr=str(dt_stamp)[:19].replace(':','-')      \n",
    "    print (isostr)\n",
    "\n"
   ]
  },
  {
   "cell_type": "code",
   "execution_count": null,
   "metadata": {
    "ExecuteTime": {
     "end_time": "2016-06-06T23:58:29.666608",
     "start_time": "2016-06-06T23:58:29.659325"
    },
    "collapsed": false
   },
   "outputs": [],
   "source": [
    "key= tile_keys[0]\n",
    "tile_def[key]"
   ]
  },
  {
   "cell_type": "code",
   "execution_count": null,
   "metadata": {
    "collapsed": false
   },
   "outputs": [],
   "source": [
    "key"
   ]
  },
  {
   "cell_type": "markdown",
   "metadata": {},
   "source": [
    "# Load the nbar data for a given tile (as keyed by cell and time)"
   ]
  },
  {
   "cell_type": "code",
   "execution_count": null,
   "metadata": {
    "ExecuteTime": {
     "end_time": "2016-06-06T23:58:37.122395",
     "start_time": "2016-06-06T23:58:35.668561"
    },
    "collapsed": false
   },
   "outputs": [],
   "source": [
    "time_slice=1\n",
    "\n",
    "cell=(15,-40)\n",
    "\n",
    "key= tile_keys[time_slice]\n",
    "print(key)\n",
    "\n",
    "tile = tile_def[key]['nbar']\n",
    "\n",
    "print (cell)\n",
    "print (tile)\n",
    "\n",
    "nbar_data = gw.load(tile) \n",
    "\n",
    "nbar_data"
   ]
  },
  {
   "cell_type": "code",
   "execution_count": null,
   "metadata": {
    "collapsed": false
   },
   "outputs": [],
   "source": [
    "# It looks that nbar_data.blue is 3D array (time,y,x); But actually you cannot do nbar_data.blue[1, :,:]??\n",
    "type(nbar_data.blue)\n",
    "nbar_data.blue"
   ]
  },
  {
   "cell_type": "code",
   "execution_count": null,
   "metadata": {
    "collapsed": false
   },
   "outputs": [],
   "source": [
    "y_size=4000\n",
    "x_size=4000\n",
    "\n",
    "#del raw_image\n",
    "raw_image = np.zeros((6, y_size, x_size), dtype='int16') #'float32')\n",
    "\n",
    "raw_image[0,:,:] = nbar_data.blue[:,:]\n",
    "raw_image[1,:,:] = nbar_data.green[:,:]\n",
    "raw_image[2,:,:] = nbar_data.red[:,:]\n",
    "raw_image[3,:,:] = nbar_data.nir[:,:]\n",
    "raw_image[4,:,:] = nbar_data.swir1[:,:]\n",
    "raw_image[5,:,:] = nbar_data.swir2[:,:]"
   ]
  },
  {
   "cell_type": "code",
   "execution_count": null,
   "metadata": {
    "collapsed": false
   },
   "outputs": [],
   "source": [
    "raw_image.shape"
   ]
  },
  {
   "cell_type": "code",
   "execution_count": null,
   "metadata": {
    "collapsed": false
   },
   "outputs": [],
   "source": [
    "type(raw_image)"
   ]
  },
  {
   "cell_type": "code",
   "execution_count": null,
   "metadata": {
    "collapsed": true
   },
   "outputs": [],
   "source": [
    "from wofs.waters.detree.classifier import WaterClassifier\n",
    "\n",
    "classifier = WaterClassifier()\n",
    "\n",
    "# TODO: water classification using the input data tiles\n",
    "\n",
    "water_classified_img = classifier.classify(raw_image)\n",
    "\n"
   ]
  },
  {
   "cell_type": "code",
   "execution_count": null,
   "metadata": {
    "collapsed": false
   },
   "outputs": [],
   "source": [
    "# display all or part of the classified image\n",
    "plt.imshow(water_classified_img )  #show Lake BurleyGriffin  clfimg[2200:2600,1500:2500]) if cell=(15,-40)\n",
    "plt.colorbar(orientation='vertical', shrink=0.8, label='water=128 or no water=0');"
   ]
  },
  {
   "cell_type": "code",
   "execution_count": null,
   "metadata": {
    "collapsed": true
   },
   "outputs": [],
   "source": [
    "# The first step produce a very rough water tile as shown above. It even has water in no data region.\n",
    "# This is why it must be filtered by no_data, cloud, etc. below\n"
   ]
  },
  {
   "cell_type": "code",
   "execution_count": null,
   "metadata": {
    "collapsed": true
   },
   "outputs": [],
   "source": []
  },
  {
   "cell_type": "markdown",
   "metadata": {},
   "source": [
    "# NBAR data\n",
    "\n",
    "We can use the `nodata` value, or use the contiguous bit in the PQ data to mask out nulls.\n",
    "\n",
    "Here is `nodata`:"
   ]
  },
  {
   "cell_type": "code",
   "execution_count": null,
   "metadata": {
    "ExecuteTime": {
     "end_time": "2016-06-06T23:59:00.667828",
     "start_time": "2016-06-06T23:58:39.310366"
    },
    "collapsed": false
   },
   "outputs": [],
   "source": [
    "no_data = (nbar_data.green == nbar_data.green.nodata)\n",
    "no_data.plot()"
   ]
  },
  {
   "cell_type": "code",
   "execution_count": null,
   "metadata": {
    "collapsed": false
   },
   "outputs": [],
   "source": [
    "type(no_data)"
   ]
  },
  {
   "cell_type": "code",
   "execution_count": null,
   "metadata": {
    "collapsed": false
   },
   "outputs": [],
   "source": [
    "# a mask 1+2D array\n",
    "no_data"
   ]
  },
  {
   "cell_type": "code",
   "execution_count": null,
   "metadata": {
    "collapsed": false
   },
   "outputs": [],
   "source": [
    "nbar_data.green.where(~no_data).plot()"
   ]
  },
  {
   "cell_type": "code",
   "execution_count": null,
   "metadata": {
    "ExecuteTime": {
     "end_time": "2016-06-06T23:59:22.155277",
     "start_time": "2016-06-06T23:59:00.669117"
    },
    "collapsed": false
   },
   "outputs": [],
   "source": [
    "nbar_data.green.where(~ no_data[0]).plot()"
   ]
  },
  {
   "cell_type": "code",
   "execution_count": null,
   "metadata": {
    "collapsed": false
   },
   "outputs": [],
   "source": [
    "# Get the nodata values for each band (in case they aren't the same)\n",
    "no_data_values = nbar_data.apply(lambda data_array: data_array.nodata).to_array(dim='band')\n",
    "\n",
    "# Turn the Dataset into a DataArray, so we can check all bands\n",
    "stack = nbar_data.to_array(dim='band')\n",
    "\n",
    "# Find all values that are set to no data, from any band\n",
    "no_data_mask = (stack == no_data_values).any(dim='band')\n",
    "\n",
    "no_data_mask.plot()\n"
   ]
  },
  {
   "cell_type": "code",
   "execution_count": null,
   "metadata": {
    "collapsed": false
   },
   "outputs": [],
   "source": [
    "no_data_mask"
   ]
  },
  {
   "cell_type": "code",
   "execution_count": null,
   "metadata": {
    "collapsed": false
   },
   "outputs": [],
   "source": [
    "no_data_mask.squeeze()"
   ]
  },
  {
   "cell_type": "markdown",
   "metadata": {},
   "source": [
    "## Load the PQ data:"
   ]
  },
  {
   "cell_type": "code",
   "execution_count": null,
   "metadata": {
    "ExecuteTime": {
     "end_time": "2016-06-06T23:59:22.358636",
     "start_time": "2016-06-06T23:59:22.156728"
    },
    "collapsed": false
   },
   "outputs": [],
   "source": [
    "# cell = key[0]\n",
    "tile = tile_def[key]['pqa']\n",
    "pq_data = gw.load( tile)"
   ]
  },
  {
   "cell_type": "markdown",
   "metadata": {},
   "source": [
    "We can look at the bits available to us:"
   ]
  },
  {
   "cell_type": "code",
   "execution_count": null,
   "metadata": {
    "collapsed": false
   },
   "outputs": [],
   "source": [
    "masking.get_flags_def(pq_data)"
   ]
  },
  {
   "cell_type": "code",
   "execution_count": null,
   "metadata": {
    "ExecuteTime": {
     "end_time": "2016-06-06T23:59:22.394540",
     "start_time": "2016-06-06T23:59:22.360064"
    },
    "collapsed": false
   },
   "outputs": [],
   "source": [
    "# better display using pandas\n",
    "import pandas\n",
    "pandas.DataFrame.from_dict(masking.get_flags_def(pq_data), orient='index')"
   ]
  },
  {
   "cell_type": "markdown",
   "metadata": {},
   "source": [
    "We can make a mask from a combination of bits. Here we will use the cloud masks and the contiguous bit."
   ]
  },
  {
   "cell_type": "code",
   "execution_count": null,
   "metadata": {
    "ExecuteTime": {
     "end_time": "2016-06-06T23:59:43.640852",
     "start_time": "2016-06-06T23:59:22.395898"
    },
    "collapsed": false
   },
   "outputs": [],
   "source": [
    "contiguous = masking.make_mask(pq_data, contiguous=1).pixelquality\n",
    "contiguous.plot()"
   ]
  },
  {
   "cell_type": "code",
   "execution_count": null,
   "metadata": {
    "collapsed": false
   },
   "outputs": [],
   "source": [
    "no_contiguous = masking.make_mask(pq_data, contiguous=0).pixelquality\n",
    "no_contiguous.plot()"
   ]
  },
  {
   "cell_type": "code",
   "execution_count": null,
   "metadata": {
    "collapsed": false
   },
   "outputs": [],
   "source": [
    "# are the same?\n",
    "np.sum (contiguous != no_contiguous)"
   ]
  },
  {
   "cell_type": "code",
   "execution_count": null,
   "metadata": {
    "ExecuteTime": {
     "end_time": "2016-06-07T00:01:02.546295",
     "start_time": "2016-06-07T00:00:41.077704"
    },
    "collapsed": false
   },
   "outputs": [],
   "source": [
    "good_data = masking.make_mask(pq_data, cloud_acca='no_cloud', cloud_fmask='no_cloud', contiguous=True).pixelquality\n",
    "good_data.plot()"
   ]
  },
  {
   "cell_type": "code",
   "execution_count": null,
   "metadata": {
    "collapsed": false
   },
   "outputs": [],
   "source": [
    "good_data  # is a mask image True/false\n"
   ]
  },
  {
   "cell_type": "code",
   "execution_count": null,
   "metadata": {
    "ExecuteTime": {
     "end_time": "2016-06-07T00:02:11.819943",
     "start_time": "2016-06-07T00:01:50.320655"
    },
    "collapsed": false
   },
   "outputs": [],
   "source": [
    "cloud_free_nbar = nbar_data.where(good_data)\n",
    "cloud_free_nbar.red.plot()"
   ]
  },
  {
   "cell_type": "code",
   "execution_count": null,
   "metadata": {
    "collapsed": false
   },
   "outputs": [],
   "source": [
    "cloud_free_nbar.red"
   ]
  },
  {
   "cell_type": "code",
   "execution_count": null,
   "metadata": {
    "collapsed": true
   },
   "outputs": [],
   "source": []
  },
  {
   "cell_type": "code",
   "execution_count": null,
   "metadata": {
    "collapsed": true
   },
   "outputs": [],
   "source": []
  },
  {
   "cell_type": "markdown",
   "metadata": {},
   "source": [
    "# How to mask out the 100% GOOD pixels from NBAR data?"
   ]
  },
  {
   "cell_type": "code",
   "execution_count": null,
   "metadata": {
    "collapsed": false
   },
   "outputs": [],
   "source": [
    "pq_data"
   ]
  },
  {
   "cell_type": "code",
   "execution_count": null,
   "metadata": {
    "collapsed": false
   },
   "outputs": [],
   "source": [
    "perfect_flag = int(masking.get_flags_def(pq_data)['ga_good_pixel']['values'].keys()[0])   # should be 16383\n",
    "# perfect_flag = 16383\n",
    "\n",
    "print ('perfect_flag', perfect_flag)\n",
    "\n",
    "perfect_pixel_mask=(pq_data.pixelquality == perfect_flag)\n",
    "perfect_pixel_mask.plot()"
   ]
  },
  {
   "cell_type": "code",
   "execution_count": null,
   "metadata": {
    "collapsed": false
   },
   "outputs": [],
   "source": [
    "perfect_nbar_data = nbar_data.where(perfect_pixel_mask)\n"
   ]
  },
  {
   "cell_type": "code",
   "execution_count": null,
   "metadata": {
    "collapsed": false
   },
   "outputs": [],
   "source": [
    "y_size=4000\n",
    "x_size=4000\n",
    "\n",
    "#del raw_image\n",
    "raw_image = np.zeros((6, y_size, x_size), dtype='int16') #'float32')\n",
    "\n",
    "raw_image[0,:,:] = perfect_nbar_data.blue[:,:]\n",
    "raw_image[1,:,:] = perfect_nbar_data.green[:,:]\n",
    "raw_image[2,:,:] = perfect_nbar_data.red[:,:]\n",
    "raw_image[3,:,:] = perfect_nbar_data.nir[:,:]\n",
    "raw_image[4,:,:] = perfect_nbar_data.swir1[:,:]\n",
    "raw_image[5,:,:] = perfect_nbar_data.swir2[:,:]\n",
    "\n",
    "\n",
    "water_img = classifier.classify(raw_image)"
   ]
  },
  {
   "cell_type": "code",
   "execution_count": null,
   "metadata": {
    "collapsed": false
   },
   "outputs": [],
   "source": [
    "# display all or part of the classified image\n",
    "#plt.imshow(water_img)\n",
    "plt.imshow(water_img[2200:2600,1500:2500])  #show Lake BurleyGriffin  clfimg[2200:2600,1500:2500]) if cell=(15,-40)\n",
    "plt.colorbar(orientation='vertical', shrink=0.8, label='water=128 or no water=0');"
   ]
  },
  {
   "cell_type": "code",
   "execution_count": null,
   "metadata": {
    "collapsed": false
   },
   "outputs": [],
   "source": [
    "water_img"
   ]
  },
  {
   "cell_type": "code",
   "execution_count": null,
   "metadata": {
    "collapsed": false
   },
   "outputs": [],
   "source": [
    "pq_data"
   ]
  },
  {
   "cell_type": "code",
   "execution_count": null,
   "metadata": {
    "collapsed": false
   },
   "outputs": [],
   "source": [
    "perfect_pixel_mask = masking.make_mask(pq_data, ga_good_pixel=True).pixelquality"
   ]
  },
  {
   "cell_type": "code",
   "execution_count": null,
   "metadata": {
    "collapsed": false
   },
   "outputs": [],
   "source": [
    "perfect_pixel_mask = masking.make_mask(pq_data.pixelquality, ga_good_pixel=True)\n"
   ]
  },
  {
   "cell_type": "code",
   "execution_count": null,
   "metadata": {
    "collapsed": false
   },
   "outputs": [],
   "source": [
    "perfect_pixel_mask.plot()"
   ]
  },
  {
   "cell_type": "markdown",
   "metadata": {},
   "source": [
    "# How to get DSM tiles"
   ]
  },
  {
   "cell_type": "code",
   "execution_count": null,
   "metadata": {
    "collapsed": false
   },
   "outputs": [],
   "source": [
    "acellindex=(15,-40)\n",
    "dsm_cells = gw.list_tiles(acellindex, product='dsm1sv10')\n",
    "print (dsm_cells)\n"
   ]
  },
  {
   "cell_type": "code",
   "execution_count": null,
   "metadata": {
    "collapsed": true
   },
   "outputs": [],
   "source": [
    "# ----------------------------------------------------------------\n",
    "def get_dsm_data(acellindex, qdict={}):\n",
    "    \"\"\"\n",
    "    get dsm data for sia, terrainshadow, highslope filters\n",
    "    :param acellindex:\n",
    "    :param qdict:\n",
    "    :return:\n",
    "    \"\"\"\n",
    "    query = qdict.copy()  #avoid modify the original input qdict in-situ\n",
    "    query.pop('time', None)\n",
    "    query.pop('platform', None)\n",
    "    dsm_cells = gw.list_cells(acellindex, product='dsm1sv10', **query)\n",
    "\n",
    "    def load_dsm(cell):\n",
    "        data = gw.load(cell)\n",
    "        return data.squeeze('time').drop('time')\n",
    "\n",
    "    return {index: load_dsm(cell) for index, cell in dsm_cells.items()}\n"
   ]
  },
  {
   "cell_type": "code",
   "execution_count": null,
   "metadata": {
    "collapsed": false
   },
   "outputs": [],
   "source": [
    "dsmtile= get_dsm_data(acellindex, qdict={})"
   ]
  },
  {
   "cell_type": "code",
   "execution_count": null,
   "metadata": {
    "collapsed": false
   },
   "outputs": [],
   "source": [
    "print(dsmtile)"
   ]
  },
  {
   "cell_type": "code",
   "execution_count": null,
   "metadata": {
    "collapsed": false
   },
   "outputs": [],
   "source": [
    "\n",
    "dsmtile[(15,-40)]['elevation'].plot()"
   ]
  },
  {
   "cell_type": "code",
   "execution_count": null,
   "metadata": {
    "collapsed": true
   },
   "outputs": [],
   "source": []
  }
 ],
 "metadata": {
  "kernelspec": {
   "display_name": "Python 2",
   "language": "python",
   "name": "python2"
  },
  "language_info": {
   "codemirror_mode": {
    "name": "ipython",
    "version": 2
   },
   "file_extension": ".py",
   "mimetype": "text/x-python",
   "name": "python",
   "nbconvert_exporter": "python",
   "pygments_lexer": "ipython2",
   "version": "2.7.11"
  },
  "toc": {
   "toc_cell": false,
   "toc_number_sections": false,
   "toc_threshold": 6,
   "toc_window_display": true
  },
  "widgets": {
   "state": {},
   "version": "1.1.1"
  }
 },
 "nbformat": 4,
 "nbformat_minor": 0
}
