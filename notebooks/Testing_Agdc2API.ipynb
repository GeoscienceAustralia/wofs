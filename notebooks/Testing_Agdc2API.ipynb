{
 "cells": [
  {
   "cell_type": "markdown",
   "metadata": {},
   "source": [
    "# Test the AGDC2 API functions\n",
    "\n",
    "* list cells\n",
    "* list tiles\n",
    "* get nbar/pqa tiles data.\n",
    "* compute on the data\n",
    "* pqa masks"
   ]
  },
  {
   "cell_type": "code",
   "execution_count": 2,
   "metadata": {
    "collapsed": false
   },
   "outputs": [
    {
     "name": "stdout",
     "output_type": "stream",
     "text": [
      "PYTHONPATH:  || GDAL:  /g/data/u46/fxz547/anaconda2/share/gdal/\n",
      "/g/data/u46/fxz547/anaconda2/bin/python\n"
     ]
    }
   ],
   "source": [
    "!echo \"PYTHONPATH: $PYTHONPATH || GDAL:  $GDAL_DATA\"\n",
    "!which python\n",
    "\n",
    "import sys\n",
    "paths=sys.path\n",
    "#paths.append('/g/data1/u46/fxz547/Githubz/agdc-v2')\n",
    "paths.insert(0,'/g/data1/u46/fxz547/Githubz/agdc-v2')  #prepend a path\n"
   ]
  },
  {
   "cell_type": "code",
   "execution_count": 3,
   "metadata": {
    "collapsed": false
   },
   "outputs": [
    {
     "data": {
      "text/plain": [
       "(None, '/g/data1/u46/fxz547/Githubz/agdc-v2/datacube/api', ('', '', 5))"
      ]
     },
     "execution_count": 3,
     "metadata": {},
     "output_type": "execute_result"
    }
   ],
   "source": [
    "# do this again after insert python path below\n",
    "import imp\n",
    "imp.find_module('datacube/api')  # require python path below"
   ]
  },
  {
   "cell_type": "code",
   "execution_count": 4,
   "metadata": {
    "collapsed": false
   },
   "outputs": [],
   "source": [
    "%matplotlib inline\n",
    "from IPython.display import display\n",
    "from collections import defaultdict\n",
    "\n",
    "import xarray as xr\n",
    "import xarray.ufuncs\n",
    "\n",
    "from datacube.api import API\n",
    "from datacube.index import index_connect\n",
    "from datacube.config import LocalConfig\n",
    "from datacube.api._conversion import to_datetime\n",
    "from datacube.api import make_mask #, describe_flags"
   ]
  },
  {
   "cell_type": "code",
   "execution_count": 5,
   "metadata": {
    "collapsed": true
   },
   "outputs": [],
   "source": [
    "force_prod = True\n",
    "if force_prod:\n",
    "    prod_config = LocalConfig.find(['/g/data/v10/public/modules/agdc-py2-prod/1.0.2/datacube.conf'])\n",
    "    prod_index = index_connect(prod_config, application_name='api-WOfS-dev')\n",
    "    dc = API(prod_index)\n",
    "else:\n",
    "    dc = API(application_name='api-WOfS-dev')"
   ]
  },
  {
   "cell_type": "code",
   "execution_count": 6,
   "metadata": {
    "collapsed": false
   },
   "outputs": [
    {
     "name": "stdout",
     "output_type": "stream",
     "text": [
      "{'latitude': (0.0, -55), 'product': 'nbar', 'longitude': (100, 160), 'time': ('1900-01-01', '2016-03-20')}\n"
     ]
    }
   ],
   "source": [
    "qdict={\"product\":\"nbar\", \"longitude\": (100,160), \"latitude\":(0.0,-55), \"time\":('1900-01-01', '2016-03-20')}\n",
    "\n",
    "print qdict"
   ]
  },
  {
   "cell_type": "code",
   "execution_count": 7,
   "metadata": {
    "collapsed": false
   },
   "outputs": [
    {
     "data": {
      "text/plain": [
       "[(14, -45),\n",
       " (14, -44),\n",
       " (14, -43),\n",
       " (15, -45),\n",
       " (15, -44),\n",
       " (15, -43),\n",
       " (15, -42),\n",
       " (15, -41),\n",
       " (15, -40),\n",
       " (16, -42),\n",
       " (16, -41),\n",
       " (16, -40)]"
      ]
     },
     "execution_count": 7,
     "metadata": {},
     "output_type": "execute_result"
    }
   ],
   "source": [
    "\n",
    "# bonding AOI:\n",
    "dc.list_cells(product='nbar', longitude=(149,150), latitude=(-40,-35.5), time=('2006-01-01', '2006-03-20'))\n",
    "\n",
    "# all NBAR cells dc.list_cells(product='nbar')\n",
    "\n",
    "#dc.list_cells(product='nbar', longitude=149, latitude=-35, time=('1990', '2015'))"
   ]
  },
  {
   "cell_type": "code",
   "execution_count": 8,
   "metadata": {
    "collapsed": false
   },
   "outputs": [
    {
     "name": "stdout",
     "output_type": "stream",
     "text": [
      "('number of cells=', 1200)\n",
      "[(-20, -33), (-20, -32), (-20, -31), (-20, -30), (-20, -29), (-20, -28), (-20, -27), (-20, -26), (-20, -25), (-20, -24)]\n"
     ]
    }
   ],
   "source": [
    "cells = dc.list_cells(**qdict)\n",
    "print (\"number of cells=\",len(cells))\n",
    "print (cells[:10])"
   ]
  },
  {
   "cell_type": "code",
   "execution_count": 10,
   "metadata": {
    "collapsed": false
   },
   "outputs": [
    {
     "data": {
      "text/plain": [
       "208040"
      ]
     },
     "execution_count": 10,
     "metadata": {},
     "output_type": "execute_result"
    }
   ],
   "source": [
    "all_tiles= dc.list_tiles(cells,**qdict)\n",
    "\n",
    "len(all_tiles)"
   ]
  },
  {
   "cell_type": "code",
   "execution_count": null,
   "metadata": {
    "collapsed": true
   },
   "outputs": [],
   "source": [
    "tiles= dc.list_tiles"
   ]
  },
  {
   "cell_type": "code",
   "execution_count": null,
   "metadata": {
    "collapsed": true
   },
   "outputs": [],
   "source": []
  },
  {
   "cell_type": "code",
   "execution_count": null,
   "metadata": {
    "collapsed": true
   },
   "outputs": [],
   "source": []
  },
  {
   "cell_type": "code",
   "execution_count": null,
   "metadata": {
    "collapsed": true
   },
   "outputs": [],
   "source": []
  },
  {
   "cell_type": "raw",
   "metadata": {},
   "source": []
  },
  {
   "cell_type": "markdown",
   "metadata": {},
   "source": [
    "## Pick a cell, covers Lake George and north Canberra including Lake Burley Griffin."
   ]
  },
  {
   "cell_type": "code",
   "execution_count": 11,
   "metadata": {
    "collapsed": false
   },
   "outputs": [
    {
     "data": {
      "text/plain": [
       "659"
      ]
     },
     "execution_count": 11,
     "metadata": {},
     "output_type": "execute_result"
    }
   ],
   "source": [
    "cells = [(15, -40)]  #define it to focus on this cell covering Canberra\n",
    "all_tiles = dc.list_tiles(cells )#, product='nbar')  #, platform='LANDSAT_5')\n",
    "len(all_tiles)\n",
    "#print nbar_tiles"
   ]
  },
  {
   "cell_type": "code",
   "execution_count": 12,
   "metadata": {
    "collapsed": false
   },
   "outputs": [
    {
     "data": {
      "text/plain": [
       "68"
      ]
     },
     "execution_count": 12,
     "metadata": {},
     "output_type": "execute_result"
    }
   ],
   "source": [
    "pq_tiles = dc.list_tiles(cells, product='nbar', platform='LANDSAT_8')#, time=('2000', '2005'))\n",
    "len(pq_tiles)"
   ]
  },
  {
   "cell_type": "code",
   "execution_count": 13,
   "metadata": {
    "collapsed": false
   },
   "outputs": [
    {
     "data": {
      "text/plain": [
       "64"
      ]
     },
     "execution_count": 13,
     "metadata": {},
     "output_type": "execute_result"
    }
   ],
   "source": [
    "pq_tiles = dc.list_tiles(cells, product='nbar', platform='LANDSAT_7')#, time=('2000', '2005'))\n",
    "len(pq_tiles)"
   ]
  },
  {
   "cell_type": "code",
   "execution_count": 14,
   "metadata": {
    "collapsed": false
   },
   "outputs": [
    {
     "name": "stdout",
     "output_type": "stream",
     "text": [
      "(<type 'list'>, 68)\n"
     ]
    },
    {
     "data": {
      "text/plain": [
       "68"
      ]
     },
     "execution_count": 14,
     "metadata": {},
     "output_type": "execute_result"
    }
   ],
   "source": [
    "nbar_tiles = dc.list_tiles(cells, product='nbar', platform='LANDSAT_8')\n",
    "\n",
    "\n",
    "print (type(nbar_tiles), len(nbar_tiles))\n",
    "\n",
    "\n",
    "pq_tiles = dc.list_tiles(cells, product='pqa', platform='LANDSAT_8') #, time=('2000', '2007'))\n",
    "len(pq_tiles)\n",
    "#print pq_tiles  # a huge list"
   ]
  },
  {
   "cell_type": "code",
   "execution_count": 16,
   "metadata": {
    "collapsed": false
   },
   "outputs": [],
   "source": [
    "# 1 dem tile per cell\n",
    "    \n",
    "dem_tile =  dc.list_tiles(cells, product='DEM')  # a list with one element"
   ]
  },
  {
   "cell_type": "code",
   "execution_count": 22,
   "metadata": {
    "collapsed": false
   },
   "outputs": [
    {
     "name": "stdout",
     "output_type": "stream",
     "text": [
      "({'xy_index': (15, -40), 'storage_type': u'DEM', u'time': 951134040.0}, {'path': '/g/data/rs0/tiles/EPSG3577/SRTM_DEM/SRTM_DEM_15_-40_20000221115400000000.nc', 'description': u'DEM 25 metre, 100km tile', 'metadata': {u'platform': {u'code': u'SRTM'}, u'product_type': u'DEM', u'instrument': {u'name': u'SIR'}}})\n",
      "2\n"
     ]
    }
   ],
   "source": [
    "print dem_tile[0]  # the first element of the list is a tuple\n",
    "print len(dem_tile[0])"
   ]
  },
  {
   "cell_type": "code",
   "execution_count": 21,
   "metadata": {
    "collapsed": false
   },
   "outputs": [
    {
     "name": "stdout",
     "output_type": "stream",
     "text": [
      "{'xy_index': (15, -40), 'storage_type': u'DEM', u'time': 951134040.0}\n",
      "{'path': '/g/data/rs0/tiles/EPSG3577/SRTM_DEM/SRTM_DEM_15_-40_20000221115400000000.nc', 'description': u'DEM 25 metre, 100km tile', 'metadata': {u'platform': {u'code': u'SRTM'}, u'product_type': u'DEM', u'instrument': {u'name': u'SIR'}}}\n"
     ]
    }
   ],
   "source": [
    "for item in dem_tile[0]:\n",
    "    print item"
   ]
  },
  {
   "cell_type": "code",
   "execution_count": 26,
   "metadata": {
    "collapsed": false
   },
   "outputs": [
    {
     "name": "stdout",
     "output_type": "stream",
     "text": [
      "((15, -40), 951134040.0, '/g/data/rs0/tiles/EPSG3577/SRTM_DEM/SRTM_DEM_15_-40_20000221115400000000.nc', {u'platform': {u'code': u'SRTM'}, u'product_type': u'DEM', u'instrument': {u'name': u'SIR'}})\n"
     ]
    }
   ],
   "source": [
    "# Now how to get the values of those attributes\n",
    "# for this particular tile dem_tile[0] which is a tuple with 2 elements\n",
    "my_tile=dem_tile[0]\n",
    "cellindex=my_tile[0].get('xy_index')\n",
    "epocsec=my_tile[0].get('time')\n",
    "\n",
    "path2file=my_tile[1].get('path')\n",
    "\n",
    "metadict=my_tile[1].get('metadata')\n",
    "\n",
    "print (cellindex, epocsec, path2file, metadict)\n",
    "    "
   ]
  },
  {
   "cell_type": "code",
   "execution_count": null,
   "metadata": {
    "collapsed": true
   },
   "outputs": [],
   "source": []
  },
  {
   "cell_type": "code",
   "execution_count": null,
   "metadata": {
    "collapsed": true
   },
   "outputs": [],
   "source": []
  },
  {
   "cell_type": "code",
   "execution_count": null,
   "metadata": {
    "collapsed": false
   },
   "outputs": [],
   "source": [
    "\n"
   ]
  },
  {
   "cell_type": "markdown",
   "metadata": {},
   "source": [
    "## Group things together - under development\n",
    "\n",
    "Our dictionary will be in the format:\n",
    "```python\n",
    "tile_store[cell][time][product]\n",
    "```\n",
    "It will contain the tile query and tile attributes.\n",
    "\n",
    "### Format:\n",
    "```python\n",
    "tile_store = {\n",
    "    cell: {\n",
    "        timestamp: {\n",
    "            product: (tile_query, tile_attrs)\n",
    "        }\n",
    "    }\n",
    "}\n",
    "```\n",
    "\n",
    "### Example:\n",
    "\n",
    "```python\n",
    "tile_store = {\n",
    "    (-15, -40): {\n",
    "        datetime(2006, 7, 8, 1, 53, 0): {\n",
    "            'nbar: (\n",
    "                {\n",
    "                    'storage_type': u'ls5_nbar_albers',\n",
    "                    'time': 1138327352.6250501,\n",
    "                    'xy_index': (-15, -40)\n",
    "                },\n",
    "                {\n",
    "                    'description': u'Landsat 5 NBAR 25 metre, 100km tile (EPSG:3577)',\n",
    "                    'metadata': {\n",
    "                        u'instrument': {u'name': u'TM'},\n",
    "                        'platform': {u'code': u'LANDSAT_5'},\n",
    "                        'product_type': u'nbar'\n",
    "                    },\n",
    "                    'path': '/g/data/rs0/tiles/EPSG3577/LS5_TM_NBAR/LS5_TM_NBAR_3577_-15_-40_2006.nc'\n",
    "                })\n",
    "        }\n",
    "    }\n",
    "}\n",
    "```"
   ]
  },
  {
   "cell_type": "code",
   "execution_count": 53,
   "metadata": {
    "collapsed": false
   },
   "outputs": [],
   "source": [
    "def get_tile_store(cells, **kwargs): #product_code=None, satellite_code=None, date_interval=None):\n",
    "    # eg, cells = [(15, -40)]  #cover Canberra\n",
    "    #nbar_tiles = dc.list_tiles(cells, product='nbar', platform='LANDSAT_8') #,time=('2000', '2007'))\n",
    "    #pq_tiles = dc.list_tiles(cells, product='pqa', platform='LANDSAT_8')   #, time=('2000', '2007'))\n",
    "\n",
    "\n",
    "    tiles = dc.list_tiles(cells, **kwargs)#, platform=satellite_code)# time_issue, time=date_interval) \n",
    "    \n",
    "    # tile_store = defaultdict(lambda: defaultdict(dict))  # a nested dictionary\n",
    "    tile_store=[]\n",
    "    \n",
    "    for tile_query, tile_info in tiles:  # tiles is a list of tuple with 2 elements=(tile_query, tile_info)\n",
    "        cell = tile_query['xy_index']\n",
    "        time = tile_query['time']\n",
    "        product = tile_info['metadata']['product_type']\n",
    "        platform = tile_info['metadata']['platform']['code']\n",
    "        path2file=tile_info.get('path')\n",
    "        #debug print(time)\n",
    "        key=(cell, time, platform)\n",
    "        #tile_store.append( (cell, time, product, path2file) )\n",
    "        tile_store.append( (cell, time, platform, product, tile_query,path2file) )\n",
    "        \n",
    "    return tile_store\n",
    "####################################################################\n",
    "    \n"
   ]
  },
  {
   "cell_type": "code",
   "execution_count": 56,
   "metadata": {
    "collapsed": false
   },
   "outputs": [
    {
     "name": "stdout",
     "output_type": "stream",
     "text": [
      "1\n",
      "2006-02-10 23:40:44.372000+00:00\n",
      "((15, -40), 951134040.0, u'SRTM', u'DEM', {'xy_index': (15, -40), 'storage_type': u'DEM', u'time': 951134040.0}, '/g/data/rs0/tiles/EPSG3577/SRTM_DEM/SRTM_DEM_15_-40_20000221115400000000.nc')\n"
     ]
    }
   ],
   "source": [
    "qdict={\"product\":\"DEM\"}\n",
    "#qdict={\"product\":\"nbar\"}\n",
    "#qdict={\"product\":\"pqa\"}\n",
    "tile_store=get_tile_store([(15, -40)], **qdict) \n",
    "\n",
    "print  len(tile_store)\n",
    "for atile in tile_store[:5]:\n",
    "    print  to_datetime(timestamp)\n",
    "    print  atile"
   ]
  },
  {
   "cell_type": "code",
   "execution_count": 67,
   "metadata": {
    "collapsed": false
   },
   "outputs": [
    {
     "name": "stdout",
     "output_type": "stream",
     "text": [
      "220\n",
      "2006-02-10 23:40:44.372000+00:00\n",
      "((15, -40), 1138232422.2250061, u'LANDSAT_5', u'nbar', {'xy_index': (15, -40), 'storage_type': u'ls5_nbar_albers', u'time': 1138232422.2250061}, '/g/data/rs0/tiles/EPSG3577/LS5_TM_NBAR/LS5_TM_NBAR_3577_15_-40_2006.nc')\n",
      "2006-02-10 23:40:44.372000+00:00\n",
      "((15, -40), 1138232446.3400631, u'LANDSAT_5', u'nbar', {'xy_index': (15, -40), 'storage_type': u'ls5_nbar_albers', u'time': 1138232446.3400631}, '/g/data/rs0/tiles/EPSG3577/LS5_TM_NBAR/LS5_TM_NBAR_3577_15_-40_2006.nc')\n",
      "2006-02-10 23:40:44.372000+00:00\n",
      "((15, -40), 1138837603.1170881, u'LANDSAT_5', u'nbar', {'xy_index': (15, -40), 'storage_type': u'ls5_nbar_albers', u'time': 1138837603.1170881}, '/g/data/rs0/tiles/EPSG3577/LS5_TM_NBAR/LS5_TM_NBAR_3577_15_-40_2006.nc')\n",
      "2006-02-10 23:40:44.372000+00:00\n",
      "((15, -40), 1138837627.090081, u'LANDSAT_5', u'nbar', {'xy_index': (15, -40), 'storage_type': u'ls5_nbar_albers', u'time': 1138837627.090081}, '/g/data/rs0/tiles/EPSG3577/LS5_TM_NBAR/LS5_TM_NBAR_3577_15_-40_2006.nc')\n",
      "2006-02-10 23:40:44.372000+00:00\n",
      "((15, -40), 1139614844.372, u'LANDSAT_5', u'nbar', {'xy_index': (15, -40), 'storage_type': u'ls5_nbar_albers', u'time': 1139614844.372}, '/g/data/rs0/tiles/EPSG3577/LS5_TM_NBAR/LS5_TM_NBAR_3577_15_-40_2006.nc')\n"
     ]
    }
   ],
   "source": [
    "qdict={\"product\":\"nbar\"}\n",
    "#qdict={\"product\":\"pqa\"}\n",
    "nbar_tile_store=get_tile_store([(15, -40)], **qdict) \n",
    "\n",
    "print  len(nbar_tile_store)\n",
    "for atile in nbar_tile_store[:5]:\n",
    "    print  to_datetime(timestamp)\n",
    "    print  atile"
   ]
  },
  {
   "cell_type": "code",
   "execution_count": 68,
   "metadata": {
    "collapsed": false
   },
   "outputs": [
    {
     "name": "stdout",
     "output_type": "stream",
     "text": [
      "218\n",
      "2006-02-10 23:40:44.372000+00:00\n",
      "((15, -40), 1381621230.0038719, u'LANDSAT_7', u'pqa', {'xy_index': (15, -40), 'storage_type': u'ls7_pq_albers', u'time': 1381621230.0038719}, '/g/data/rs0/tiles/EPSG3577/LS7_ETM_PQ/15_-40/LS7_ETM_PQ_3577_15_-40_20131012234030003872.nc')\n",
      "2006-02-10 23:40:44.372000+00:00\n",
      "((15, -40), 1382226380.5723231, u'LANDSAT_7', u'pqa', {'xy_index': (15, -40), 'storage_type': u'ls7_pq_albers', u'time': 1382226380.5723231}, '/g/data/rs0/tiles/EPSG3577/LS7_ETM_PQ/15_-40/LS7_ETM_PQ_3577_15_-40_20131019234620572323.nc')\n",
      "2006-02-10 23:40:44.372000+00:00\n",
      "((15, -40), 1382226404.5278001, u'LANDSAT_7', u'pqa', {'xy_index': (15, -40), 'storage_type': u'ls7_pq_albers', u'time': 1382226404.5278001}, '/g/data/rs0/tiles/EPSG3577/LS7_ETM_PQ/15_-40/LS7_ETM_PQ_3577_15_-40_20131019234644527800.nc')\n",
      "2006-02-10 23:40:44.372000+00:00\n",
      "((15, -40), 1373326796.1645319, u'LANDSAT_7', u'pqa', {'xy_index': (15, -40), 'storage_type': u'ls7_pq_albers', u'time': 1373326796.1645319}, '/g/data/rs0/tiles/EPSG3577/LS7_ETM_PQ/15_-40/LS7_ETM_PQ_3577_15_-40_20130708233956164532.nc')\n",
      "2006-02-10 23:40:44.372000+00:00\n",
      "((15, -40), 1374709189.7630489, u'LANDSAT_7', u'pqa', {'xy_index': (15, -40), 'storage_type': u'ls7_pq_albers', u'time': 1374709189.7630489}, '/g/data/rs0/tiles/EPSG3577/LS7_ETM_PQ/15_-40/LS7_ETM_PQ_3577_15_-40_20130724233949763049.nc')\n"
     ]
    }
   ],
   "source": [
    "qdict={\"product\":\"pqa\"}\n",
    "#qdict={\"product\":\"pqa\"}\n",
    "pqa_tile_store=get_tile_store([(15, -40)], **qdict) \n",
    "\n",
    "print  len(pqa_tile_store)\n",
    "for atile in pqa_tile_store[:5]:\n",
    "    print  to_datetime(timestamp)\n",
    "    print  atile"
   ]
  },
  {
   "cell_type": "code",
   "execution_count": 69,
   "metadata": {
    "collapsed": false,
    "scrolled": true
   },
   "outputs": [
    {
     "name": "stdout",
     "output_type": "stream",
     "text": [
      "438\n"
     ]
    }
   ],
   "source": [
    "nbarpqa= nbar_tile_store + pqa_tile_store\n",
    "#sorted_nbarpqa= sorted(nbarpqa)\n",
    "print len(nbarpqa)\n"
   ]
  },
  {
   "cell_type": "code",
   "execution_count": null,
   "metadata": {
    "collapsed": false
   },
   "outputs": [],
   "source": [
    "acquisition_id,satellite,start_datetime,end_datetime,end_datetime_year,end_datetime_month,x_index,y_index,xy,datasets\n",
    "308465,LS7,2014-07-04 23:34:28,2014-07-04 23:34:52,2014,7,152,-31,\"(152,-31)\",\"{{ARG25,/g/data/rs0/tiles/EPSG4326_1deg_0.00025pixel/LS7_ETM/152_-031/2014/LS7_ETM_NBAR_152_-031_2014-07-04T23-34-28.tif},{PQ25,/g/data/rs0/tiles/EPSG4326_1deg_0.00025pixel/LS7_ETM/152_-031/2014/LS7_ETM_PQA_152_-031_2014-07-04T23-34-28.tif}}\"\n",
    "308491,LS8,2014-07-12 23:36:48,2014-07-12 23:37:12,2014,7,152,-31,\"(152,-31)\",\"{{ARG25,/g/data/rs0/tiles/EPSG4326_1deg_0.00025pixel/LS8_OLI_TIRS/152_-031/2014/LS8_OLI_TIRS_NBAR_152_-031_2014-07-12T23-36-48.tif},{PQ25,/g/data/rs0/tiles/EPSG4326_1deg_0.00025pixel/LS8_OLI_TIRS/152_-031/2014/LS8_OLI_TIRS_PQA_152_-031_2014-07-12T23-36-48.tif}}\"\n",
    "308511,LS8,2014-07-28 23:36:52,2014-07-28 23:37:16,2014,7,152,-31,\"(152,-31)\",\"{{ARG25,/g/data/rs0/tiles/EPSG4326_1deg_0.00025pixel/LS8_OLI_TIRS/152_-031/2014/LS8_OLI_TIRS_NBAR_152_-031_2014-07-28T23-36-52.tif},{PQ25,/g/data/rs0/tiles/EPSG4326_1deg_0.00025pixel/LS8_OLI_TIRS/152_-031/2014/LS8_OLI_TIRS_PQA_152_-031_2014-07-28T23-36-52.tif}}\"\n"
   ]
  },
  {
   "cell_type": "code",
   "execution_count": 78,
   "metadata": {
    "collapsed": false
   },
   "outputs": [
    {
     "name": "stdout",
     "output_type": "stream",
     "text": [
      "0\n",
      "((15, -40), 1138232422.2250061, u'LANDSAT_5', u'nbar', {'xy_index': (15, -40), 'storage_type': u'ls5_nbar_albers', u'time': 1138232422.2250061}, '/g/data/rs0/tiles/EPSG3577/LS5_TM_NBAR/LS5_TM_NBAR_3577_15_-40_2006.nc')\n",
      "((15, -40), 1138232422.2250061, u'LANDSAT_5', u'pqa', {'xy_index': (15, -40), 'storage_type': u'ls5_pq_albers', u'time': 1138232422.2250061}, '/g/data/rs0/tiles/EPSG3577/LS5_TM_PQ/15_-40/LS5_TM_PQ_3577_15_-40_20060125234022225006.nc')\n",
      "2\n",
      "((15, -40), 1138232446.3400631, u'LANDSAT_5', u'nbar', {'xy_index': (15, -40), 'storage_type': u'ls5_nbar_albers', u'time': 1138232446.3400631}, '/g/data/rs0/tiles/EPSG3577/LS5_TM_NBAR/LS5_TM_NBAR_3577_15_-40_2006.nc')\n",
      "((15, -40), 1138232446.3400631, u'LANDSAT_5', u'pqa', {'xy_index': (15, -40), 'storage_type': u'ls5_pq_albers', u'time': 1138232446.3400631}, '/g/data/rs0/tiles/EPSG3577/LS5_TM_PQ/15_-40/LS5_TM_PQ_3577_15_-40_20060125234046340063.nc')\n",
      "4\n",
      "((15, -40), 1138837603.1170881, u'LANDSAT_5', u'nbar', {'xy_index': (15, -40), 'storage_type': u'ls5_nbar_albers', u'time': 1138837603.1170881}, '/g/data/rs0/tiles/EPSG3577/LS5_TM_NBAR/LS5_TM_NBAR_3577_15_-40_2006.nc')\n",
      "((15, -40), 1138837603.1170881, u'LANDSAT_5', u'pqa', {'xy_index': (15, -40), 'storage_type': u'ls5_pq_albers', u'time': 1138837603.1170881}, '/g/data/rs0/tiles/EPSG3577/LS5_TM_PQ/15_-40/LS5_TM_PQ_3577_15_-40_20060201234643117088.nc')\n",
      "6\n",
      "((15, -40), 1138837627.090081, u'LANDSAT_5', u'nbar', {'xy_index': (15, -40), 'storage_type': u'ls5_nbar_albers', u'time': 1138837627.090081}, '/g/data/rs0/tiles/EPSG3577/LS5_TM_NBAR/LS5_TM_NBAR_3577_15_-40_2006.nc')\n",
      "((15, -40), 1138837627.090081, u'LANDSAT_5', u'pqa', {'xy_index': (15, -40), 'storage_type': u'ls5_pq_albers', u'time': 1138837627.090081}, '/g/data/rs0/tiles/EPSG3577/LS5_TM_PQ/15_-40/LS5_TM_PQ_3577_15_-40_20060201234707090081.nc')\n",
      "8\n",
      "((15, -40), 1139614844.372, u'LANDSAT_5', u'nbar', {'xy_index': (15, -40), 'storage_type': u'ls5_nbar_albers', u'time': 1139614844.372}, '/g/data/rs0/tiles/EPSG3577/LS5_TM_NBAR/LS5_TM_NBAR_3577_15_-40_2006.nc')\n",
      "((15, -40), 1139614844.372, u'LANDSAT_5', u'pqa', {'xy_index': (15, -40), 'storage_type': u'ls5_pq_albers', u'time': 1139614844.372}, '/g/data/rs0/tiles/EPSG3577/LS5_TM_PQ/15_-40/LS5_TM_PQ_3577_15_-40_20060210234044372000.nc')\n",
      "10\n",
      "((15, -40), 1139614868.3440881, u'LANDSAT_5', u'nbar', {'xy_index': (15, -40), 'storage_type': u'ls5_nbar_albers', u'time': 1139614868.3440881}, '/g/data/rs0/tiles/EPSG3577/LS5_TM_NBAR/LS5_TM_NBAR_3577_15_-40_2006.nc')\n",
      "((15, -40), 1139614868.3440881, u'LANDSAT_5', u'pqa', {'xy_index': (15, -40), 'storage_type': u'ls5_pq_albers', u'time': 1139614868.3440881}, '/g/data/rs0/tiles/EPSG3577/LS5_TM_PQ/15_-40/LS5_TM_PQ_3577_15_-40_20060210234108344088.nc')\n",
      "12\n",
      "((15, -40), 1140220024.122081, u'LANDSAT_5', u'nbar', {'xy_index': (15, -40), 'storage_type': u'ls5_nbar_albers', u'time': 1140220024.122081}, '/g/data/rs0/tiles/EPSG3577/LS5_TM_NBAR/LS5_TM_NBAR_3577_15_-40_2006.nc')\n",
      "((15, -40), 1140220024.122081, u'LANDSAT_5', u'pqa', {'xy_index': (15, -40), 'storage_type': u'ls5_pq_albers', u'time': 1140220024.122081}, '/g/data/rs0/tiles/EPSG3577/LS5_TM_PQ/15_-40/LS5_TM_PQ_3577_15_-40_20060217234704122081.nc')\n",
      "14\n",
      "((15, -40), 1140220048.0950749, u'LANDSAT_5', u'nbar', {'xy_index': (15, -40), 'storage_type': u'ls5_nbar_albers', u'time': 1140220048.0950749}, '/g/data/rs0/tiles/EPSG3577/LS5_TM_NBAR/LS5_TM_NBAR_3577_15_-40_2006.nc')\n",
      "((15, -40), 1140220048.0950749, u'LANDSAT_5', u'pqa', {'xy_index': (15, -40), 'storage_type': u'ls5_pq_albers', u'time': 1140220048.0950749}, '/g/data/rs0/tiles/EPSG3577/LS5_TM_PQ/15_-40/LS5_TM_PQ_3577_15_-40_20060217234728095075.nc')\n",
      "16\n",
      "((15, -40), 1140997288.6360061, u'LANDSAT_5', u'nbar', {'xy_index': (15, -40), 'storage_type': u'ls5_nbar_albers', u'time': 1140997288.6360061}, '/g/data/rs0/tiles/EPSG3577/LS5_TM_NBAR/LS5_TM_NBAR_3577_15_-40_2006.nc')\n",
      "((15, -40), 1140997288.6360061, u'LANDSAT_5', u'pqa', {'xy_index': (15, -40), 'storage_type': u'ls5_pq_albers', u'time': 1140997288.6360061}, '/g/data/rs0/tiles/EPSG3577/LS5_TM_PQ/15_-40/LS5_TM_PQ_3577_15_-40_20060226234128636006.nc')\n",
      "18\n",
      "((15, -40), 1141602444.2460001, u'LANDSAT_5', u'nbar', {'xy_index': (15, -40), 'storage_type': u'ls5_nbar_albers', u'time': 1141602444.2460001}, '/g/data/rs0/tiles/EPSG3577/LS5_TM_NBAR/LS5_TM_NBAR_3577_15_-40_2006.nc')\n",
      "((15, -40), 1141602444.2460001, u'LANDSAT_5', u'pqa', {'xy_index': (15, -40), 'storage_type': u'ls5_pq_albers', u'time': 1141602444.2460001}, '/g/data/rs0/tiles/EPSG3577/LS5_TM_PQ/15_-40/LS5_TM_PQ_3577_15_-40_20060305234724246000.nc')\n",
      "20\n",
      "((15, -40), 1141602468.2190001, u'LANDSAT_5', u'nbar', {'xy_index': (15, -40), 'storage_type': u'ls5_nbar_albers', u'time': 1141602468.2190001}, '/g/data/rs0/tiles/EPSG3577/LS5_TM_NBAR/LS5_TM_NBAR_3577_15_-40_2006.nc')\n",
      "((15, -40), 1141602468.2190001, u'LANDSAT_5', u'pqa', {'xy_index': (15, -40), 'storage_type': u'ls5_pq_albers', u'time': 1141602468.2190001}, '/g/data/rs0/tiles/EPSG3577/LS5_TM_PQ/15_-40/LS5_TM_PQ_3577_15_-40_20060305234748219000.nc')\n",
      "22\n",
      "((15, -40), 1141774528.941088, u'LANDSAT_5', u'nbar', {'xy_index': (15, -40), 'storage_type': u'ls5_nbar_albers', u'time': 1141774528.941088}, '/g/data/rs0/tiles/EPSG3577/LS5_TM_NBAR/LS5_TM_NBAR_3577_15_-40_2006.nc')\n",
      "((15, -40), 1141774528.941088, u'LANDSAT_5', u'pqa', {'xy_index': (15, -40), 'storage_type': u'ls5_pq_albers', u'time': 1141774528.941088}, '/g/data/rs0/tiles/EPSG3577/LS5_TM_PQ/15_-40/LS5_TM_PQ_3577_15_-40_20060307233528941088.nc')\n",
      "24\n",
      "((15, -40), 1142379708.2930059, u'LANDSAT_5', u'nbar', {'xy_index': (15, -40), 'storage_type': u'ls5_nbar_albers', u'time': 1142379708.2930059}, '/g/data/rs0/tiles/EPSG3577/LS5_TM_NBAR/LS5_TM_NBAR_3577_15_-40_2006.nc')\n",
      "((15, -40), 1142379708.2930059, u'LANDSAT_5', u'pqa', {'xy_index': (15, -40), 'storage_type': u'ls5_pq_albers', u'time': 1142379708.2930059}, '/g/data/rs0/tiles/EPSG3577/LS5_TM_PQ/15_-40/LS5_TM_PQ_3577_15_-40_20060314234148293006.nc')\n",
      "26\n",
      "((15, -40), 1144367281.1260059, u'LANDSAT_5', u'nbar', {'xy_index': (15, -40), 'storage_type': u'ls5_nbar_albers', u'time': 1144367281.1260059}, '/g/data/rs0/tiles/EPSG3577/LS5_TM_NBAR/LS5_TM_NBAR_3577_15_-40_2006.nc')\n",
      "((15, -40), 1144367281.1260059, u'LANDSAT_5', u'pqa', {'xy_index': (15, -40), 'storage_type': u'ls5_pq_albers', u'time': 1144367281.1260059}, '/g/data/rs0/tiles/EPSG3577/LS5_TM_PQ/15_-40/LS5_TM_PQ_3577_15_-40_20060406234801126006.nc')\n",
      "28\n",
      "((15, -40), 1144367305.2410691, u'LANDSAT_5', u'nbar', {'xy_index': (15, -40), 'storage_type': u'ls5_nbar_albers', u'time': 1144367305.2410691}, '/g/data/rs0/tiles/EPSG3577/LS5_TM_NBAR/LS5_TM_NBAR_3577_15_-40_2006.nc')\n",
      "((15, -40), 1144367305.2410691, u'LANDSAT_5', u'pqa', {'xy_index': (15, -40), 'storage_type': u'ls5_pq_albers', u'time': 1144367305.2410691}, '/g/data/rs0/tiles/EPSG3577/LS5_TM_PQ/15_-40/LS5_TM_PQ_3577_15_-40_20060406234825241069.nc')\n",
      "30\n",
      "((15, -40), 1144539365.6780939, u'LANDSAT_5', u'nbar', {'xy_index': (15, -40), 'storage_type': u'ls5_nbar_albers', u'time': 1144539365.6780939}, '/g/data/rs0/tiles/EPSG3577/LS5_TM_NBAR/LS5_TM_NBAR_3577_15_-40_2006.nc')\n",
      "((15, -40), 1144539365.6780939, u'LANDSAT_5', u'pqa', {'xy_index': (15, -40), 'storage_type': u'ls5_pq_albers', u'time': 1144539365.6780939}, '/g/data/rs0/tiles/EPSG3577/LS5_TM_PQ/15_-40/LS5_TM_PQ_3577_15_-40_20060408233605678094.nc')\n",
      "32\n",
      "((15, -40), 1145144519.724031, u'LANDSAT_5', u'nbar', {'xy_index': (15, -40), 'storage_type': u'ls5_nbar_albers', u'time': 1145144519.724031}, '/g/data/rs0/tiles/EPSG3577/LS5_TM_NBAR/LS5_TM_NBAR_3577_15_-40_2006.nc')\n",
      "((15, -40), 1145144519.724031, u'LANDSAT_5', u'pqa', {'xy_index': (15, -40), 'storage_type': u'ls5_pq_albers', u'time': 1145144519.724031}, '/g/data/rs0/tiles/EPSG3577/LS5_TM_PQ/15_-40/LS5_TM_PQ_3577_15_-40_20060415234159724031.nc')\n",
      "34\n",
      "((15, -40), 1145144543.697031, u'LANDSAT_5', u'nbar', {'xy_index': (15, -40), 'storage_type': u'ls5_nbar_albers', u'time': 1145144543.697031}, '/g/data/rs0/tiles/EPSG3577/LS5_TM_NBAR/LS5_TM_NBAR_3577_15_-40_2006.nc')\n",
      "((15, -40), 1145144543.697031, u'LANDSAT_5', u'pqa', {'xy_index': (15, -40), 'storage_type': u'ls5_pq_albers', u'time': 1145144543.697031}, '/g/data/rs0/tiles/EPSG3577/LS5_TM_PQ/15_-40/LS5_TM_PQ_3577_15_-40_20060415234223697031.nc')\n",
      "36\n",
      "((15, -40), 1145749697.2710559, u'LANDSAT_5', u'nbar', {'xy_index': (15, -40), 'storage_type': u'ls5_nbar_albers', u'time': 1145749697.2710559}, '/g/data/rs0/tiles/EPSG3577/LS5_TM_NBAR/LS5_TM_NBAR_3577_15_-40_2006.nc')\n",
      "((15, -40), 1145749697.2710559, u'LANDSAT_5', u'pqa', {'xy_index': (15, -40), 'storage_type': u'ls5_pq_albers', u'time': 1145749697.2710559}, '/g/data/rs0/tiles/EPSG3577/LS5_TM_PQ/15_-40/LS5_TM_PQ_3577_15_-40_20060422234817271056.nc')\n",
      "38\n",
      "((15, -40), 1145749721.244056, u'LANDSAT_5', u'nbar', {'xy_index': (15, -40), 'storage_type': u'ls5_nbar_albers', u'time': 1145749721.244056}, '/g/data/rs0/tiles/EPSG3577/LS5_TM_NBAR/LS5_TM_NBAR_3577_15_-40_2006.nc')\n",
      "((15, -40), 1145749721.244056, u'LANDSAT_5', u'pqa', {'xy_index': (15, -40), 'storage_type': u'ls5_pq_albers', u'time': 1145749721.244056}, '/g/data/rs0/tiles/EPSG3577/LS5_TM_PQ/15_-40/LS5_TM_PQ_3577_15_-40_20060422234841244056.nc')\n",
      "40\n",
      "((15, -40), 1145921781.5390439, u'LANDSAT_5', u'nbar', {'xy_index': (15, -40), 'storage_type': u'ls5_nbar_albers', u'time': 1145921781.5390439}, '/g/data/rs0/tiles/EPSG3577/LS5_TM_NBAR/LS5_TM_NBAR_3577_15_-40_2006.nc')\n",
      "((15, -40), 1145921781.5390439, u'LANDSAT_5', u'pqa', {'xy_index': (15, -40), 'storage_type': u'ls5_pq_albers', u'time': 1145921781.5390439}, '/g/data/rs0/tiles/EPSG3577/LS5_TM_PQ/15_-40/LS5_TM_PQ_3577_15_-40_20060424233621539044.nc')\n",
      "42\n",
      "((15, -40), 1146526934.7270501, u'LANDSAT_5', u'nbar', {'xy_index': (15, -40), 'storage_type': u'ls5_nbar_albers', u'time': 1146526934.7270501}, '/g/data/rs0/tiles/EPSG3577/LS5_TM_NBAR/LS5_TM_NBAR_3577_15_-40_2006.nc')\n",
      "((15, -40), 1146526934.7270501, u'LANDSAT_5', u'pqa', {'xy_index': (15, -40), 'storage_type': u'ls5_pq_albers', u'time': 1146526934.7270501}, '/g/data/rs0/tiles/EPSG3577/LS5_TM_PQ/15_-40/LS5_TM_PQ_3577_15_-40_20060501234214727050.nc')\n",
      "44\n",
      "((15, -40), 1146526958.7000501, u'LANDSAT_5', u'nbar', {'xy_index': (15, -40), 'storage_type': u'ls5_nbar_albers', u'time': 1146526958.7000501}, '/g/data/rs0/tiles/EPSG3577/LS5_TM_NBAR/LS5_TM_NBAR_3577_15_-40_2006.nc')\n",
      "((15, -40), 1146526958.7000501, u'LANDSAT_5', u'pqa', {'xy_index': (15, -40), 'storage_type': u'ls5_pq_albers', u'time': 1146526958.7000501}, '/g/data/rs0/tiles/EPSG3577/LS5_TM_PQ/15_-40/LS5_TM_PQ_3577_15_-40_20060501234238700050.nc')\n",
      "46\n",
      "((15, -40), 1147132111.2380631, u'LANDSAT_5', u'nbar', {'xy_index': (15, -40), 'storage_type': u'ls5_nbar_albers', u'time': 1147132111.2380631}, '/g/data/rs0/tiles/EPSG3577/LS5_TM_NBAR/LS5_TM_NBAR_3577_15_-40_2006.nc')\n",
      "((15, -40), 1147132111.2380631, u'LANDSAT_5', u'pqa', {'xy_index': (15, -40), 'storage_type': u'ls5_pq_albers', u'time': 1147132111.2380631}, '/g/data/rs0/tiles/EPSG3577/LS5_TM_PQ/15_-40/LS5_TM_PQ_3577_15_-40_20060508234831238063.nc')\n",
      "48\n",
      "((15, -40), 1147304195.183038, u'LANDSAT_5', u'nbar', {'xy_index': (15, -40), 'storage_type': u'ls5_nbar_albers', u'time': 1147304195.183038}, '/g/data/rs0/tiles/EPSG3577/LS5_TM_NBAR/LS5_TM_NBAR_3577_15_-40_2006.nc')\n",
      "((15, -40), 1147304195.183038, u'LANDSAT_5', u'pqa', {'xy_index': (15, -40), 'storage_type': u'ls5_pq_albers', u'time': 1147304195.183038}, '/g/data/rs0/tiles/EPSG3577/LS5_TM_PQ/15_-40/LS5_TM_PQ_3577_15_-40_20060510233635183038.nc')\n",
      "50\n",
      "((15, -40), 1147909346.919013, u'LANDSAT_5', u'nbar', {'xy_index': (15, -40), 'storage_type': u'ls5_nbar_albers', u'time': 1147909346.919013}, '/g/data/rs0/tiles/EPSG3577/LS5_TM_NBAR/LS5_TM_NBAR_3577_15_-40_2006.nc')\n",
      "((15, -40), 1147909346.919013, u'LANDSAT_5', u'pqa', {'xy_index': (15, -40), 'storage_type': u'ls5_pq_albers', u'time': 1147909346.919013}, '/g/data/rs0/tiles/EPSG3577/LS5_TM_PQ/15_-40/LS5_TM_PQ_3577_15_-40_20060517234226919013.nc')\n",
      "52\n",
      "((15, -40), 1147909370.8920059, u'LANDSAT_5', u'nbar', {'xy_index': (15, -40), 'storage_type': u'ls5_nbar_albers', u'time': 1147909370.8920059}, '/g/data/rs0/tiles/EPSG3577/LS5_TM_NBAR/LS5_TM_NBAR_3577_15_-40_2006.nc')\n",
      "((15, -40), 1147909370.8920059, u'LANDSAT_5', u'pqa', {'xy_index': (15, -40), 'storage_type': u'ls5_pq_albers', u'time': 1147909370.8920059}, '/g/data/rs0/tiles/EPSG3577/LS5_TM_PQ/15_-40/LS5_TM_PQ_3577_15_-40_20060517234250892006.nc')\n",
      "54\n",
      "((15, -40), 1148514523.314013, u'LANDSAT_5', u'nbar', {'xy_index': (15, -40), 'storage_type': u'ls5_nbar_albers', u'time': 1148514523.314013}, '/g/data/rs0/tiles/EPSG3577/LS5_TM_NBAR/LS5_TM_NBAR_3577_15_-40_2006.nc')\n",
      "((15, -40), 1148514523.314013, u'LANDSAT_5', u'pqa', {'xy_index': (15, -40), 'storage_type': u'ls5_pq_albers', u'time': 1148514523.314013}, '/g/data/rs0/tiles/EPSG3577/LS5_TM_PQ/15_-40/LS5_TM_PQ_3577_15_-40_20060524234843314013.nc')\n",
      "56\n",
      "((15, -40), 1148514547.2870131, u'LANDSAT_5', u'nbar', {'xy_index': (15, -40), 'storage_type': u'ls5_nbar_albers', u'time': 1148514547.2870131}, '/g/data/rs0/tiles/EPSG3577/LS5_TM_NBAR/LS5_TM_NBAR_3577_15_-40_2006.nc')\n",
      "((15, -40), 1148514547.2870131, u'LANDSAT_5', u'pqa', {'xy_index': (15, -40), 'storage_type': u'ls5_pq_albers', u'time': 1148514547.2870131}, '/g/data/rs0/tiles/EPSG3577/LS5_TM_PQ/15_-40/LS5_TM_PQ_3577_15_-40_20060524234907287013.nc')\n",
      "58\n",
      "((15, -40), 1148686607.4140439, u'LANDSAT_5', u'nbar', {'xy_index': (15, -40), 'storage_type': u'ls5_nbar_albers', u'time': 1148686607.4140439}, '/g/data/rs0/tiles/EPSG3577/LS5_TM_NBAR/LS5_TM_NBAR_3577_15_-40_2006.nc')\n",
      "((15, -40), 1148686607.4140439, u'LANDSAT_5', u'pqa', {'xy_index': (15, -40), 'storage_type': u'ls5_pq_albers', u'time': 1148686607.4140439}, '/g/data/rs0/tiles/EPSG3577/LS5_TM_PQ/15_-40/LS5_TM_PQ_3577_15_-40_20060526233647414044.nc')\n",
      "60\n",
      "((15, -40), 1149291761.5150311, u'LANDSAT_5', u'nbar', {'xy_index': (15, -40), 'storage_type': u'ls5_nbar_albers', u'time': 1149291761.5150311}, '/g/data/rs0/tiles/EPSG3577/LS5_TM_NBAR/LS5_TM_NBAR_3577_15_-40_2006.nc')\n",
      "((15, -40), 1149291761.5150311, u'LANDSAT_5', u'pqa', {'xy_index': (15, -40), 'storage_type': u'ls5_pq_albers', u'time': 1149291761.5150311}, '/g/data/rs0/tiles/EPSG3577/LS5_TM_PQ/15_-40/LS5_TM_PQ_3577_15_-40_20060602234241515031.nc')\n",
      "62\n",
      "((15, -40), 1149291785.4880309, u'LANDSAT_5', u'nbar', {'xy_index': (15, -40), 'storage_type': u'ls5_nbar_albers', u'time': 1149291785.4880309}, '/g/data/rs0/tiles/EPSG3577/LS5_TM_NBAR/LS5_TM_NBAR_3577_15_-40_2006.nc')\n",
      "((15, -40), 1149291785.4880309, u'LANDSAT_5', u'pqa', {'xy_index': (15, -40), 'storage_type': u'ls5_pq_albers', u'time': 1149291785.4880309}, '/g/data/rs0/tiles/EPSG3577/LS5_TM_PQ/15_-40/LS5_TM_PQ_3577_15_-40_20060602234305488031.nc')\n",
      "64\n",
      "((15, -40), 1149896962.8629999, u'LANDSAT_5', u'nbar', {'xy_index': (15, -40), 'storage_type': u'ls5_nbar_albers', u'time': 1149896962.8629999}, '/g/data/rs0/tiles/EPSG3577/LS5_TM_NBAR/LS5_TM_NBAR_3577_15_-40_2006.nc')\n",
      "((15, -40), 1149896962.8629999, u'LANDSAT_5', u'pqa', {'xy_index': (15, -40), 'storage_type': u'ls5_pq_albers', u'time': 1149896962.8629999}, '/g/data/rs0/tiles/EPSG3577/LS5_TM_PQ/15_-40/LS5_TM_PQ_3577_15_-40_20060609234922863000.nc')\n",
      "66\n",
      "((15, -40), 1150069022.8720629, u'LANDSAT_5', u'nbar', {'xy_index': (15, -40), 'storage_type': u'ls5_nbar_albers', u'time': 1150069022.8720629}, '/g/data/rs0/tiles/EPSG3577/LS5_TM_NBAR/LS5_TM_NBAR_3577_15_-40_2006.nc')\n",
      "((15, -40), 1150069022.8720629, u'LANDSAT_5', u'pqa', {'xy_index': (15, -40), 'storage_type': u'ls5_pq_albers', u'time': 1150069022.8720629}, '/g/data/rs0/tiles/EPSG3577/LS5_TM_PQ/15_-40/LS5_TM_PQ_3577_15_-40_20060611233702872063.nc')\n",
      "68\n",
      "((15, -40), 1150674176.059006, u'LANDSAT_5', u'nbar', {'xy_index': (15, -40), 'storage_type': u'ls5_nbar_albers', u'time': 1150674176.059006}, '/g/data/rs0/tiles/EPSG3577/LS5_TM_NBAR/LS5_TM_NBAR_3577_15_-40_2006.nc')\n",
      "((15, -40), 1150674176.059006, u'LANDSAT_5', u'pqa', {'xy_index': (15, -40), 'storage_type': u'ls5_pq_albers', u'time': 1150674176.059006}, '/g/data/rs0/tiles/EPSG3577/LS5_TM_PQ/15_-40/LS5_TM_PQ_3577_15_-40_20060618234256059006.nc')\n",
      "70\n",
      "((15, -40), 1150674200.032006, u'LANDSAT_5', u'nbar', {'xy_index': (15, -40), 'storage_type': u'ls5_nbar_albers', u'time': 1150674200.032006}, '/g/data/rs0/tiles/EPSG3577/LS5_TM_NBAR/LS5_TM_NBAR_3577_15_-40_2006.nc')\n",
      "((15, -40), 1150674200.032006, u'LANDSAT_5', u'pqa', {'xy_index': (15, -40), 'storage_type': u'ls5_pq_albers', u'time': 1150674200.032006}, '/g/data/rs0/tiles/EPSG3577/LS5_TM_PQ/15_-40/LS5_TM_PQ_3577_15_-40_20060618234320032006.nc')\n",
      "72\n",
      "((15, -40), 1151279353.618063, u'LANDSAT_5', u'nbar', {'xy_index': (15, -40), 'storage_type': u'ls5_nbar_albers', u'time': 1151279353.618063}, '/g/data/rs0/tiles/EPSG3577/LS5_TM_NBAR/LS5_TM_NBAR_3577_15_-40_2006.nc')\n",
      "((15, -40), 1151279353.618063, u'LANDSAT_5', u'pqa', {'xy_index': (15, -40), 'storage_type': u'ls5_pq_albers', u'time': 1151279353.618063}, '/g/data/rs0/tiles/EPSG3577/LS5_TM_PQ/15_-40/LS5_TM_PQ_3577_15_-40_20060625234913618063.nc')\n",
      "74\n",
      "((15, -40), 1151279377.591063, u'LANDSAT_5', u'nbar', {'xy_index': (15, -40), 'storage_type': u'ls5_nbar_albers', u'time': 1151279377.591063}, '/g/data/rs0/tiles/EPSG3577/LS5_TM_NBAR/LS5_TM_NBAR_3577_15_-40_2006.nc')\n",
      "((15, -40), 1151279377.591063, u'LANDSAT_5', u'pqa', {'xy_index': (15, -40), 'storage_type': u'ls5_pq_albers', u'time': 1151279377.591063}, '/g/data/rs0/tiles/EPSG3577/LS5_TM_PQ/15_-40/LS5_TM_PQ_3577_15_-40_20060625234937591063.nc')\n",
      "76\n",
      "((15, -40), 1151451437.708081, u'LANDSAT_5', u'nbar', {'xy_index': (15, -40), 'storage_type': u'ls5_nbar_albers', u'time': 1151451437.708081}, '/g/data/rs0/tiles/EPSG3577/LS5_TM_NBAR/LS5_TM_NBAR_3577_15_-40_2006.nc')\n",
      "((15, -40), 1151451437.708081, u'LANDSAT_5', u'pqa', {'xy_index': (15, -40), 'storage_type': u'ls5_pq_albers', u'time': 1151451437.708081}, '/g/data/rs0/tiles/EPSG3577/LS5_TM_PQ/15_-40/LS5_TM_PQ_3577_15_-40_20060627233717708081.nc')\n",
      "78\n",
      "((15, -40), 1152056590.7780809, u'LANDSAT_5', u'nbar', {'xy_index': (15, -40), 'storage_type': u'ls5_nbar_albers', u'time': 1152056590.7780809}, '/g/data/rs0/tiles/EPSG3577/LS5_TM_NBAR/LS5_TM_NBAR_3577_15_-40_2006.nc')\n",
      "((15, -40), 1152056590.7780809, u'LANDSAT_5', u'pqa', {'xy_index': (15, -40), 'storage_type': u'ls5_pq_albers', u'time': 1152056590.7780809}, '/g/data/rs0/tiles/EPSG3577/LS5_TM_PQ/15_-40/LS5_TM_PQ_3577_15_-40_20060704234310778081.nc')\n",
      "80\n",
      "((15, -40), 1152056614.7510879, u'LANDSAT_5', u'nbar', {'xy_index': (15, -40), 'storage_type': u'ls5_nbar_albers', u'time': 1152056614.7510879}, '/g/data/rs0/tiles/EPSG3577/LS5_TM_NBAR/LS5_TM_NBAR_3577_15_-40_2006.nc')\n",
      "((15, -40), 1152056614.7510879, u'LANDSAT_5', u'pqa', {'xy_index': (15, -40), 'storage_type': u'ls5_pq_albers', u'time': 1152056614.7510879}, '/g/data/rs0/tiles/EPSG3577/LS5_TM_PQ/15_-40/LS5_TM_PQ_3577_15_-40_20060704234334751088.nc')\n",
      "82\n",
      "((15, -40), 1152661767.4550941, u'LANDSAT_5', u'nbar', {'xy_index': (15, -40), 'storage_type': u'ls5_nbar_albers', u'time': 1152661767.4550941}, '/g/data/rs0/tiles/EPSG3577/LS5_TM_NBAR/LS5_TM_NBAR_3577_15_-40_2006.nc')\n",
      "((15, -40), 1152661767.4550941, u'LANDSAT_5', u'pqa', {'xy_index': (15, -40), 'storage_type': u'ls5_pq_albers', u'time': 1152661767.4550941}, '/g/data/rs0/tiles/EPSG3577/LS5_TM_PQ/15_-40/LS5_TM_PQ_3577_15_-40_20060711234927455094.nc')\n",
      "84\n",
      "((15, -40), 1152661791.4280939, u'LANDSAT_5', u'nbar', {'xy_index': (15, -40), 'storage_type': u'ls5_nbar_albers', u'time': 1152661791.4280939}, '/g/data/rs0/tiles/EPSG3577/LS5_TM_NBAR/LS5_TM_NBAR_3577_15_-40_2006.nc')\n",
      "((15, -40), 1152661791.4280939, u'LANDSAT_5', u'pqa', {'xy_index': (15, -40), 'storage_type': u'ls5_pq_albers', u'time': 1152661791.4280939}, '/g/data/rs0/tiles/EPSG3577/LS5_TM_PQ/15_-40/LS5_TM_PQ_3577_15_-40_20060711234951428094.nc')\n",
      "86\n",
      "((15, -40), 1152833851.414006, u'LANDSAT_5', u'nbar', {'xy_index': (15, -40), 'storage_type': u'ls5_nbar_albers', u'time': 1152833851.414006}, '/g/data/rs0/tiles/EPSG3577/LS5_TM_NBAR/LS5_TM_NBAR_3577_15_-40_2006.nc')\n",
      "((15, -40), 1152833851.414006, u'LANDSAT_5', u'pqa', {'xy_index': (15, -40), 'storage_type': u'ls5_pq_albers', u'time': 1152833851.414006}, '/g/data/rs0/tiles/EPSG3577/LS5_TM_PQ/15_-40/LS5_TM_PQ_3577_15_-40_20060713233731414006.nc')\n",
      "88\n",
      "((15, -40), 1153439003.7180631, u'LANDSAT_5', u'nbar', {'xy_index': (15, -40), 'storage_type': u'ls5_nbar_albers', u'time': 1153439003.7180631}, '/g/data/rs0/tiles/EPSG3577/LS5_TM_NBAR/LS5_TM_NBAR_3577_15_-40_2006.nc')\n",
      "((15, -40), 1153439003.7180631, u'LANDSAT_5', u'pqa', {'xy_index': (15, -40), 'storage_type': u'ls5_pq_albers', u'time': 1153439003.7180631}, '/g/data/rs0/tiles/EPSG3577/LS5_TM_PQ/15_-40/LS5_TM_PQ_3577_15_-40_20060720234323718063.nc')\n",
      "90\n",
      "((15, -40), 1153439027.6910689, u'LANDSAT_5', u'nbar', {'xy_index': (15, -40), 'storage_type': u'ls5_nbar_albers', u'time': 1153439027.6910689}, '/g/data/rs0/tiles/EPSG3577/LS5_TM_NBAR/LS5_TM_NBAR_3577_15_-40_2006.nc')\n",
      "((15, -40), 1153439027.6910689, u'LANDSAT_5', u'pqa', {'xy_index': (15, -40), 'storage_type': u'ls5_pq_albers', u'time': 1153439027.6910689}, '/g/data/rs0/tiles/EPSG3577/LS5_TM_PQ/15_-40/LS5_TM_PQ_3577_15_-40_20060720234347691069.nc')\n",
      "92\n",
      "((15, -40), 1154044180.2200811, u'LANDSAT_5', u'nbar', {'xy_index': (15, -40), 'storage_type': u'ls5_nbar_albers', u'time': 1154044180.2200811}, '/g/data/rs0/tiles/EPSG3577/LS5_TM_NBAR/LS5_TM_NBAR_3577_15_-40_2006.nc')\n",
      "((15, -40), 1154044180.2200811, u'LANDSAT_5', u'pqa', {'xy_index': (15, -40), 'storage_type': u'ls5_pq_albers', u'time': 1154044180.2200811}, '/g/data/rs0/tiles/EPSG3577/LS5_TM_PQ/15_-40/LS5_TM_PQ_3577_15_-40_20060727234940220081.nc')\n",
      "94\n",
      "((15, -40), 1154044204.193094, u'LANDSAT_5', u'nbar', {'xy_index': (15, -40), 'storage_type': u'ls5_nbar_albers', u'time': 1154044204.193094}, '/g/data/rs0/tiles/EPSG3577/LS5_TM_NBAR/LS5_TM_NBAR_3577_15_-40_2006.nc')\n",
      "((15, -40), 1154044204.193094, u'LANDSAT_5', u'pqa', {'xy_index': (15, -40), 'storage_type': u'ls5_pq_albers', u'time': 1154044204.193094}, '/g/data/rs0/tiles/EPSG3577/LS5_TM_PQ/15_-40/LS5_TM_PQ_3577_15_-40_20060727235004193094.nc')\n",
      "96\n",
      "((15, -40), 1154216264.0600381, u'LANDSAT_5', u'nbar', {'xy_index': (15, -40), 'storage_type': u'ls5_nbar_albers', u'time': 1154216264.0600381}, '/g/data/rs0/tiles/EPSG3577/LS5_TM_NBAR/LS5_TM_NBAR_3577_15_-40_2006.nc')\n",
      "((15, -40), 1154216264.0600381, u'LANDSAT_5', u'pqa', {'xy_index': (15, -40), 'storage_type': u'ls5_pq_albers', u'time': 1154216264.0600381}, '/g/data/rs0/tiles/EPSG3577/LS5_TM_PQ/15_-40/LS5_TM_PQ_3577_15_-40_20060729233744060038.nc')\n",
      "98\n",
      "((15, -40), 1154821416.36605, u'LANDSAT_5', u'nbar', {'xy_index': (15, -40), 'storage_type': u'ls5_nbar_albers', u'time': 1154821416.36605}, '/g/data/rs0/tiles/EPSG3577/LS5_TM_NBAR/LS5_TM_NBAR_3577_15_-40_2006.nc')\n",
      "((15, -40), 1154821416.36605, u'LANDSAT_5', u'pqa', {'xy_index': (15, -40), 'storage_type': u'ls5_pq_albers', u'time': 1154821416.36605}, '/g/data/rs0/tiles/EPSG3577/LS5_TM_PQ/15_-40/LS5_TM_PQ_3577_15_-40_20060805234336366050.nc')\n",
      "100\n",
      "((15, -40), 1154821440.339056, u'LANDSAT_5', u'nbar', {'xy_index': (15, -40), 'storage_type': u'ls5_nbar_albers', u'time': 1154821440.339056}, '/g/data/rs0/tiles/EPSG3577/LS5_TM_NBAR/LS5_TM_NBAR_3577_15_-40_2006.nc')\n",
      "((15, -40), 1154821440.339056, u'LANDSAT_5', u'pqa', {'xy_index': (15, -40), 'storage_type': u'ls5_pq_albers', u'time': 1154821440.339056}, '/g/data/rs0/tiles/EPSG3577/LS5_TM_PQ/15_-40/LS5_TM_PQ_3577_15_-40_20060805234400339056.nc')\n",
      "102\n",
      "((15, -40), 1155426592.5920191, u'LANDSAT_5', u'nbar', {'xy_index': (15, -40), 'storage_type': u'ls5_nbar_albers', u'time': 1155426592.5920191}, '/g/data/rs0/tiles/EPSG3577/LS5_TM_NBAR/LS5_TM_NBAR_3577_15_-40_2006.nc')\n",
      "((15, -40), 1155426592.5920191, u'LANDSAT_5', u'pqa', {'xy_index': (15, -40), 'storage_type': u'ls5_pq_albers', u'time': 1155426592.5920191}, '/g/data/rs0/tiles/EPSG3577/LS5_TM_PQ/15_-40/LS5_TM_PQ_3577_15_-40_20060812234952592019.nc')\n",
      "104\n",
      "((15, -40), 1155426616.5650251, u'LANDSAT_5', u'nbar', {'xy_index': (15, -40), 'storage_type': u'ls5_nbar_albers', u'time': 1155426616.5650251}, '/g/data/rs0/tiles/EPSG3577/LS5_TM_NBAR/LS5_TM_NBAR_3577_15_-40_2006.nc')\n",
      "((15, -40), 1155426616.5650251, u'LANDSAT_5', u'pqa', {'xy_index': (15, -40), 'storage_type': u'ls5_pq_albers', u'time': 1155426616.5650251}, '/g/data/rs0/tiles/EPSG3577/LS5_TM_PQ/15_-40/LS5_TM_PQ_3577_15_-40_20060812235016565025.nc')\n",
      "106\n",
      "((15, -40), 1156203828.58005, u'LANDSAT_5', u'nbar', {'xy_index': (15, -40), 'storage_type': u'ls5_nbar_albers', u'time': 1156203828.58005}, '/g/data/rs0/tiles/EPSG3577/LS5_TM_NBAR/LS5_TM_NBAR_3577_15_-40_2006.nc')\n",
      "((15, -40), 1156203828.58005, u'LANDSAT_5', u'pqa', {'xy_index': (15, -40), 'storage_type': u'ls5_pq_albers', u'time': 1156203828.58005}, '/g/data/rs0/tiles/EPSG3577/LS5_TM_PQ/15_-40/LS5_TM_PQ_3577_15_-40_20060821234348580050.nc')\n",
      "108\n",
      "((15, -40), 1156203852.553056, u'LANDSAT_5', u'nbar', {'xy_index': (15, -40), 'storage_type': u'ls5_nbar_albers', u'time': 1156203852.553056}, '/g/data/rs0/tiles/EPSG3577/LS5_TM_NBAR/LS5_TM_NBAR_3577_15_-40_2006.nc')\n",
      "((15, -40), 1156203852.553056, u'LANDSAT_5', u'pqa', {'xy_index': (15, -40), 'storage_type': u'ls5_pq_albers', u'time': 1156203852.553056}, '/g/data/rs0/tiles/EPSG3577/LS5_TM_PQ/15_-40/LS5_TM_PQ_3577_15_-40_20060821234412553056.nc')\n",
      "110\n",
      "((15, -40), 1156809004.6630001, u'LANDSAT_5', u'nbar', {'xy_index': (15, -40), 'storage_type': u'ls5_nbar_albers', u'time': 1156809004.6630001}, '/g/data/rs0/tiles/EPSG3577/LS5_TM_NBAR/LS5_TM_NBAR_3577_15_-40_2006.nc')\n",
      "((15, -40), 1156809004.6630001, u'LANDSAT_5', u'pqa', {'xy_index': (15, -40), 'storage_type': u'ls5_pq_albers', u'time': 1156809004.6630001}, '/g/data/rs0/tiles/EPSG3577/LS5_TM_PQ/15_-40/LS5_TM_PQ_3577_15_-40_20060828235004663000.nc')\n",
      "112\n",
      "((15, -40), 1156809028.636013, u'LANDSAT_5', u'nbar', {'xy_index': (15, -40), 'storage_type': u'ls5_nbar_albers', u'time': 1156809028.636013}, '/g/data/rs0/tiles/EPSG3577/LS5_TM_NBAR/LS5_TM_NBAR_3577_15_-40_2006.nc')\n",
      "((15, -40), 1156809028.636013, u'LANDSAT_5', u'pqa', {'xy_index': (15, -40), 'storage_type': u'ls5_pq_albers', u'time': 1156809028.636013}, '/g/data/rs0/tiles/EPSG3577/LS5_TM_PQ/15_-40/LS5_TM_PQ_3577_15_-40_20060828235028636013.nc')\n",
      "114\n",
      "((15, -40), 1156981088.476088, u'LANDSAT_5', u'nbar', {'xy_index': (15, -40), 'storage_type': u'ls5_nbar_albers', u'time': 1156981088.476088}, '/g/data/rs0/tiles/EPSG3577/LS5_TM_NBAR/LS5_TM_NBAR_3577_15_-40_2006.nc')\n",
      "((15, -40), 1156981088.476088, u'LANDSAT_5', u'pqa', {'xy_index': (15, -40), 'storage_type': u'ls5_pq_albers', u'time': 1156981088.476088}, '/g/data/rs0/tiles/EPSG3577/LS5_TM_PQ/15_-40/LS5_TM_PQ_3577_15_-40_20060830233808476088.nc')\n",
      "116\n",
      "((15, -40), 1158191416.4640441, u'LANDSAT_5', u'nbar', {'xy_index': (15, -40), 'storage_type': u'ls5_nbar_albers', u'time': 1158191416.4640441}, '/g/data/rs0/tiles/EPSG3577/LS5_TM_NBAR/LS5_TM_NBAR_3577_15_-40_2006.nc')\n",
      "((15, -40), 1158191416.4640441, u'LANDSAT_5', u'pqa', {'xy_index': (15, -40), 'storage_type': u'ls5_pq_albers', u'time': 1158191416.4640441}, '/g/data/rs0/tiles/EPSG3577/LS5_TM_PQ/15_-40/LS5_TM_PQ_3577_15_-40_20060913235016464044.nc')\n",
      "118\n",
      "((15, -40), 1158191440.580019, u'LANDSAT_5', u'nbar', {'xy_index': (15, -40), 'storage_type': u'ls5_nbar_albers', u'time': 1158191440.580019}, '/g/data/rs0/tiles/EPSG3577/LS5_TM_NBAR/LS5_TM_NBAR_3577_15_-40_2006.nc')\n",
      "((15, -40), 1158191440.580019, u'LANDSAT_5', u'pqa', {'xy_index': (15, -40), 'storage_type': u'ls5_pq_albers', u'time': 1158191440.580019}, '/g/data/rs0/tiles/EPSG3577/LS5_TM_PQ/15_-40/LS5_TM_PQ_3577_15_-40_20060913235040580019.nc')\n",
      "120\n",
      "((15, -40), 1158363500.2650809, u'LANDSAT_5', u'nbar', {'xy_index': (15, -40), 'storage_type': u'ls5_nbar_albers', u'time': 1158363500.2650809}, '/g/data/rs0/tiles/EPSG3577/LS5_TM_NBAR/LS5_TM_NBAR_3577_15_-40_2006.nc')\n",
      "((15, -40), 1158363500.2650809, u'LANDSAT_5', u'pqa', {'xy_index': (15, -40), 'storage_type': u'ls5_pq_albers', u'time': 1158363500.2650809}, '/g/data/rs0/tiles/EPSG3577/LS5_TM_PQ/15_-40/LS5_TM_PQ_3577_15_-40_20060915233820265081.nc')\n",
      "122\n",
      "((15, -40), 1158968652.0330939, u'LANDSAT_5', u'nbar', {'xy_index': (15, -40), 'storage_type': u'ls5_nbar_albers', u'time': 1158968652.0330939}, '/g/data/rs0/tiles/EPSG3577/LS5_TM_NBAR/LS5_TM_NBAR_3577_15_-40_2006.nc')\n",
      "((15, -40), 1158968652.0330939, u'LANDSAT_5', u'pqa', {'xy_index': (15, -40), 'storage_type': u'ls5_pq_albers', u'time': 1158968652.0330939}, '/g/data/rs0/tiles/EPSG3577/LS5_TM_PQ/15_-40/LS5_TM_PQ_3577_15_-40_20060922234412033094.nc')\n",
      "124\n",
      "((15, -40), 1158968676.007, u'LANDSAT_5', u'nbar', {'xy_index': (15, -40), 'storage_type': u'ls5_nbar_albers', u'time': 1158968676.007}, '/g/data/rs0/tiles/EPSG3577/LS5_TM_NBAR/LS5_TM_NBAR_3577_15_-40_2006.nc')\n",
      "((15, -40), 1158968676.007, u'LANDSAT_5', u'pqa', {'xy_index': (15, -40), 'storage_type': u'ls5_pq_albers', u'time': 1158968676.007}, '/g/data/rs0/tiles/EPSG3577/LS5_TM_PQ/15_-40/LS5_TM_PQ_3577_15_-40_20060922234436007000.nc')\n",
      "126\n",
      "((15, -40), 1159573827.5110941, u'LANDSAT_5', u'nbar', {'xy_index': (15, -40), 'storage_type': u'ls5_nbar_albers', u'time': 1159573827.5110941}, '/g/data/rs0/tiles/EPSG3577/LS5_TM_NBAR/LS5_TM_NBAR_3577_15_-40_2006.nc')\n",
      "((15, -40), 1159573827.5110941, u'LANDSAT_5', u'pqa', {'xy_index': (15, -40), 'storage_type': u'ls5_pq_albers', u'time': 1159573827.5110941}, '/g/data/rs0/tiles/EPSG3577/LS5_TM_PQ/15_-40/LS5_TM_PQ_3577_15_-40_20060929235027511094.nc')\n",
      "128\n",
      "((15, -40), 1159573851.4840939, u'LANDSAT_5', u'nbar', {'xy_index': (15, -40), 'storage_type': u'ls5_nbar_albers', u'time': 1159573851.4840939}, '/g/data/rs0/tiles/EPSG3577/LS5_TM_NBAR/LS5_TM_NBAR_3577_15_-40_2006.nc')\n",
      "((15, -40), 1159573851.4840939, u'LANDSAT_5', u'pqa', {'xy_index': (15, -40), 'storage_type': u'ls5_pq_albers', u'time': 1159573851.4840939}, '/g/data/rs0/tiles/EPSG3577/LS5_TM_PQ/15_-40/LS5_TM_PQ_3577_15_-40_20060929235051484094.nc')\n",
      "130\n",
      "((15, -40), 1159745911.160013, u'LANDSAT_5', u'nbar', {'xy_index': (15, -40), 'storage_type': u'ls5_nbar_albers', u'time': 1159745911.160013}, '/g/data/rs0/tiles/EPSG3577/LS5_TM_NBAR/LS5_TM_NBAR_3577_15_-40_2006.nc')\n",
      "((15, -40), 1159745911.160013, u'LANDSAT_5', u'pqa', {'xy_index': (15, -40), 'storage_type': u'ls5_pq_albers', u'time': 1159745911.160013}, '/g/data/rs0/tiles/EPSG3577/LS5_TM_PQ/15_-40/LS5_TM_PQ_3577_15_-40_20061001233831160013.nc')\n",
      "132\n",
      "((15, -40), 1160351062.454025, u'LANDSAT_5', u'nbar', {'xy_index': (15, -40), 'storage_type': u'ls5_nbar_albers', u'time': 1160351062.454025}, '/g/data/rs0/tiles/EPSG3577/LS5_TM_NBAR/LS5_TM_NBAR_3577_15_-40_2006.nc')\n",
      "((15, -40), 1160351062.454025, u'LANDSAT_5', u'pqa', {'xy_index': (15, -40), 'storage_type': u'ls5_pq_albers', u'time': 1160351062.454025}, '/g/data/rs0/tiles/EPSG3577/LS5_TM_PQ/15_-40/LS5_TM_PQ_3577_15_-40_20061008234422454025.nc')\n",
      "134\n",
      "((15, -40), 1160351086.4270189, u'LANDSAT_5', u'nbar', {'xy_index': (15, -40), 'storage_type': u'ls5_nbar_albers', u'time': 1160351086.4270189}, '/g/data/rs0/tiles/EPSG3577/LS5_TM_NBAR/LS5_TM_NBAR_3577_15_-40_2006.nc')\n",
      "((15, -40), 1160351086.4270189, u'LANDSAT_5', u'pqa', {'xy_index': (15, -40), 'storage_type': u'ls5_pq_albers', u'time': 1160351086.4270189}, '/g/data/rs0/tiles/EPSG3577/LS5_TM_PQ/15_-40/LS5_TM_PQ_3577_15_-40_20061008234446427019.nc')\n",
      "136\n",
      "((15, -40), 1160956237.3950629, u'LANDSAT_5', u'nbar', {'xy_index': (15, -40), 'storage_type': u'ls5_nbar_albers', u'time': 1160956237.3950629}, '/g/data/rs0/tiles/EPSG3577/LS5_TM_NBAR/LS5_TM_NBAR_3577_15_-40_2006.nc')\n",
      "((15, -40), 1160956237.3950629, u'LANDSAT_5', u'pqa', {'xy_index': (15, -40), 'storage_type': u'ls5_pq_albers', u'time': 1160956237.3950629}, '/g/data/rs0/tiles/EPSG3577/LS5_TM_PQ/15_-40/LS5_TM_PQ_3577_15_-40_20061015235037395063.nc')\n",
      "138\n",
      "((15, -40), 1160956261.368063, u'LANDSAT_5', u'nbar', {'xy_index': (15, -40), 'storage_type': u'ls5_nbar_albers', u'time': 1160956261.368063}, '/g/data/rs0/tiles/EPSG3577/LS5_TM_NBAR/LS5_TM_NBAR_3577_15_-40_2006.nc')\n",
      "((15, -40), 1160956261.368063, u'LANDSAT_5', u'pqa', {'xy_index': (15, -40), 'storage_type': u'ls5_pq_albers', u'time': 1160956261.368063}, '/g/data/rs0/tiles/EPSG3577/LS5_TM_PQ/15_-40/LS5_TM_PQ_3577_15_-40_20061015235101368063.nc')\n",
      "140\n",
      "((15, -40), 1161733471.7900381, u'LANDSAT_5', u'nbar', {'xy_index': (15, -40), 'storage_type': u'ls5_nbar_albers', u'time': 1161733471.7900381}, '/g/data/rs0/tiles/EPSG3577/LS5_TM_NBAR/LS5_TM_NBAR_3577_15_-40_2006.nc')\n",
      "((15, -40), 1161733471.7900381, u'LANDSAT_5', u'pqa', {'xy_index': (15, -40), 'storage_type': u'ls5_pq_albers', u'time': 1161733471.7900381}, '/g/data/rs0/tiles/EPSG3577/LS5_TM_PQ/15_-40/LS5_TM_PQ_3577_15_-40_20061024234431790038.nc')\n",
      "142\n",
      "((15, -40), 1161733495.763031, u'LANDSAT_5', u'nbar', {'xy_index': (15, -40), 'storage_type': u'ls5_nbar_albers', u'time': 1161733495.763031}, '/g/data/rs0/tiles/EPSG3577/LS5_TM_NBAR/LS5_TM_NBAR_3577_15_-40_2006.nc')\n",
      "((15, -40), 1161733495.763031, u'LANDSAT_5', u'pqa', {'xy_index': (15, -40), 'storage_type': u'ls5_pq_albers', u'time': 1161733495.763031}, '/g/data/rs0/tiles/EPSG3577/LS5_TM_PQ/15_-40/LS5_TM_PQ_3577_15_-40_20061024234455763031.nc')\n",
      "144\n",
      "((15, -40), 1162338646.538094, u'LANDSAT_5', u'nbar', {'xy_index': (15, -40), 'storage_type': u'ls5_nbar_albers', u'time': 1162338646.538094}, '/g/data/rs0/tiles/EPSG3577/LS5_TM_NBAR/LS5_TM_NBAR_3577_15_-40_2006.nc')\n",
      "((15, -40), 1162338646.538094, u'LANDSAT_5', u'pqa', {'xy_index': (15, -40), 'storage_type': u'ls5_pq_albers', u'time': 1162338646.538094}, '/g/data/rs0/tiles/EPSG3577/LS5_TM_PQ/15_-40/LS5_TM_PQ_3577_15_-40_20061031235046538094.nc')\n",
      "146\n",
      "((15, -40), 1162338670.5110879, u'LANDSAT_5', u'nbar', {'xy_index': (15, -40), 'storage_type': u'ls5_nbar_albers', u'time': 1162338670.5110879}, '/g/data/rs0/tiles/EPSG3577/LS5_TM_NBAR/LS5_TM_NBAR_3577_15_-40_2006.nc')\n",
      "((15, -40), 1162338670.5110879, u'LANDSAT_5', u'pqa', {'xy_index': (15, -40), 'storage_type': u'ls5_pq_albers', u'time': 1162338670.5110879}, '/g/data/rs0/tiles/EPSG3577/LS5_TM_PQ/15_-40/LS5_TM_PQ_3577_15_-40_20061031235110511088.nc')\n",
      "148\n",
      "((15, -40), 1163115880.637006, u'LANDSAT_5', u'nbar', {'xy_index': (15, -40), 'storage_type': u'ls5_nbar_albers', u'time': 1163115880.637006}, '/g/data/rs0/tiles/EPSG3577/LS5_TM_NBAR/LS5_TM_NBAR_3577_15_-40_2006.nc')\n",
      "((15, -40), 1163115880.637006, u'LANDSAT_5', u'pqa', {'xy_index': (15, -40), 'storage_type': u'ls5_pq_albers', u'time': 1163115880.637006}, '/g/data/rs0/tiles/EPSG3577/LS5_TM_PQ/15_-40/LS5_TM_PQ_3577_15_-40_20061109234440637006.nc')\n",
      "150\n",
      "((15, -40), 1163115904.6099999, u'LANDSAT_5', u'nbar', {'xy_index': (15, -40), 'storage_type': u'ls5_nbar_albers', u'time': 1163115904.6099999}, '/g/data/rs0/tiles/EPSG3577/LS5_TM_NBAR/LS5_TM_NBAR_3577_15_-40_2006.nc')\n",
      "((15, -40), 1163115904.6099999, u'LANDSAT_5', u'pqa', {'xy_index': (15, -40), 'storage_type': u'ls5_pq_albers', u'time': 1163115904.6099999}, '/g/data/rs0/tiles/EPSG3577/LS5_TM_PQ/15_-40/LS5_TM_PQ_3577_15_-40_20061109234504610000.nc')\n",
      "152\n",
      "((15, -40), 1163721055.1010001, u'LANDSAT_5', u'nbar', {'xy_index': (15, -40), 'storage_type': u'ls5_nbar_albers', u'time': 1163721055.1010001}, '/g/data/rs0/tiles/EPSG3577/LS5_TM_NBAR/LS5_TM_NBAR_3577_15_-40_2006.nc')\n",
      "((15, -40), 1163721055.1010001, u'LANDSAT_5', u'pqa', {'xy_index': (15, -40), 'storage_type': u'ls5_pq_albers', u'time': 1163721055.1010001}, '/g/data/rs0/tiles/EPSG3577/LS5_TM_PQ/15_-40/LS5_TM_PQ_3577_15_-40_20061116235055101000.nc')\n",
      "154\n",
      "((15, -40), 1163721079.0730879, u'LANDSAT_5', u'nbar', {'xy_index': (15, -40), 'storage_type': u'ls5_nbar_albers', u'time': 1163721079.0730879}, '/g/data/rs0/tiles/EPSG3577/LS5_TM_NBAR/LS5_TM_NBAR_3577_15_-40_2006.nc')\n",
      "((15, -40), 1163721079.0730879, u'LANDSAT_5', u'pqa', {'xy_index': (15, -40), 'storage_type': u'ls5_pq_albers', u'time': 1163721079.0730879}, '/g/data/rs0/tiles/EPSG3577/LS5_TM_PQ/15_-40/LS5_TM_PQ_3577_15_-40_20061116235119073088.nc')\n",
      "156\n",
      "((15, -40), 1163893138.4870939, u'LANDSAT_5', u'nbar', {'xy_index': (15, -40), 'storage_type': u'ls5_nbar_albers', u'time': 1163893138.4870939}, '/g/data/rs0/tiles/EPSG3577/LS5_TM_NBAR/LS5_TM_NBAR_3577_15_-40_2006.nc')\n",
      "((15, -40), 1163893138.4870939, u'LANDSAT_5', u'pqa', {'xy_index': (15, -40), 'storage_type': u'ls5_pq_albers', u'time': 1163893138.4870939}, '/g/data/rs0/tiles/EPSG3577/LS5_TM_PQ/15_-40/LS5_TM_PQ_3577_15_-40_20061118233858487094.nc')\n",
      "158\n",
      "((15, -40), 1164498289.019094, u'LANDSAT_5', u'nbar', {'xy_index': (15, -40), 'storage_type': u'ls5_nbar_albers', u'time': 1164498289.019094}, '/g/data/rs0/tiles/EPSG3577/LS5_TM_NBAR/LS5_TM_NBAR_3577_15_-40_2006.nc')\n",
      "((15, -40), 1164498289.019094, u'LANDSAT_5', u'pqa', {'xy_index': (15, -40), 'storage_type': u'ls5_pq_albers', u'time': 1164498289.019094}, '/g/data/rs0/tiles/EPSG3577/LS5_TM_PQ/15_-40/LS5_TM_PQ_3577_15_-40_20061125234449019094.nc')\n",
      "160\n",
      "((15, -40), 1164498312.9920809, u'LANDSAT_5', u'nbar', {'xy_index': (15, -40), 'storage_type': u'ls5_nbar_albers', u'time': 1164498312.9920809}, '/g/data/rs0/tiles/EPSG3577/LS5_TM_NBAR/LS5_TM_NBAR_3577_15_-40_2006.nc')\n",
      "((15, -40), 1164498312.9920809, u'LANDSAT_5', u'pqa', {'xy_index': (15, -40), 'storage_type': u'ls5_pq_albers', u'time': 1164498312.9920809}, '/g/data/rs0/tiles/EPSG3577/LS5_TM_PQ/15_-40/LS5_TM_PQ_3577_15_-40_20061125234512992081.nc')\n",
      "162\n",
      "((15, -40), 1165103463.4820881, u'LANDSAT_5', u'nbar', {'xy_index': (15, -40), 'storage_type': u'ls5_nbar_albers', u'time': 1165103463.4820881}, '/g/data/rs0/tiles/EPSG3577/LS5_TM_NBAR/LS5_TM_NBAR_3577_15_-40_2006.nc')\n",
      "((15, -40), 1165103463.4820881, u'LANDSAT_5', u'pqa', {'xy_index': (15, -40), 'storage_type': u'ls5_pq_albers', u'time': 1165103463.4820881}, '/g/data/rs0/tiles/EPSG3577/LS5_TM_PQ/15_-40/LS5_TM_PQ_3577_15_-40_20061202235103482088.nc')\n",
      "164\n",
      "((15, -40), 1165103487.455081, u'LANDSAT_5', u'nbar', {'xy_index': (15, -40), 'storage_type': u'ls5_nbar_albers', u'time': 1165103487.455081}, '/g/data/rs0/tiles/EPSG3577/LS5_TM_NBAR/LS5_TM_NBAR_3577_15_-40_2006.nc')\n",
      "((15, -40), 1165103487.455081, u'LANDSAT_5', u'pqa', {'xy_index': (15, -40), 'storage_type': u'ls5_pq_albers', u'time': 1165103487.455081}, '/g/data/rs0/tiles/EPSG3577/LS5_TM_PQ/15_-40/LS5_TM_PQ_3577_15_-40_20061202235127455081.nc')\n",
      "166\n",
      "((15, -40), 1165275546.7500751, u'LANDSAT_5', u'nbar', {'xy_index': (15, -40), 'storage_type': u'ls5_nbar_albers', u'time': 1165275546.7500751}, '/g/data/rs0/tiles/EPSG3577/LS5_TM_NBAR/LS5_TM_NBAR_3577_15_-40_2006.nc')\n",
      "((15, -40), 1165275546.7500751, u'LANDSAT_5', u'pqa', {'xy_index': (15, -40), 'storage_type': u'ls5_pq_albers', u'time': 1165275546.7500751}, '/g/data/rs0/tiles/EPSG3577/LS5_TM_PQ/15_-40/LS5_TM_PQ_3577_15_-40_20061204233906750075.nc')\n",
      "168\n",
      "((15, -40), 1166485871.293031, u'LANDSAT_5', u'nbar', {'xy_index': (15, -40), 'storage_type': u'ls5_nbar_albers', u'time': 1166485871.293031}, '/g/data/rs0/tiles/EPSG3577/LS5_TM_NBAR/LS5_TM_NBAR_3577_15_-40_2006.nc')\n",
      "((15, -40), 1166485871.293031, u'LANDSAT_5', u'pqa', {'xy_index': (15, -40), 'storage_type': u'ls5_pq_albers', u'time': 1166485871.293031}, '/g/data/rs0/tiles/EPSG3577/LS5_TM_PQ/15_-40/LS5_TM_PQ_3577_15_-40_20061218235111293031.nc')\n",
      "170\n",
      "((15, -40), 1166485895.2660191, u'LANDSAT_5', u'nbar', {'xy_index': (15, -40), 'storage_type': u'ls5_nbar_albers', u'time': 1166485895.2660191}, '/g/data/rs0/tiles/EPSG3577/LS5_TM_NBAR/LS5_TM_NBAR_3577_15_-40_2006.nc')\n",
      "((15, -40), 1166485895.2660191, u'LANDSAT_5', u'pqa', {'xy_index': (15, -40), 'storage_type': u'ls5_pq_albers', u'time': 1166485895.2660191}, '/g/data/rs0/tiles/EPSG3577/LS5_TM_PQ/15_-40/LS5_TM_PQ_3577_15_-40_20061218235135266019.nc')\n",
      "172\n",
      "((15, -40), 1167263104.4670501, u'LANDSAT_5', u'nbar', {'xy_index': (15, -40), 'storage_type': u'ls5_nbar_albers', u'time': 1167263104.4670501}, '/g/data/rs0/tiles/EPSG3577/LS5_TM_NBAR/LS5_TM_NBAR_3577_15_-40_2006.nc')\n",
      "((15, -40), 1167263104.4670501, u'LANDSAT_5', u'pqa', {'xy_index': (15, -40), 'storage_type': u'ls5_pq_albers', u'time': 1167263104.4670501}, '/g/data/rs0/tiles/EPSG3577/LS5_TM_PQ/15_-40/LS5_TM_PQ_3577_15_-40_20061227234504467050.nc')\n",
      "174\n",
      "((15, -40), 1167263128.440038, u'LANDSAT_5', u'nbar', {'xy_index': (15, -40), 'storage_type': u'ls5_nbar_albers', u'time': 1167263128.440038}, '/g/data/rs0/tiles/EPSG3577/LS5_TM_NBAR/LS5_TM_NBAR_3577_15_-40_2006.nc')\n",
      "((15, -40), 1167263128.440038, u'LANDSAT_5', u'pqa', {'xy_index': (15, -40), 'storage_type': u'ls5_pq_albers', u'time': 1167263128.440038}, '/g/data/rs0/tiles/EPSG3577/LS5_TM_PQ/15_-40/LS5_TM_PQ_3577_15_-40_20061227234528440038.nc')\n",
      "176\n",
      "((15, -40), 1357948357.4712591, u'LANDSAT_7', u'nbar', {'xy_index': (15, -40), 'storage_type': u'ls7_nbar_albers', u'time': 1357948357.4712591}, '/g/data/rs0/tiles/EPSG3577/LS7_ETM_NBAR/LS7_ETM_NBAR_3577_15_-40_2013.nc')\n",
      "((15, -40), 1357948357.4712591, u'LANDSAT_7', u'pqa', {'xy_index': (15, -40), 'storage_type': u'ls7_pq_albers', u'time': 1357948357.4712591}, '/g/data/rs0/tiles/EPSG3577/LS7_ETM_PQ/15_-40/LS7_ETM_PQ_3577_15_-40_20130111235237471259.nc')\n",
      "178\n",
      "((15, -40), 1357948381.421917, u'LANDSAT_7', u'nbar', {'xy_index': (15, -40), 'storage_type': u'ls7_nbar_albers', u'time': 1357948381.421917}, '/g/data/rs0/tiles/EPSG3577/LS7_ETM_NBAR/LS7_ETM_NBAR_3577_15_-40_2013.nc')\n",
      "((15, -40), 1357948381.421917, u'LANDSAT_7', u'pqa', {'xy_index': (15, -40), 'storage_type': u'ls7_pq_albers', u'time': 1357948381.421917}, '/g/data/rs0/tiles/EPSG3577/LS7_ETM_PQ/15_-40/LS7_ETM_PQ_3577_15_-40_20130111235301421917.nc')\n",
      "180\n",
      "((15, -40), 1360713161.026999, u'LANDSAT_7', u'nbar', {'xy_index': (15, -40), 'storage_type': u'ls7_nbar_albers', u'time': 1360713161.026999}, '/g/data/rs0/tiles/EPSG3577/LS7_ETM_NBAR/LS7_ETM_NBAR_3577_15_-40_2013.nc')\n",
      "((15, -40), 1360713161.026999, u'LANDSAT_7', u'pqa', {'xy_index': (15, -40), 'storage_type': u'ls7_pq_albers', u'time': 1360713161.026999}, '/g/data/rs0/tiles/EPSG3577/LS7_ETM_PQ/15_-40/LS7_ETM_PQ_3577_15_-40_20130212235241026999.nc')\n",
      "182\n",
      "((15, -40), 1360713184.9805529, u'LANDSAT_7', u'nbar', {'xy_index': (15, -40), 'storage_type': u'ls7_nbar_albers', u'time': 1360713184.9805529}, '/g/data/rs0/tiles/EPSG3577/LS7_ETM_NBAR/LS7_ETM_NBAR_3577_15_-40_2013.nc')\n",
      "((15, -40), 1360713184.9805529, u'LANDSAT_7', u'pqa', {'xy_index': (15, -40), 'storage_type': u'ls7_pq_albers', u'time': 1360713184.9805529}, '/g/data/rs0/tiles/EPSG3577/LS7_ETM_PQ/15_-40/LS7_ETM_PQ_3577_15_-40_20130212235304980553.nc')\n",
      "184\n",
      "((15, -40), 1360885243.0021141, u'LANDSAT_7', u'nbar', {'xy_index': (15, -40), 'storage_type': u'ls7_nbar_albers', u'time': 1360885243.0021141}, '/g/data/rs0/tiles/EPSG3577/LS7_ETM_NBAR/LS7_ETM_NBAR_3577_15_-40_2013.nc')\n",
      "((15, -40), 1360885243.0021141, u'LANDSAT_7', u'pqa', {'xy_index': (15, -40), 'storage_type': u'ls7_pq_albers', u'time': 1360885243.0021141}, '/g/data/rs0/tiles/EPSG3577/LS7_ETM_PQ/15_-40/LS7_ETM_PQ_3577_15_-40_20130214234043002114.nc')\n",
      "186\n",
      "((15, -40), 1362095581.1005001, u'LANDSAT_7', u'nbar', {'xy_index': (15, -40), 'storage_type': u'ls7_nbar_albers', u'time': 1362095581.1005001}, '/g/data/rs0/tiles/EPSG3577/LS7_ETM_NBAR/LS7_ETM_NBAR_3577_15_-40_2013.nc')\n",
      "((15, -40), 1362095581.1005001, u'LANDSAT_7', u'pqa', {'xy_index': (15, -40), 'storage_type': u'ls7_pq_albers', u'time': 1362095581.1005001}, '/g/data/rs0/tiles/EPSG3577/LS7_ETM_PQ/15_-40/LS7_ETM_PQ_3577_15_-40_20130228235301100500.nc')\n",
      "188\n",
      "((15, -40), 1363477955.859447, u'LANDSAT_7', u'nbar', {'xy_index': (15, -40), 'storage_type': u'ls7_nbar_albers', u'time': 1363477955.859447}, '/g/data/rs0/tiles/EPSG3577/LS7_ETM_NBAR/LS7_ETM_NBAR_3577_15_-40_2013.nc')\n",
      "((15, -40), 1363477955.859447, u'LANDSAT_7', u'pqa', {'xy_index': (15, -40), 'storage_type': u'ls7_pq_albers', u'time': 1363477955.859447}, '/g/data/rs0/tiles/EPSG3577/LS7_ETM_PQ/15_-40/LS7_ETM_PQ_3577_15_-40_20130316235235859447.nc')\n",
      "190\n",
      "((15, -40), 1363477979.815769, u'LANDSAT_7', u'nbar', {'xy_index': (15, -40), 'storage_type': u'ls7_nbar_albers', u'time': 1363477979.815769}, '/g/data/rs0/tiles/EPSG3577/LS7_ETM_NBAR/LS7_ETM_NBAR_3577_15_-40_2013.nc')\n",
      "((15, -40), 1363477979.815769, u'LANDSAT_7', u'pqa', {'xy_index': (15, -40), 'storage_type': u'ls7_pq_albers', u'time': 1363477979.815769}, '/g/data/rs0/tiles/EPSG3577/LS7_ETM_PQ/15_-40/LS7_ETM_PQ_3577_15_-40_20130316235259815769.nc')\n",
      "192\n",
      "((15, -40), 1364860351.5988929, u'LANDSAT_7', u'nbar', {'xy_index': (15, -40), 'storage_type': u'ls7_nbar_albers', u'time': 1364860351.5988929}, '/g/data/rs0/tiles/EPSG3577/LS7_ETM_NBAR/LS7_ETM_NBAR_3577_15_-40_2013.nc')\n",
      "((15, -40), 1364860351.5988929, u'LANDSAT_7', u'pqa', {'xy_index': (15, -40), 'storage_type': u'ls7_pq_albers', u'time': 1364860351.5988929}, '/g/data/rs0/tiles/EPSG3577/LS7_ETM_PQ/15_-40/LS7_ETM_PQ_3577_15_-40_20130401235231598893.nc')\n",
      "194\n",
      "((15, -40), 1364860375.5542741, u'LANDSAT_7', u'nbar', {'xy_index': (15, -40), 'storage_type': u'ls7_nbar_albers', u'time': 1364860375.5542741}, '/g/data/rs0/tiles/EPSG3577/LS7_ETM_NBAR/LS7_ETM_NBAR_3577_15_-40_2013.nc')\n",
      "((15, -40), 1364860375.5542741, u'LANDSAT_7', u'pqa', {'xy_index': (15, -40), 'storage_type': u'ls7_pq_albers', u'time': 1364860375.5542741}, '/g/data/rs0/tiles/EPSG3577/LS7_ETM_PQ/15_-40/LS7_ETM_PQ_3577_15_-40_20130401235255554274.nc')\n",
      "196\n",
      "Warning: missing tiles\n",
      "198\n",
      "((15, -40), 1365723995.385577, u'LANDSAT_8', u'nbar', {'xy_index': (15, -40), 'storage_type': u'ls8_nbar_albers', u'time': 1365723995.385577}, '/g/data/rs0/tiles/EPSG3577/LS8_OLI_TIRS_NBAR/LS8_OLI_TIRS_NBAR_3577_15_-40_2013.nc')\n",
      "((15, -40), 1365723995.385577, u'LANDSAT_8', u'pqa', {'xy_index': (15, -40), 'storage_type': u'ls8_pq_albers', u'time': 1365723995.385577}, '/g/data/rs0/tiles/EPSG3577/LS8_OLI_TIRS_PQ/15_-40/LS8_OLI_TIRS_PQ_3577_15_-40_20130411234635385577.nc')\n",
      "200\n",
      "((15, -40), 1366242746.6910141, u'LANDSAT_7', u'nbar', {'xy_index': (15, -40), 'storage_type': u'ls7_nbar_albers', u'time': 1366242746.6910141}, '/g/data/rs0/tiles/EPSG3577/LS7_ETM_NBAR/LS7_ETM_NBAR_3577_15_-40_2013.nc')\n",
      "((15, -40), 1366242746.6910141, u'LANDSAT_7', u'pqa', {'xy_index': (15, -40), 'storage_type': u'ls7_pq_albers', u'time': 1366242746.6910141}, '/g/data/rs0/tiles/EPSG3577/LS7_ETM_PQ/15_-40/LS7_ETM_PQ_3577_15_-40_20130417235226691014.nc')\n",
      "202\n",
      "((15, -40), 1366242770.6439071, u'LANDSAT_7', u'nbar', {'xy_index': (15, -40), 'storage_type': u'ls7_nbar_albers', u'time': 1366242770.6439071}, '/g/data/rs0/tiles/EPSG3577/LS7_ETM_NBAR/LS7_ETM_NBAR_3577_15_-40_2013.nc')\n",
      "((15, -40), 1366242770.6439071, u'LANDSAT_7', u'pqa', {'xy_index': (15, -40), 'storage_type': u'ls7_pq_albers', u'time': 1366242770.6439071}, '/g/data/rs0/tiles/EPSG3577/LS7_ETM_PQ/15_-40/LS7_ETM_PQ_3577_15_-40_20130417235250643907.nc')\n",
      "204\n",
      "((15, -40), 1366329126.1921599, u'LANDSAT_8', u'nbar', {'xy_index': (15, -40), 'storage_type': u'ls8_nbar_albers', u'time': 1366329126.1921599}, '/g/data/rs0/tiles/EPSG3577/LS8_OLI_TIRS_NBAR/LS8_OLI_TIRS_NBAR_3577_15_-40_2013.nc')\n",
      "((15, -40), 1366329126.1921599, u'LANDSAT_8', u'pqa', {'xy_index': (15, -40), 'storage_type': u'ls8_pq_albers', u'time': 1366329126.1921599}, '/g/data/rs0/tiles/EPSG3577/LS8_OLI_TIRS_PQ/15_-40/LS8_OLI_TIRS_PQ_3577_15_-40_20130418235206192160.nc')\n",
      "206\n",
      "((15, -40), 1366329150.151186, u'LANDSAT_8', u'nbar', {'xy_index': (15, -40), 'storage_type': u'ls8_nbar_albers', u'time': 1366329150.151186}, '/g/data/rs0/tiles/EPSG3577/LS8_OLI_TIRS_NBAR/LS8_OLI_TIRS_NBAR_3577_15_-40_2013.nc')\n",
      "((15, -40), 1366329150.151186, u'LANDSAT_8', u'pqa', {'xy_index': (15, -40), 'storage_type': u'ls8_pq_albers', u'time': 1366329150.151186}, '/g/data/rs0/tiles/EPSG3577/LS8_OLI_TIRS_PQ/15_-40/LS8_OLI_TIRS_PQ_3577_15_-40_20130418235230151186.nc')\n",
      "208\n",
      "((15, -40), 1366934293.932538, u'LANDSAT_8', u'nbar', {'xy_index': (15, -40), 'storage_type': u'ls8_nbar_albers', u'time': 1366934293.932538}, '/g/data/rs0/tiles/EPSG3577/LS8_OLI_TIRS_NBAR/LS8_OLI_TIRS_NBAR_3577_15_-40_2013.nc')\n",
      "((15, -40), 1366934293.932538, u'LANDSAT_8', u'pqa', {'xy_index': (15, -40), 'storage_type': u'ls8_pq_albers', u'time': 1366934293.932538}, '/g/data/rs0/tiles/EPSG3577/LS8_OLI_TIRS_PQ/15_-40/LS8_OLI_TIRS_PQ_3577_15_-40_20130425235813932538.nc')\n",
      "210\n",
      "((15, -40), 1366934317.8838191, u'LANDSAT_8', u'nbar', {'xy_index': (15, -40), 'storage_type': u'ls8_nbar_albers', u'time': 1366934317.8838191}, '/g/data/rs0/tiles/EPSG3577/LS8_OLI_TIRS_NBAR/LS8_OLI_TIRS_NBAR_3577_15_-40_2013.nc')\n",
      "((15, -40), 1366934317.8838191, u'LANDSAT_8', u'pqa', {'xy_index': (15, -40), 'storage_type': u'ls8_pq_albers', u'time': 1366934317.8838191}, '/g/data/rs0/tiles/EPSG3577/LS8_OLI_TIRS_PQ/15_-40/LS8_OLI_TIRS_PQ_3577_15_-40_20130425235837883819.nc')\n",
      "212\n",
      "((15, -40), 1367019972.511307, u'LANDSAT_7', u'nbar', {'xy_index': (15, -40), 'storage_type': u'ls7_nbar_albers', u'time': 1367019972.511307}, '/g/data/rs0/tiles/EPSG3577/LS7_ETM_NBAR/LS7_ETM_NBAR_3577_15_-40_2013.nc')\n",
      "((15, -40), 1367019972.511307, u'LANDSAT_7', u'pqa', {'xy_index': (15, -40), 'storage_type': u'ls7_pq_albers', u'time': 1367019972.511307}, '/g/data/rs0/tiles/EPSG3577/LS7_ETM_PQ/15_-40/LS7_ETM_PQ_3577_15_-40_20130426234612511307.nc')\n",
      "214\n",
      "((15, -40), 1367019996.463413, u'LANDSAT_7', u'nbar', {'xy_index': (15, -40), 'storage_type': u'ls7_nbar_albers', u'time': 1367019996.463413}, '/g/data/rs0/tiles/EPSG3577/LS7_ETM_NBAR/LS7_ETM_NBAR_3577_15_-40_2013.nc')\n",
      "((15, -40), 1367019996.463413, u'LANDSAT_7', u'pqa', {'xy_index': (15, -40), 'storage_type': u'ls7_pq_albers', u'time': 1367019996.463413}, '/g/data/rs0/tiles/EPSG3577/LS7_ETM_PQ/15_-40/LS7_ETM_PQ_3577_15_-40_20130426234636463413.nc')\n",
      "216\n",
      "((15, -40), 1369007564.277941, u'LANDSAT_7', u'nbar', {'xy_index': (15, -40), 'storage_type': u'ls7_nbar_albers', u'time': 1369007564.277941}, '/g/data/rs0/tiles/EPSG3577/LS7_ETM_NBAR/LS7_ETM_NBAR_3577_15_-40_2013.nc')\n",
      "((15, -40), 1369007564.277941, u'LANDSAT_7', u'pqa', {'xy_index': (15, -40), 'storage_type': u'ls7_pq_albers', u'time': 1369007564.277941}, '/g/data/rs0/tiles/EPSG3577/LS7_ETM_PQ/15_-40/LS7_ETM_PQ_3577_15_-40_20130519235244277941.nc')\n",
      "218\n",
      "((15, -40), 1369093939.5803599, u'LANDSAT_8', u'nbar', {'xy_index': (15, -40), 'storage_type': u'ls8_nbar_albers', u'time': 1369093939.5803599}, '/g/data/rs0/tiles/EPSG3577/LS8_OLI_TIRS_NBAR/LS8_OLI_TIRS_NBAR_3577_15_-40_2013.nc')\n",
      "((15, -40), 1369093939.5803599, u'LANDSAT_8', u'pqa', {'xy_index': (15, -40), 'storage_type': u'ls8_pq_albers', u'time': 1369093939.5803599}, '/g/data/rs0/tiles/EPSG3577/LS8_OLI_TIRS_PQ/15_-40/LS8_OLI_TIRS_PQ_3577_15_-40_20130520235219580360.nc')\n",
      "220\n",
      "((15, -40), 1369093963.534436, u'LANDSAT_8', u'nbar', {'xy_index': (15, -40), 'storage_type': u'ls8_nbar_albers', u'time': 1369093963.534436}, '/g/data/rs0/tiles/EPSG3577/LS8_OLI_TIRS_NBAR/LS8_OLI_TIRS_NBAR_3577_15_-40_2013.nc')\n",
      "((15, -40), 1369093963.534436, u'LANDSAT_8', u'pqa', {'xy_index': (15, -40), 'storage_type': u'ls8_pq_albers', u'time': 1369093963.534436}, '/g/data/rs0/tiles/EPSG3577/LS8_OLI_TIRS_PQ/15_-40/LS8_OLI_TIRS_PQ_3577_15_-40_20130520235243534436.nc')\n",
      "222\n",
      "((15, -40), 1369699112.04743, u'LANDSAT_8', u'nbar', {'xy_index': (15, -40), 'storage_type': u'ls8_nbar_albers', u'time': 1369699112.04743}, '/g/data/rs0/tiles/EPSG3577/LS8_OLI_TIRS_NBAR/LS8_OLI_TIRS_NBAR_3577_15_-40_2013.nc')\n",
      "((15, -40), 1369699112.04743, u'LANDSAT_8', u'pqa', {'xy_index': (15, -40), 'storage_type': u'ls8_pq_albers', u'time': 1369699112.04743}, '/g/data/rs0/tiles/EPSG3577/LS8_OLI_TIRS_PQ/15_-40/LS8_OLI_TIRS_PQ_3577_15_-40_20130527235832047430.nc')\n",
      "224\n",
      "((15, -40), 1369699135.993423, u'LANDSAT_8', u'nbar', {'xy_index': (15, -40), 'storage_type': u'ls8_nbar_albers', u'time': 1369699135.993423}, '/g/data/rs0/tiles/EPSG3577/LS8_OLI_TIRS_NBAR/LS8_OLI_TIRS_NBAR_3577_15_-40_2013.nc')\n",
      "((15, -40), 1369699135.993423, u'LANDSAT_8', u'pqa', {'xy_index': (15, -40), 'storage_type': u'ls8_pq_albers', u'time': 1369699135.993423}, '/g/data/rs0/tiles/EPSG3577/LS8_OLI_TIRS_PQ/15_-40/LS8_OLI_TIRS_PQ_3577_15_-40_20130527235855993423.nc')\n",
      "226\n",
      "((15, -40), 1370389929.8952291, u'LANDSAT_7', u'nbar', {'xy_index': (15, -40), 'storage_type': u'ls7_nbar_albers', u'time': 1370389929.8952291}, '/g/data/rs0/tiles/EPSG3577/LS7_ETM_NBAR/LS7_ETM_NBAR_3577_15_-40_2013.nc')\n",
      "((15, -40), 1370389929.8952291, u'LANDSAT_7', u'pqa', {'xy_index': (15, -40), 'storage_type': u'ls7_pq_albers', u'time': 1370389929.8952291}, '/g/data/rs0/tiles/EPSG3577/LS7_ETM_PQ/15_-40/LS7_ETM_PQ_3577_15_-40_20130604235209895229.nc')\n",
      "228\n",
      "((15, -40), 1370389953.8490231, u'LANDSAT_7', u'nbar', {'xy_index': (15, -40), 'storage_type': u'ls7_nbar_albers', u'time': 1370389953.8490231}, '/g/data/rs0/tiles/EPSG3577/LS7_ETM_NBAR/LS7_ETM_NBAR_3577_15_-40_2013.nc')\n",
      "((15, -40), 1370389953.8490231, u'LANDSAT_7', u'pqa', {'xy_index': (15, -40), 'storage_type': u'ls7_pq_albers', u'time': 1370389953.8490231}, '/g/data/rs0/tiles/EPSG3577/LS7_ETM_PQ/15_-40/LS7_ETM_PQ_3577_15_-40_20130604235233849023.nc')\n",
      "230\n",
      "((15, -40), 1370476340.23172, u'LANDSAT_8', u'nbar', {'xy_index': (15, -40), 'storage_type': u'ls8_nbar_albers', u'time': 1370476340.23172}, '/g/data/rs0/tiles/EPSG3577/LS8_OLI_TIRS_NBAR/LS8_OLI_TIRS_NBAR_3577_15_-40_2013.nc')\n",
      "((15, -40), 1370476340.23172, u'LANDSAT_8', u'pqa', {'xy_index': (15, -40), 'storage_type': u'ls8_pq_albers', u'time': 1370476340.23172}, '/g/data/rs0/tiles/EPSG3577/LS8_OLI_TIRS_PQ/15_-40/LS8_OLI_TIRS_PQ_3577_15_-40_20130605235220231720.nc')\n",
      "232\n",
      "((15, -40), 1370476364.1824801, u'LANDSAT_8', u'nbar', {'xy_index': (15, -40), 'storage_type': u'ls8_nbar_albers', u'time': 1370476364.1824801}, '/g/data/rs0/tiles/EPSG3577/LS8_OLI_TIRS_NBAR/LS8_OLI_TIRS_NBAR_3577_15_-40_2013.nc')\n",
      "((15, -40), 1370476364.1824801, u'LANDSAT_8', u'pqa', {'xy_index': (15, -40), 'storage_type': u'ls8_pq_albers', u'time': 1370476364.1824801}, '/g/data/rs0/tiles/EPSG3577/LS8_OLI_TIRS_PQ/15_-40/LS8_OLI_TIRS_PQ_3577_15_-40_20130605235244182480.nc')\n",
      "234\n",
      "((15, -40), 1371081508.2636759, u'LANDSAT_8', u'nbar', {'xy_index': (15, -40), 'storage_type': u'ls8_nbar_albers', u'time': 1371081508.2636759}, '/g/data/rs0/tiles/EPSG3577/LS8_OLI_TIRS_NBAR/LS8_OLI_TIRS_NBAR_3577_15_-40_2013.nc')\n",
      "((15, -40), 1371081508.2636759, u'LANDSAT_8', u'pqa', {'xy_index': (15, -40), 'storage_type': u'ls8_pq_albers', u'time': 1371081508.2636759}, '/g/data/rs0/tiles/EPSG3577/LS8_OLI_TIRS_PQ/15_-40/LS8_OLI_TIRS_PQ_3577_15_-40_20130612235828263676.nc')\n",
      "236\n",
      "((15, -40), 1371081532.2144761, u'LANDSAT_8', u'nbar', {'xy_index': (15, -40), 'storage_type': u'ls8_nbar_albers', u'time': 1371081532.2144761}, '/g/data/rs0/tiles/EPSG3577/LS8_OLI_TIRS_NBAR/LS8_OLI_TIRS_NBAR_3577_15_-40_2013.nc')\n",
      "((15, -40), 1371081532.2144761, u'LANDSAT_8', u'pqa', {'xy_index': (15, -40), 'storage_type': u'ls8_pq_albers', u'time': 1371081532.2144761}, '/g/data/rs0/tiles/EPSG3577/LS8_OLI_TIRS_PQ/15_-40/LS8_OLI_TIRS_PQ_3577_15_-40_20130612235852214476.nc')\n",
      "238\n",
      "((15, -40), 1371253589.5699601, u'LANDSAT_8', u'nbar', {'xy_index': (15, -40), 'storage_type': u'ls8_nbar_albers', u'time': 1371253589.5699601}, '/g/data/rs0/tiles/EPSG3577/LS8_OLI_TIRS_NBAR/LS8_OLI_TIRS_NBAR_3577_15_-40_2013.nc')\n",
      "((15, -40), 1371253589.5699601, u'LANDSAT_8', u'pqa', {'xy_index': (15, -40), 'storage_type': u'ls8_pq_albers', u'time': 1371253589.5699601}, '/g/data/rs0/tiles/EPSG3577/LS8_OLI_TIRS_PQ/15_-40/LS8_OLI_TIRS_PQ_3577_15_-40_20130614234629569960.nc')\n",
      "240\n",
      "((15, -40), 1371772326.416476, u'LANDSAT_7', u'nbar', {'xy_index': (15, -40), 'storage_type': u'ls7_nbar_albers', u'time': 1371772326.416476}, '/g/data/rs0/tiles/EPSG3577/LS7_ETM_NBAR/LS7_ETM_NBAR_3577_15_-40_2013.nc')\n",
      "((15, -40), 1371772326.416476, u'LANDSAT_7', u'pqa', {'xy_index': (15, -40), 'storage_type': u'ls7_pq_albers', u'time': 1371772326.416476}, '/g/data/rs0/tiles/EPSG3577/LS7_ETM_PQ/15_-40/LS7_ETM_PQ_3577_15_-40_20130620235206416476.nc')\n",
      "242\n",
      "((15, -40), 1371772350.3721609, u'LANDSAT_7', u'nbar', {'xy_index': (15, -40), 'storage_type': u'ls7_nbar_albers', u'time': 1371772350.3721609}, '/g/data/rs0/tiles/EPSG3577/LS7_ETM_NBAR/LS7_ETM_NBAR_3577_15_-40_2013.nc')\n",
      "((15, -40), 1371772350.3721609, u'LANDSAT_7', u'pqa', {'xy_index': (15, -40), 'storage_type': u'ls7_pq_albers', u'time': 1371772350.3721609}, '/g/data/rs0/tiles/EPSG3577/LS7_ETM_PQ/15_-40/LS7_ETM_PQ_3577_15_-40_20130620235230372161.nc')\n",
      "244\n",
      "((15, -40), 1371858732.341013, u'LANDSAT_8', u'nbar', {'xy_index': (15, -40), 'storage_type': u'ls8_nbar_albers', u'time': 1371858732.341013}, '/g/data/rs0/tiles/EPSG3577/LS8_OLI_TIRS_NBAR/LS8_OLI_TIRS_NBAR_3577_15_-40_2013.nc')\n",
      "((15, -40), 1371858732.341013, u'LANDSAT_8', u'pqa', {'xy_index': (15, -40), 'storage_type': u'ls8_pq_albers', u'time': 1371858732.341013}, '/g/data/rs0/tiles/EPSG3577/LS8_OLI_TIRS_PQ/15_-40/LS8_OLI_TIRS_PQ_3577_15_-40_20130621235212341013.nc')\n",
      "246\n",
      "((15, -40), 1371858756.295809, u'LANDSAT_8', u'nbar', {'xy_index': (15, -40), 'storage_type': u'ls8_nbar_albers', u'time': 1371858756.295809}, '/g/data/rs0/tiles/EPSG3577/LS8_OLI_TIRS_NBAR/LS8_OLI_TIRS_NBAR_3577_15_-40_2013.nc')\n",
      "((15, -40), 1371858756.295809, u'LANDSAT_8', u'pqa', {'xy_index': (15, -40), 'storage_type': u'ls8_pq_albers', u'time': 1371858756.295809}, '/g/data/rs0/tiles/EPSG3577/LS8_OLI_TIRS_PQ/15_-40/LS8_OLI_TIRS_PQ_3577_15_-40_20130621235236295809.nc')\n",
      "248\n",
      "((15, -40), 1372463906.2154429, u'LANDSAT_8', u'nbar', {'xy_index': (15, -40), 'storage_type': u'ls8_nbar_albers', u'time': 1372463906.2154429}, '/g/data/rs0/tiles/EPSG3577/LS8_OLI_TIRS_NBAR/LS8_OLI_TIRS_NBAR_3577_15_-40_2013.nc')\n",
      "((15, -40), 1372463906.2154429, u'LANDSAT_8', u'pqa', {'xy_index': (15, -40), 'storage_type': u'ls8_pq_albers', u'time': 1372463906.2154429}, '/g/data/rs0/tiles/EPSG3577/LS8_OLI_TIRS_PQ/15_-40/LS8_OLI_TIRS_PQ_3577_15_-40_20130628235826215443.nc')\n",
      "250\n",
      "((15, -40), 1372463930.1676941, u'LANDSAT_8', u'nbar', {'xy_index': (15, -40), 'storage_type': u'ls8_nbar_albers', u'time': 1372463930.1676941}, '/g/data/rs0/tiles/EPSG3577/LS8_OLI_TIRS_NBAR/LS8_OLI_TIRS_NBAR_3577_15_-40_2013.nc')\n",
      "((15, -40), 1372463930.1676941, u'LANDSAT_8', u'pqa', {'xy_index': (15, -40), 'storage_type': u'ls8_pq_albers', u'time': 1372463930.1676941}, '/g/data/rs0/tiles/EPSG3577/LS8_OLI_TIRS_PQ/15_-40/LS8_OLI_TIRS_PQ_3577_15_-40_20130628235850167694.nc')\n",
      "252\n",
      "((15, -40), 1372635989.124824, u'LANDSAT_8', u'nbar', {'xy_index': (15, -40), 'storage_type': u'ls8_nbar_albers', u'time': 1372635989.124824}, '/g/data/rs0/tiles/EPSG3577/LS8_OLI_TIRS_NBAR/LS8_OLI_TIRS_NBAR_3577_15_-40_2013.nc')\n",
      "((15, -40), 1372635989.124824, u'LANDSAT_8', u'pqa', {'xy_index': (15, -40), 'storage_type': u'ls8_pq_albers', u'time': 1372635989.124824}, '/g/data/rs0/tiles/EPSG3577/LS8_OLI_TIRS_PQ/15_-40/LS8_OLI_TIRS_PQ_3577_15_-40_20130630234629124824.nc')\n",
      "254\n",
      "((15, -40), 1373154715.662879, u'LANDSAT_7', u'nbar', {'xy_index': (15, -40), 'storage_type': u'ls7_nbar_albers', u'time': 1373154715.662879}, '/g/data/rs0/tiles/EPSG3577/LS7_ETM_NBAR/LS7_ETM_NBAR_3577_15_-40_2013.nc')\n",
      "((15, -40), 1373154715.662879, u'LANDSAT_7', u'pqa', {'xy_index': (15, -40), 'storage_type': u'ls7_pq_albers', u'time': 1373154715.662879}, '/g/data/rs0/tiles/EPSG3577/LS7_ETM_PQ/15_-40/LS7_ETM_PQ_3577_15_-40_20130706235155662879.nc')\n",
      "256\n",
      "((15, -40), 1373154739.619463, u'LANDSAT_7', u'nbar', {'xy_index': (15, -40), 'storage_type': u'ls7_nbar_albers', u'time': 1373154739.619463}, '/g/data/rs0/tiles/EPSG3577/LS7_ETM_NBAR/LS7_ETM_NBAR_3577_15_-40_2013.nc')\n",
      "((15, -40), 1373154739.619463, u'LANDSAT_7', u'pqa', {'xy_index': (15, -40), 'storage_type': u'ls7_pq_albers', u'time': 1373154739.619463}, '/g/data/rs0/tiles/EPSG3577/LS7_ETM_PQ/15_-40/LS7_ETM_PQ_3577_15_-40_20130706235219619463.nc')\n",
      "258\n",
      "((15, -40), 1373241137.207948, u'LANDSAT_8', u'nbar', {'xy_index': (15, -40), 'storage_type': u'ls8_nbar_albers', u'time': 1373241137.207948}, '/g/data/rs0/tiles/EPSG3577/LS8_OLI_TIRS_NBAR/LS8_OLI_TIRS_NBAR_3577_15_-40_2013.nc')\n",
      "((15, -40), 1373241137.207948, u'LANDSAT_8', u'pqa', {'xy_index': (15, -40), 'storage_type': u'ls8_pq_albers', u'time': 1373241137.207948}, '/g/data/rs0/tiles/EPSG3577/LS8_OLI_TIRS_PQ/15_-40/LS8_OLI_TIRS_PQ_3577_15_-40_20130707235217207948.nc')\n",
      "260\n",
      "((15, -40), 1373241161.1597929, u'LANDSAT_8', u'nbar', {'xy_index': (15, -40), 'storage_type': u'ls8_nbar_albers', u'time': 1373241161.1597929}, '/g/data/rs0/tiles/EPSG3577/LS8_OLI_TIRS_NBAR/LS8_OLI_TIRS_NBAR_3577_15_-40_2013.nc')\n",
      "((15, -40), 1373241161.1597929, u'LANDSAT_8', u'pqa', {'xy_index': (15, -40), 'storage_type': u'ls8_pq_albers', u'time': 1373241161.1597929}, '/g/data/rs0/tiles/EPSG3577/LS8_OLI_TIRS_PQ/15_-40/LS8_OLI_TIRS_PQ_3577_15_-40_20130707235241159793.nc')\n",
      "262\n",
      "((15, -40), 1373326796.1645319, u'LANDSAT_7', u'nbar', {'xy_index': (15, -40), 'storage_type': u'ls7_nbar_albers', u'time': 1373326796.1645319}, '/g/data/rs0/tiles/EPSG3577/LS7_ETM_NBAR/LS7_ETM_NBAR_3577_15_-40_2013.nc')\n",
      "((15, -40), 1373326796.1645319, u'LANDSAT_7', u'pqa', {'xy_index': (15, -40), 'storage_type': u'ls7_pq_albers', u'time': 1373326796.1645319}, '/g/data/rs0/tiles/EPSG3577/LS7_ETM_PQ/15_-40/LS7_ETM_PQ_3577_15_-40_20130708233956164532.nc')\n",
      "264\n",
      "((15, -40), 1373846307.6353159, u'LANDSAT_8', u'nbar', {'xy_index': (15, -40), 'storage_type': u'ls8_nbar_albers', u'time': 1373846307.6353159}, '/g/data/rs0/tiles/EPSG3577/LS8_OLI_TIRS_NBAR/LS8_OLI_TIRS_NBAR_3577_15_-40_2013.nc')\n",
      "((15, -40), 1373846307.6353159, u'LANDSAT_8', u'pqa', {'xy_index': (15, -40), 'storage_type': u'ls8_pq_albers', u'time': 1373846307.6353159}, '/g/data/rs0/tiles/EPSG3577/LS8_OLI_TIRS_PQ/15_-40/LS8_OLI_TIRS_PQ_3577_15_-40_20130714235827635316.nc')\n",
      "266\n",
      "((15, -40), 1373846331.590035, u'LANDSAT_8', u'nbar', {'xy_index': (15, -40), 'storage_type': u'ls8_nbar_albers', u'time': 1373846331.590035}, '/g/data/rs0/tiles/EPSG3577/LS8_OLI_TIRS_NBAR/LS8_OLI_TIRS_NBAR_3577_15_-40_2013.nc')\n",
      "((15, -40), 1373846331.590035, u'LANDSAT_8', u'pqa', {'xy_index': (15, -40), 'storage_type': u'ls8_pq_albers', u'time': 1373846331.590035}, '/g/data/rs0/tiles/EPSG3577/LS8_OLI_TIRS_PQ/15_-40/LS8_OLI_TIRS_PQ_3577_15_-40_20130714235851590035.nc')\n",
      "268\n",
      "((15, -40), 1373931964.7693629, u'LANDSAT_7', u'nbar', {'xy_index': (15, -40), 'storage_type': u'ls7_nbar_albers', u'time': 1373931964.7693629}, '/g/data/rs0/tiles/EPSG3577/LS7_ETM_NBAR/LS7_ETM_NBAR_3577_15_-40_2013.nc')\n",
      "((15, -40), 1373931964.7693629, u'LANDSAT_7', u'pqa', {'xy_index': (15, -40), 'storage_type': u'ls7_pq_albers', u'time': 1373931964.7693629}, '/g/data/rs0/tiles/EPSG3577/LS7_ETM_PQ/15_-40/LS7_ETM_PQ_3577_15_-40_20130715234604769363.nc')\n",
      "270\n",
      "((15, -40), 1374018389.532136, u'LANDSAT_8', u'nbar', {'xy_index': (15, -40), 'storage_type': u'ls8_nbar_albers', u'time': 1374018389.532136}, '/g/data/rs0/tiles/EPSG3577/LS8_OLI_TIRS_NBAR/LS8_OLI_TIRS_NBAR_3577_15_-40_2013.nc')\n",
      "((15, -40), 1374018389.532136, u'LANDSAT_8', u'pqa', {'xy_index': (15, -40), 'storage_type': u'ls8_pq_albers', u'time': 1374018389.532136}, '/g/data/rs0/tiles/EPSG3577/LS8_OLI_TIRS_PQ/15_-40/LS8_OLI_TIRS_PQ_3577_15_-40_20130716234629532136.nc')\n",
      "272\n",
      "((15, -40), 1374537132.4825521, u'LANDSAT_7', u'nbar', {'xy_index': (15, -40), 'storage_type': u'ls7_nbar_albers', u'time': 1374537132.4825521}, '/g/data/rs0/tiles/EPSG3577/LS7_ETM_NBAR/LS7_ETM_NBAR_3577_15_-40_2013.nc')\n",
      "((15, -40), 1374537132.4825521, u'LANDSAT_7', u'pqa', {'xy_index': (15, -40), 'storage_type': u'ls7_pq_albers', u'time': 1374537132.4825521}, '/g/data/rs0/tiles/EPSG3577/LS7_ETM_PQ/15_-40/LS7_ETM_PQ_3577_15_-40_20130722235212482552.nc')\n",
      "274\n",
      "((15, -40), 1374623535.9138401, u'LANDSAT_8', u'nbar', {'xy_index': (15, -40), 'storage_type': u'ls8_nbar_albers', u'time': 1374623535.9138401}, '/g/data/rs0/tiles/EPSG3577/LS8_OLI_TIRS_NBAR/LS8_OLI_TIRS_NBAR_3577_15_-40_2013.nc')\n",
      "((15, -40), 1374623535.9138401, u'LANDSAT_8', u'pqa', {'xy_index': (15, -40), 'storage_type': u'ls8_pq_albers', u'time': 1374623535.9138401}, '/g/data/rs0/tiles/EPSG3577/LS8_OLI_TIRS_PQ/15_-40/LS8_OLI_TIRS_PQ_3577_15_-40_20130723235215913840.nc')\n",
      "276\n",
      "((15, -40), 1374623559.8683231, u'LANDSAT_8', u'nbar', {'xy_index': (15, -40), 'storage_type': u'ls8_nbar_albers', u'time': 1374623559.8683231}, '/g/data/rs0/tiles/EPSG3577/LS8_OLI_TIRS_NBAR/LS8_OLI_TIRS_NBAR_3577_15_-40_2013.nc')\n",
      "((15, -40), 1374623559.8683231, u'LANDSAT_8', u'pqa', {'xy_index': (15, -40), 'storage_type': u'ls8_pq_albers', u'time': 1374623559.8683231}, '/g/data/rs0/tiles/EPSG3577/LS8_OLI_TIRS_PQ/15_-40/LS8_OLI_TIRS_PQ_3577_15_-40_20130723235239868323.nc')\n",
      "278\n",
      "((15, -40), 1374709189.7630489, u'LANDSAT_7', u'nbar', {'xy_index': (15, -40), 'storage_type': u'ls7_nbar_albers', u'time': 1374709189.7630489}, '/g/data/rs0/tiles/EPSG3577/LS7_ETM_NBAR/LS7_ETM_NBAR_3577_15_-40_2013.nc')\n",
      "((15, -40), 1374709189.7630489, u'LANDSAT_7', u'pqa', {'xy_index': (15, -40), 'storage_type': u'ls7_pq_albers', u'time': 1374709189.7630489}, '/g/data/rs0/tiles/EPSG3577/LS7_ETM_PQ/15_-40/LS7_ETM_PQ_3577_15_-40_20130724233949763049.nc')\n",
      "280\n",
      "((15, -40), 1375228708.7019849, u'LANDSAT_8', u'nbar', {'xy_index': (15, -40), 'storage_type': u'ls8_nbar_albers', u'time': 1375228708.7019849}, '/g/data/rs0/tiles/EPSG3577/LS8_OLI_TIRS_NBAR/LS8_OLI_TIRS_NBAR_3577_15_-40_2013.nc')\n",
      "((15, -40), 1375228708.7019849, u'LANDSAT_8', u'pqa', {'xy_index': (15, -40), 'storage_type': u'ls8_pq_albers', u'time': 1375228708.7019849}, '/g/data/rs0/tiles/EPSG3577/LS8_OLI_TIRS_PQ/15_-40/LS8_OLI_TIRS_PQ_3577_15_-40_20130730235828701985.nc')\n",
      "282\n",
      "((15, -40), 1375228732.659719, u'LANDSAT_8', u'nbar', {'xy_index': (15, -40), 'storage_type': u'ls8_nbar_albers', u'time': 1375228732.659719}, '/g/data/rs0/tiles/EPSG3577/LS8_OLI_TIRS_NBAR/LS8_OLI_TIRS_NBAR_3577_15_-40_2013.nc')\n",
      "((15, -40), 1375228732.659719, u'LANDSAT_8', u'pqa', {'xy_index': (15, -40), 'storage_type': u'ls8_pq_albers', u'time': 1375228732.659719}, '/g/data/rs0/tiles/EPSG3577/LS8_OLI_TIRS_PQ/15_-40/LS8_OLI_TIRS_PQ_3577_15_-40_20130730235852659719.nc')\n",
      "284\n",
      "((15, -40), 1375314333.0051191, u'LANDSAT_7', u'nbar', {'xy_index': (15, -40), 'storage_type': u'ls7_nbar_albers', u'time': 1375314333.0051191}, '/g/data/rs0/tiles/EPSG3577/LS7_ETM_NBAR/LS7_ETM_NBAR_3577_15_-40_2013.nc')\n",
      "((15, -40), 1375314333.0051191, u'LANDSAT_7', u'pqa', {'xy_index': (15, -40), 'storage_type': u'ls7_pq_albers', u'time': 1375314333.0051191}, '/g/data/rs0/tiles/EPSG3577/LS7_ETM_PQ/15_-40/LS7_ETM_PQ_3577_15_-40_20130731234533005119.nc')\n",
      "286\n",
      "((15, -40), 1375314356.9600079, u'LANDSAT_7', u'nbar', {'xy_index': (15, -40), 'storage_type': u'ls7_nbar_albers', u'time': 1375314356.9600079}, '/g/data/rs0/tiles/EPSG3577/LS7_ETM_NBAR/LS7_ETM_NBAR_3577_15_-40_2013.nc')\n",
      "((15, -40), 1375314356.9600079, u'LANDSAT_7', u'pqa', {'xy_index': (15, -40), 'storage_type': u'ls7_pq_albers', u'time': 1375314356.9600079}, '/g/data/rs0/tiles/EPSG3577/LS7_ETM_PQ/15_-40/LS7_ETM_PQ_3577_15_-40_20130731234556960008.nc')\n",
      "288\n",
      "((15, -40), 1375400791.395762, u'LANDSAT_8', u'nbar', {'xy_index': (15, -40), 'storage_type': u'ls8_nbar_albers', u'time': 1375400791.395762}, '/g/data/rs0/tiles/EPSG3577/LS8_OLI_TIRS_NBAR/LS8_OLI_TIRS_NBAR_3577_15_-40_2013.nc')\n",
      "((15, -40), 1375400791.395762, u'LANDSAT_8', u'pqa', {'xy_index': (15, -40), 'storage_type': u'ls8_pq_albers', u'time': 1375400791.395762}, '/g/data/rs0/tiles/EPSG3577/LS8_OLI_TIRS_PQ/15_-40/LS8_OLI_TIRS_PQ_3577_15_-40_20130801234631395762.nc')\n",
      "290\n",
      "((15, -40), 1375919501.378099, u'LANDSAT_7', u'nbar', {'xy_index': (15, -40), 'storage_type': u'ls7_nbar_albers', u'time': 1375919501.378099}, '/g/data/rs0/tiles/EPSG3577/LS7_ETM_NBAR/LS7_ETM_NBAR_3577_15_-40_2013.nc')\n",
      "((15, -40), 1375919501.378099, u'LANDSAT_7', u'pqa', {'xy_index': (15, -40), 'storage_type': u'ls7_pq_albers', u'time': 1375919501.378099}, '/g/data/rs0/tiles/EPSG3577/LS7_ETM_PQ/15_-40/LS7_ETM_PQ_3577_15_-40_20130807235141378099.nc')\n",
      "292\n",
      "((15, -40), 1375919525.3318191, u'LANDSAT_7', u'nbar', {'xy_index': (15, -40), 'storage_type': u'ls7_nbar_albers', u'time': 1375919525.3318191}, '/g/data/rs0/tiles/EPSG3577/LS7_ETM_NBAR/LS7_ETM_NBAR_3577_15_-40_2013.nc')\n",
      "((15, -40), 1375919525.3318191, u'LANDSAT_7', u'pqa', {'xy_index': (15, -40), 'storage_type': u'ls7_pq_albers', u'time': 1375919525.3318191}, '/g/data/rs0/tiles/EPSG3577/LS7_ETM_PQ/15_-40/LS7_ETM_PQ_3577_15_-40_20130807235205331819.nc')\n",
      "294\n",
      "((15, -40), 1376005938.684865, u'LANDSAT_8', u'nbar', {'xy_index': (15, -40), 'storage_type': u'ls8_nbar_albers', u'time': 1376005938.684865}, '/g/data/rs0/tiles/EPSG3577/LS8_OLI_TIRS_NBAR/LS8_OLI_TIRS_NBAR_3577_15_-40_2013.nc')\n",
      "((15, -40), 1376005938.684865, u'LANDSAT_8', u'pqa', {'xy_index': (15, -40), 'storage_type': u'ls8_pq_albers', u'time': 1376005938.684865}, '/g/data/rs0/tiles/EPSG3577/LS8_OLI_TIRS_PQ/15_-40/LS8_OLI_TIRS_PQ_3577_15_-40_20130808235218684865.nc')\n",
      "296\n",
      "((15, -40), 1376005962.6416459, u'LANDSAT_8', u'nbar', {'xy_index': (15, -40), 'storage_type': u'ls8_nbar_albers', u'time': 1376005962.6416459}, '/g/data/rs0/tiles/EPSG3577/LS8_OLI_TIRS_NBAR/LS8_OLI_TIRS_NBAR_3577_15_-40_2013.nc')\n",
      "((15, -40), 1376005962.6416459, u'LANDSAT_8', u'pqa', {'xy_index': (15, -40), 'storage_type': u'ls8_pq_albers', u'time': 1376005962.6416459}, '/g/data/rs0/tiles/EPSG3577/LS8_OLI_TIRS_PQ/15_-40/LS8_OLI_TIRS_PQ_3577_15_-40_20130808235242641646.nc')\n",
      "298\n",
      "((15, -40), 1376091583.13659, u'LANDSAT_7', u'nbar', {'xy_index': (15, -40), 'storage_type': u'ls7_nbar_albers', u'time': 1376091583.13659}, '/g/data/rs0/tiles/EPSG3577/LS7_ETM_NBAR/LS7_ETM_NBAR_3577_15_-40_2013.nc')\n",
      "((15, -40), 1376091583.13659, u'LANDSAT_7', u'pqa', {'xy_index': (15, -40), 'storage_type': u'ls7_pq_albers', u'time': 1376091583.13659}, '/g/data/rs0/tiles/EPSG3577/LS7_ETM_PQ/15_-40/LS7_ETM_PQ_3577_15_-40_20130809233943136590.nc')\n",
      "300\n",
      "((15, -40), 1376611108.9802639, u'LANDSAT_8', u'nbar', {'xy_index': (15, -40), 'storage_type': u'ls8_nbar_albers', u'time': 1376611108.9802639}, '/g/data/rs0/tiles/EPSG3577/LS8_OLI_TIRS_NBAR/LS8_OLI_TIRS_NBAR_3577_15_-40_2013.nc')\n",
      "((15, -40), 1376611108.9802639, u'LANDSAT_8', u'pqa', {'xy_index': (15, -40), 'storage_type': u'ls8_pq_albers', u'time': 1376611108.9802639}, '/g/data/rs0/tiles/EPSG3577/LS8_OLI_TIRS_PQ/15_-40/LS8_OLI_TIRS_PQ_3577_15_-40_20130815235828980264.nc')\n",
      "302\n",
      "((15, -40), 1376611132.9388199, u'LANDSAT_8', u'nbar', {'xy_index': (15, -40), 'storage_type': u'ls8_nbar_albers', u'time': 1376611132.9388199}, '/g/data/rs0/tiles/EPSG3577/LS8_OLI_TIRS_NBAR/LS8_OLI_TIRS_NBAR_3577_15_-40_2013.nc')\n",
      "((15, -40), 1376611132.9388199, u'LANDSAT_8', u'pqa', {'xy_index': (15, -40), 'storage_type': u'ls8_pq_albers', u'time': 1376611132.9388199}, '/g/data/rs0/tiles/EPSG3577/LS8_OLI_TIRS_PQ/15_-40/LS8_OLI_TIRS_PQ_3577_15_-40_20130815235852938820.nc')\n",
      "304\n",
      "((15, -40), 1376696736.093751, u'LANDSAT_7', u'nbar', {'xy_index': (15, -40), 'storage_type': u'ls7_nbar_albers', u'time': 1376696736.093751}, '/g/data/rs0/tiles/EPSG3577/LS7_ETM_NBAR/LS7_ETM_NBAR_3577_15_-40_2013.nc')\n",
      "((15, -40), 1376696736.093751, u'LANDSAT_7', u'pqa', {'xy_index': (15, -40), 'storage_type': u'ls7_pq_albers', u'time': 1376696736.093751}, '/g/data/rs0/tiles/EPSG3577/LS7_ETM_PQ/15_-40/LS7_ETM_PQ_3577_15_-40_20130816234536093751.nc')\n",
      "306\n",
      "((15, -40), 1376696760.0467539, u'LANDSAT_7', u'nbar', {'xy_index': (15, -40), 'storage_type': u'ls7_nbar_albers', u'time': 1376696760.0467539}, '/g/data/rs0/tiles/EPSG3577/LS7_ETM_NBAR/LS7_ETM_NBAR_3577_15_-40_2013.nc')\n",
      "((15, -40), 1376696760.0467539, u'LANDSAT_7', u'pqa', {'xy_index': (15, -40), 'storage_type': u'ls7_pq_albers', u'time': 1376696760.0467539}, '/g/data/rs0/tiles/EPSG3577/LS7_ETM_PQ/15_-40/LS7_ETM_PQ_3577_15_-40_20130816234600046754.nc')\n",
      "308\n",
      "((15, -40), 1376783192.134294, u'LANDSAT_8', u'nbar', {'xy_index': (15, -40), 'storage_type': u'ls8_nbar_albers', u'time': 1376783192.134294}, '/g/data/rs0/tiles/EPSG3577/LS8_OLI_TIRS_NBAR/LS8_OLI_TIRS_NBAR_3577_15_-40_2013.nc')\n",
      "((15, -40), 1376783192.134294, u'LANDSAT_8', u'pqa', {'xy_index': (15, -40), 'storage_type': u'ls8_pq_albers', u'time': 1376783192.134294}, '/g/data/rs0/tiles/EPSG3577/LS8_OLI_TIRS_PQ/15_-40/LS8_OLI_TIRS_PQ_3577_15_-40_20130817234632134294.nc')\n",
      "310\n",
      "((15, -40), 1377301935.594821, u'LANDSAT_7', u'nbar', {'xy_index': (15, -40), 'storage_type': u'ls7_nbar_albers', u'time': 1377301935.594821}, '/g/data/rs0/tiles/EPSG3577/LS7_ETM_NBAR/LS7_ETM_NBAR_3577_15_-40_2013.nc')\n",
      "((15, -40), 1377301935.594821, u'LANDSAT_7', u'pqa', {'xy_index': (15, -40), 'storage_type': u'ls7_pq_albers', u'time': 1377301935.594821}, '/g/data/rs0/tiles/EPSG3577/LS7_ETM_PQ/15_-40/LS7_ETM_PQ_3577_15_-40_20130823235215594821.nc')\n",
      "312\n",
      "((15, -40), 1377388340.744729, u'LANDSAT_8', u'nbar', {'xy_index': (15, -40), 'storage_type': u'ls8_nbar_albers', u'time': 1377388340.744729}, '/g/data/rs0/tiles/EPSG3577/LS8_OLI_TIRS_NBAR/LS8_OLI_TIRS_NBAR_3577_15_-40_2013.nc')\n",
      "((15, -40), 1377388340.744729, u'LANDSAT_8', u'pqa', {'xy_index': (15, -40), 'storage_type': u'ls8_pq_albers', u'time': 1377388340.744729}, '/g/data/rs0/tiles/EPSG3577/LS8_OLI_TIRS_PQ/15_-40/LS8_OLI_TIRS_PQ_3577_15_-40_20130824235220744729.nc')\n",
      "314\n",
      "((15, -40), 1377388364.701915, u'LANDSAT_8', u'nbar', {'xy_index': (15, -40), 'storage_type': u'ls8_nbar_albers', u'time': 1377388364.701915}, '/g/data/rs0/tiles/EPSG3577/LS8_OLI_TIRS_NBAR/LS8_OLI_TIRS_NBAR_3577_15_-40_2013.nc')\n",
      "((15, -40), 1377388364.701915, u'LANDSAT_8', u'pqa', {'xy_index': (15, -40), 'storage_type': u'ls8_pq_albers', u'time': 1377388364.701915}, '/g/data/rs0/tiles/EPSG3577/LS8_OLI_TIRS_PQ/15_-40/LS8_OLI_TIRS_PQ_3577_15_-40_20130824235244701915.nc')\n",
      "316\n",
      "((15, -40), 1377473994.992599, u'LANDSAT_7', u'nbar', {'xy_index': (15, -40), 'storage_type': u'ls7_nbar_albers', u'time': 1377473994.992599}, '/g/data/rs0/tiles/EPSG3577/LS7_ETM_NBAR/LS7_ETM_NBAR_3577_15_-40_2013.nc')\n",
      "((15, -40), 1377473994.992599, u'LANDSAT_7', u'pqa', {'xy_index': (15, -40), 'storage_type': u'ls7_pq_albers', u'time': 1377473994.992599}, '/g/data/rs0/tiles/EPSG3577/LS7_ETM_PQ/15_-40/LS7_ETM_PQ_3577_15_-40_20130825233954992599.nc')\n",
      "318\n",
      "((15, -40), 1377993511.493609, u'LANDSAT_8', u'nbar', {'xy_index': (15, -40), 'storage_type': u'ls8_nbar_albers', u'time': 1377993511.493609}, '/g/data/rs0/tiles/EPSG3577/LS8_OLI_TIRS_NBAR/LS8_OLI_TIRS_NBAR_3577_15_-40_2013.nc')\n",
      "((15, -40), 1377993511.493609, u'LANDSAT_8', u'pqa', {'xy_index': (15, -40), 'storage_type': u'ls8_pq_albers', u'time': 1377993511.493609}, '/g/data/rs0/tiles/EPSG3577/LS8_OLI_TIRS_PQ/15_-40/LS8_OLI_TIRS_PQ_3577_15_-40_20130831235831493609.nc')\n",
      "320\n",
      "((15, -40), 1377993535.4542561, u'LANDSAT_8', u'nbar', {'xy_index': (15, -40), 'storage_type': u'ls8_nbar_albers', u'time': 1377993535.4542561}, '/g/data/rs0/tiles/EPSG3577/LS8_OLI_TIRS_NBAR/LS8_OLI_TIRS_NBAR_3577_15_-40_2013.nc')\n",
      "((15, -40), 1377993535.4542561, u'LANDSAT_8', u'pqa', {'xy_index': (15, -40), 'storage_type': u'ls8_pq_albers', u'time': 1377993535.4542561}, '/g/data/rs0/tiles/EPSG3577/LS8_OLI_TIRS_PQ/15_-40/LS8_OLI_TIRS_PQ_3577_15_-40_20130831235855454256.nc')\n",
      "322\n",
      "((15, -40), 1378165593.5682769, u'LANDSAT_8', u'nbar', {'xy_index': (15, -40), 'storage_type': u'ls8_nbar_albers', u'time': 1378165593.5682769}, '/g/data/rs0/tiles/EPSG3577/LS8_OLI_TIRS_NBAR/LS8_OLI_TIRS_NBAR_3577_15_-40_2013.nc')\n",
      "((15, -40), 1378165593.5682769, u'LANDSAT_8', u'pqa', {'xy_index': (15, -40), 'storage_type': u'ls8_pq_albers', u'time': 1378165593.5682769}, '/g/data/rs0/tiles/EPSG3577/LS8_OLI_TIRS_PQ/15_-40/LS8_OLI_TIRS_PQ_3577_15_-40_20130902234633568277.nc')\n",
      "324\n",
      "((15, -40), 1378684323.5892839, u'LANDSAT_7', u'nbar', {'xy_index': (15, -40), 'storage_type': u'ls7_nbar_albers', u'time': 1378684323.5892839}, '/g/data/rs0/tiles/EPSG3577/LS7_ETM_NBAR/LS7_ETM_NBAR_3577_15_-40_2013.nc')\n",
      "((15, -40), 1378684323.5892839, u'LANDSAT_7', u'pqa', {'xy_index': (15, -40), 'storage_type': u'ls7_pq_albers', u'time': 1378684323.5892839}, '/g/data/rs0/tiles/EPSG3577/LS7_ETM_PQ/15_-40/LS7_ETM_PQ_3577_15_-40_20130908235203589284.nc')\n",
      "326\n",
      "((15, -40), 1378684347.541101, u'LANDSAT_7', u'nbar', {'xy_index': (15, -40), 'storage_type': u'ls7_nbar_albers', u'time': 1378684347.541101}, '/g/data/rs0/tiles/EPSG3577/LS7_ETM_NBAR/LS7_ETM_NBAR_3577_15_-40_2013.nc')\n",
      "((15, -40), 1378684347.541101, u'LANDSAT_7', u'pqa', {'xy_index': (15, -40), 'storage_type': u'ls7_pq_albers', u'time': 1378684347.541101}, '/g/data/rs0/tiles/EPSG3577/LS7_ETM_PQ/15_-40/LS7_ETM_PQ_3577_15_-40_20130908235227541101.nc')\n",
      "328\n",
      "((15, -40), 1378770738.664618, u'LANDSAT_8', u'nbar', {'xy_index': (15, -40), 'storage_type': u'ls8_nbar_albers', u'time': 1378770738.664618}, '/g/data/rs0/tiles/EPSG3577/LS8_OLI_TIRS_NBAR/LS8_OLI_TIRS_NBAR_3577_15_-40_2013.nc')\n",
      "((15, -40), 1378770738.664618, u'LANDSAT_8', u'pqa', {'xy_index': (15, -40), 'storage_type': u'ls8_pq_albers', u'time': 1378770738.664618}, '/g/data/rs0/tiles/EPSG3577/LS8_OLI_TIRS_PQ/15_-40/LS8_OLI_TIRS_PQ_3577_15_-40_20130909235218664618.nc')\n",
      "330\n",
      "((15, -40), 1378770762.619766, u'LANDSAT_8', u'nbar', {'xy_index': (15, -40), 'storage_type': u'ls8_nbar_albers', u'time': 1378770762.619766}, '/g/data/rs0/tiles/EPSG3577/LS8_OLI_TIRS_NBAR/LS8_OLI_TIRS_NBAR_3577_15_-40_2013.nc')\n",
      "((15, -40), 1378770762.619766, u'LANDSAT_8', u'pqa', {'xy_index': (15, -40), 'storage_type': u'ls8_pq_albers', u'time': 1378770762.619766}, '/g/data/rs0/tiles/EPSG3577/LS8_OLI_TIRS_PQ/15_-40/LS8_OLI_TIRS_PQ_3577_15_-40_20130909235242619766.nc')\n",
      "332\n",
      "((15, -40), 1379375906.55179, u'LANDSAT_8', u'nbar', {'xy_index': (15, -40), 'storage_type': u'ls8_nbar_albers', u'time': 1379375906.55179}, '/g/data/rs0/tiles/EPSG3577/LS8_OLI_TIRS_NBAR/LS8_OLI_TIRS_NBAR_3577_15_-40_2013.nc')\n",
      "((15, -40), 1379375906.55179, u'LANDSAT_8', u'pqa', {'xy_index': (15, -40), 'storage_type': u'ls8_pq_albers', u'time': 1379375906.55179}, '/g/data/rs0/tiles/EPSG3577/LS8_OLI_TIRS_PQ/15_-40/LS8_OLI_TIRS_PQ_3577_15_-40_20130916235826551790.nc')\n",
      "334\n",
      "((15, -40), 1379375924.1144061, u'LANDSAT_8', u'nbar', {'xy_index': (15, -40), 'storage_type': u'ls8_nbar_albers', u'time': 1379375924.1144061}, '/g/data/rs0/tiles/EPSG3577/LS8_OLI_TIRS_NBAR/LS8_OLI_TIRS_NBAR_3577_15_-40_2013.nc')\n",
      "((15, -40), 1379375924.1144061, u'LANDSAT_8', u'pqa', {'xy_index': (15, -40), 'storage_type': u'ls8_pq_albers', u'time': 1379375924.1144061}, '/g/data/rs0/tiles/EPSG3577/LS8_OLI_TIRS_PQ/15_-40/LS8_OLI_TIRS_PQ_3577_15_-40_20130916235844114406.nc')\n",
      "336\n",
      "((15, -40), 1379461558.223386, u'LANDSAT_7', u'nbar', {'xy_index': (15, -40), 'storage_type': u'ls7_nbar_albers', u'time': 1379461558.223386}, '/g/data/rs0/tiles/EPSG3577/LS7_ETM_NBAR/LS7_ETM_NBAR_3577_15_-40_2013.nc')\n",
      "((15, -40), 1379461558.223386, u'LANDSAT_7', u'pqa', {'xy_index': (15, -40), 'storage_type': u'ls7_pq_albers', u'time': 1379461558.223386}, '/g/data/rs0/tiles/EPSG3577/LS7_ETM_PQ/15_-40/LS7_ETM_PQ_3577_15_-40_20130917234558223386.nc')\n",
      "338\n",
      "((15, -40), 1379461582.1755879, u'LANDSAT_7', u'nbar', {'xy_index': (15, -40), 'storage_type': u'ls7_nbar_albers', u'time': 1379461582.1755879}, '/g/data/rs0/tiles/EPSG3577/LS7_ETM_NBAR/LS7_ETM_NBAR_3577_15_-40_2013.nc')\n",
      "((15, -40), 1379461582.1755879, u'LANDSAT_7', u'pqa', {'xy_index': (15, -40), 'storage_type': u'ls7_pq_albers', u'time': 1379461582.1755879}, '/g/data/rs0/tiles/EPSG3577/LS7_ETM_PQ/15_-40/LS7_ETM_PQ_3577_15_-40_20130917234622175588.nc')\n",
      "340\n",
      "((15, -40), 1379547987.8659091, u'LANDSAT_8', u'nbar', {'xy_index': (15, -40), 'storage_type': u'ls8_nbar_albers', u'time': 1379547987.8659091}, '/g/data/rs0/tiles/EPSG3577/LS8_OLI_TIRS_NBAR/LS8_OLI_TIRS_NBAR_3577_15_-40_2013.nc')\n",
      "((15, -40), 1379547987.8659091, u'LANDSAT_8', u'pqa', {'xy_index': (15, -40), 'storage_type': u'ls8_pq_albers', u'time': 1379547987.8659091}, '/g/data/rs0/tiles/EPSG3577/LS8_OLI_TIRS_PQ/15_-40/LS8_OLI_TIRS_PQ_3577_15_-40_20130918234627865909.nc')\n",
      "342\n",
      "((15, -40), 1380066732.199223, u'LANDSAT_7', u'nbar', {'xy_index': (15, -40), 'storage_type': u'ls7_nbar_albers', u'time': 1380066732.199223}, '/g/data/rs0/tiles/EPSG3577/LS7_ETM_NBAR/LS7_ETM_NBAR_3577_15_-40_2013.nc')\n",
      "((15, -40), 1380066732.199223, u'LANDSAT_7', u'pqa', {'xy_index': (15, -40), 'storage_type': u'ls7_pq_albers', u'time': 1380066732.199223}, '/g/data/rs0/tiles/EPSG3577/LS7_ETM_PQ/15_-40/LS7_ETM_PQ_3577_15_-40_20130924235212199223.nc')\n",
      "344\n",
      "((15, -40), 1380066756.1526909, u'LANDSAT_7', u'nbar', {'xy_index': (15, -40), 'storage_type': u'ls7_nbar_albers', u'time': 1380066756.1526909}, '/g/data/rs0/tiles/EPSG3577/LS7_ETM_NBAR/LS7_ETM_NBAR_3577_15_-40_2013.nc')\n",
      "((15, -40), 1380066756.1526909, u'LANDSAT_7', u'pqa', {'xy_index': (15, -40), 'storage_type': u'ls7_pq_albers', u'time': 1380066756.1526909}, '/g/data/rs0/tiles/EPSG3577/LS7_ETM_PQ/15_-40/LS7_ETM_PQ_3577_15_-40_20130924235236152691.nc')\n",
      "346\n",
      "((15, -40), 1380153130.1752501, u'LANDSAT_8', u'nbar', {'xy_index': (15, -40), 'storage_type': u'ls8_nbar_albers', u'time': 1380153130.1752501}, '/g/data/rs0/tiles/EPSG3577/LS8_OLI_TIRS_NBAR/LS8_OLI_TIRS_NBAR_3577_15_-40_2013.nc')\n",
      "((15, -40), 1380153130.1752501, u'LANDSAT_8', u'pqa', {'xy_index': (15, -40), 'storage_type': u'ls8_pq_albers', u'time': 1380153130.1752501}, '/g/data/rs0/tiles/EPSG3577/LS8_OLI_TIRS_PQ/15_-40/LS8_OLI_TIRS_PQ_3577_15_-40_20130925235210175250.nc')\n",
      "348\n",
      "((15, -40), 1380153154.125865, u'LANDSAT_8', u'nbar', {'xy_index': (15, -40), 'storage_type': u'ls8_nbar_albers', u'time': 1380153154.125865}, '/g/data/rs0/tiles/EPSG3577/LS8_OLI_TIRS_NBAR/LS8_OLI_TIRS_NBAR_3577_15_-40_2013.nc')\n",
      "((15, -40), 1380153154.125865, u'LANDSAT_8', u'pqa', {'xy_index': (15, -40), 'storage_type': u'ls8_pq_albers', u'time': 1380153154.125865}, '/g/data/rs0/tiles/EPSG3577/LS8_OLI_TIRS_PQ/15_-40/LS8_OLI_TIRS_PQ_3577_15_-40_20130925235234125865.nc')\n",
      "350\n",
      "((15, -40), 1380238816.2392299, u'LANDSAT_7', u'nbar', {'xy_index': (15, -40), 'storage_type': u'ls7_nbar_albers', u'time': 1380238816.2392299}, '/g/data/rs0/tiles/EPSG3577/LS7_ETM_NBAR/LS7_ETM_NBAR_3577_15_-40_2013.nc')\n",
      "((15, -40), 1380238816.2392299, u'LANDSAT_7', u'pqa', {'xy_index': (15, -40), 'storage_type': u'ls7_pq_albers', u'time': 1380238816.2392299}, '/g/data/rs0/tiles/EPSG3577/LS7_ETM_PQ/15_-40/LS7_ETM_PQ_3577_15_-40_20130926234016239230.nc')\n",
      "352\n",
      "((15, -40), 1380930384.2581091, u'LANDSAT_8', u'nbar', {'xy_index': (15, -40), 'storage_type': u'ls8_nbar_albers', u'time': 1380930384.2581091}, '/g/data/rs0/tiles/EPSG3577/LS8_OLI_TIRS_NBAR/LS8_OLI_TIRS_NBAR_3577_15_-40_2013.nc')\n",
      "((15, -40), 1380930384.2581091, u'LANDSAT_8', u'pqa', {'xy_index': (15, -40), 'storage_type': u'ls8_pq_albers', u'time': 1380930384.2581091}, '/g/data/rs0/tiles/EPSG3577/LS8_OLI_TIRS_PQ/15_-40/LS8_OLI_TIRS_PQ_3577_15_-40_20131004234624258109.nc')\n",
      "354\n",
      "((15, -40), 1381449146.2290969, u'LANDSAT_7', u'nbar', {'xy_index': (15, -40), 'storage_type': u'ls7_nbar_albers', u'time': 1381449146.2290969}, '/g/data/rs0/tiles/EPSG3577/LS7_ETM_NBAR/LS7_ETM_NBAR_3577_15_-40_2013.nc')\n",
      "((15, -40), 1381449146.2290969, u'LANDSAT_7', u'pqa', {'xy_index': (15, -40), 'storage_type': u'ls7_pq_albers', u'time': 1381449146.2290969}, '/g/data/rs0/tiles/EPSG3577/LS7_ETM_PQ/15_-40/LS7_ETM_PQ_3577_15_-40_20131010235226229097.nc')\n",
      "356\n",
      "((15, -40), 1381449170.1841681, u'LANDSAT_7', u'nbar', {'xy_index': (15, -40), 'storage_type': u'ls7_nbar_albers', u'time': 1381449170.1841681}, '/g/data/rs0/tiles/EPSG3577/LS7_ETM_NBAR/LS7_ETM_NBAR_3577_15_-40_2013.nc')\n",
      "((15, -40), 1381449170.1841681, u'LANDSAT_7', u'pqa', {'xy_index': (15, -40), 'storage_type': u'ls7_pq_albers', u'time': 1381449170.1841681}, '/g/data/rs0/tiles/EPSG3577/LS7_ETM_PQ/15_-40/LS7_ETM_PQ_3577_15_-40_20131010235250184168.nc')\n",
      "358\n",
      "((15, -40), 1381535530.5716209, u'LANDSAT_8', u'nbar', {'xy_index': (15, -40), 'storage_type': u'ls8_nbar_albers', u'time': 1381535530.5716209}, '/g/data/rs0/tiles/EPSG3577/LS8_OLI_TIRS_NBAR/LS8_OLI_TIRS_NBAR_3577_15_-40_2013.nc')\n",
      "((15, -40), 1381535530.5716209, u'LANDSAT_8', u'pqa', {'xy_index': (15, -40), 'storage_type': u'ls8_pq_albers', u'time': 1381535530.5716209}, '/g/data/rs0/tiles/EPSG3577/LS8_OLI_TIRS_PQ/15_-40/LS8_OLI_TIRS_PQ_3577_15_-40_20131011235210571621.nc')\n",
      "360\n",
      "((15, -40), 1381535554.5271311, u'LANDSAT_8', u'nbar', {'xy_index': (15, -40), 'storage_type': u'ls8_nbar_albers', u'time': 1381535554.5271311}, '/g/data/rs0/tiles/EPSG3577/LS8_OLI_TIRS_NBAR/LS8_OLI_TIRS_NBAR_3577_15_-40_2013.nc')\n",
      "((15, -40), 1381535554.5271311, u'LANDSAT_8', u'pqa', {'xy_index': (15, -40), 'storage_type': u'ls8_pq_albers', u'time': 1381535554.5271311}, '/g/data/rs0/tiles/EPSG3577/LS8_OLI_TIRS_PQ/15_-40/LS8_OLI_TIRS_PQ_3577_15_-40_20131011235234527131.nc')\n",
      "362\n",
      "((15, -40), 1381621230.0038719, u'LANDSAT_7', u'nbar', {'xy_index': (15, -40), 'storage_type': u'ls7_nbar_albers', u'time': 1381621230.0038719}, '/g/data/rs0/tiles/EPSG3577/LS7_ETM_NBAR/LS7_ETM_NBAR_3577_15_-40_2013.nc')\n",
      "((15, -40), 1381621230.0038719, u'LANDSAT_7', u'pqa', {'xy_index': (15, -40), 'storage_type': u'ls7_pq_albers', u'time': 1381621230.0038719}, '/g/data/rs0/tiles/EPSG3577/LS7_ETM_PQ/15_-40/LS7_ETM_PQ_3577_15_-40_20131012234030003872.nc')\n",
      "364\n",
      "((15, -40), 1382226380.5723231, u'LANDSAT_7', u'nbar', {'xy_index': (15, -40), 'storage_type': u'ls7_nbar_albers', u'time': 1382226380.5723231}, '/g/data/rs0/tiles/EPSG3577/LS7_ETM_NBAR/LS7_ETM_NBAR_3577_15_-40_2013.nc')\n",
      "((15, -40), 1382226380.5723231, u'LANDSAT_7', u'pqa', {'xy_index': (15, -40), 'storage_type': u'ls7_pq_albers', u'time': 1382226380.5723231}, '/g/data/rs0/tiles/EPSG3577/LS7_ETM_PQ/15_-40/LS7_ETM_PQ_3577_15_-40_20131019234620572323.nc')\n",
      "366\n",
      "((15, -40), 1382226404.5278001, u'LANDSAT_7', u'nbar', {'xy_index': (15, -40), 'storage_type': u'ls7_nbar_albers', u'time': 1382226404.5278001}, '/g/data/rs0/tiles/EPSG3577/LS7_ETM_NBAR/LS7_ETM_NBAR_3577_15_-40_2013.nc')\n",
      "((15, -40), 1382226404.5278001, u'LANDSAT_7', u'pqa', {'xy_index': (15, -40), 'storage_type': u'ls7_pq_albers', u'time': 1382226404.5278001}, '/g/data/rs0/tiles/EPSG3577/LS7_ETM_PQ/15_-40/LS7_ETM_PQ_3577_15_-40_20131019234644527800.nc')\n",
      "368\n",
      "((15, -40), 1382831552.8280399, u'LANDSAT_7', u'nbar', {'xy_index': (15, -40), 'storage_type': u'ls7_nbar_albers', u'time': 1382831552.8280399}, '/g/data/rs0/tiles/EPSG3577/LS7_ETM_NBAR/LS7_ETM_NBAR_3577_15_-40_2013.nc')\n",
      "((15, -40), 1382831552.8280399, u'LANDSAT_7', u'pqa', {'xy_index': (15, -40), 'storage_type': u'ls7_pq_albers', u'time': 1382831552.8280399}, '/g/data/rs0/tiles/EPSG3577/LS7_ETM_PQ/15_-40/LS7_ETM_PQ_3577_15_-40_20131026235232828040.nc')\n",
      "370\n",
      "((15, -40), 1382831576.783771, u'LANDSAT_7', u'nbar', {'xy_index': (15, -40), 'storage_type': u'ls7_nbar_albers', u'time': 1382831576.783771}, '/g/data/rs0/tiles/EPSG3577/LS7_ETM_NBAR/LS7_ETM_NBAR_3577_15_-40_2013.nc')\n",
      "((15, -40), 1382831576.783771, u'LANDSAT_7', u'pqa', {'xy_index': (15, -40), 'storage_type': u'ls7_pq_albers', u'time': 1382831576.783771}, '/g/data/rs0/tiles/EPSG3577/LS7_ETM_PQ/15_-40/LS7_ETM_PQ_3577_15_-40_20131026235256783771.nc')\n",
      "372\n",
      "((15, -40), 1382917920.7704811, u'LANDSAT_8', u'nbar', {'xy_index': (15, -40), 'storage_type': u'ls8_nbar_albers', u'time': 1382917920.7704811}, '/g/data/rs0/tiles/EPSG3577/LS8_OLI_TIRS_NBAR/LS8_OLI_TIRS_NBAR_3577_15_-40_2013.nc')\n",
      "((15, -40), 1382917920.7704811, u'LANDSAT_8', u'pqa', {'xy_index': (15, -40), 'storage_type': u'ls8_pq_albers', u'time': 1382917920.7704811}, '/g/data/rs0/tiles/EPSG3577/LS8_OLI_TIRS_PQ/15_-40/LS8_OLI_TIRS_PQ_3577_15_-40_20131027235200770481.nc')\n",
      "374\n",
      "((15, -40), 1382917938.026639, u'LANDSAT_8', u'nbar', {'xy_index': (15, -40), 'storage_type': u'ls8_nbar_albers', u'time': 1382917938.026639}, '/g/data/rs0/tiles/EPSG3577/LS8_OLI_TIRS_NBAR/LS8_OLI_TIRS_NBAR_3577_15_-40_2013.nc')\n",
      "((15, -40), 1382917938.026639, u'LANDSAT_8', u'pqa', {'xy_index': (15, -40), 'storage_type': u'ls8_pq_albers', u'time': 1382917938.026639}, '/g/data/rs0/tiles/EPSG3577/LS8_OLI_TIRS_PQ/15_-40/LS8_OLI_TIRS_PQ_3577_15_-40_20131027235218026639.nc')\n",
      "376\n",
      "((15, -40), 1383523093.333704, u'LANDSAT_8', u'nbar', {'xy_index': (15, -40), 'storage_type': u'ls8_nbar_albers', u'time': 1383523093.333704}, '/g/data/rs0/tiles/EPSG3577/LS8_OLI_TIRS_NBAR/LS8_OLI_TIRS_NBAR_3577_15_-40_2013.nc')\n",
      "((15, -40), 1383523093.333704, u'LANDSAT_8', u'pqa', {'xy_index': (15, -40), 'storage_type': u'ls8_pq_albers', u'time': 1383523093.333704}, '/g/data/rs0/tiles/EPSG3577/LS8_OLI_TIRS_PQ/15_-40/LS8_OLI_TIRS_PQ_3577_15_-40_20131103235813333704.nc')\n",
      "378\n",
      "((15, -40), 1383523117.2873249, u'LANDSAT_8', u'nbar', {'xy_index': (15, -40), 'storage_type': u'ls8_nbar_albers', u'time': 1383523117.2873249}, '/g/data/rs0/tiles/EPSG3577/LS8_OLI_TIRS_NBAR/LS8_OLI_TIRS_NBAR_3577_15_-40_2013.nc')\n",
      "((15, -40), 1383523117.2873249, u'LANDSAT_8', u'pqa', {'xy_index': (15, -40), 'storage_type': u'ls8_pq_albers', u'time': 1383523117.2873249}, '/g/data/rs0/tiles/EPSG3577/LS8_OLI_TIRS_PQ/15_-40/LS8_OLI_TIRS_PQ_3577_15_-40_20131103235837287325.nc')\n",
      "380\n",
      "((15, -40), 1383608785.2233329, u'LANDSAT_7', u'nbar', {'xy_index': (15, -40), 'storage_type': u'ls7_nbar_albers', u'time': 1383608785.2233329}, '/g/data/rs0/tiles/EPSG3577/LS7_ETM_NBAR/LS7_ETM_NBAR_3577_15_-40_2013.nc')\n",
      "((15, -40), 1383608785.2233329, u'LANDSAT_7', u'pqa', {'xy_index': (15, -40), 'storage_type': u'ls7_pq_albers', u'time': 1383608785.2233329}, '/g/data/rs0/tiles/EPSG3577/LS7_ETM_PQ/15_-40/LS7_ETM_PQ_3577_15_-40_20131104234625223333.nc')\n",
      "382\n",
      "((15, -40), 1383608809.179647, u'LANDSAT_7', u'nbar', {'xy_index': (15, -40), 'storage_type': u'ls7_nbar_albers', u'time': 1383608809.179647}, '/g/data/rs0/tiles/EPSG3577/LS7_ETM_NBAR/LS7_ETM_NBAR_3577_15_-40_2013.nc')\n",
      "((15, -40), 1383608809.179647, u'LANDSAT_7', u'pqa', {'xy_index': (15, -40), 'storage_type': u'ls7_pq_albers', u'time': 1383608809.179647}, '/g/data/rs0/tiles/EPSG3577/LS7_ETM_PQ/15_-40/LS7_ETM_PQ_3577_15_-40_20131104234649179647.nc')\n",
      "384\n",
      "((15, -40), 1384213959.288316, u'LANDSAT_7', u'nbar', {'xy_index': (15, -40), 'storage_type': u'ls7_nbar_albers', u'time': 1384213959.288316}, '/g/data/rs0/tiles/EPSG3577/LS7_ETM_NBAR/LS7_ETM_NBAR_3577_15_-40_2013.nc')\n",
      "((15, -40), 1384213959.288316, u'LANDSAT_7', u'pqa', {'xy_index': (15, -40), 'storage_type': u'ls7_pq_albers', u'time': 1384213959.288316}, '/g/data/rs0/tiles/EPSG3577/LS7_ETM_PQ/15_-40/LS7_ETM_PQ_3577_15_-40_20131111235239288316.nc')\n",
      "386\n",
      "((15, -40), 1384213983.244127, u'LANDSAT_7', u'nbar', {'xy_index': (15, -40), 'storage_type': u'ls7_nbar_albers', u'time': 1384213983.244127}, '/g/data/rs0/tiles/EPSG3577/LS7_ETM_NBAR/LS7_ETM_NBAR_3577_15_-40_2013.nc')\n",
      "((15, -40), 1384213983.244127, u'LANDSAT_7', u'pqa', {'xy_index': (15, -40), 'storage_type': u'ls7_pq_albers', u'time': 1384213983.244127}, '/g/data/rs0/tiles/EPSG3577/LS7_ETM_PQ/15_-40/LS7_ETM_PQ_3577_15_-40_20131111235303244127.nc')\n",
      "388\n",
      "((15, -40), 1384300321.158695, u'LANDSAT_8', u'nbar', {'xy_index': (15, -40), 'storage_type': u'ls8_nbar_albers', u'time': 1384300321.158695}, '/g/data/rs0/tiles/EPSG3577/LS8_OLI_TIRS_NBAR/LS8_OLI_TIRS_NBAR_3577_15_-40_2013.nc')\n",
      "((15, -40), 1384300321.158695, u'LANDSAT_8', u'pqa', {'xy_index': (15, -40), 'storage_type': u'ls8_pq_albers', u'time': 1384300321.158695}, '/g/data/rs0/tiles/EPSG3577/LS8_OLI_TIRS_PQ/15_-40/LS8_OLI_TIRS_PQ_3577_15_-40_20131112235201158695.nc')\n",
      "390\n",
      "((15, -40), 1384300345.1134131, u'LANDSAT_8', u'nbar', {'xy_index': (15, -40), 'storage_type': u'ls8_nbar_albers', u'time': 1384300345.1134131}, '/g/data/rs0/tiles/EPSG3577/LS8_OLI_TIRS_NBAR/LS8_OLI_TIRS_NBAR_3577_15_-40_2013.nc')\n",
      "((15, -40), 1384300345.1134131, u'LANDSAT_8', u'pqa', {'xy_index': (15, -40), 'storage_type': u'ls8_pq_albers', u'time': 1384300345.1134131}, '/g/data/rs0/tiles/EPSG3577/LS8_OLI_TIRS_PQ/15_-40/LS8_OLI_TIRS_PQ_3577_15_-40_20131112235225113413.nc')\n",
      "392\n",
      "((15, -40), 1384386041.9460609, u'LANDSAT_7', u'nbar', {'xy_index': (15, -40), 'storage_type': u'ls7_nbar_albers', u'time': 1384386041.9460609}, '/g/data/rs0/tiles/EPSG3577/LS7_ETM_NBAR/LS7_ETM_NBAR_3577_15_-40_2013.nc')\n",
      "((15, -40), 1384386041.9460609, u'LANDSAT_7', u'pqa', {'xy_index': (15, -40), 'storage_type': u'ls7_pq_albers', u'time': 1384386041.9460609}, '/g/data/rs0/tiles/EPSG3577/LS7_ETM_PQ/15_-40/LS7_ETM_PQ_3577_15_-40_20131113234041946061.nc')\n",
      "394\n",
      "((15, -40), 1384905486.60656, u'LANDSAT_8', u'nbar', {'xy_index': (15, -40), 'storage_type': u'ls8_nbar_albers', u'time': 1384905486.60656}, '/g/data/rs0/tiles/EPSG3577/LS8_OLI_TIRS_NBAR/LS8_OLI_TIRS_NBAR_3577_15_-40_2013.nc')\n",
      "((15, -40), 1384905486.60656, u'LANDSAT_8', u'pqa', {'xy_index': (15, -40), 'storage_type': u'ls8_pq_albers', u'time': 1384905486.60656}, '/g/data/rs0/tiles/EPSG3577/LS8_OLI_TIRS_PQ/15_-40/LS8_OLI_TIRS_PQ_3577_15_-40_20131119235806606560.nc')\n",
      "396\n",
      "((15, -40), 1384905510.5577731, u'LANDSAT_8', u'nbar', {'xy_index': (15, -40), 'storage_type': u'ls8_nbar_albers', u'time': 1384905510.5577731}, '/g/data/rs0/tiles/EPSG3577/LS8_OLI_TIRS_NBAR/LS8_OLI_TIRS_NBAR_3577_15_-40_2013.nc')\n",
      "((15, -40), 1384905510.5577731, u'LANDSAT_8', u'pqa', {'xy_index': (15, -40), 'storage_type': u'ls8_pq_albers', u'time': 1384905510.5577731}, '/g/data/rs0/tiles/EPSG3577/LS8_OLI_TIRS_PQ/15_-40/LS8_OLI_TIRS_PQ_3577_15_-40_20131119235830557773.nc')\n",
      "398\n",
      "((15, -40), 1385596365.5461521, u'LANDSAT_7', u'nbar', {'xy_index': (15, -40), 'storage_type': u'ls7_nbar_albers', u'time': 1385596365.5461521}, '/g/data/rs0/tiles/EPSG3577/LS7_ETM_NBAR/LS7_ETM_NBAR_3577_15_-40_2013.nc')\n",
      "((15, -40), 1385596365.5461521, u'LANDSAT_7', u'pqa', {'xy_index': (15, -40), 'storage_type': u'ls7_pq_albers', u'time': 1385596365.5461521}, '/g/data/rs0/tiles/EPSG3577/LS7_ETM_PQ/15_-40/LS7_ETM_PQ_3577_15_-40_20131127235245546152.nc')\n",
      "400\n",
      "((15, -40), 1385596389.5004139, u'LANDSAT_7', u'nbar', {'xy_index': (15, -40), 'storage_type': u'ls7_nbar_albers', u'time': 1385596389.5004139}, '/g/data/rs0/tiles/EPSG3577/LS7_ETM_NBAR/LS7_ETM_NBAR_3577_15_-40_2013.nc')\n",
      "((15, -40), 1385596389.5004139, u'LANDSAT_7', u'pqa', {'xy_index': (15, -40), 'storage_type': u'ls7_pq_albers', u'time': 1385596389.5004139}, '/g/data/rs0/tiles/EPSG3577/LS7_ETM_PQ/15_-40/LS7_ETM_PQ_3577_15_-40_20131127235309500414.nc')\n",
      "402\n",
      "((15, -40), 1385682714.970485, u'LANDSAT_8', u'nbar', {'xy_index': (15, -40), 'storage_type': u'ls8_nbar_albers', u'time': 1385682714.970485}, '/g/data/rs0/tiles/EPSG3577/LS8_OLI_TIRS_NBAR/LS8_OLI_TIRS_NBAR_3577_15_-40_2013.nc')\n",
      "((15, -40), 1385682714.970485, u'LANDSAT_8', u'pqa', {'xy_index': (15, -40), 'storage_type': u'ls8_pq_albers', u'time': 1385682714.970485}, '/g/data/rs0/tiles/EPSG3577/LS8_OLI_TIRS_PQ/15_-40/LS8_OLI_TIRS_PQ_3577_15_-40_20131128235154970485.nc')\n",
      "404\n",
      "((15, -40), 1385682738.9261, u'LANDSAT_8', u'nbar', {'xy_index': (15, -40), 'storage_type': u'ls8_nbar_albers', u'time': 1385682738.9261}, '/g/data/rs0/tiles/EPSG3577/LS8_OLI_TIRS_NBAR/LS8_OLI_TIRS_NBAR_3577_15_-40_2013.nc')\n",
      "((15, -40), 1385682738.9261, u'LANDSAT_8', u'pqa', {'xy_index': (15, -40), 'storage_type': u'ls8_pq_albers', u'time': 1385682738.9261}, '/g/data/rs0/tiles/EPSG3577/LS8_OLI_TIRS_PQ/15_-40/LS8_OLI_TIRS_PQ_3577_15_-40_20131128235218926100.nc')\n",
      "406\n",
      "((15, -40), 1385768449.1099761, u'LANDSAT_7', u'nbar', {'xy_index': (15, -40), 'storage_type': u'ls7_nbar_albers', u'time': 1385768449.1099761}, '/g/data/rs0/tiles/EPSG3577/LS7_ETM_NBAR/LS7_ETM_NBAR_3577_15_-40_2013.nc')\n",
      "((15, -40), 1385768449.1099761, u'LANDSAT_7', u'pqa', {'xy_index': (15, -40), 'storage_type': u'ls7_pq_albers', u'time': 1385768449.1099761}, '/g/data/rs0/tiles/EPSG3577/LS7_ETM_PQ/15_-40/LS7_ETM_PQ_3577_15_-40_20131129234049109976.nc')\n",
      "408\n",
      "((15, -40), 1386287885.9378071, u'LANDSAT_8', u'nbar', {'xy_index': (15, -40), 'storage_type': u'ls8_nbar_albers', u'time': 1386287885.9378071}, '/g/data/rs0/tiles/EPSG3577/LS8_OLI_TIRS_NBAR/LS8_OLI_TIRS_NBAR_3577_15_-40_2013.nc')\n",
      "((15, -40), 1386287885.9378071, u'LANDSAT_8', u'pqa', {'xy_index': (15, -40), 'storage_type': u'ls8_pq_albers', u'time': 1386287885.9378071}, '/g/data/rs0/tiles/EPSG3577/LS8_OLI_TIRS_PQ/15_-40/LS8_OLI_TIRS_PQ_3577_15_-40_20131205235805937807.nc')\n",
      "410\n",
      "((15, -40), 1386287909.8898909, u'LANDSAT_8', u'nbar', {'xy_index': (15, -40), 'storage_type': u'ls8_nbar_albers', u'time': 1386287909.8898909}, '/g/data/rs0/tiles/EPSG3577/LS8_OLI_TIRS_NBAR/LS8_OLI_TIRS_NBAR_3577_15_-40_2013.nc')\n",
      "((15, -40), 1386287909.8898909, u'LANDSAT_8', u'pqa', {'xy_index': (15, -40), 'storage_type': u'ls8_pq_albers', u'time': 1386287909.8898909}, '/g/data/rs0/tiles/EPSG3577/LS8_OLI_TIRS_PQ/15_-40/LS8_OLI_TIRS_PQ_3577_15_-40_20131205235829889891.nc')\n",
      "412\n",
      "((15, -40), 1386373598.7408581, u'LANDSAT_7', u'nbar', {'xy_index': (15, -40), 'storage_type': u'ls7_nbar_albers', u'time': 1386373598.7408581}, '/g/data/rs0/tiles/EPSG3577/LS7_ETM_NBAR/LS7_ETM_NBAR_3577_15_-40_2013.nc')\n",
      "((15, -40), 1386373598.7408581, u'LANDSAT_7', u'pqa', {'xy_index': (15, -40), 'storage_type': u'ls7_pq_albers', u'time': 1386373598.7408581}, '/g/data/rs0/tiles/EPSG3577/LS7_ETM_PQ/15_-40/LS7_ETM_PQ_3577_15_-40_20131206234638740858.nc')\n",
      "414\n",
      "((15, -40), 1386373622.693603, u'LANDSAT_7', u'nbar', {'xy_index': (15, -40), 'storage_type': u'ls7_nbar_albers', u'time': 1386373622.693603}, '/g/data/rs0/tiles/EPSG3577/LS7_ETM_NBAR/LS7_ETM_NBAR_3577_15_-40_2013.nc')\n",
      "((15, -40), 1386373622.693603, u'LANDSAT_7', u'pqa', {'xy_index': (15, -40), 'storage_type': u'ls7_pq_albers', u'time': 1386373622.693603}, '/g/data/rs0/tiles/EPSG3577/LS7_ETM_PQ/15_-40/LS7_ETM_PQ_3577_15_-40_20131206234702693603.nc')\n",
      "416\n",
      "((15, -40), 1386459967.789407, u'LANDSAT_8', u'nbar', {'xy_index': (15, -40), 'storage_type': u'ls8_nbar_albers', u'time': 1386459967.789407}, '/g/data/rs0/tiles/EPSG3577/LS8_OLI_TIRS_NBAR/LS8_OLI_TIRS_NBAR_3577_15_-40_2013.nc')\n",
      "((15, -40), 1386459967.789407, u'LANDSAT_8', u'pqa', {'xy_index': (15, -40), 'storage_type': u'ls8_pq_albers', u'time': 1386459967.789407}, '/g/data/rs0/tiles/EPSG3577/LS8_OLI_TIRS_PQ/15_-40/LS8_OLI_TIRS_PQ_3577_15_-40_20131207234607789407.nc')\n",
      "418\n",
      "((15, -40), 1386978769.1850619, u'LANDSAT_7', u'nbar', {'xy_index': (15, -40), 'storage_type': u'ls7_nbar_albers', u'time': 1386978769.1850619}, '/g/data/rs0/tiles/EPSG3577/LS7_ETM_NBAR/LS7_ETM_NBAR_3577_15_-40_2013.nc')\n",
      "((15, -40), 1386978769.1850619, u'LANDSAT_7', u'pqa', {'xy_index': (15, -40), 'storage_type': u'ls7_pq_albers', u'time': 1386978769.1850619}, '/g/data/rs0/tiles/EPSG3577/LS7_ETM_PQ/15_-40/LS7_ETM_PQ_3577_15_-40_20131213235249185062.nc')\n",
      "420\n",
      "((15, -40), 1386978793.1365271, u'LANDSAT_7', u'nbar', {'xy_index': (15, -40), 'storage_type': u'ls7_nbar_albers', u'time': 1386978793.1365271}, '/g/data/rs0/tiles/EPSG3577/LS7_ETM_NBAR/LS7_ETM_NBAR_3577_15_-40_2013.nc')\n",
      "((15, -40), 1386978793.1365271, u'LANDSAT_7', u'pqa', {'xy_index': (15, -40), 'storage_type': u'ls7_pq_albers', u'time': 1386978793.1365271}, '/g/data/rs0/tiles/EPSG3577/LS7_ETM_PQ/15_-40/LS7_ETM_PQ_3577_15_-40_20131213235313136527.nc')\n",
      "422\n",
      "((15, -40), 1387065110.515202, u'LANDSAT_8', u'nbar', {'xy_index': (15, -40), 'storage_type': u'ls8_nbar_albers', u'time': 1387065110.515202}, '/g/data/rs0/tiles/EPSG3577/LS8_OLI_TIRS_NBAR/LS8_OLI_TIRS_NBAR_3577_15_-40_2013.nc')\n",
      "((15, -40), 1387065110.515202, u'LANDSAT_8', u'pqa', {'xy_index': (15, -40), 'storage_type': u'ls8_pq_albers', u'time': 1387065110.515202}, '/g/data/rs0/tiles/EPSG3577/LS8_OLI_TIRS_PQ/15_-40/LS8_OLI_TIRS_PQ_3577_15_-40_20131214235150515202.nc')\n",
      "424\n",
      "((15, -40), 1387065134.4708171, u'LANDSAT_8', u'nbar', {'xy_index': (15, -40), 'storage_type': u'ls8_nbar_albers', u'time': 1387065134.4708171}, '/g/data/rs0/tiles/EPSG3577/LS8_OLI_TIRS_NBAR/LS8_OLI_TIRS_NBAR_3577_15_-40_2013.nc')\n",
      "((15, -40), 1387065134.4708171, u'LANDSAT_8', u'pqa', {'xy_index': (15, -40), 'storage_type': u'ls8_pq_albers', u'time': 1387065134.4708171}, '/g/data/rs0/tiles/EPSG3577/LS8_OLI_TIRS_PQ/15_-40/LS8_OLI_TIRS_PQ_3577_15_-40_20131214235214470817.nc')\n",
      "426\n",
      "((15, -40), 1387670276.272264, u'LANDSAT_8', u'nbar', {'xy_index': (15, -40), 'storage_type': u'ls8_nbar_albers', u'time': 1387670276.272264}, '/g/data/rs0/tiles/EPSG3577/LS8_OLI_TIRS_NBAR/LS8_OLI_TIRS_NBAR_3577_15_-40_2013.nc')\n",
      "((15, -40), 1387670276.272264, u'LANDSAT_8', u'pqa', {'xy_index': (15, -40), 'storage_type': u'ls8_pq_albers', u'time': 1387670276.272264}, '/g/data/rs0/tiles/EPSG3577/LS8_OLI_TIRS_PQ/15_-40/LS8_OLI_TIRS_PQ_3577_15_-40_20131221235756272264.nc')\n",
      "428\n",
      "((15, -40), 1387670300.2284589, u'LANDSAT_8', u'nbar', {'xy_index': (15, -40), 'storage_type': u'ls8_nbar_albers', u'time': 1387670300.2284589}, '/g/data/rs0/tiles/EPSG3577/LS8_OLI_TIRS_NBAR/LS8_OLI_TIRS_NBAR_3577_15_-40_2013.nc')\n",
      "((15, -40), 1387670300.2284589, u'LANDSAT_8', u'pqa', {'xy_index': (15, -40), 'storage_type': u'ls8_pq_albers', u'time': 1387670300.2284589}, '/g/data/rs0/tiles/EPSG3577/LS8_OLI_TIRS_PQ/15_-40/LS8_OLI_TIRS_PQ_3577_15_-40_20131221235820228459.nc')\n",
      "430\n",
      "((15, -40), 1388361174.3648181, u'LANDSAT_7', u'nbar', {'xy_index': (15, -40), 'storage_type': u'ls7_nbar_albers', u'time': 1388361174.3648181}, '/g/data/rs0/tiles/EPSG3577/LS7_ETM_NBAR/LS7_ETM_NBAR_3577_15_-40_2013.nc')\n",
      "((15, -40), 1388361174.3648181, u'LANDSAT_7', u'pqa', {'xy_index': (15, -40), 'storage_type': u'ls7_pq_albers', u'time': 1388361174.3648181}, '/g/data/rs0/tiles/EPSG3577/LS7_ETM_PQ/15_-40/LS7_ETM_PQ_3577_15_-40_20131229235254364818.nc')\n",
      "432\n",
      "((15, -40), 1388361198.3159621, u'LANDSAT_7', u'nbar', {'xy_index': (15, -40), 'storage_type': u'ls7_nbar_albers', u'time': 1388361198.3159621}, '/g/data/rs0/tiles/EPSG3577/LS7_ETM_NBAR/LS7_ETM_NBAR_3577_15_-40_2013.nc')\n",
      "((15, -40), 1388361198.3159621, u'LANDSAT_7', u'pqa', {'xy_index': (15, -40), 'storage_type': u'ls7_pq_albers', u'time': 1388361198.3159621}, '/g/data/rs0/tiles/EPSG3577/LS7_ETM_PQ/15_-40/LS7_ETM_PQ_3577_15_-40_20131229235318315962.nc')\n",
      "434\n",
      "((15, -40), 1388447502.2976739, u'LANDSAT_8', u'nbar', {'xy_index': (15, -40), 'storage_type': u'ls8_nbar_albers', u'time': 1388447502.2976739}, '/g/data/rs0/tiles/EPSG3577/LS8_OLI_TIRS_NBAR/LS8_OLI_TIRS_NBAR_3577_15_-40_2013.nc')\n",
      "((15, -40), 1388447502.2976739, u'LANDSAT_8', u'pqa', {'xy_index': (15, -40), 'storage_type': u'ls8_pq_albers', u'time': 1388447502.2976739}, '/g/data/rs0/tiles/EPSG3577/LS8_OLI_TIRS_PQ/15_-40/LS8_OLI_TIRS_PQ_3577_15_-40_20131230235142297674.nc')\n",
      "436\n",
      "((15, -40), 1388447526.251744, u'LANDSAT_8', u'nbar', {'xy_index': (15, -40), 'storage_type': u'ls8_nbar_albers', u'time': 1388447526.251744}, '/g/data/rs0/tiles/EPSG3577/LS8_OLI_TIRS_NBAR/LS8_OLI_TIRS_NBAR_3577_15_-40_2013.nc')\n",
      "((15, -40), 1388447526.251744, u'LANDSAT_8', u'pqa', {'xy_index': (15, -40), 'storage_type': u'ls8_pq_albers', u'time': 1388447526.251744}, '/g/data/rs0/tiles/EPSG3577/LS8_OLI_TIRS_PQ/15_-40/LS8_OLI_TIRS_PQ_3577_15_-40_20131230235206251744.nc')\n"
     ]
    }
   ],
   "source": [
    "\n",
    "nbarpqa.sort()\n",
    "\n",
    "for i in range(0, len(nbarpqa),2):\n",
    "    print i\n",
    "    if nbarpqa[i][1] == nbarpqa[i+1][1]:\n",
    "        print nbarpqa[i]\n",
    "        print nbarpqa[i+1]\n",
    "    else:\n",
    "        print (\"Warning: missing tiles\")\n",
    "    "
   ]
  },
  {
   "cell_type": "markdown",
   "metadata": {},
   "source": [
    "# Retrieve the imagery tiles data via API\n",
    "\n",
    "* are stored as netcdf (bands-slices)\n",
    "* nbar\n",
    "* pqa\n",
    "* DEM\n",
    "* pixel classification (water)\n"
   ]
  },
  {
   "cell_type": "code",
   "execution_count": 9,
   "metadata": {
    "collapsed": false
   },
   "outputs": [
    {
     "name": "stdout",
     "output_type": "stream",
     "text": [
      "This cell has both nbar and pq data at time 1365723995.39\n",
      "Thu Apr 11 23:46:35 2013\tnbar shape: (6, 4000, 4000)\tpq shape: (4000, 4000)\n"
     ]
    }
   ],
   "source": [
    "# focus a specific cell pair nbar and pqa tiles according time. then get the xarray data for processing\n",
    "cell=(15, -40); stack = tile_store[cell]\n",
    "\n",
    "for time in sorted(stack)[:2] :\n",
    "    tileset = stack[time]\n",
    "    \n",
    "    if 'nbar' in tileset and 'pqa' in tileset:\n",
    "        print (\"This cell has both nbar and pq data at time %s\"% str(time))\n",
    "    else:\n",
    "        print \"not a good time-sliced tile - we have missing data!\"\n",
    "        \n",
    "    nbar_tile_query, nbar_tile_info = tileset['nbar']\n",
    "    # This will get replaced by the semantic layer\n",
    "    platform = nbar_tile_info['metadata']['platform']['code']\n",
    "    if platform in ('LANDSAT_5', 'LANDSAT_7'):\n",
    "        variables = ['band_1', 'band_2', 'band_3', 'band_4', 'band_5', 'band_7']\n",
    "    elif platform in ('LANDSAT_8'):\n",
    "        variables = ['band_2', 'band_3', 'band_4', 'band_5', 'band_6', 'band_7']\n",
    "        \n",
    "    # get the nbar data as xarray.core.dataarray.DataArray\n",
    "    #nbar_tile = dc.get_data_array_by_cell(variables=variables, set_nan=True, **nbar_tile_query)\n",
    "    nbar_tile = dc.get_data_array_by_cell(variables=variables, set_nan=False, **nbar_tile_query)\n",
    "    \n",
    "    \n",
    "    pq_tile_query, pq_tile_info = tileset['pqa']\n",
    "    pq_tile_ds =  dc.get_dataset_by_cell(**pq_tile_query)\n",
    "    pq_tile = pq_tile_ds['pixelquality']\n",
    "    print \"{:%c}\\tnbar shape: {}\\tpq shape: {}\".format(to_datetime(time), nbar_tile.shape, pq_tile.shape)\n",
    "    \n",
    "    #print pq_tile.shape\n",
    "    break # Just do the first one as a test..."
   ]
  },
  {
   "cell_type": "code",
   "execution_count": 12,
   "metadata": {
    "collapsed": false
   },
   "outputs": [
    {
     "name": "stdout",
     "output_type": "stream",
     "text": [
      "<class 'xarray.core.dataarray.DataArray'>\n",
      "-999\n",
      "variable: Index([u'band_2', u'band_3', u'band_4', u'band_5', u'band_6', u'band_7'], dtype='object', name=u'variable')\n",
      "y: Float64Index([-3900012.5, -3900037.5, -3900062.5, -3900087.5, -3900112.5,\n",
      "                 -3900137.5, -3900162.5, -3900187.5, -3900212.5, -3900237.5,\n",
      "                 ...\n",
      "                 -3999762.5, -3999787.5, -3999812.5, -3999837.5, -3999862.5,\n",
      "                 -3999887.5, -3999912.5, -3999937.5, -3999962.5, -3999987.5],\n",
      "                dtype='float64', name=u'y', length=4000)\n",
      "x: Float64Index([1500012.5, 1500037.5, 1500062.5, 1500087.5, 1500112.5, 1500137.5,\n",
      "                 1500162.5, 1500187.5, 1500212.5, 1500237.5,\n",
      "                 ...\n",
      "                 1599762.5, 1599787.5, 1599812.5, 1599837.5, 1599862.5, 1599887.5,\n",
      "                 1599912.5, 1599937.5, 1599962.5, 1599987.5],\n",
      "                dtype='float64', name=u'x', length=4000)\n",
      "(u'variable', u'y', u'x')\n",
      "Coordinates:\n",
      "    time      datetime64[ns] 2013-04-11T23:46:35.385577\n",
      "  * y         (y) float64 -3.9e+06 -3.9e+06 -3.9e+06 -3.9e+06 -3.9e+06 ...\n",
      "  * x         (x) float64 1.5e+06 1.5e+06 1.5e+06 1.5e+06 1.5e+06 1.5e+06 ...\n",
      "  * variable  (variable) <U6 u'band_2' u'band_3' u'band_4' u'band_5' ...\n"
     ]
    }
   ],
   "source": [
    "print type(nbar_tile)\n",
    "print nbar_tile.attrs[\"_FillValue\"]\n",
    "print nbar_tile.indexes\n",
    "print nbar_tile.dims\n",
    "print nbar_tile.coords"
   ]
  },
  {
   "cell_type": "code",
   "execution_count": 17,
   "metadata": {
    "collapsed": false
   },
   "outputs": [
    {
     "name": "stdout",
     "output_type": "stream",
     "text": [
      "<type 'numpy.ndarray'> (6, 4000, 4000)\n",
      "0\n"
     ]
    }
   ],
   "source": [
    "import numpy \n",
    "nar=nbar_tile.values  #memory-out-of-limit on Raijin, takes some time to load into mem\n",
    "\n",
    "print type(nar), nar.shape\n",
    "\n",
    "print numpy.sum(nar != -999)"
   ]
  },
  {
   "cell_type": "code",
   "execution_count": 18,
   "metadata": {
    "collapsed": false
   },
   "outputs": [
    {
     "name": "stdout",
     "output_type": "stream",
     "text": [
      "<xarray.DataArray 'pixelquality' (y: 4000, x: 4000)>\n",
      "dask.array<getitem..., shape=(4000, 4000), dtype=int16, chunksize=(4000, 4000)>\n",
      "Coordinates:\n",
      "    time     datetime64[ns] 2013-04-11T23:46:35.385577\n",
      "  * y        (y) float64 -3.9e+06 -3.9e+06 -3.9e+06 -3.9e+06 -3.9e+06 ...\n",
      "  * x        (x) float64 1.5e+06 1.5e+06 1.5e+06 1.5e+06 1.5e+06 1.5e+06 ...\n",
      "Attributes:\n",
      "    units: 1\n",
      "    long_name: Quality Control\n",
      "    flags_definition: {u'cloud_shadow_acca': {u'bit_index': 12, u'description': u'Cloud Shadow (ACCA)', u'value': 0}, u'cloud_acca': {u'bit_index': 10, u'description': u'Cloud (ACCA)', u'value': 0}, u'land_obs': {u'bit_index': 9, u'description': u'Land observation', u'value': 1}, u'band_1_saturated': {u'bit_index': 0, u'description': u'Band 1 is saturated', u'value': 0}, u'contiguity': {u'bit_index': 8, u'description': u'All bands for this pixel contain non-null values', u'value': 1}, u'band_2_saturated': {u'bit_i...\n"
     ]
    }
   ],
   "source": [
    "print pq_tile"
   ]
  },
  {
   "cell_type": "raw",
   "metadata": {},
   "source": []
  },
  {
   "cell_type": "code",
   "execution_count": 13,
   "metadata": {
    "collapsed": true
   },
   "outputs": [],
   "source": [
    "ar = nbar_tile.load()"
   ]
  },
  {
   "cell_type": "code",
   "execution_count": 54,
   "metadata": {
    "collapsed": false
   },
   "outputs": [
    {
     "name": "stdout",
     "output_type": "stream",
     "text": [
      "2584.26808 2094.8103964\n"
     ]
    }
   ],
   "source": [
    "#Ga pond (latcoord, loncoord) from the top left corner \n",
    "#149.16032 -35.34236 ==>Transformed to ==> 1552370.25991 -3964606.702\n",
    "ga_xlon= (1552370.25991-1500000)/25\n",
    "ga_ylat= (3964606.702 -3900000.)/25\n",
    "print ga_ylat, ga_xlon"
   ]
  },
  {
   "cell_type": "code",
   "execution_count": 14,
   "metadata": {
    "collapsed": false
   },
   "outputs": [
    {
     "name": "stdout",
     "output_type": "stream",
     "text": [
      "<xarray.DataArray u'ls8_nbar_albers' (variable: 6)>\n",
      "array([-999, -999, -999, -999, -999, -999], dtype=int16)\n",
      "Coordinates:\n",
      "    time      datetime64[ns] 2013-04-11T23:46:35.385577\n",
      "    y         float64 -3.965e+06\n",
      "    x         float64 1.552e+06\n",
      "  * variable  (variable) <U6 u'band_2' u'band_3' u'band_4' u'band_5' ...\n",
      "Attributes:\n",
      "    _FillValue: -999\n",
      "<xarray.DataArray u'ls8_nbar_albers' (variable: 6)>\n",
      "array([-999, -999, -999, -999, -999, -999], dtype=int16)\n",
      "Coordinates:\n",
      "    time      datetime64[ns] 2013-04-11T23:46:35.385577\n",
      "    y         float64 -3.901e+06\n",
      "    x         float64 1.501e+06\n",
      "  * variable  (variable) <U6 u'band_2' u'band_3' u'band_4' u'band_5' ...\n",
      "Attributes:\n",
      "    _FillValue: -999\n",
      "<xarray.DataArray u'ls8_nbar_albers' (variable: 6)>\n",
      "array([-999, -999, -999, -999, -999, -999], dtype=int16)\n",
      "Coordinates:\n",
      "    time      datetime64[ns] 2013-04-11T23:46:35.385577\n",
      "    y         float64 -4e+06\n",
      "    x         float64 1.598e+06\n",
      "  * variable  (variable) <U6 u'band_2' u'band_3' u'band_4' u'band_5' ...\n",
      "Attributes:\n",
      "    _FillValue: -999\n",
      "<xarray.DataArray u'ls8_nbar_albers' (variable: 6)>\n",
      "array([-999, -999, -999, -999, -999, -999], dtype=int16)\n",
      "Coordinates:\n",
      "    time      datetime64[ns] 2013-04-11T23:46:35.385577\n",
      "    y         float64 -3.901e+06\n",
      "    x         float64 1.598e+06\n",
      "  * variable  (variable) <U6 u'band_2' u'band_3' u'band_4' u'band_5' ...\n",
      "Attributes:\n",
      "    _FillValue: -999\n",
      "<xarray.DataArray u'ls8_nbar_albers' (variable: 6)>\n",
      "array([-999, -999, -999, -999, -999, -999], dtype=int16)\n",
      "Coordinates:\n",
      "    time      datetime64[ns] 2013-04-11T23:46:35.385577\n",
      "    y         float64 -4e+06\n",
      "    x         float64 1.501e+06\n",
      "  * variable  (variable) <U6 u'band_2' u'band_3' u'band_4' u'band_5' ...\n",
      "Attributes:\n",
      "    _FillValue: -999\n"
     ]
    }
   ],
   "source": [
    "print ar[:,2584,2095]\n",
    "print ar[:,39,39]\n",
    "print ar[:,3999,3900]\n",
    "print ar[:,39,3900]\n",
    "print ar[:,3999,39]"
   ]
  },
  {
   "cell_type": "code",
   "execution_count": 48,
   "metadata": {
    "collapsed": false
   },
   "outputs": [
    {
     "name": "stdout",
     "output_type": "stream",
     "text": [
      "-2356.0099592 2027.6042\n"
     ]
    }
   ],
   "source": [
    "#\"Lake Berly-Griffin At long: 149.13356, lat: -35.29351 WOfS 99.5%\"\n",
    "#transformed to (1550690.105 -3958900.24898)\n",
    "y=(3900000 -3958900.24898)/25  #lat\n",
    "x= (1550690.105-1500000.)/25   #lon\n",
    "print y, x"
   ]
  },
  {
   "cell_type": "code",
   "execution_count": null,
   "metadata": {
    "collapsed": true
   },
   "outputs": [],
   "source": []
  },
  {
   "cell_type": "code",
   "execution_count": 15,
   "metadata": {
    "collapsed": false
   },
   "outputs": [
    {
     "name": "stdout",
     "output_type": "stream",
     "text": [
      "<xarray.DataArray u'ls8_nbar_albers' (variable: 6)>\n",
      "array([-999, -999, -999, -999, -999, -999], dtype=int16)\n",
      "Coordinates:\n",
      "    time      datetime64[ns] 2013-04-11T23:46:35.385577\n",
      "    y         float64 -3.959e+06\n",
      "    x         float64 1.551e+06\n",
      "  * variable  (variable) <U6 u'band_2' u'band_3' u'band_4' u'band_5' ...\n",
      "Attributes:\n",
      "    _FillValue: -999\n"
     ]
    }
   ],
   "source": [
    "print ar[:,2356,2028]  #lake berleyGriffin in cell 15_-40"
   ]
  },
  {
   "cell_type": "code",
   "execution_count": 10,
   "metadata": {
    "collapsed": false
   },
   "outputs": [
    {
     "data": {
      "text/plain": [
       "<matplotlib.collections.QuadMesh at 0x7f1a8e37e3d0>"
      ]
     },
     "execution_count": 10,
     "metadata": {},
     "output_type": "execute_result"
    },
    {
     "data": {
      "image/png": "[encoded data removed]"
     },
     "metadata": {},
     "output_type": "display_data"
    }
   ],
   "source": [
    "#nbar_tile[0].plot()\n",
    "nbar_tile[0].plot()"
   ]
  },
  {
   "cell_type": "markdown",
   "metadata": {},
   "source": [
    "Plot a low-res copy of no-data"
   ]
  },
  {
   "cell_type": "code",
   "execution_count": 11,
   "metadata": {
    "collapsed": false
   },
   "outputs": [
    {
     "data": {
      "text/plain": [
       "<matplotlib.image.AxesImage at 0x7f1a8e36ff90>"
      ]
     },
     "execution_count": 11,
     "metadata": {},
     "output_type": "execute_result"
    },
    {
     "data": {
      "image/png": "[encoded data removed]"
     },
     "metadata": {},
     "output_type": "display_data"
    }
   ],
   "source": [
    "no_data_tile = (~xr.ufuncs.isfinite(nbar_tile)).any(dim='variable')\n",
    "no_data_tile[::10, ::10].plot.imshow()"
   ]
  },
  {
   "cell_type": "markdown",
   "metadata": {},
   "source": [
    "## Pixel Masking"
   ]
  },
  {
   "cell_type": "code",
   "execution_count": 19,
   "metadata": {
    "collapsed": false
   },
   "outputs": [
    {
     "name": "stdout",
     "output_type": "stream",
     "text": [
      "<class 'xarray.core.dataarray.DataArray'>\n"
     ]
    }
   ],
   "source": [
    "nump= pq_tile.load()\n",
    "print type(nump)"
   ]
  },
  {
   "cell_type": "code",
   "execution_count": 20,
   "metadata": {
    "collapsed": false
   },
   "outputs": [
    {
     "data": {
      "text/plain": [
       "<matplotlib.collections.QuadMesh at 0x7f1a8f980fd0>"
      ]
     },
     "execution_count": 20,
     "metadata": {},
     "output_type": "execute_result"
    },
    {
     "data": {
      "image/png": "[encoded data removed]"
     },
     "metadata": {},
     "output_type": "display_data"
    }
   ],
   "source": [
    "nump.plot()"
   ]
  },
  {
   "cell_type": "code",
   "execution_count": 21,
   "metadata": {
    "collapsed": false
   },
   "outputs": [
    {
     "name": "stdout",
     "output_type": "stream",
     "text": [
      "Bits are listed from the MSB (bit 13) to the LSB (bit 0)\n",
      "Bit     Value   Flag Name            Description\n",
      "13      0       cloud_shadow_fmask   Cloud Shadow (Fmask)\n",
      "12      0       cloud_shadow_acca    Cloud Shadow (ACCA)\n",
      "11      0       cloud_fmask          Cloud (Fmask)\n",
      "10      0       cloud_acca           Cloud (ACCA)\n",
      "9       1       land_obs             Land observation\n",
      "9       0       sea_obs              Sea observation\n",
      "8       1       contiguity           All bands for this pixel contain non-null values\n",
      "7       0       band_7_saturated     Band 7 is saturated\n",
      "6       0       band_6_2_saturated   Band 6-2 is saturated\n",
      "5       0       band_6_1_saturated   Band 6-1 is saturated\n",
      "4       0       band_5_saturated     Band 5 is saturated\n",
      "3       0       band_4_saturated     Band 4 is saturated\n",
      "2       0       band_3_saturated     Band 3 is saturated\n",
      "1       0       band_2_saturated     Band 2 is saturated\n",
      "0       0       band_1_saturated     Band 1 is saturated\n"
     ]
    }
   ],
   "source": [
    "print describe_flags(pq_tile)"
   ]
  },
  {
   "cell_type": "code",
   "execution_count": 22,
   "metadata": {
    "collapsed": false
   },
   "outputs": [
    {
     "name": "stdout",
     "output_type": "stream",
     "text": [
      "<class 'xarray.core.dataarray.DataArray'>\n"
     ]
    },
    {
     "data": {
      "text/plain": [
       "<matplotlib.collections.QuadMesh at 0x7f1a8f7fa750>"
      ]
     },
     "execution_count": 22,
     "metadata": {},
     "output_type": "execute_result"
    },
    {
     "data": {
      "image/png": "[encoded data removed]"
     },
     "metadata": {},
     "output_type": "display_data"
    }
   ],
   "source": [
    "print type(pq_tile)\n",
    "clouds_tile = ~make_mask(pq_tile, cloud_fmask=False, cloud_acca=False)\n",
    "clouds_tile.plot()"
   ]
  },
  {
   "cell_type": "code",
   "execution_count": 23,
   "metadata": {
    "collapsed": false
   },
   "outputs": [
    {
     "data": {
      "text/plain": [
       "<matplotlib.collections.QuadMesh at 0x7f1a8f65ec90>"
      ]
     },
     "execution_count": 23,
     "metadata": {},
     "output_type": "execute_result"
    },
    {
     "data": {
      "image/png": "[encoded data removed]"
     },
     "metadata": {},
     "output_type": "display_data"
    }
   ],
   "source": [
    "masked_tile = make_mask(pq_tile, cloud_fmask=True, contiguity=True)\n",
    "masked_tile.plot()"
   ]
  },
  {
   "cell_type": "code",
   "execution_count": 24,
   "metadata": {
    "collapsed": false
   },
   "outputs": [
    {
     "data": {
      "text/plain": [
       "<matplotlib.collections.QuadMesh at 0x7f1a8f54ddd0>"
      ]
     },
     "execution_count": 24,
     "metadata": {},
     "output_type": "execute_result"
    },
    {
     "data": {
      "image/png": "[encoded data removed]"
     },
     "metadata": {},
     "output_type": "display_data"
    }
   ],
   "source": [
    "masked_tile = make_mask(pq_tile, land_obs=True)\n",
    "masked_tile.plot()"
   ]
  },
  {
   "cell_type": "code",
   "execution_count": 24,
   "metadata": {
    "collapsed": false
   },
   "outputs": [
    {
     "data": {
      "text/plain": [
       "<xarray.DataArray 'pixelquality' ()>\n",
       "array(13311, dtype=int16)\n",
       "Coordinates:\n",
       "    time     datetime64[ns] 2006-01-25T23:40:46.340063\n",
       "    y        float64 -3.998e+06\n",
       "    x        float64 1.5e+06\n",
       "Attributes:\n",
       "    units: 1\n",
       "    long_name: Quality Control\n",
       "    flags_definition: {u'cloud_shadow_acca': {u'bit_index': 12, u'description': u'Cloud Shadow (ACCA)', u'value': 0}, u'cloud_acca': {u'bit_index': 10, u'description': u'Cloud (ACCA)', u'value': 0}, u'land_obs': {u'bit_index': 9, u'description': u'Land observation', u'value': 1}, u'band_1_saturated': {u'bit_index': 0, u'description': u'Band 1 is saturated', u'value': 0}, u'contiguity': {u'bit_index': 8, u'description': u'All bands for this pixel contain non-null values', u'value': 1}, u'band_2_saturated': {u'bit_i..."
      ]
     },
     "execution_count": 24,
     "metadata": {},
     "output_type": "execute_result"
    }
   ],
   "source": [
    "#pq_tile.pixelquality[3900, 10].load()\n",
    "\n",
    "pq_tile[3900, 10].load()"
   ]
  },
  {
   "cell_type": "code",
   "execution_count": 26,
   "metadata": {
    "collapsed": false
   },
   "outputs": [
    {
     "data": {
      "text/plain": [
       "array(13311, dtype=int16)"
      ]
     },
     "execution_count": 26,
     "metadata": {},
     "output_type": "execute_result"
    }
   ],
   "source": [
    "pq_tile[3900, 10].values"
   ]
  },
  {
   "cell_type": "code",
   "execution_count": 27,
   "metadata": {
    "collapsed": false
   },
   "outputs": [
    {
     "data": {
      "text/plain": [
       "<matplotlib.collections.QuadMesh at 0x7f9933122850>"
      ]
     },
     "execution_count": 27,
     "metadata": {},
     "output_type": "execute_result"
    },
    {
     "data": {
      "image/png": "[encoded data removed]"
     },
     "metadata": {},
     "output_type": "display_data"
    }
   ],
   "source": [
    "masked_tile = make_mask(pq_tile, contiguity=True)  # no data?\n",
    "masked_tile.plot()"
   ]
  },
  {
   "cell_type": "markdown",
   "metadata": {},
   "source": [
    "### Chunking\n",
    "Sometimes the underlying data has different chunk sizes, and must be re-aligned to make use of dask functions.\n",
    "\n",
    "We may have to align the datasets to perform operations such as `bitwise_and` (i.e. `&`)."
   ]
  },
  {
   "cell_type": "code",
   "execution_count": null,
   "metadata": {
    "collapsed": true
   },
   "outputs": [],
   "source": [
    "print \"Clouds chunks: \", clouds_tile.chunks\n",
    "print \"No Data chunks: \", no_data_tile.chunks\n",
    "\n",
    "if clouds_tile.chunks != no_data_tile.chunks:\n",
    "    print \"Re-chunking clouds!\"\n",
    "    clouds_tile = clouds_tile.chunk(no_data_tile.chunks)\n",
    "else:\n",
    "    print \"Chunk alignment is OK!\""
   ]
  },
  {
   "cell_type": "code",
   "execution_count": null,
   "metadata": {
    "collapsed": true
   },
   "outputs": [],
   "source": [
    "clouds_with_data = (clouds_tile & ~no_data_tile)\n",
    "clouds_with_data.plot()"
   ]
  },
  {
   "cell_type": "code",
   "execution_count": null,
   "metadata": {
    "collapsed": true
   },
   "outputs": [],
   "source": [
    "#How to run a program: %run testagdcv2_env.py"
   ]
  }
 ],
 "metadata": {
  "kernelspec": {
   "display_name": "Python 2",
   "language": "python",
   "name": "python2"
  },
  "language_info": {
   "codemirror_mode": {
    "name": "ipython",
    "version": 2
   },
   "file_extension": ".py",
   "mimetype": "text/x-python",
   "name": "python",
   "nbconvert_exporter": "python",
   "pygments_lexer": "ipython2",
   "version": "2.7.11"
  }
 },
 "nbformat": 4,
 "nbformat_minor": 0
}
