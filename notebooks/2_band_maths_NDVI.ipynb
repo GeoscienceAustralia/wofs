{
 "cells": [
  {
   "cell_type": "markdown",
   "metadata": {},
   "source": [
    "# Australian Geoscience Datacube API\n",
    "Perform band maths and produce a Normalised Difference Vegetation Index (NDVI) file."
   ]
  },
  {
   "cell_type": "code",
   "execution_count": null,
   "metadata": {
    "collapsed": false
   },
   "outputs": [],
   "source": [
    "# do this if you want to import python from a specific agdc-v2 code directory\n",
    "\n",
    "import sys\n",
    "\n",
    "def setup_env(agdc2dev):\n",
    "\n",
    "    paths=sys.path\n",
    "    #paths.append(agdc2dev)\n",
    "    paths.insert(0, agdc2dev)  #prepend the agdc-v2 path for import\n",
    "    \n",
    "    print \"Now, your import search paths: \"\n",
    "    for p in  sys.path:\n",
    "        print p\n",
    "        \n",
    "        \n"
   ]
  },
  {
   "cell_type": "code",
   "execution_count": null,
   "metadata": {
    "collapsed": false
   },
   "outputs": [],
   "source": [
    "# Please change to your own agdc-v2 code dir in below function call:\n",
    "my_agdc2 = '/g/data1/u46/fxz547/Githubz/agdc-v2'\n",
    "setup_env( my_agdc2 )"
   ]
  },
  {
   "cell_type": "code",
   "execution_count": null,
   "metadata": {
    "collapsed": false
   },
   "outputs": [],
   "source": [
    "\n",
    "%matplotlib inline\n",
    "from matplotlib import pyplot as plt\n",
    "\n",
    "import datacube.api\n",
    "from pprint import pprint\n",
    "\n",
    "from IPython.display import display\n",
    "from collections import defaultdict\n",
    "\n",
    "import xarray as xr\n",
    "import xarray.ufuncs\n",
    "\n",
    "from datacube.api import API\n",
    "from datacube.index import index_connect\n",
    "from datacube.config import LocalConfig\n",
    "from datacube.api._conversion import to_datetime\n",
    "from datacube.api import make_mask, describe_flags\n"
   ]
  },
  {
   "cell_type": "code",
   "execution_count": null,
   "metadata": {
    "collapsed": false
   },
   "outputs": [],
   "source": [
    "# which datacube connection\n",
    "# it's up to you to use this hack\n",
    "\n",
    "force_prod = True \n",
    "\n",
    "if force_prod:\n",
    "    prod_config = LocalConfig.find(['/g/data/v10/public/modules/agdc-py2-prod/1.0.2/datacube.conf'])\n",
    "    prod_index = index_connect(prod_config, application_name='api-WOfS-dev')\n",
    "    dc = API(prod_index)\n",
    "else:\n",
    "    dc = API(application_name='api-WOfS-dev')"
   ]
  },
  {
   "cell_type": "code",
   "execution_count": null,
   "metadata": {
    "collapsed": true
   },
   "outputs": [],
   "source": [
    "nbar = dc.get_dataset(product='nbar', platform='LANDSAT_5', \n",
    "                      y=(-34.95,-35.05), x=(148.95,149.05), \n",
    "                      variables=['band_3', 'band_4'])"
   ]
  },
  {
   "cell_type": "markdown",
   "metadata": {},
   "source": [
    "We are working on a semantics layer to be able to use alias for band names, but for now, we have to rely on the knowledge that band_30 is red, and band_40 is near-infrared."
   ]
  },
  {
   "cell_type": "code",
   "execution_count": null,
   "metadata": {
    "collapsed": true
   },
   "outputs": [],
   "source": [
    "red = nbar.band_3\n",
    "nir = nbar.band_4"
   ]
  },
  {
   "cell_type": "markdown",
   "metadata": {},
   "source": [
    "We can select the first time index and plot the first timeslice."
   ]
  },
  {
   "cell_type": "code",
   "execution_count": null,
   "metadata": {
    "collapsed": false
   },
   "outputs": [],
   "source": [
    "nir.isel(time=0).plot()"
   ]
  },
  {
   "cell_type": "markdown",
   "metadata": {},
   "source": [
    "We can also select a range on the spatial dimensions."
   ]
  },
  {
   "cell_type": "code",
   "execution_count": null,
   "metadata": {
    "collapsed": false
   },
   "outputs": [],
   "source": [
    "red.isel(time=0).sel(y=slice(-3920000.5,-3926000.5), x=slice(1542112, 1563962)).plot()"
   ]
  },
  {
   "cell_type": "markdown",
   "metadata": {},
   "source": [
    "NDVI compares the red and near-infrared bands:"
   ]
  },
  {
   "cell_type": "code",
   "execution_count": null,
   "metadata": {
    "collapsed": true
   },
   "outputs": [],
   "source": [
    "ndvi = (nir - red) / (nir + red)\n",
    "ndvi.name = 'Normalised Difference Vegetation Index'"
   ]
  },
  {
   "cell_type": "markdown",
   "metadata": {},
   "source": [
    "The `ndvi` array has values across the spatial and time dimensions."
   ]
  },
  {
   "cell_type": "code",
   "execution_count": null,
   "metadata": {
    "collapsed": false
   },
   "outputs": [],
   "source": [
    "ndvi"
   ]
  },
  {
   "cell_type": "markdown",
   "metadata": {},
   "source": [
    "We can select an individual time layer to make a labelled plot:"
   ]
  },
  {
   "cell_type": "code",
   "execution_count": null,
   "metadata": {
    "collapsed": false
   },
   "outputs": [],
   "source": [
    "ndvi.isel(time=0).plot()"
   ]
  },
  {
   "cell_type": "markdown",
   "metadata": {},
   "source": [
    "We have set up the calculation of NDVI to happen for all timeslices. It will be computed when the data is requested, either explicitly by calling `ndvi.load()`, or by a function that accesses the data, such as plotting:\n",
    "(This can take a while...)"
   ]
  },
  {
   "cell_type": "code",
   "execution_count": null,
   "metadata": {
    "collapsed": false
   },
   "outputs": [],
   "source": [
    "ndvi.isel(time=[3,4,9,13]).plot(col='time')"
   ]
  },
  {
   "cell_type": "markdown",
   "metadata": {},
   "source": [
    "The xarray can be turned into a Dataset, which can then be saved across all of the timeseries to a NetCDF file."
   ]
  },
  {
   "cell_type": "code",
   "execution_count": null,
   "metadata": {
    "collapsed": true
   },
   "outputs": [],
   "source": [
    "ds_ndvi = ndvi[:100,:100,:100].to_dataset(name='ndvi')\n",
    "ds_ndvi.to_netcdf('ndvi.nc')"
   ]
  },
  {
   "cell_type": "markdown",
   "metadata": {},
   "source": [
    "### Transposing dimensions"
   ]
  },
  {
   "cell_type": "code",
   "execution_count": null,
   "metadata": {
    "collapsed": false
   },
   "outputs": [],
   "source": [
    "visible = dc.get_data_array(product='nbar', platform='LANDSAT_5', \n",
    "                      y=(-35.26,-35.32), x=(149.09,149.17), \n",
    "                      variables=['band_1', 'band_2', 'band_3'])\n",
    "visible.dims"
   ]
  },
  {
   "cell_type": "markdown",
   "metadata": {},
   "source": [
    "We will clip and scale the image to improve the contrast of the visible bands."
   ]
  },
  {
   "cell_type": "code",
   "execution_count": null,
   "metadata": {
    "collapsed": true
   },
   "outputs": [],
   "source": [
    "fake_saturation = 1500\n",
    "clipped_visible = visible.where(visible<fake_saturation).fillna(fake_saturation)\n",
    "max_val = clipped_visible.max(['y', 'x'])\n",
    "scaled = (clipped_visible / max_val)"
   ]
  },
  {
   "cell_type": "code",
   "execution_count": null,
   "metadata": {
    "collapsed": false
   },
   "outputs": [],
   "source": [
    "rgb = scaled.transpose('time', 'y', 'x', 'variable')\n",
    "rgb.dims"
   ]
  },
  {
   "cell_type": "code",
   "execution_count": null,
   "metadata": {
    "collapsed": false
   },
   "outputs": [],
   "source": [
    "plt.imshow(rgb.isel(time=16))"
   ]
  },
  {
   "cell_type": "code",
   "execution_count": null,
   "metadata": {
    "collapsed": true
   },
   "outputs": [],
   "source": [
    "import matplotlib.image\n",
    "matplotlib.image.imsave('ndvi.png', rgb.isel(time=16))"
   ]
  },
  {
   "cell_type": "markdown",
   "metadata": {},
   "source": [
    "## Behind the scenes"
   ]
  },
  {
   "cell_type": "markdown",
   "metadata": {},
   "source": [
    "The ndvi result is performed by chaining a series of operations together on a per-chunk basis. The execution tree, including the masking on the `nodata` value done by the API, ends up being the same for each chunk. The graph can be read from the bottom up, with the ouput array chunks at the top.\n",
    "(Double-click the tree-graph image below to zoom)"
   ]
  },
  {
   "cell_type": "code",
   "execution_count": null,
   "metadata": {
    "collapsed": false
   },
   "outputs": [],
   "source": [
    "ndvi.data.visualize()"
   ]
  },
  {
   "cell_type": "markdown",
   "metadata": {},
   "source": [
    "If we look at a single chunk, the NDVI calculation can be seen where the lines cross over to the `add` and `sub` circles.\n",
    "Some optimizarion has taken place: the `div` operation has been combined with another inline function, and the other chunks have been discarded."
   ]
  },
  {
   "cell_type": "code",
   "execution_count": null,
   "metadata": {
    "collapsed": false
   },
   "outputs": [],
   "source": [
    "partial = ndvi[0,0,0]\n",
    "partial.data.visualize(optimize_graph=True)"
   ]
  }
 ],
 "metadata": {
  "kernelspec": {
   "display_name": "Python 2",
   "language": "python",
   "name": "python2"
  },
  "language_info": {
   "codemirror_mode": {
    "name": "ipython",
    "version": 2
   },
   "file_extension": ".py",
   "mimetype": "text/x-python",
   "name": "python",
   "nbconvert_exporter": "python",
   "pygments_lexer": "ipython2",
   "version": "2.7.11"
  }
 },
 "nbformat": 4,
 "nbformat_minor": 0
}
