{
 "cells": [
  {
   "cell_type": "code",
   "execution_count": 2,
   "metadata": {
    "collapsed": false
   },
   "outputs": [
    {
     "name": "stdout",
     "output_type": "stream",
     "text": [
      "73.7631743567 0.279608256707\n"
     ]
    }
   ],
   "source": [
    "#See https://gist.github.com/v0lat1le/6446217eeefd26a38d98\n",
    "# a lot of shadows was generated already in dir /g/data/u46/wofs/shadows, \n",
    "# this code will only run if to generate new shadow masks.\n",
    "# [fxz547@raijin1 wofs]$ ls -l /g/data/u46/wofs/shadows/144_-026 | head\n",
    "# total 9004076\n",
    "# -rw-rw----+ 1 smr547 u46 5654657 Jul 28  2014 TSM_144_-026_1987-05-25T23-36-31.183013.tif\n",
    "# -rw-rw----+ 1 smr547 u46 5673866 Jul 28  2014 TSM_144_-026_1987-07-12T23-37-32.974094.tif\n",
    "# -rw-rw----+ 1 smr547 u46 5809501 Jul 28  2014 TSM_144_-026_1987-09-05T23-44-49.629019.tif\n",
    "# -rw-rw----+ 1 smr547 u46  304682 Jul  2  2015 TSM_144_-026_1987-09-05T23-45-13.822031.tif\n",
    "# -rw-rw----+ 1 smr547 u46 5817023 Jul 28  2014 TSM_144_-026_1987-09-12T23-51-10.959000.tif\n",
    "# -rw-rw----+ 1 smr547 u46 5859417 Jul 28  2014 TSM_144_-026_1987-09-14T23-39-16.284063.tif\n",
    "\n",
    "%matplotlib inline\n",
    "\n",
    "import ephem\n",
    "from math import degrees, radians, tan, cos, fabs\n",
    "import numpy as np\n",
    "from datetime import datetime, timedelta\n",
    "import matplotlib.pyplot as plot\n",
    "\n",
    "UNKNOWN = -1\n",
    "LIT = 255\n",
    "SHADED = 0\n",
    "\n",
    "lon = 135.5\n",
    "lat = -34.5\n",
    "\n",
    "observer = ephem.Observer()\n",
    "observer.lon = radians(lon)\n",
    "observer.lat = radians(lat)\n",
    "observer.date = datetime(2015, 12, 18, 12, 0, 0)-timedelta(hours=10)\n",
    "sun_pos = ephem.Sun(observer)\n",
    "sun_alt_deg = degrees(sun_pos.alt)\n",
    "sun_az_deg  = degrees(sun_pos.az)\n",
    "\n",
    "print sun_alt_deg, np.sin(np.pi/2.0-sun_pos.alt)\n",
    "\n",
    "xs = np.arange(15000)\n",
    "terrain = np.zeros(15000)\n",
    "terrain[2500:12500] = len(xs)*np.sin(np.arange(10000)*2*np.pi/10000)**2\n",
    "#terrain[:6000] = -1000"
   ]
  },
  {
   "cell_type": "code",
   "execution_count": 3,
   "metadata": {
    "collapsed": true
   },
   "outputs": [],
   "source": [
    "# original _shadeRow from wofs/bordered_dsm.py\n",
    "def _shadeRow(shade_mask, elev_M, sun_alt_deg, pixel_scale_M, no_data) :\n",
    "    \"\"\" \n",
    "    shade the supplied row of the elevation model\n",
    "    \"\"\"\n",
    "\n",
    "    # threshold is TAN of sun's altitude\n",
    "    tanSunAlt = tan(radians(sun_alt_deg))\n",
    "\n",
    "    # look for first pixel with valid elevation\n",
    "    cols = len(elev_M)\n",
    "    for i in range(0, cols) :\n",
    "        if elev_M[i] == no_data :\n",
    "            shade_mask[i] = UNKNOWN\n",
    "        else:\n",
    "            shade_mask[i] = LIT\n",
    "            break\n",
    "\n",
    "    # now walk the remainder of the row, setting the mask as we go\n",
    "    halfPixel = -pixel_scale_M / 2.0\n",
    "    base = halfPixel\n",
    "    lastLitHeight = 0.0\n",
    "    for i in range(i+10, cols) :\n",
    "        thisHeight = elev_M[i]\n",
    "\n",
    "        # finish if at a no_data zone\n",
    "        if thisHeight == no_data:\n",
    "           break\n",
    "\n",
    "        heightDiff = lastLitHeight - thisHeight\n",
    "        base += pixel_scale_M\n",
    "        if heightDiff <= 0.0 :\n",
    "            shade_mask[i] = LIT\n",
    "            lastLitHeight = thisHeight\n",
    "            base = halfPixel\n",
    "        else:\n",
    "            tanTerrain = heightDiff / base\n",
    "            if tanTerrain < tanSunAlt :\n",
    "                shade_mask[i] = LIT\n",
    "                lastLitHeight = thisHeight\n",
    "                base = halfPixel\n",
    "            else:\n",
    "                shade_mask[i] = SHADED\n",
    "\n",
    "    return shade_mask"
   ]
  },
  {
   "cell_type": "code",
   "execution_count": 4,
   "metadata": {
    "collapsed": true
   },
   "outputs": [],
   "source": [
    "# bugfix version of _shadeRow\n",
    "# removed halfPixel adjustment since it leads to incorrect terrain slope values\n",
    "# changed 'for i in range(i+10, cols):' to 'for i in range(i+1, cols):' since it just skips some data... typo?\n",
    "def _shadeRowBugfix(shade_mask, elev_M, sun_alt_deg, pixel_scale_M, no_data) :\n",
    "    \"\"\" \n",
    "    shade the supplied row of the elevation model\n",
    "    \"\"\"\n",
    "    # threshold is TAN of sun's altitude\n",
    "    tanSunAlt = tan(radians(sun_alt_deg))\n",
    "\n",
    "    # look for first pixel with valid elevation\n",
    "    cols = len(elev_M)\n",
    "    for i in range(0, cols) :\n",
    "        if elev_M[i] == no_data :\n",
    "            shade_mask[i] = UNKNOWN\n",
    "        else:\n",
    "            shade_mask[i] = LIT\n",
    "            break\n",
    "\n",
    "    # now walk the remainder of the row, setting the mask as we go\n",
    "    base = 0\n",
    "    lastLitHeight = 0.0\n",
    "    for i in range(i+1, cols):\n",
    "        thisHeight = elev_M[i]\n",
    "\n",
    "        # finish if at a no_data zone\n",
    "        if thisHeight == no_data:\n",
    "           break\n",
    "\n",
    "        heightDiff = lastLitHeight - thisHeight\n",
    "        base += pixel_scale_M\n",
    "        if heightDiff <= 0.0 :\n",
    "            shade_mask[i] = LIT\n",
    "            lastLitHeight = thisHeight\n",
    "            base = 0\n",
    "        else:\n",
    "            tanTerrain = heightDiff / base\n",
    "            if tanTerrain < tanSunAlt:\n",
    "                shade_mask[i] = LIT\n",
    "                lastLitHeight = thisHeight\n",
    "                base = 0\n",
    "            else:\n",
    "                shade_mask[i] = SHADED\n",
    "\n",
    "    return shade_mask"
   ]
  },
  {
   "cell_type": "code",
   "execution_count": 5,
   "metadata": {
    "collapsed": true
   },
   "outputs": [],
   "source": [
    "# fast version of _shadeRow\n",
    "# vectorizing some operation with numpy\n",
    "def _shadeRowFast(shade_mask, elev_M, sun_alt_deg, pixel_scale_M, no_data) :\n",
    "    \"\"\" \n",
    "    shade the supplied row of the elevation model\n",
    "    \"\"\"\n",
    "\n",
    "    # threshold is TAN of sun's altitude\n",
    "    tanSunAlt = np.tan(radians(sun_alt_deg))\n",
    "\n",
    "    # pure terrain angle shadow\n",
    "    shade_mask[0] = LIT\n",
    "    shade_mask[1:] = np.where((elev_M[:-1]-elev_M[1:])/pixel_scale_M < tanSunAlt, LIT, SHADED)\n",
    "\n",
    "    # project shadows from tips (light->shadow transition)\n",
    "    switch = np.where(shade_mask[:-1] != shade_mask[1:])\n",
    "    for i in switch[0]:\n",
    "        if shade_mask[i] == LIT:\n",
    "            shadow_level = elev_M[i]-np.arange(shade_mask.size-i)*(tanSunAlt*pixel_scale_M)\n",
    "            shade_mask[i:][shadow_level > elev_M[i:]] = SHADED\n",
    "\n",
    "    shade_mask[elev_M == no_data] = UNKNOWN\n",
    "\n",
    "    return shade_mask"
   ]
  },
  {
   "cell_type": "code",
   "execution_count": 6,
   "metadata": {
    "collapsed": true
   },
   "outputs": [],
   "source": [
    "# helper function to visualize terrain self-shadow as shaded regions\n",
    "def plot_shadow(shadow, color='gray', alpha=0.4):\n",
    "    def plot_span(a, b):\n",
    "        plot.axvspan(a, b, color=color, alpha=alpha, lw=1)\n",
    "        \n",
    "    switches = np.flatnonzero(shadow[:-1] != shadow[1:])\n",
    "    if shadow[switches[0]] == SHADED:\n",
    "        plot_span(0, switches[0])    \n",
    "    for i in range(1 if shadow[switches[0]] == SHADED else 0, len(switches)-1, 2):\n",
    "        plot_span(switches[i]+1, switches[i+1])\n",
    "    if shadow[switches[-1]] == LIT:\n",
    "        plot_span(switches[-1]+1, len(shadow))"
   ]
  },
  {
   "cell_type": "code",
   "execution_count": 7,
   "metadata": {
    "collapsed": false
   },
   "outputs": [
    {
     "name": "stdout",
     "output_type": "stream",
     "text": [
      "100 loops, best of 3: 10.6 ms per loop\n"
     ]
    }
   ],
   "source": [
    "\n",
    "# time original version\n",
    "originalResult = np.zeros(terrain.shape, dtype=np.int16)\n",
    "%timeit _shadeRow(originalResult, terrain, sun_alt_deg, 1.0, -1000)"
   ]
  },
  {
   "cell_type": "code",
   "execution_count": 8,
   "metadata": {
    "collapsed": false
   },
   "outputs": [
    {
     "name": "stdout",
     "output_type": "stream",
     "text": [
      "100 loops, best of 3: 10.3 ms per loop\n"
     ]
    }
   ],
   "source": [
    "# time bugfix version\n",
    "bugfixResult = np.zeros(terrain.shape, dtype=np.int16)\n",
    "%timeit _shadeRowBugfix(bugfixResult, terrain, sun_alt_deg, 1.0, -1000)"
   ]
  },
  {
   "cell_type": "code",
   "execution_count": 9,
   "metadata": {
    "collapsed": false
   },
   "outputs": [
    {
     "name": "stdout",
     "output_type": "stream",
     "text": [
      "The slowest run took 52.85 times longer than the fastest. This could mean that an intermediate result is being cached \n",
      "1000 loops, best of 3: 254 µs per loop\n"
     ]
    }
   ],
   "source": [
    "# time fast version\n",
    "fastResult = np.zeros(terrain.shape, dtype=np.int16)\n",
    "%timeit _shadeRowFast(fastResult, terrain, sun_alt_deg, 1.0, -1000)"
   ]
  },
  {
   "cell_type": "code",
   "execution_count": 10,
   "metadata": {
    "collapsed": false
   },
   "outputs": [
    {
     "data": {
      "text/plain": [
       "(array([    1,     2,     3,     4,     5,     6,     7,     8,     9,\n",
       "         5147,  5149,  5151,  5153,  5155,  5157,  5159,  5161,  5163,\n",
       "         5165,  5167,  5169,  5171,  5173,  5175,  5177,  5179,  5181,\n",
       "         5183,  5185,  5187,  5189,  5191,  5193,  5195,  5197,  5199,\n",
       "         5201,  5203,  5205,  5207,  5209,  5211,  5213,  5215,  5217,\n",
       "         5219,  5221,  5222,  5224,  5225,  5227,  5228,  5230,  5231,\n",
       "         5233,  5234,  5236,  5237,  5239,  5240,  5242,  5243,  5245,\n",
       "         5246,  5247,  5249,  5250,  5251,  5253,  5254,  5255,  5257,\n",
       "         5258,  5259,  5261,  5262,  5263,  5264,  5266,  5267,  5268,\n",
       "         5269,  5270,  5272,  5273,  5274,  5275,  5276,  5277,  5279,\n",
       "         5280,  5281,  5282,  5283,  5284,  5285,  5286,  5287,  5288,\n",
       "         5289,  5290,  5292,  5293,  5294,  5295,  5296,  5297, 10147,\n",
       "        10149, 10151, 10153, 10155, 10157, 10159, 10161, 10163, 10165,\n",
       "        10167, 10169, 10171, 10173, 10175, 10177, 10179, 10181, 10183,\n",
       "        10185, 10187, 10189, 10191, 10193, 10195, 10197, 10199, 10201,\n",
       "        10203, 10205, 10207, 10209, 10211, 10213, 10215, 10217, 10219,\n",
       "        10221, 10222, 10224, 10225, 10227, 10228, 10230, 10231, 10233,\n",
       "        10234, 10236, 10237, 10239, 10240, 10242, 10243, 10245, 10246,\n",
       "        10247, 10249, 10250, 10251, 10253, 10254, 10255, 10257, 10258,\n",
       "        10259, 10261, 10262, 10263, 10264, 10266, 10267, 10268, 10269,\n",
       "        10270, 10272, 10273, 10274, 10275, 10276, 10277, 10279, 10280,\n",
       "        10281, 10282, 10283, 10284, 10285, 10286, 10287, 10288, 10289,\n",
       "        10290, 10292, 10293, 10294, 10295, 10296, 10297, 14515]),)"
      ]
     },
     "execution_count": 10,
     "metadata": {},
     "output_type": "execute_result"
    }
   ],
   "source": [
    "\n",
    "# compare original result vs bugfix result\n",
    "np.where(originalResult != bugfixResult)"
   ]
  },
  {
   "cell_type": "code",
   "execution_count": 11,
   "metadata": {
    "collapsed": false
   },
   "outputs": [
    {
     "data": {
      "text/plain": [
       "(array([], dtype=int64),)"
      ]
     },
     "execution_count": 11,
     "metadata": {},
     "output_type": "execute_result"
    }
   ],
   "source": [
    "# compare fast result vs bugfix result\n",
    "np.where(fastResult != bugfixResult)"
   ]
  },
  {
   "cell_type": "code",
   "execution_count": 12,
   "metadata": {
    "collapsed": false
   },
   "outputs": [
    {
     "data": {
      "image/png": "[encoded data removed]",
      "text/plain": [
       "<matplotlib.figure.Figure at 0x7fa3b0f5b490>"
      ]
     },
     "metadata": {},
     "output_type": "display_data"
    },
    {
     "data": {
      "image/png": "[encoded data removed]",
      "text/plain": [
       "<matplotlib.figure.Figure at 0x7fa3b0cfad90>"
      ]
     },
     "metadata": {},
     "output_type": "display_data"
    },
    {
     "data": {
      "image/png": "[encoded data removed]",
      "text/plain": [
       "<matplotlib.figure.Figure at 0x7fa3b07f8e50>"
      ]
     },
     "metadata": {},
     "output_type": "display_data"
    }
   ],
   "source": [
    "\n",
    "# visualize the shadow mask\n",
    "# note the darker gray area on the Original Result\n",
    "# this is where the algorithm generates alternating light/shadow region\n",
    "# because of incorrect terrain slope calculation (halfPixel strangeness)\n",
    "\n",
    "plot_shadow(originalResult)\n",
    "plot.plot(xs, terrain)\n",
    "plot.title('Original Result')\n",
    "plot.show()\n",
    "\n",
    "plot_shadow(bugfixResult)\n",
    "plot.plot(xs, terrain)\n",
    "plot.title('Bugfix Result')\n",
    "plot.show()\n",
    "\n",
    "plot_shadow(fastResult)\n",
    "plot.plot(xs, terrain)\n",
    "plot.title('Fast Result')\n",
    "plot.show()"
   ]
  }
 ],
 "metadata": {
  "kernelspec": {
   "display_name": "Python 2",
   "language": "python",
   "name": "python2"
  },
  "language_info": {
   "codemirror_mode": {
    "name": "ipython",
    "version": 2
   },
   "file_extension": ".py",
   "mimetype": "text/x-python",
   "name": "python",
   "nbconvert_exporter": "python",
   "pygments_lexer": "ipython2",
   "version": "2.7.11"
  }
 },
 "nbformat": 4,
 "nbformat_minor": 0
}
