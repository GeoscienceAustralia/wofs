{
 "cells": [
  {
   "cell_type": "markdown",
   "metadata": {
    "collapsed": true
   },
   "source": [
    "# AGDC-V2 API for WOfS  (unification merged)\n",
    "\n",
    "Last modified & tested OK on 2016-06-21 \n",
    "\n",
    "Fei Zhang"
   ]
  },
  {
   "cell_type": "markdown",
   "metadata": {},
   "source": [
    "##  Outstanding Issues & Questions\n",
    "\n",
    "\n",
    "### Bug: list_cells() the platforms can be 1 or 3 or more, but cannot be two satellites like \n",
    "qdict={'latitude': (-36.0, -35.0), 'platform': ['LANDSAT_5', 'LANDSAT_7'], 'longitude': (149.01, 150.1), 'time': ('1990-01-01', '2016-03-31')}\n",
    "\n",
    "### How about the function list_tiles_by_cells( cell_list)??\n"
   ]
  },
  {
   "cell_type": "code",
   "execution_count": 2,
   "metadata": {
    "collapsed": false
   },
   "outputs": [],
   "source": [
    "##  Setting up environment: python modules etc\n",
    "\n",
    "# * Optional! \n",
    "# * Skip this section if you use other means to ensure correct env setup, \n",
    "# * such as module load before starting jupyter notebook.\n",
    "\n",
    "# make my current source code python modules available in this notebook\n",
    "import sys\n",
    "\n",
    "paths=sys.path\n",
    "#paths.append('/g/data1/u46/fxz547/Githubz/agdc-v2')\n",
    "paths.insert(0,'/g/data1/u46/fxz547/Githubz/agdc-v2')  #prepend a path\n",
    "\n",
    "paths.append('/g/data1/u46/fxz547/Githubz/wofs')\n"
   ]
  },
  {
   "cell_type": "code",
   "execution_count": 3,
   "metadata": {
    "ExecuteTime": {
     "end_time": "2016-06-06T23:58:16.163296",
     "start_time": "2016-06-06T23:58:11.183109"
    },
    "collapsed": false
   },
   "outputs": [],
   "source": [
    "from IPython.display import display\n",
    "from pprint import pprint\n",
    "from __future__ import print_function\n",
    "\n",
    "from collections import defaultdict\n",
    "import xarray as xr\n",
    "import xarray.ufuncs\n",
    "\n",
    "import datacube\n",
    "from datacube.api import GridWorkflow\n",
    "from datacube.storage import  masking\n",
    "#from datacube.index import index_connect\n",
    "#from datacube.config import LocalConfig\n",
    "#from datacube.api._conversion import to_datetime\n",
    "#new updated version: from datacube.api import make_mask, describe_flags\n",
    "\n",
    "import numpy as np\n",
    "import math\n",
    "\n",
    "#from pyproj import Proj, transform\n",
    "from osgeo import gdal, osr, ogr\n",
    "from rasterio.warp import reproject, RESAMPLING\n",
    "import rasterio\n",
    "\n",
    "%matplotlib inline\n",
    "import matplotlib.pyplot as plt\n",
    "from pylab import rcParams\n",
    "rcParams['figure.figsize'] = 10, 10 # increase plot size a bit...\n",
    "rcParams['axes.formatter.useoffset'] = False  # disable scalar formatter / offset in axes labels\n"
   ]
  },
  {
   "cell_type": "markdown",
   "metadata": {
    "collapsed": true
   },
   "source": [
    "Python envionment and modules are ready to go"
   ]
  },
  {
   "cell_type": "markdown",
   "metadata": {
    "collapsed": true
   },
   "source": [
    "## Datacube Grid Workflow APIs"
   ]
  },
  {
   "cell_type": "code",
   "execution_count": 4,
   "metadata": {
    "ExecuteTime": {
     "end_time": "2016-06-06T23:58:16.206742",
     "start_time": "2016-06-06T23:58:16.164915"
    },
    "collapsed": false
   },
   "outputs": [
    {
     "data": {
      "text/plain": [
       "Datacube<index=Index<db=PostgresDb<engine=Engine(postgresql://fxz547@130.56.244.227:6432/unification)>>>"
      ]
     },
     "execution_count": 4,
     "metadata": {},
     "output_type": "execute_result"
    }
   ],
   "source": [
    "dc = datacube.Datacube( app='wofs-dev')\n",
    "#or to use a specific config file: \n",
    "# dc = datacube.Datacube(config='/home/547/adh547/unification.datacube.conf', app='wofs-dev')\n",
    "dc"
   ]
  },
  {
   "cell_type": "code",
   "execution_count": 5,
   "metadata": {
    "ExecuteTime": {
     "end_time": "2016-06-06T23:58:16.250818",
     "start_time": "2016-06-06T23:58:16.208078"
    },
    "collapsed": false
   },
   "outputs": [],
   "source": [
    "\n",
    "my_product = 'ls5_nbar_albers' \n",
    "\n",
    "gw = GridWorkflow(dc.index , product=my_product)"
   ]
  },
  {
   "cell_type": "markdown",
   "metadata": {
    "collapsed": true
   },
   "source": [
    "## List_cells ()\n",
    "There is now no need to call list_cells for tile-based workflows, unless you just want to list the area covered:"
   ]
  },
  {
   "cell_type": "code",
   "execution_count": 6,
   "metadata": {
    "ExecuteTime": {
     "end_time": "2016-06-06T23:58:19.707443",
     "start_time": "2016-06-06T23:58:17.125242"
    },
    "collapsed": false
   },
   "outputs": [
    {
     "data": {
      "text/plain": [
       "4"
      ]
     },
     "execution_count": 6,
     "metadata": {},
     "output_type": "execute_result"
    }
   ],
   "source": [
    "# product_type= nbar | pqa\n",
    "qdict={'latitude': (-36.0, -35.0), 'platform': ['LANDSAT_5', 'LANDSAT_7', 'LANDSAT_8'], \n",
    "       'longitude': (149.01, 150.1), 'time': ('1990-01-01', '1990-03-31')}\n",
    "\n",
    "cells = gw.list_cells(product_type='nbar', product= my_product, **qdict)\n",
    "                      #longitude=(149.06,149.18), latitude=(-35.27, -35.33), time=('1996-01-01', '2016-03-20'))\n",
    "len(cells)"
   ]
  },
  {
   "cell_type": "code",
   "execution_count": 7,
   "metadata": {
    "collapsed": false
   },
   "outputs": [
    {
     "data": {
      "text/plain": [
       "defaultdict(dict,\n",
       "            {(15,\n",
       "              -41): {'geobox': GeoBox(4000, 4000, Affine(25.0, 0.0, 1500000.0,\n",
       "                     0.0, -25.0, -4000000.0), EPSG:3577), 'sources': <xarray.DataArray (time: 1)>\n",
       "              array([ (Dataset <id=6ce1955f-5ef9-4876-8bb8-69638f45efe8 type=ls5_nbar_albers location=/g/data/u46/users/gxr547/unicube/LS5_TM_NBAR/LS5_TM_NBAR_3577_15_-41_19900302231139000000.nc>,)], dtype=object)\n",
       "              Coordinates:\n",
       "                * time     (time) datetime64[ns] 1990-03-02T23:11:39},\n",
       "             (15,\n",
       "              -40): {'geobox': GeoBox(4000, 4000, Affine(25.0, 0.0, 1500000.0,\n",
       "                     0.0, -25.0, -3900000.0), EPSG:3577), 'sources': <xarray.DataArray (time: 2)>\n",
       "              array([ (Dataset <id=d58be04a-6215-4bf6-a9a5-12df5829ff9f type=ls5_nbar_albers location=/g/data/u46/users/gxr547/unicube/LS5_TM_NBAR/LS5_TM_NBAR_3577_15_-40_19900302231116000000.nc>,),\n",
       "                     (Dataset <id=ba837bd7-2a40-4449-b6e8-6057af872f60 type=ls5_nbar_albers location=/g/data/u46/users/gxr547/unicube/LS5_TM_NBAR/LS5_TM_NBAR_3577_15_-40_19900302231139000000.nc>,)], dtype=object)\n",
       "              Coordinates:\n",
       "                * time     (time) datetime64[ns] 1990-03-02T23:11:16 1990-03-02T23:11:39},\n",
       "             (16,\n",
       "              -41): {'geobox': GeoBox(4000, 4000, Affine(25.0, 0.0, 1600000.0,\n",
       "                     0.0, -25.0, -4000000.0), EPSG:3577), 'sources': <xarray.DataArray (time: 2)>\n",
       "              array([ (Dataset <id=655e7103-aa43-43ab-b058-efbc5f859cc6 type=ls5_nbar_albers location=/g/data/u46/users/gxr547/unicube/LS5_TM_NBAR/LS5_TM_NBAR_3577_16_-41_19900302231116000000.nc>,),\n",
       "                     (Dataset <id=c4daf924-a584-42ce-ac12-80a1682f0441 type=ls5_nbar_albers location=/g/data/u46/users/gxr547/unicube/LS5_TM_NBAR/LS5_TM_NBAR_3577_16_-41_19900302231139000000.nc>,)], dtype=object)\n",
       "              Coordinates:\n",
       "                * time     (time) datetime64[ns] 1990-03-02T23:11:16 1990-03-02T23:11:39},\n",
       "             (16,\n",
       "              -40): {'geobox': GeoBox(4000, 4000, Affine(25.0, 0.0, 1600000.0,\n",
       "                     0.0, -25.0, -3900000.0), EPSG:3577), 'sources': <xarray.DataArray (time: 2)>\n",
       "              array([ (Dataset <id=7795fdec-cf13-496c-a3e8-857d6a696c24 type=ls5_nbar_albers location=/g/data/u46/users/gxr547/unicube/LS5_TM_NBAR/LS5_TM_NBAR_3577_16_-40_19900302231116000000.nc>,),\n",
       "                     (Dataset <id=4a3e2b53-5c95-4ce3-8139-e253ea0a94b0 type=ls5_nbar_albers location=/g/data/u46/users/gxr547/unicube/LS5_TM_NBAR/LS5_TM_NBAR_3577_16_-40_19900302231139000000.nc>,)], dtype=object)\n",
       "              Coordinates:\n",
       "                * time     (time) datetime64[ns] 1990-03-02T23:11:16 1990-03-02T23:11:39}})"
      ]
     },
     "execution_count": 7,
     "metadata": {},
     "output_type": "execute_result"
    }
   ],
   "source": [
    "cells"
   ]
  },
  {
   "cell_type": "code",
   "execution_count": 8,
   "metadata": {
    "collapsed": false
   },
   "outputs": [
    {
     "data": {
      "text/plain": [
       "[(16, -40), (15, -40), (15, -41), (16, -41)]"
      ]
     },
     "execution_count": 8,
     "metadata": {},
     "output_type": "execute_result"
    }
   ],
   "source": [
    "# To get the cell indexes\n",
    "cells.keys()"
   ]
  },
  {
   "cell_type": "markdown",
   "metadata": {},
   "source": [
    "# How to get satellite and sensor from the datacube?"
   ]
  },
  {
   "cell_type": "code",
   "execution_count": 9,
   "metadata": {
    "collapsed": false
   },
   "outputs": [
    {
     "data": {
      "text/html": [
       "<div>\n",
       "<table border=\"1\" class=\"dataframe\">\n",
       "  <thead>\n",
       "    <tr style=\"text-align: right;\">\n",
       "      <th></th>\n",
       "      <th>name</th>\n",
       "      <th>description</th>\n",
       "      <th>platform</th>\n",
       "      <th>product_type</th>\n",
       "      <th>instrument</th>\n",
       "      <th>format</th>\n",
       "      <th>crs</th>\n",
       "      <th>resolution</th>\n",
       "      <th>tile_size</th>\n",
       "      <th>spatial_dimensions</th>\n",
       "    </tr>\n",
       "    <tr>\n",
       "      <th>id</th>\n",
       "      <th></th>\n",
       "      <th></th>\n",
       "      <th></th>\n",
       "      <th></th>\n",
       "      <th></th>\n",
       "      <th></th>\n",
       "      <th></th>\n",
       "      <th></th>\n",
       "      <th></th>\n",
       "      <th></th>\n",
       "    </tr>\n",
       "  </thead>\n",
       "  <tbody>\n",
       "    <tr>\n",
       "      <th>17</th>\n",
       "      <td>ls5_nbar_albers</td>\n",
       "      <td>Landsat 5 NBAR 25 metre, 100km tile, Australia...</td>\n",
       "      <td>LANDSAT_5</td>\n",
       "      <td>nbar</td>\n",
       "      <td>TM</td>\n",
       "      <td>NetCDF</td>\n",
       "      <td>EPSG:3577</td>\n",
       "      <td>[-25, 25]</td>\n",
       "      <td>[100000.0, 100000.0]</td>\n",
       "      <td>(y, x)</td>\n",
       "    </tr>\n",
       "  </tbody>\n",
       "</table>\n",
       "</div>"
      ],
      "text/plain": [
       "               name                                        description  \\\n",
       "id                                                                       \n",
       "17  ls5_nbar_albers  Landsat 5 NBAR 25 metre, 100km tile, Australia...   \n",
       "\n",
       "     platform product_type instrument  format        crs resolution  \\\n",
       "id                                                                    \n",
       "17  LANDSAT_5         nbar         TM  NetCDF  EPSG:3577  [-25, 25]   \n",
       "\n",
       "               tile_size spatial_dimensions  \n",
       "id                                           \n",
       "17  [100000.0, 100000.0]             (y, x)  "
      ]
     },
     "execution_count": 9,
     "metadata": {},
     "output_type": "execute_result"
    }
   ],
   "source": [
    "prodlist=dc.list_products()  #pandas df\n",
    "\n",
    "prodlist[prodlist.name=='ls5_nbar_albers'] # the row for your product\n"
   ]
  },
  {
   "cell_type": "code",
   "execution_count": 10,
   "metadata": {
    "collapsed": false
   },
   "outputs": [
    {
     "data": {
      "text/html": [
       "<div>\n",
       "<table border=\"1\" class=\"dataframe\">\n",
       "  <thead>\n",
       "    <tr style=\"text-align: right;\">\n",
       "      <th></th>\n",
       "      <th>name</th>\n",
       "      <th>description</th>\n",
       "      <th>platform</th>\n",
       "      <th>product_type</th>\n",
       "      <th>instrument</th>\n",
       "      <th>format</th>\n",
       "      <th>crs</th>\n",
       "      <th>resolution</th>\n",
       "      <th>tile_size</th>\n",
       "      <th>spatial_dimensions</th>\n",
       "    </tr>\n",
       "    <tr>\n",
       "      <th>id</th>\n",
       "      <th></th>\n",
       "      <th></th>\n",
       "      <th></th>\n",
       "      <th></th>\n",
       "      <th></th>\n",
       "      <th></th>\n",
       "      <th></th>\n",
       "      <th></th>\n",
       "      <th></th>\n",
       "      <th></th>\n",
       "    </tr>\n",
       "  </thead>\n",
       "  <tbody>\n",
       "    <tr>\n",
       "      <th>1</th>\n",
       "      <td>dsm1sv10</td>\n",
       "      <td>DSM 1sec Version 1.0</td>\n",
       "      <td>SRTM</td>\n",
       "      <td>DEM</td>\n",
       "      <td>SIR</td>\n",
       "      <td>ENVI</td>\n",
       "      <td>EPSG:4326</td>\n",
       "      <td>[-0.00027777777778, 0.00027777777778]</td>\n",
       "      <td>None</td>\n",
       "      <td>(latitude, longitude)</td>\n",
       "    </tr>\n",
       "    <tr>\n",
       "      <th>2</th>\n",
       "      <td>ls5_satellite_telemetry_data</td>\n",
       "      <td>Landsat 5 Satellite Telemetry Data</td>\n",
       "      <td>LANDSAT_5</td>\n",
       "      <td>satellite_telemetry_data</td>\n",
       "      <td>TM</td>\n",
       "      <td>NaN</td>\n",
       "      <td>NaN</td>\n",
       "      <td>NaN</td>\n",
       "      <td>NaN</td>\n",
       "      <td>NaN</td>\n",
       "    </tr>\n",
       "    <tr>\n",
       "      <th>3</th>\n",
       "      <td>ls5_level1_scene</td>\n",
       "      <td>Landsat 5 Level 1 - Ortho Rectified</td>\n",
       "      <td>LANDSAT_5</td>\n",
       "      <td>level1</td>\n",
       "      <td>TM</td>\n",
       "      <td>GeoTiff</td>\n",
       "      <td>NaN</td>\n",
       "      <td>NaN</td>\n",
       "      <td>NaN</td>\n",
       "      <td>NaN</td>\n",
       "    </tr>\n",
       "    <tr>\n",
       "      <th>4</th>\n",
       "      <td>ls5_nbar_scene</td>\n",
       "      <td>Landsat 5 NBAR 25 metre</td>\n",
       "      <td>LANDSAT_5</td>\n",
       "      <td>nbar</td>\n",
       "      <td>TM</td>\n",
       "      <td>GeoTiff</td>\n",
       "      <td>NaN</td>\n",
       "      <td>NaN</td>\n",
       "      <td>NaN</td>\n",
       "      <td>NaN</td>\n",
       "    </tr>\n",
       "    <tr>\n",
       "      <th>5</th>\n",
       "      <td>ls5_nbart_scene</td>\n",
       "      <td>Landsat 5 NBART 25 metre</td>\n",
       "      <td>LANDSAT_5</td>\n",
       "      <td>nbart</td>\n",
       "      <td>TM</td>\n",
       "      <td>GeoTiff</td>\n",
       "      <td>NaN</td>\n",
       "      <td>NaN</td>\n",
       "      <td>NaN</td>\n",
       "      <td>NaN</td>\n",
       "    </tr>\n",
       "    <tr>\n",
       "      <th>7</th>\n",
       "      <td>ls7_satellite_telemetry_data</td>\n",
       "      <td>Landsat 7 Satellite Telemetry Data</td>\n",
       "      <td>LANDSAT_7</td>\n",
       "      <td>satellite_telemetry_data</td>\n",
       "      <td>ETM</td>\n",
       "      <td>NaN</td>\n",
       "      <td>NaN</td>\n",
       "      <td>NaN</td>\n",
       "      <td>NaN</td>\n",
       "      <td>NaN</td>\n",
       "    </tr>\n",
       "    <tr>\n",
       "      <th>8</th>\n",
       "      <td>ls7_level1_scene</td>\n",
       "      <td>Landsat 7 Level 1 - Ortho Rectified</td>\n",
       "      <td>LANDSAT_7</td>\n",
       "      <td>level1</td>\n",
       "      <td>ETM</td>\n",
       "      <td>GeoTiff</td>\n",
       "      <td>NaN</td>\n",
       "      <td>NaN</td>\n",
       "      <td>NaN</td>\n",
       "      <td>NaN</td>\n",
       "    </tr>\n",
       "    <tr>\n",
       "      <th>9</th>\n",
       "      <td>ls7_nbar_scene</td>\n",
       "      <td>Landsat 7 NBAR 25 metre</td>\n",
       "      <td>LANDSAT_7</td>\n",
       "      <td>nbar</td>\n",
       "      <td>ETM</td>\n",
       "      <td>GeoTiff</td>\n",
       "      <td>NaN</td>\n",
       "      <td>NaN</td>\n",
       "      <td>NaN</td>\n",
       "      <td>NaN</td>\n",
       "    </tr>\n",
       "    <tr>\n",
       "      <th>10</th>\n",
       "      <td>ls7_nbart_scene</td>\n",
       "      <td>Landsat 7 NBART 25 metre</td>\n",
       "      <td>LANDSAT_7</td>\n",
       "      <td>nbart</td>\n",
       "      <td>ETM</td>\n",
       "      <td>GeoTiff</td>\n",
       "      <td>NaN</td>\n",
       "      <td>NaN</td>\n",
       "      <td>NaN</td>\n",
       "      <td>NaN</td>\n",
       "    </tr>\n",
       "    <tr>\n",
       "      <th>12</th>\n",
       "      <td>ls8_satellite_telemetry_data</td>\n",
       "      <td>Landsat 8 Satellite Telemetry Data</td>\n",
       "      <td>LANDSAT_8</td>\n",
       "      <td>satellite_telemetry_data</td>\n",
       "      <td>OLI</td>\n",
       "      <td>NaN</td>\n",
       "      <td>NaN</td>\n",
       "      <td>NaN</td>\n",
       "      <td>NaN</td>\n",
       "      <td>NaN</td>\n",
       "    </tr>\n",
       "    <tr>\n",
       "      <th>13</th>\n",
       "      <td>ls8_level1_scene</td>\n",
       "      <td>Landsat 8 Level 1 - Ortho Rectified</td>\n",
       "      <td>LANDSAT_8</td>\n",
       "      <td>level1</td>\n",
       "      <td>OLI</td>\n",
       "      <td>GeoTiff</td>\n",
       "      <td>NaN</td>\n",
       "      <td>NaN</td>\n",
       "      <td>NaN</td>\n",
       "      <td>NaN</td>\n",
       "    </tr>\n",
       "    <tr>\n",
       "      <th>6</th>\n",
       "      <td>ls5_pq_scene</td>\n",
       "      <td>Landsat 5 PQ 25 metre</td>\n",
       "      <td>LANDSAT_5</td>\n",
       "      <td>pqa</td>\n",
       "      <td>TM</td>\n",
       "      <td>GeoTiff</td>\n",
       "      <td>NaN</td>\n",
       "      <td>NaN</td>\n",
       "      <td>NaN</td>\n",
       "      <td>NaN</td>\n",
       "    </tr>\n",
       "    <tr>\n",
       "      <th>14</th>\n",
       "      <td>ls8_nbar_scene</td>\n",
       "      <td>Landsat 8 NBAR 25 metre</td>\n",
       "      <td>LANDSAT_8</td>\n",
       "      <td>nbar</td>\n",
       "      <td>OLI</td>\n",
       "      <td>GeoTiff</td>\n",
       "      <td>NaN</td>\n",
       "      <td>NaN</td>\n",
       "      <td>NaN</td>\n",
       "      <td>NaN</td>\n",
       "    </tr>\n",
       "    <tr>\n",
       "      <th>15</th>\n",
       "      <td>ls8_nbart_scene</td>\n",
       "      <td>Landsat 8 NBART 25 metre</td>\n",
       "      <td>LANDSAT_8</td>\n",
       "      <td>nbart</td>\n",
       "      <td>OLI</td>\n",
       "      <td>GeoTiff</td>\n",
       "      <td>NaN</td>\n",
       "      <td>NaN</td>\n",
       "      <td>NaN</td>\n",
       "      <td>NaN</td>\n",
       "    </tr>\n",
       "    <tr>\n",
       "      <th>17</th>\n",
       "      <td>ls5_nbar_albers</td>\n",
       "      <td>Landsat 5 NBAR 25 metre, 100km tile, Australia...</td>\n",
       "      <td>LANDSAT_5</td>\n",
       "      <td>nbar</td>\n",
       "      <td>TM</td>\n",
       "      <td>NetCDF</td>\n",
       "      <td>EPSG:3577</td>\n",
       "      <td>[-25, 25]</td>\n",
       "      <td>[100000.0, 100000.0]</td>\n",
       "      <td>(y, x)</td>\n",
       "    </tr>\n",
       "    <tr>\n",
       "      <th>19</th>\n",
       "      <td>modis_mcd43a1_tile</td>\n",
       "      <td>MODIS 500 metre MCD43A1</td>\n",
       "      <td>AQUA_TERRA</td>\n",
       "      <td>MCD43A1</td>\n",
       "      <td>MODIS</td>\n",
       "      <td>HDF4_EOS:EOS_GRID</td>\n",
       "      <td>NaN</td>\n",
       "      <td>NaN</td>\n",
       "      <td>NaN</td>\n",
       "      <td>NaN</td>\n",
       "    </tr>\n",
       "    <tr>\n",
       "      <th>20</th>\n",
       "      <td>modis_mcd43a2_tile</td>\n",
       "      <td>MODIS 500 metre MCD43A2</td>\n",
       "      <td>AQUA_TERRA</td>\n",
       "      <td>MCD43A2</td>\n",
       "      <td>MODIS</td>\n",
       "      <td>HDF4_EOS:EOS_GRID</td>\n",
       "      <td>NaN</td>\n",
       "      <td>NaN</td>\n",
       "      <td>NaN</td>\n",
       "      <td>NaN</td>\n",
       "    </tr>\n",
       "    <tr>\n",
       "      <th>21</th>\n",
       "      <td>modis_mcd43a3_tile</td>\n",
       "      <td>MODIS 500 metre MCD43A3</td>\n",
       "      <td>AQUA_TERRA</td>\n",
       "      <td>MCD43A3</td>\n",
       "      <td>MODIS</td>\n",
       "      <td>HDF4_EOS:EOS_GRID</td>\n",
       "      <td>NaN</td>\n",
       "      <td>NaN</td>\n",
       "      <td>NaN</td>\n",
       "      <td>NaN</td>\n",
       "    </tr>\n",
       "    <tr>\n",
       "      <th>22</th>\n",
       "      <td>modis_mcd43a4_tile</td>\n",
       "      <td>MODIS 500 metre MCD43A4</td>\n",
       "      <td>AQUA_TERRA</td>\n",
       "      <td>MCD43A4</td>\n",
       "      <td>MODIS</td>\n",
       "      <td>HDF4_EOS:EOS_GRID</td>\n",
       "      <td>NaN</td>\n",
       "      <td>NaN</td>\n",
       "      <td>NaN</td>\n",
       "      <td>NaN</td>\n",
       "    </tr>\n",
       "    <tr>\n",
       "      <th>23</th>\n",
       "      <td>h8_ahi_brf_granule</td>\n",
       "      <td>H8 BRF, 2km, 1km and 500m granules</td>\n",
       "      <td>HIMAWARI_8</td>\n",
       "      <td>BRF</td>\n",
       "      <td>AHI</td>\n",
       "      <td>NETCDF</td>\n",
       "      <td>NaN</td>\n",
       "      <td>NaN</td>\n",
       "      <td>NaN</td>\n",
       "      <td>NaN</td>\n",
       "    </tr>\n",
       "    <tr>\n",
       "      <th>24</th>\n",
       "      <td>h8_ahi_obs_granule</td>\n",
       "      <td>H8 OBS, 2km granules</td>\n",
       "      <td>HIMAWARI_8</td>\n",
       "      <td>OBS</td>\n",
       "      <td>AHI</td>\n",
       "      <td>NETCDF</td>\n",
       "      <td>NaN</td>\n",
       "      <td>NaN</td>\n",
       "      <td>NaN</td>\n",
       "      <td>NaN</td>\n",
       "    </tr>\n",
       "    <tr>\n",
       "      <th>25</th>\n",
       "      <td>h8_ahi_solar_granule</td>\n",
       "      <td>H8 SOLAR GEOMETRY, 2km, 1km and 500m granules</td>\n",
       "      <td>HIMAWARI_8</td>\n",
       "      <td>GEOM_SOLAR</td>\n",
       "      <td>AHI</td>\n",
       "      <td>NETCDF</td>\n",
       "      <td>NaN</td>\n",
       "      <td>NaN</td>\n",
       "      <td>NaN</td>\n",
       "      <td>NaN</td>\n",
       "    </tr>\n",
       "    <tr>\n",
       "      <th>26</th>\n",
       "      <td>s2a_level1c_granule</td>\n",
       "      <td>Sentinel-2 Level 1 - Ortho Rectified</td>\n",
       "      <td>SENTINEL_2A</td>\n",
       "      <td>S2MSI1C</td>\n",
       "      <td>MSI</td>\n",
       "      <td>JPEG2000</td>\n",
       "      <td>NaN</td>\n",
       "      <td>NaN</td>\n",
       "      <td>NaN</td>\n",
       "      <td>NaN</td>\n",
       "    </tr>\n",
       "    <tr>\n",
       "      <th>29</th>\n",
       "      <td>ls5_ndvi_albers</td>\n",
       "      <td>Landsat 5 NDVI</td>\n",
       "      <td>LANDSAT_5</td>\n",
       "      <td>ndvi</td>\n",
       "      <td>TM</td>\n",
       "      <td>NetCDF</td>\n",
       "      <td>EPSG:3577</td>\n",
       "      <td>[-25, 25]</td>\n",
       "      <td>[100000.0, 100000.0]</td>\n",
       "      <td>(y, x)</td>\n",
       "    </tr>\n",
       "    <tr>\n",
       "      <th>18</th>\n",
       "      <td>ls5_pq_albers</td>\n",
       "      <td>Landsat 5 PQ 25 metre, 100km tile, Australian ...</td>\n",
       "      <td>LANDSAT_5</td>\n",
       "      <td>pqa</td>\n",
       "      <td>TM</td>\n",
       "      <td>NetCDF</td>\n",
       "      <td>EPSG:3577</td>\n",
       "      <td>[-25, 25]</td>\n",
       "      <td>[100000.0, 100000.0]</td>\n",
       "      <td>(y, x)</td>\n",
       "    </tr>\n",
       "    <tr>\n",
       "      <th>30</th>\n",
       "      <td>ls5_nbar_albers_latest</td>\n",
       "      <td>Latest Cloud-free data of Landsat 5 NBAR 25 me...</td>\n",
       "      <td>LANDSAT_5</td>\n",
       "      <td>nbar</td>\n",
       "      <td>TM</td>\n",
       "      <td>NetCDF</td>\n",
       "      <td>EPSG:3577</td>\n",
       "      <td>[-25, 25]</td>\n",
       "      <td>[100000.0, 100000.0]</td>\n",
       "      <td>(y, x)</td>\n",
       "    </tr>\n",
       "  </tbody>\n",
       "</table>\n",
       "</div>"
      ],
      "text/plain": [
       "                            name  \\\n",
       "id                                 \n",
       "1                       dsm1sv10   \n",
       "2   ls5_satellite_telemetry_data   \n",
       "3               ls5_level1_scene   \n",
       "4                 ls5_nbar_scene   \n",
       "5                ls5_nbart_scene   \n",
       "7   ls7_satellite_telemetry_data   \n",
       "8               ls7_level1_scene   \n",
       "9                 ls7_nbar_scene   \n",
       "10               ls7_nbart_scene   \n",
       "12  ls8_satellite_telemetry_data   \n",
       "13              ls8_level1_scene   \n",
       "6                   ls5_pq_scene   \n",
       "14                ls8_nbar_scene   \n",
       "15               ls8_nbart_scene   \n",
       "17               ls5_nbar_albers   \n",
       "19            modis_mcd43a1_tile   \n",
       "20            modis_mcd43a2_tile   \n",
       "21            modis_mcd43a3_tile   \n",
       "22            modis_mcd43a4_tile   \n",
       "23            h8_ahi_brf_granule   \n",
       "24            h8_ahi_obs_granule   \n",
       "25          h8_ahi_solar_granule   \n",
       "26           s2a_level1c_granule   \n",
       "29               ls5_ndvi_albers   \n",
       "18                 ls5_pq_albers   \n",
       "30        ls5_nbar_albers_latest   \n",
       "\n",
       "                                          description     platform  \\\n",
       "id                                                                   \n",
       "1                                DSM 1sec Version 1.0         SRTM   \n",
       "2                  Landsat 5 Satellite Telemetry Data    LANDSAT_5   \n",
       "3                 Landsat 5 Level 1 - Ortho Rectified    LANDSAT_5   \n",
       "4                             Landsat 5 NBAR 25 metre    LANDSAT_5   \n",
       "5                            Landsat 5 NBART 25 metre    LANDSAT_5   \n",
       "7                  Landsat 7 Satellite Telemetry Data    LANDSAT_7   \n",
       "8                 Landsat 7 Level 1 - Ortho Rectified    LANDSAT_7   \n",
       "9                             Landsat 7 NBAR 25 metre    LANDSAT_7   \n",
       "10                           Landsat 7 NBART 25 metre    LANDSAT_7   \n",
       "12                 Landsat 8 Satellite Telemetry Data    LANDSAT_8   \n",
       "13                Landsat 8 Level 1 - Ortho Rectified    LANDSAT_8   \n",
       "6                               Landsat 5 PQ 25 metre    LANDSAT_5   \n",
       "14                            Landsat 8 NBAR 25 metre    LANDSAT_8   \n",
       "15                           Landsat 8 NBART 25 metre    LANDSAT_8   \n",
       "17  Landsat 5 NBAR 25 metre, 100km tile, Australia...    LANDSAT_5   \n",
       "19                            MODIS 500 metre MCD43A1   AQUA_TERRA   \n",
       "20                            MODIS 500 metre MCD43A2   AQUA_TERRA   \n",
       "21                            MODIS 500 metre MCD43A3   AQUA_TERRA   \n",
       "22                            MODIS 500 metre MCD43A4   AQUA_TERRA   \n",
       "23                 H8 BRF, 2km, 1km and 500m granules   HIMAWARI_8   \n",
       "24                               H8 OBS, 2km granules   HIMAWARI_8   \n",
       "25      H8 SOLAR GEOMETRY, 2km, 1km and 500m granules   HIMAWARI_8   \n",
       "26               Sentinel-2 Level 1 - Ortho Rectified  SENTINEL_2A   \n",
       "29                                     Landsat 5 NDVI    LANDSAT_5   \n",
       "18  Landsat 5 PQ 25 metre, 100km tile, Australian ...    LANDSAT_5   \n",
       "30  Latest Cloud-free data of Landsat 5 NBAR 25 me...    LANDSAT_5   \n",
       "\n",
       "                product_type instrument             format        crs  \\\n",
       "id                                                                      \n",
       "1                        DEM        SIR               ENVI  EPSG:4326   \n",
       "2   satellite_telemetry_data         TM                NaN        NaN   \n",
       "3                     level1         TM            GeoTiff        NaN   \n",
       "4                       nbar         TM            GeoTiff        NaN   \n",
       "5                      nbart         TM            GeoTiff        NaN   \n",
       "7   satellite_telemetry_data        ETM                NaN        NaN   \n",
       "8                     level1        ETM            GeoTiff        NaN   \n",
       "9                       nbar        ETM            GeoTiff        NaN   \n",
       "10                     nbart        ETM            GeoTiff        NaN   \n",
       "12  satellite_telemetry_data        OLI                NaN        NaN   \n",
       "13                    level1        OLI            GeoTiff        NaN   \n",
       "6                        pqa         TM            GeoTiff        NaN   \n",
       "14                      nbar        OLI            GeoTiff        NaN   \n",
       "15                     nbart        OLI            GeoTiff        NaN   \n",
       "17                      nbar         TM             NetCDF  EPSG:3577   \n",
       "19                   MCD43A1      MODIS  HDF4_EOS:EOS_GRID        NaN   \n",
       "20                   MCD43A2      MODIS  HDF4_EOS:EOS_GRID        NaN   \n",
       "21                   MCD43A3      MODIS  HDF4_EOS:EOS_GRID        NaN   \n",
       "22                   MCD43A4      MODIS  HDF4_EOS:EOS_GRID        NaN   \n",
       "23                       BRF        AHI             NETCDF        NaN   \n",
       "24                       OBS        AHI             NETCDF        NaN   \n",
       "25                GEOM_SOLAR        AHI             NETCDF        NaN   \n",
       "26                   S2MSI1C        MSI           JPEG2000        NaN   \n",
       "29                      ndvi         TM             NetCDF  EPSG:3577   \n",
       "18                       pqa         TM             NetCDF  EPSG:3577   \n",
       "30                      nbar         TM             NetCDF  EPSG:3577   \n",
       "\n",
       "                               resolution             tile_size  \\\n",
       "id                                                                \n",
       "1   [-0.00027777777778, 0.00027777777778]                  None   \n",
       "2                                     NaN                   NaN   \n",
       "3                                     NaN                   NaN   \n",
       "4                                     NaN                   NaN   \n",
       "5                                     NaN                   NaN   \n",
       "7                                     NaN                   NaN   \n",
       "8                                     NaN                   NaN   \n",
       "9                                     NaN                   NaN   \n",
       "10                                    NaN                   NaN   \n",
       "12                                    NaN                   NaN   \n",
       "13                                    NaN                   NaN   \n",
       "6                                     NaN                   NaN   \n",
       "14                                    NaN                   NaN   \n",
       "15                                    NaN                   NaN   \n",
       "17                              [-25, 25]  [100000.0, 100000.0]   \n",
       "19                                    NaN                   NaN   \n",
       "20                                    NaN                   NaN   \n",
       "21                                    NaN                   NaN   \n",
       "22                                    NaN                   NaN   \n",
       "23                                    NaN                   NaN   \n",
       "24                                    NaN                   NaN   \n",
       "25                                    NaN                   NaN   \n",
       "26                                    NaN                   NaN   \n",
       "29                              [-25, 25]  [100000.0, 100000.0]   \n",
       "18                              [-25, 25]  [100000.0, 100000.0]   \n",
       "30                              [-25, 25]  [100000.0, 100000.0]   \n",
       "\n",
       "       spatial_dimensions  \n",
       "id                         \n",
       "1   (latitude, longitude)  \n",
       "2                     NaN  \n",
       "3                     NaN  \n",
       "4                     NaN  \n",
       "5                     NaN  \n",
       "7                     NaN  \n",
       "8                     NaN  \n",
       "9                     NaN  \n",
       "10                    NaN  \n",
       "12                    NaN  \n",
       "13                    NaN  \n",
       "6                     NaN  \n",
       "14                    NaN  \n",
       "15                    NaN  \n",
       "17                 (y, x)  \n",
       "19                    NaN  \n",
       "20                    NaN  \n",
       "21                    NaN  \n",
       "22                    NaN  \n",
       "23                    NaN  \n",
       "24                    NaN  \n",
       "25                    NaN  \n",
       "26                    NaN  \n",
       "29                 (y, x)  \n",
       "18                 (y, x)  \n",
       "30                 (y, x)  "
      ]
     },
     "execution_count": 10,
     "metadata": {},
     "output_type": "execute_result"
    }
   ],
   "source": [
    "prodlist\n"
   ]
  },
  {
   "cell_type": "code",
   "execution_count": 11,
   "metadata": {
    "collapsed": false
   },
   "outputs": [],
   "source": [
    "# get your values as numpy.ndarr\n",
    "pppl=prodlist[prodlist.name=='ls5_nbar_albers'][['platform','instrument']].values"
   ]
  },
  {
   "cell_type": "code",
   "execution_count": 12,
   "metadata": {
    "collapsed": false
   },
   "outputs": [
    {
     "data": {
      "text/plain": [
       "numpy.ndarray"
      ]
     },
     "execution_count": 12,
     "metadata": {},
     "output_type": "execute_result"
    }
   ],
   "source": [
    "type(pppl)"
   ]
  },
  {
   "cell_type": "code",
   "execution_count": 13,
   "metadata": {
    "collapsed": false
   },
   "outputs": [
    {
     "data": {
      "text/plain": [
       "(1, 2)"
      ]
     },
     "execution_count": 13,
     "metadata": {},
     "output_type": "execute_result"
    }
   ],
   "source": [
    "pppl.shape"
   ]
  },
  {
   "cell_type": "code",
   "execution_count": 14,
   "metadata": {
    "collapsed": false
   },
   "outputs": [
    {
     "name": "stdout",
     "output_type": "stream",
     "text": [
      "LANDSAT_5 TM\n"
     ]
    }
   ],
   "source": [
    "satname=pppl[0,0]\n",
    "satsensor=pppl[0,1]\n",
    "print(satname, satsensor)"
   ]
  },
  {
   "cell_type": "markdown",
   "metadata": {},
   "source": [
    "## List_Tiles()"
   ]
  },
  {
   "cell_type": "code",
   "execution_count": 15,
   "metadata": {
    "ExecuteTime": {
     "end_time": "2016-06-06T23:58:24.021177",
     "start_time": "2016-06-06T23:58:19.708789"
    },
    "collapsed": false
   },
   "outputs": [
    {
     "data": {
      "text/plain": [
       "[(15, -40, numpy.datetime64('1990-03-03T10:11:16.000000000+1100')),\n",
       " (15, -40, numpy.datetime64('1990-03-03T10:11:39.000000000+1100')),\n",
       " (15, -40, numpy.datetime64('1990-04-04T09:10:42.000000000+1000')),\n",
       " (15, -40, numpy.datetime64('1990-05-06T09:10:28.000000000+1000')),\n",
       " (15, -40, numpy.datetime64('1990-06-07T09:10:29.000000000+1000')),\n",
       " (15, -40, numpy.datetime64('1990-07-09T09:10:50.000000000+1000')),\n",
       " (15, -40, numpy.datetime64('1990-07-25T09:10:22.000000000+1000')),\n",
       " (15, -40, numpy.datetime64('1990-07-25T09:10:46.000000000+1000')),\n",
       " (15, -40, numpy.datetime64('1990-08-10T09:10:17.000000000+1000')),\n",
       " (15, -40, numpy.datetime64('1990-08-10T09:10:41.000000000+1000')),\n",
       " (15, -40, numpy.datetime64('1990-08-26T09:10:12.000000000+1000')),\n",
       " (15, -40, numpy.datetime64('1990-08-26T09:10:36.000000000+1000')),\n",
       " (15, -40, numpy.datetime64('1990-09-11T09:10:09.000000000+1000')),\n",
       " (15, -40, numpy.datetime64('1990-09-11T09:10:33.000000000+1000')),\n",
       " (15, -40, numpy.datetime64('1990-09-27T09:10:01.000000000+1000')),\n",
       " (15, -40, numpy.datetime64('1990-09-27T09:10:25.000000000+1000')),\n",
       " (15, -40, numpy.datetime64('1990-10-13T09:09:54.000000000+1000')),\n",
       " (15, -40, numpy.datetime64('1990-10-13T09:10:18.000000000+1000')),\n",
       " (15, -40, numpy.datetime64('1990-10-29T10:09:46.000000000+1100')),\n",
       " (15, -40, numpy.datetime64('1990-10-29T10:10:10.000000000+1100')),\n",
       " (15, -40, numpy.datetime64('1990-11-14T10:09:47.500000000+1100')),\n",
       " (15, -40, numpy.datetime64('1990-11-14T10:10:11.500000000+1100')),\n",
       " (15, -40, numpy.datetime64('1990-12-16T10:09:43.000000000+1100')),\n",
       " (15, -40, numpy.datetime64('1990-12-16T10:10:07.000000000+1100'))]"
      ]
     },
     "execution_count": 15,
     "metadata": {},
     "output_type": "execute_result"
    }
   ],
   "source": [
    "nbar_tiles = gw.list_tiles(product_type='nbar', product=my_product, platform=['LANDSAT_5', 'LANDSAT_7', 'LANDSAT_8'],\n",
    "                           longitude=(149.06,149.18), latitude=(-35.27, -35.33), \n",
    "                           time=('1990-01-01', '1990-12-31'))\n",
    "\n",
    "sorted(nbar_tiles.keys())"
   ]
  },
  {
   "cell_type": "code",
   "execution_count": 16,
   "metadata": {
    "collapsed": false
   },
   "outputs": [
    {
     "data": {
      "text/plain": [
       "24"
      ]
     },
     "execution_count": 16,
     "metadata": {},
     "output_type": "execute_result"
    }
   ],
   "source": [
    "# This nbar_tiles includes scenes and tiles, a very very long list\n",
    "# nbar_tiles has 18 cells as keys\n",
    "len(nbar_tiles)"
   ]
  },
  {
   "cell_type": "markdown",
   "metadata": {},
   "source": [
    "When using the search terms, there is not currently a way to filter out non-tile based data, such as scenes, which go far beyond the requested area. For now we must use **`product='ls5_nbar_albers'`**."
   ]
  },
  {
   "cell_type": "code",
   "execution_count": 17,
   "metadata": {
    "ExecuteTime": {
     "end_time": "2016-06-06T23:58:26.836636",
     "start_time": "2016-06-06T23:58:24.022585"
    },
    "collapsed": false
   },
   "outputs": [
    {
     "name": "stdout",
     "output_type": "stream",
     "text": [
      "{'latitude': (-36.0, -35.0), 'platform': ['LANDSAT_5', 'LANDSAT_7', 'LANDSAT_8'], 'longitude': (149.01, 150.1), 'time': ('1990-01-01', '1990-12-31')}\n",
      "84\n"
     ]
    },
    {
     "data": {
      "text/plain": [
       "[(15, -41, numpy.datetime64('1990-03-03T10:11:39.000000000+1100')),\n",
       " (15, -41, numpy.datetime64('1990-04-04T09:10:42.000000000+1000')),\n",
       " (15, -41, numpy.datetime64('1990-07-09T09:10:50.000000000+1000')),\n",
       " (15, -41, numpy.datetime64('1990-07-25T09:10:46.000000000+1000')),\n",
       " (15, -41, numpy.datetime64('1990-08-10T09:10:41.000000000+1000'))]"
      ]
     },
     "execution_count": 17,
     "metadata": {},
     "output_type": "execute_result"
    }
   ],
   "source": [
    "#bug if just 2 platforms in the list?\n",
    "#qdict={'latitude': (-36.0, -35.0), 'longitude': (149.01, 150.1),'platform':['LANDSAT_5', 'LANDSAT_7'], 'time': ('1990-01-01', '2016-03-31')}\n",
    "qdict={'latitude': (-36.0, -35.0), 'longitude': (149.01, 150.1),\n",
    "       'platform':['LANDSAT_5', 'LANDSAT_7','LANDSAT_8'], \n",
    "       'time': ('1990-01-01', '1990-12-31')}\n",
    "\n",
    "print (qdict)\n",
    "nbar_tiles = gw.list_tiles(product=my_product,**qdict)\n",
    "                       \n",
    "sorted_keylist = sorted(nbar_tiles.keys())\n",
    "\n",
    "print (len(sorted_keylist))\n",
    "\n",
    "sorted_keylist[:5]"
   ]
  },
  {
   "cell_type": "code",
   "execution_count": 18,
   "metadata": {
    "collapsed": false
   },
   "outputs": [
    {
     "data": {
      "text/plain": [
       "[((15, -41, numpy.datetime64('1990-07-09T09:10:50.000000000+1000')),\n",
       "  {'geobox': GeoBox(4000, 4000, Affine(25.0, 0.0, 1500000.0,\n",
       "          0.0, -25.0, -4000000.0), EPSG:3577),\n",
       "   'sources': <xarray.DataArray (time: 1)>\n",
       "   array([ (Dataset <id=e0f376e7-a7db-4cbb-b137-b9a2865c2b02 type=ls5_nbar_albers location=/g/data/u46/users/gxr547/unicube/LS5_TM_NBAR/LS5_TM_NBAR_3577_15_-41_19900708231050000000.nc>,)], dtype=object)\n",
       "   Coordinates:\n",
       "     * time     (time) datetime64[ns] 1990-07-08T23:10:50})]"
      ]
     },
     "execution_count": 18,
     "metadata": {},
     "output_type": "execute_result"
    }
   ],
   "source": [
    "nbar_tiles.items()[:1]"
   ]
  },
  {
   "cell_type": "code",
   "execution_count": 19,
   "metadata": {
    "ExecuteTime": {
     "end_time": "2016-06-06T23:58:29.635253",
     "start_time": "2016-06-06T23:58:26.837932"
    },
    "collapsed": false
   },
   "outputs": [
    {
     "name": "stdout",
     "output_type": "stream",
     "text": [
      "{'latitude': (-36.0, -35.0), 'platform': ['LANDSAT_5', 'LANDSAT_7', 'LANDSAT_8'], 'longitude': (149.01, 150.1), 'time': ('1990-01-01', '1990-12-31')}\n",
      "84\n"
     ]
    },
    {
     "data": {
      "text/plain": [
       "[(15, -41, numpy.datetime64('1990-03-03T10:11:39.000000000+1100')),\n",
       " (15, -41, numpy.datetime64('1990-04-04T09:10:42.000000000+1000')),\n",
       " (15, -41, numpy.datetime64('1990-07-09T09:10:50.000000000+1000')),\n",
       " (15, -41, numpy.datetime64('1990-07-25T09:10:46.000000000+1000')),\n",
       " (15, -41, numpy.datetime64('1990-08-10T09:10:41.000000000+1000'))]"
      ]
     },
     "execution_count": 19,
     "metadata": {},
     "output_type": "execute_result"
    }
   ],
   "source": [
    "# Pixel Quality Tiles\n",
    "#qdict={'latitude': (-36.0, -35.0), 'longitude': (149.01, 150.1), 'platform':['LANDSAT_5', 'LANDSAT_7','LANDSAT_8'],  'time': ('1990-01-01', '2016-03-31')}\n",
    "print (qdict)\n",
    "pq_tiles = gw.list_tiles(product= 'ls5_pq_albers',**qdict)\n",
    "         \n",
    "sorted_keys=sorted(pq_tiles.keys())\n",
    "print(len(sorted_keys))\n",
    "sorted_keys[:5]"
   ]
  },
  {
   "cell_type": "code",
   "execution_count": 20,
   "metadata": {
    "collapsed": true
   },
   "outputs": [],
   "source": [
    "# No PQ data for Canberra region (15, -40)??"
   ]
  },
  {
   "cell_type": "code",
   "execution_count": 21,
   "metadata": {
    "collapsed": false
   },
   "outputs": [
    {
     "data": {
      "text/plain": [
       "((15, -41, numpy.datetime64('1990-07-09T09:10:50.000000000+1000')),\n",
       " {'geobox': GeoBox(4000, 4000, Affine(25.0, 0.0, 1500000.0,\n",
       "         0.0, -25.0, -4000000.0), EPSG:3577),\n",
       "  'sources': <xarray.DataArray (time: 1)>\n",
       "  array([ (Dataset <id=a3b79398-2752-457e-860a-f8a1757ca980 type=ls5_pq_albers location=/g/data/u46/users/gxr547/unicube/LS5_TM_PQ/LS5_TM_PQ_3577_15_-41_19900708231050000000.nc>,)], dtype=object)\n",
       "  Coordinates:\n",
       "    * time     (time) datetime64[ns] 1990-07-08T23:10:50})"
      ]
     },
     "execution_count": 21,
     "metadata": {},
     "output_type": "execute_result"
    }
   ],
   "source": [
    "pq_tiles.items()[0]"
   ]
  },
  {
   "cell_type": "code",
   "execution_count": 22,
   "metadata": {
    "collapsed": true
   },
   "outputs": [],
   "source": [
    "# after agdc-v2 unification:\n",
    "import logging \n",
    "def get_nbarpqa_tiles_by_cell( acell, qdict): # refactor the param product='ls5_nbar_albers' OR 'ls5_pq_albers'\n",
    "    \"\"\"\n",
    "    return a list of tiles\n",
    "    :param acell: a cell index tuple (15, -40)\n",
    "    :return:\n",
    "    \"\"\"\n",
    "    # gw.list_tiles((15,-40), product='ls5_nbar_albers')\n",
    "\n",
    "    nbar_tiles = gw.list_tiles(acell, product='ls5_nbar_albers',\n",
    "                                    **qdict)  # , platform='LANDSAT_8')  # ,time=('2000', '2007'))\n",
    "    pq_tiles = gw.list_tiles(acell, product='ls5_pq_albers',\n",
    "                                  **qdict)  # , platform='LANDSAT_8')  # , time=('2000', '2007'))\n",
    "\n",
    "    if (len(pq_tiles) == len(nbar_tiles)):\n",
    "        print(\"The cells have %s nbar and %s pq tiles\", len(nbar_tiles), len(pq_tiles))\n",
    "    else:\n",
    "        logging.warn(\"Mismatched NBAR-PQA tiles: The cells have %s nbar and %s pq tiles\", len(nbar_tiles),\n",
    "                     len(pq_tiles))\n",
    "\n",
    "    # Cell, Time -> Product -> TileDef\n",
    "    tile_def = defaultdict(dict)\n",
    "\n",
    "    for index, tile in nbar_tiles.items():\n",
    "        tile_def[index[:2], index[2]]['nbar'] = tile\n",
    "\n",
    "    for index, tile in pq_tiles.items():\n",
    "        tile_def[index[:2], index[2]]['pqa'] = tile\n",
    "\n",
    "\n",
    "    for index, products in tile_def.items():\n",
    "        if len(products) < 2:\n",
    "            logging.warn('un-paired nbar-pqa product for cell %s', str(index))\n",
    "            logging.warn(\"remove this un-paired tile from the dict\")\n",
    "            tile_def.pop(index)\n",
    "        else:\n",
    "            logging.debug('%s,%s', index, len(products))\n",
    "\n",
    "    return tile_def\n",
    "\n"
   ]
  },
  {
   "cell_type": "markdown",
   "metadata": {},
   "source": [
    "Get the key for the first tile:"
   ]
  },
  {
   "cell_type": "code",
   "execution_count": 23,
   "metadata": {
    "collapsed": false
   },
   "outputs": [
    {
     "name": "stdout",
     "output_type": "stream",
     "text": [
      "The cells have %s nbar and %s pq tiles 24 24\n"
     ]
    }
   ],
   "source": [
    "#Get the key for the tile:\n",
    "acell=(15,-40)\n",
    "qdict = {'platform': ['LANDSAT_5'], 'time': ('1990-01-01', '1990-12-31')}\n",
    "\n",
    "tile_def=get_nbarpqa_tiles_by_cell(acell, qdict )\n",
    "#keys = list(tile_def)"
   ]
  },
  {
   "cell_type": "code",
   "execution_count": 24,
   "metadata": {
    "ExecuteTime": {
     "end_time": "2016-06-06T23:58:29.657282",
     "start_time": "2016-06-06T23:58:29.652309"
    },
    "collapsed": false,
    "scrolled": true
   },
   "outputs": [
    {
     "name": "stdout",
     "output_type": "stream",
     "text": [
      "24\n",
      "((15, -40), numpy.datetime64('1990-03-03T10:11:16.000000000+1100'))\n",
      "1990-03-03T10:11:16.000000000+1100\n",
      "1990-03-03T10-11-16\n",
      "((15, -40), numpy.datetime64('1990-03-03T10:11:39.000000000+1100'))\n",
      "1990-03-03T10:11:39.000000000+1100\n",
      "1990-03-03T10-11-39\n",
      "((15, -40), numpy.datetime64('1990-04-04T09:10:42.000000000+1000'))\n",
      "1990-04-04T09:10:42.000000000+1000\n",
      "1990-04-04T09-10-42\n",
      "((15, -40), numpy.datetime64('1990-05-06T09:10:28.000000000+1000'))\n",
      "1990-05-06T09:10:28.000000000+1000\n",
      "1990-05-06T09-10-28\n",
      "((15, -40), numpy.datetime64('1990-06-07T09:10:29.000000000+1000'))\n",
      "1990-06-07T09:10:29.000000000+1000\n",
      "1990-06-07T09-10-29\n",
      "((15, -40), numpy.datetime64('1990-07-09T09:10:50.000000000+1000'))\n",
      "1990-07-09T09:10:50.000000000+1000\n",
      "1990-07-09T09-10-50\n",
      "((15, -40), numpy.datetime64('1990-07-25T09:10:22.000000000+1000'))\n",
      "1990-07-25T09:10:22.000000000+1000\n",
      "1990-07-25T09-10-22\n",
      "((15, -40), numpy.datetime64('1990-07-25T09:10:46.000000000+1000'))\n",
      "1990-07-25T09:10:46.000000000+1000\n",
      "1990-07-25T09-10-46\n",
      "((15, -40), numpy.datetime64('1990-08-10T09:10:17.000000000+1000'))\n",
      "1990-08-10T09:10:17.000000000+1000\n",
      "1990-08-10T09-10-17\n",
      "((15, -40), numpy.datetime64('1990-08-10T09:10:41.000000000+1000'))\n",
      "1990-08-10T09:10:41.000000000+1000\n",
      "1990-08-10T09-10-41\n"
     ]
    }
   ],
   "source": [
    "tile_keys=sorted(tile_def.keys())  #The default is not in sorted order\n",
    "\n",
    "print (len(tile_keys))\n",
    "\n",
    "for key in tile_keys[:10]:\n",
    "    print (key)\n",
    "    cell = key[0]\n",
    "    dt_stamp=key[1]\n",
    "    \n",
    "    print (dt_stamp)\n",
    "    \n",
    "    #ISO \n",
    "    isostr=str(dt_stamp)[:19].replace(':','-')      \n",
    "    print (isostr)\n",
    "\n"
   ]
  },
  {
   "cell_type": "markdown",
   "metadata": {},
   "source": [
    "# Load the nbar data for a given tile,whose key is (cellindex, time)"
   ]
  },
  {
   "cell_type": "code",
   "execution_count": 25,
   "metadata": {
    "ExecuteTime": {
     "end_time": "2016-06-06T23:58:37.122395",
     "start_time": "2016-06-06T23:58:35.668561"
    },
    "collapsed": false
   },
   "outputs": [
    {
     "name": "stdout",
     "output_type": "stream",
     "text": [
      "((15, -40), numpy.datetime64('1990-03-03T10:11:16.000000000+1100'))\n",
      "(15, -40)\n",
      "{'geobox': GeoBox(4000, 4000, Affine(25.0, 0.0, 1500000.0,\n",
      "       0.0, -25.0, -3900000.0), EPSG:3577), 'sources': <xarray.DataArray (time: 1)>\n",
      "array([ (Dataset <id=d58be04a-6215-4bf6-a9a5-12df5829ff9f type=ls5_nbar_albers location=/g/data/u46/users/gxr547/unicube/LS5_TM_NBAR/LS5_TM_NBAR_3577_15_-40_19900302231116000000.nc>,)], dtype=object)\n",
      "Coordinates:\n",
      "  * time     (time) datetime64[ns] 1990-03-02T23:11:16}\n"
     ]
    },
    {
     "data": {
      "text/plain": [
       "<xarray.Dataset>\n",
       "Dimensions:  (time: 1, x: 4000, y: 4000)\n",
       "Coordinates:\n",
       "  * time     (time) datetime64[ns] 1990-03-02T23:11:16\n",
       "  * y        (y) float64 -3.9e+06 -3.9e+06 -3.9e+06 -3.9e+06 -3.9e+06 ...\n",
       "  * x        (x) float64 1.5e+06 1.5e+06 1.5e+06 1.5e+06 1.5e+06 1.5e+06 ...\n",
       "Data variables:\n",
       "    blue     (time, y, x) int16 -999 -999 -999 -999 -999 -999 -999 -999 -999 ...\n",
       "    green    (time, y, x) int16 -999 -999 -999 -999 -999 -999 -999 -999 -999 ...\n",
       "    red      (time, y, x) int16 -999 -999 -999 -999 -999 -999 -999 -999 -999 ...\n",
       "    nir      (time, y, x) int16 -999 -999 -999 -999 -999 -999 -999 -999 -999 ...\n",
       "    swir1    (time, y, x) int16 -999 -999 -999 -999 -999 -999 -999 -999 -999 ...\n",
       "    swir2    (time, y, x) int16 -999 -999 -999 -999 -999 -999 -999 -999 -999 ...\n",
       "Attributes:\n",
       "    crs: EPSG:3577"
      ]
     },
     "execution_count": 25,
     "metadata": {},
     "output_type": "execute_result"
    }
   ],
   "source": [
    "time_slice= 0 #  #pick a time 0, 1, 2, etc\n",
    "\n",
    "key= tile_keys[time_slice]\n",
    "print(key)\n",
    "\n",
    "tile = tile_def[key]['nbar']\n",
    "\n",
    "print (cell)\n",
    "print (tile)\n",
    "\n",
    "nbar_data = gw.load(tile) \n",
    "\n",
    "nbar_data"
   ]
  },
  {
   "cell_type": "code",
   "execution_count": 26,
   "metadata": {
    "collapsed": false
   },
   "outputs": [
    {
     "name": "stdout",
     "output_type": "stream",
     "text": [
      "<class 'xarray.core.dataarray.DataArray'>\n",
      "(1, 4000, 4000)\n"
     ]
    },
    {
     "data": {
      "text/plain": [
       "<xarray.DataArray 'blue' (time: 1, y: 4000, x: 4000)>\n",
       "array([[[-999, -999, -999, ...,  375,  334,  334],\n",
       "        [-999, -999, -999, ...,  334,  313,  292],\n",
       "        [-999, -999, -999, ...,  334,  313,  272],\n",
       "        ..., \n",
       "        [-999, -999, -999, ..., -999, -999, -999],\n",
       "        [-999, -999, -999, ..., -999, -999, -999],\n",
       "        [-999, -999, -999, ..., -999, -999, -999]]], dtype=int16)\n",
       "Coordinates:\n",
       "  * time     (time) datetime64[ns] 1990-03-02T23:11:16\n",
       "  * y        (y) float64 -3.9e+06 -3.9e+06 -3.9e+06 -3.9e+06 -3.9e+06 ...\n",
       "  * x        (x) float64 1.5e+06 1.5e+06 1.5e+06 1.5e+06 1.5e+06 1.5e+06 ...\n",
       "Attributes:\n",
       "    units: 1\n",
       "    crs: EPSG:3577\n",
       "    nodata: -999\n",
       "    spectral_definition: {u'wavelength': [410, 411, 412, 413, 414, 415, 416, 417, 418, 419, 420, 421, 422, 423, 424, 425, 426, 427, 428, 429, 430, 431, 432, 433, 434, 435, 436, 437, 438, 439, 440, 441, 442, 443, 444, 445, 446, 447, 448, 449, 450, 451, 452, 453, 454, 455, 456, 457, 458, 459, 460, 461, 462, 463, 464, 465, 466, 467, 468, 469, 470, 471, 472, 473, 474, 475, 476, 477, 478, 479, 480, 481, 482, 483, 484, 485, 486, 487, 488, 489, 490, 491, 492, 493, 494, 495, 496, 497, 498, 499, 500, 501, 502, 503, 504, 505, ..."
      ]
     },
     "execution_count": 26,
     "metadata": {},
     "output_type": "execute_result"
    }
   ],
   "source": [
    "# It looks that nbar_data.blue is 3D array (time,y,x); But actually you cannot do nbar_data.blue[1, :,:]??\n",
    "print (type(nbar_data.blue))\n",
    "\n",
    "print (nbar_data.blue.shape)\n",
    "\n",
    "nbar_data.blue"
   ]
  },
  {
   "cell_type": "code",
   "execution_count": 27,
   "metadata": {
    "collapsed": false
   },
   "outputs": [],
   "source": [
    "#y_size=4000; x_size=4000\n",
    "(_tmp1, y_size, x_size) = nbar_data.blue.shape\n",
    "\n",
    "#del raw_image\n",
    "raw_image = np.zeros((6, y_size, x_size), dtype='int16') #'float32')\n",
    "\n",
    "raw_image[0,:,:] = nbar_data.blue[:,:]\n",
    "raw_image[1,:,:] = nbar_data.green[:,:]\n",
    "raw_image[2,:,:] = nbar_data.red[:,:]\n",
    "raw_image[3,:,:] = nbar_data.nir[:,:]\n",
    "raw_image[4,:,:] = nbar_data.swir1[:,:]\n",
    "raw_image[5,:,:] = nbar_data.swir2[:,:]"
   ]
  },
  {
   "cell_type": "code",
   "execution_count": 28,
   "metadata": {
    "collapsed": false
   },
   "outputs": [
    {
     "data": {
      "text/plain": [
       "(6, 4000, 4000)"
      ]
     },
     "execution_count": 28,
     "metadata": {},
     "output_type": "execute_result"
    }
   ],
   "source": [
    "raw_image.shape"
   ]
  },
  {
   "cell_type": "code",
   "execution_count": 29,
   "metadata": {
    "collapsed": false
   },
   "outputs": [
    {
     "data": {
      "text/plain": [
       "numpy.ndarray"
      ]
     },
     "execution_count": 29,
     "metadata": {},
     "output_type": "execute_result"
    }
   ],
   "source": [
    "type(raw_image)"
   ]
  },
  {
   "cell_type": "code",
   "execution_count": 30,
   "metadata": {
    "collapsed": true
   },
   "outputs": [],
   "source": [
    "from wofs.waters.detree.classifier import WaterClassifier\n",
    "\n",
    "classifier = WaterClassifier()\n",
    "\n",
    "# TODO: water classification using the input data tiles\n",
    "\n",
    "water_classified_img = classifier.classify(raw_image)\n",
    "\n"
   ]
  },
  {
   "cell_type": "code",
   "execution_count": 31,
   "metadata": {
    "collapsed": false,
    "scrolled": true
   },
   "outputs": [
    {
     "data": {
      "image/png": "[encoded data removed]",
      "text/plain": [
       "<matplotlib.figure.Figure at 0x7f1eec2049d0>"
      ]
     },
     "metadata": {},
     "output_type": "display_data"
    }
   ],
   "source": [
    "# display all or part of the classified image\n",
    "plt.imshow(water_classified_img )  #show Lake BurleyGriffin  clfimg[2200:2600,1500:2500]) if cell=(15,-40)\n",
    "plt.title(\"Water Observations\"); plt.xlabel('Easting Grid'); plt.ylabel('Northing Grid')\n",
    "plt.colorbar(orientation='vertical', shrink=0.8, label='Water=128  NonWater=0');"
   ]
  },
  {
   "cell_type": "code",
   "execution_count": 37,
   "metadata": {
    "collapsed": false
   },
   "outputs": [],
   "source": [
    "# The first step produce a very rough water tile as shown above. It even has water in no data region.\n",
    "# This is why it must be filtered by no_data, cloud, etc. below\n"
   ]
  },
  {
   "cell_type": "code",
   "execution_count": 33,
   "metadata": {
    "collapsed": false
   },
   "outputs": [
    {
     "ename": "SyntaxError",
     "evalue": "invalid syntax (<ipython-input-33-7e6e875ebc45>, line 1)",
     "output_type": "error",
     "traceback": [
      "\u001b[1;36m  File \u001b[1;32m\"<ipython-input-33-7e6e875ebc45>\"\u001b[1;36m, line \u001b[1;32m1\u001b[0m\n\u001b[1;33m    Break here\u001b[0m\n\u001b[1;37m             ^\u001b[0m\n\u001b[1;31mSyntaxError\u001b[0m\u001b[1;31m:\u001b[0m invalid syntax\n"
     ]
    }
   ],
   "source": [
    "Break here"
   ]
  },
  {
   "cell_type": "code",
   "execution_count": null,
   "metadata": {
    "collapsed": true
   },
   "outputs": [],
   "source": []
  },
  {
   "cell_type": "code",
   "execution_count": null,
   "metadata": {
    "collapsed": true
   },
   "outputs": [],
   "source": []
  },
  {
   "cell_type": "code",
   "execution_count": null,
   "metadata": {
    "collapsed": true
   },
   "outputs": [],
   "source": []
  },
  {
   "cell_type": "code",
   "execution_count": null,
   "metadata": {
    "collapsed": true
   },
   "outputs": [],
   "source": []
  },
  {
   "cell_type": "code",
   "execution_count": null,
   "metadata": {
    "collapsed": true
   },
   "outputs": [],
   "source": []
  },
  {
   "cell_type": "code",
   "execution_count": null,
   "metadata": {
    "collapsed": true
   },
   "outputs": [],
   "source": []
  },
  {
   "cell_type": "code",
   "execution_count": null,
   "metadata": {
    "collapsed": true
   },
   "outputs": [],
   "source": []
  },
  {
   "cell_type": "markdown",
   "metadata": {},
   "source": [
    "# NBAR data\n",
    "\n",
    "We can use the `nodata` value, or use the contiguous bit in the PQ data to mask out nulls.\n",
    "\n",
    "Here is `nodata`:"
   ]
  },
  {
   "cell_type": "code",
   "execution_count": null,
   "metadata": {
    "ExecuteTime": {
     "end_time": "2016-06-06T23:59:00.667828",
     "start_time": "2016-06-06T23:58:39.310366"
    },
    "collapsed": false
   },
   "outputs": [],
   "source": [
    "no_data = (nbar_data.green == nbar_data.green.nodata)\n",
    "no_data.plot()"
   ]
  },
  {
   "cell_type": "code",
   "execution_count": null,
   "metadata": {
    "collapsed": false
   },
   "outputs": [],
   "source": [
    "type(no_data)"
   ]
  },
  {
   "cell_type": "code",
   "execution_count": null,
   "metadata": {
    "collapsed": false
   },
   "outputs": [],
   "source": [
    "# a mask 1+2D array\n",
    "no_data"
   ]
  },
  {
   "cell_type": "code",
   "execution_count": null,
   "metadata": {
    "collapsed": false
   },
   "outputs": [],
   "source": [
    "nbar_data.green.where(~no_data).plot()"
   ]
  },
  {
   "cell_type": "code",
   "execution_count": null,
   "metadata": {
    "ExecuteTime": {
     "end_time": "2016-06-06T23:59:22.155277",
     "start_time": "2016-06-06T23:59:00.669117"
    },
    "collapsed": false
   },
   "outputs": [],
   "source": [
    "nbar_data.green.where(~ no_data[0]).plot()"
   ]
  },
  {
   "cell_type": "code",
   "execution_count": null,
   "metadata": {
    "collapsed": false
   },
   "outputs": [],
   "source": [
    "# Get the nodata values for each band (in case they aren't the same)\n",
    "no_data_values = nbar_data.apply(lambda data_array: data_array.nodata).to_array(dim='band')\n",
    "\n",
    "# Turn the Dataset into a DataArray, so we can check all bands\n",
    "stack = nbar_data.to_array(dim='band')\n",
    "\n",
    "# Find all values that are set to no data, from any band\n",
    "no_data_mask = (stack == no_data_values).any(dim='band')\n",
    "\n",
    "no_data_mask.plot()\n"
   ]
  },
  {
   "cell_type": "code",
   "execution_count": null,
   "metadata": {
    "collapsed": false
   },
   "outputs": [],
   "source": [
    "no_data_mask"
   ]
  },
  {
   "cell_type": "code",
   "execution_count": null,
   "metadata": {
    "collapsed": false
   },
   "outputs": [],
   "source": [
    "no_data_mask.squeeze()"
   ]
  },
  {
   "cell_type": "markdown",
   "metadata": {},
   "source": [
    "## Load the PQ data:"
   ]
  },
  {
   "cell_type": "code",
   "execution_count": null,
   "metadata": {
    "ExecuteTime": {
     "end_time": "2016-06-06T23:59:22.358636",
     "start_time": "2016-06-06T23:59:22.156728"
    },
    "collapsed": false
   },
   "outputs": [],
   "source": [
    "# cell = key[0]\n",
    "tile = tile_def[key]['pqa']\n",
    "pq_data = gw.load( tile)"
   ]
  },
  {
   "cell_type": "markdown",
   "metadata": {},
   "source": [
    "We can look at the bits available to us:"
   ]
  },
  {
   "cell_type": "code",
   "execution_count": null,
   "metadata": {
    "collapsed": false
   },
   "outputs": [],
   "source": [
    "masking.get_flags_def(pq_data)"
   ]
  },
  {
   "cell_type": "code",
   "execution_count": null,
   "metadata": {
    "ExecuteTime": {
     "end_time": "2016-06-06T23:59:22.394540",
     "start_time": "2016-06-06T23:59:22.360064"
    },
    "collapsed": false
   },
   "outputs": [],
   "source": [
    "# better display using pandas\n",
    "import pandas\n",
    "pandas.DataFrame.from_dict(masking.get_flags_def(pq_data), orient='index')"
   ]
  },
  {
   "cell_type": "markdown",
   "metadata": {},
   "source": [
    "We can make a mask from a combination of bits. Here we will use the cloud masks and the contiguous bit."
   ]
  },
  {
   "cell_type": "code",
   "execution_count": null,
   "metadata": {
    "ExecuteTime": {
     "end_time": "2016-06-06T23:59:43.640852",
     "start_time": "2016-06-06T23:59:22.395898"
    },
    "collapsed": false
   },
   "outputs": [],
   "source": [
    "contiguous = masking.make_mask(pq_data, contiguous=1).pixelquality\n",
    "contiguous.plot()"
   ]
  },
  {
   "cell_type": "code",
   "execution_count": null,
   "metadata": {
    "collapsed": false
   },
   "outputs": [],
   "source": [
    "no_contiguous = masking.make_mask(pq_data, contiguous=0).pixelquality\n",
    "no_contiguous.plot()"
   ]
  },
  {
   "cell_type": "code",
   "execution_count": null,
   "metadata": {
    "collapsed": false
   },
   "outputs": [],
   "source": [
    "# are the same?\n",
    "np.sum (contiguous != no_contiguous)"
   ]
  },
  {
   "cell_type": "code",
   "execution_count": null,
   "metadata": {
    "ExecuteTime": {
     "end_time": "2016-06-07T00:01:02.546295",
     "start_time": "2016-06-07T00:00:41.077704"
    },
    "collapsed": false
   },
   "outputs": [],
   "source": [
    "good_data = masking.make_mask(pq_data, cloud_acca='no_cloud', cloud_fmask='no_cloud', contiguous=True).pixelquality\n",
    "good_data.plot()"
   ]
  },
  {
   "cell_type": "code",
   "execution_count": null,
   "metadata": {
    "collapsed": false
   },
   "outputs": [],
   "source": [
    "good_data  # is a mask image True/false\n"
   ]
  },
  {
   "cell_type": "code",
   "execution_count": null,
   "metadata": {
    "ExecuteTime": {
     "end_time": "2016-06-07T00:02:11.819943",
     "start_time": "2016-06-07T00:01:50.320655"
    },
    "collapsed": false
   },
   "outputs": [],
   "source": [
    "cloud_free_nbar = nbar_data.where(good_data)\n",
    "cloud_free_nbar.red.plot()"
   ]
  },
  {
   "cell_type": "code",
   "execution_count": null,
   "metadata": {
    "collapsed": false
   },
   "outputs": [],
   "source": [
    "cloud_free_nbar.red"
   ]
  },
  {
   "cell_type": "code",
   "execution_count": null,
   "metadata": {
    "collapsed": true
   },
   "outputs": [],
   "source": []
  },
  {
   "cell_type": "code",
   "execution_count": null,
   "metadata": {
    "collapsed": true
   },
   "outputs": [],
   "source": []
  },
  {
   "cell_type": "markdown",
   "metadata": {},
   "source": [
    "# How to mask out the 100% GOOD pixels from NBAR data?"
   ]
  },
  {
   "cell_type": "code",
   "execution_count": null,
   "metadata": {
    "collapsed": false
   },
   "outputs": [],
   "source": [
    "pq_data"
   ]
  },
  {
   "cell_type": "code",
   "execution_count": null,
   "metadata": {
    "collapsed": false
   },
   "outputs": [],
   "source": [
    "perfect_flag = int(masking.get_flags_def(pq_data)['ga_good_pixel']['values'].keys()[0])   # should be 16383\n",
    "# perfect_flag = 16383\n",
    "\n",
    "print ('perfect_flag', perfect_flag)\n",
    "\n",
    "perfect_pixel_mask=(pq_data.pixelquality == perfect_flag)\n",
    "perfect_pixel_mask.plot()"
   ]
  },
  {
   "cell_type": "code",
   "execution_count": null,
   "metadata": {
    "collapsed": false
   },
   "outputs": [],
   "source": [
    "perfect_nbar_data = nbar_data.where(perfect_pixel_mask)\n"
   ]
  },
  {
   "cell_type": "code",
   "execution_count": null,
   "metadata": {
    "collapsed": false
   },
   "outputs": [],
   "source": [
    "y_size=4000\n",
    "x_size=4000\n",
    "\n",
    "#del raw_image\n",
    "raw_image = np.zeros((6, y_size, x_size), dtype='int16') #'float32')\n",
    "\n",
    "raw_image[0,:,:] = perfect_nbar_data.blue[:,:]\n",
    "raw_image[1,:,:] = perfect_nbar_data.green[:,:]\n",
    "raw_image[2,:,:] = perfect_nbar_data.red[:,:]\n",
    "raw_image[3,:,:] = perfect_nbar_data.nir[:,:]\n",
    "raw_image[4,:,:] = perfect_nbar_data.swir1[:,:]\n",
    "raw_image[5,:,:] = perfect_nbar_data.swir2[:,:]\n",
    "\n",
    "\n",
    "water_img = classifier.classify(raw_image)"
   ]
  },
  {
   "cell_type": "code",
   "execution_count": null,
   "metadata": {
    "collapsed": false
   },
   "outputs": [],
   "source": [
    "# display all or part of the classified image\n",
    "#plt.imshow(water_img)\n",
    "plt.imshow(water_img[2200:2600,1500:2500])  #show Lake BurleyGriffin  clfimg[2200:2600,1500:2500]) if cell=(15,-40)\n",
    "plt.colorbar(orientation='vertical', shrink=0.8, label='water=128 or no water=0');"
   ]
  },
  {
   "cell_type": "code",
   "execution_count": null,
   "metadata": {
    "collapsed": false
   },
   "outputs": [],
   "source": [
    "water_img"
   ]
  },
  {
   "cell_type": "code",
   "execution_count": null,
   "metadata": {
    "collapsed": false
   },
   "outputs": [],
   "source": [
    "pq_data"
   ]
  },
  {
   "cell_type": "code",
   "execution_count": null,
   "metadata": {
    "collapsed": false
   },
   "outputs": [],
   "source": [
    "perfect_pixel_mask = masking.make_mask(pq_data, ga_good_pixel=True).pixelquality"
   ]
  },
  {
   "cell_type": "code",
   "execution_count": null,
   "metadata": {
    "collapsed": false
   },
   "outputs": [],
   "source": [
    "perfect_pixel_mask = masking.make_mask(pq_data.pixelquality, ga_good_pixel=True)\n"
   ]
  },
  {
   "cell_type": "code",
   "execution_count": null,
   "metadata": {
    "collapsed": false
   },
   "outputs": [],
   "source": [
    "perfect_pixel_mask.plot()"
   ]
  },
  {
   "cell_type": "markdown",
   "metadata": {},
   "source": [
    "# How to get DSM tiles"
   ]
  },
  {
   "cell_type": "code",
   "execution_count": null,
   "metadata": {
    "collapsed": false
   },
   "outputs": [],
   "source": [
    "acellindex=(15,-40)\n",
    "dsm_cells = gw.list_tiles(acellindex, product='dsm1sv10')\n",
    "print (dsm_cells)\n"
   ]
  },
  {
   "cell_type": "code",
   "execution_count": null,
   "metadata": {
    "collapsed": true
   },
   "outputs": [],
   "source": [
    "# ----------------------------------------------------------------\n",
    "def get_dsm_data(acellindex, qdict={}):\n",
    "    \"\"\"\n",
    "    get dsm data for sia, terrainshadow, highslope filters\n",
    "    :param acellindex:\n",
    "    :param qdict:\n",
    "    :return:\n",
    "    \"\"\"\n",
    "    query = qdict.copy()  #avoid modify the original input qdict in-situ\n",
    "    query.pop('time', None)\n",
    "    query.pop('platform', None)\n",
    "    dsm_cells = gw.list_cells(acellindex, product='dsm1sv10', **query)\n",
    "\n",
    "    def load_dsm(cell):\n",
    "        data = gw.load(cell)\n",
    "        return data.squeeze('time').drop('time')\n",
    "\n",
    "    return {index: load_dsm(cell) for index, cell in dsm_cells.items()}\n"
   ]
  },
  {
   "cell_type": "code",
   "execution_count": null,
   "metadata": {
    "collapsed": false
   },
   "outputs": [],
   "source": [
    "dsmtile= get_dsm_data(acellindex, qdict={})"
   ]
  },
  {
   "cell_type": "code",
   "execution_count": null,
   "metadata": {
    "collapsed": false
   },
   "outputs": [],
   "source": [
    "print(dsmtile)"
   ]
  },
  {
   "cell_type": "code",
   "execution_count": null,
   "metadata": {
    "collapsed": false
   },
   "outputs": [],
   "source": [
    "\n",
    "dsmtile[(15,-40)]['elevation'].plot()"
   ]
  },
  {
   "cell_type": "code",
   "execution_count": null,
   "metadata": {
    "collapsed": true
   },
   "outputs": [],
   "source": []
  }
 ],
 "metadata": {
  "kernelspec": {
   "display_name": "Python 2",
   "language": "python",
   "name": "python2"
  },
  "language_info": {
   "codemirror_mode": {
    "name": "ipython",
    "version": 2
   },
   "file_extension": ".py",
   "mimetype": "text/x-python",
   "name": "python",
   "nbconvert_exporter": "python",
   "pygments_lexer": "ipython2",
   "version": "2.7.11"
  },
  "toc": {
   "toc_cell": false,
   "toc_number_sections": false,
   "toc_threshold": 6,
   "toc_window_display": true
  },
  "widgets": {
   "state": {},
   "version": "1.1.1"
  }
 },
 "nbformat": 4,
 "nbformat_minor": 0
}
