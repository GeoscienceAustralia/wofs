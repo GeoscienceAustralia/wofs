{
 "cells": [
  {
   "cell_type": "markdown",
   "metadata": {},
   "source": [
    "# Testing the WOfS algorithm\n",
    "It can be tedious to test-run this wofs package as a whole: adjusting configurations, installing the module, preparing and connecting between appropriate databases (populated with real input data but shielding the production database from test output), perhaps scheduling compute jobs, querying (and exporting) resulting output, and comparing against data elsewhere. (*In future, this process may be simplified by use of virtual-products and a separate reification-app.*)\n",
    "\n",
    "This notebook patches into the module, to test only the core algorithm (not the packaging). For example:\n",
    "- run on an arbitrary \"postage-stamp\"\n",
    "- run on an arbitrary tile\n",
    "- save results in a portable format for external analysis\n",
    "\n",
    "It assumes the environment is configured for accessing the production database, but will not write to the production data holdings."
   ]
  },
  {
   "cell_type": "code",
   "execution_count": 1,
   "metadata": {
    "collapsed": false
   },
   "outputs": [],
   "source": [
    "import sys\n",
    "sys.path.insert(0,'..') # to import wofs (and preferentially from here)\n",
    "import datacube\n",
    "dc = datacube.Datacube()"
   ]
  },
  {
   "cell_type": "markdown",
   "metadata": {},
   "source": [
    "## Tiles\n",
    "Concept here is to patch into the app's methods for generating tasks and for performing a task."
   ]
  },
  {
   "cell_type": "code",
   "execution_count": 2,
   "metadata": {
    "collapsed": false,
    "scrolled": true
   },
   "outputs": [
    {
     "data": {
      "text/plain": [
       "0"
      ]
     },
     "execution_count": 2,
     "metadata": {},
     "output_type": "execute_result"
    }
   ],
   "source": [
    "import datetime\n",
    "time = datacube.model.Range(datetime.datetime(1987,9,25,23,20,5), datetime.datetime(1987,9,25,23,20,25))\n",
    "import yaml\n",
    "import wofs.wofs_app\n",
    "# dry run => do not write the product def to the index\n",
    "config = yaml.load(open('../config/wofs_albers.yaml'))\n",
    "config['location'] = './' # where to write tiles\n",
    "config = wofs.wofs_app.make_wofs_config(dc.index, config, dry_run=True) # dry run => don't insert definition into database\n",
    "tasks = list(wofs.wofs_app.generate_tasks(dc.index, config, time=time))\n",
    "len(tasks)"
   ]
  },
  {
   "cell_type": "markdown",
   "metadata": {},
   "source": [
    "Note, maybe there are too few tasks outstanding because they've already been done. We can trick it to do them again."
   ]
  },
  {
   "cell_type": "code",
   "execution_count": 3,
   "metadata": {
    "collapsed": false
   },
   "outputs": [
    {
     "data": {
      "text/plain": [
       "9"
      ]
     },
     "execution_count": 3,
     "metadata": {},
     "output_type": "execute_result"
    }
   ],
   "source": [
    "config['product_definition']['name'] = 'dummy'\n",
    "config = wofs.wofs_app.make_wofs_config(dc.index, config, dry_run=True) # dry run => don't insert definition into database\n",
    "tasks = list(wofs.wofs_app.generate_tasks(dc.index, config, time=time))\n",
    "len(tasks)"
   ]
  },
  {
   "cell_type": "code",
   "execution_count": 4,
   "metadata": {
    "collapsed": false
   },
   "outputs": [
    {
     "data": {
      "text/plain": [
       "[(18, -26, numpy.datetime64('1987-09-25T23:20:22.500000000')),\n",
       " (20, -26, numpy.datetime64('1987-09-25T23:20:22.500000000')),\n",
       " (19, -26, numpy.datetime64('1987-09-25T23:20:22.500000000')),\n",
       " (20, -27, numpy.datetime64('1987-09-25T23:20:22.500000000')),\n",
       " (18, -27, numpy.datetime64('1987-09-25T23:20:22.500000000'))]"
      ]
     },
     "execution_count": 4,
     "metadata": {},
     "output_type": "execute_result"
    }
   ],
   "source": [
    "[task['tile_index'] for task in tasks[:5]] # inspect a few"
   ]
  },
  {
   "cell_type": "code",
   "execution_count": 5,
   "metadata": {
    "collapsed": false
   },
   "outputs": [],
   "source": [
    "def do_task(config=config, **task):\n",
    "    \"\"\"Remove output file first if it already exists\"\"\"\n",
    "    try:\n",
    "        task['file_path'].unlink()\n",
    "    except FileNotFoundError:\n",
    "        pass\n",
    "    return wofs.wofs_app.do_wofs_task(config=config, **task)        "
   ]
  },
  {
   "cell_type": "code",
   "execution_count": 6,
   "metadata": {
    "collapsed": false
   },
   "outputs": [
    {
     "name": "stderr",
     "output_type": "stream",
     "text": [
      "../wofs/classifier.py:67: RuntimeWarning: divide by zero encountered in true_divide\n",
      "  c = (a - b) / (a + b)\n"
     ]
    },
    {
     "data": {
      "text/plain": [
       "15.579870926216245"
      ]
     },
     "execution_count": 6,
     "metadata": {},
     "output_type": "execute_result"
    }
   ],
   "source": [
    "import timeit\n",
    "t0 = timeit.default_timer()\n",
    "result = do_task(**tasks[0]) # do one (should write a file but not index it)\n",
    "timeit.default_timer() - t0"
   ]
  },
  {
   "cell_type": "code",
   "execution_count": 7,
   "metadata": {
    "collapsed": false
   },
   "outputs": [
    {
     "data": {
      "text/plain": [
       "[Dataset <id=37862423-5419-44aa-9f24-3ad9ea00a20a type=dummy location=/g/data1/u46/users/brl654/datacube/wofs/tests/LS5_TM_WATER/18_-26/LS5_TM_WATER_3577_18_-26_19870925232022500000.nc>]"
      ]
     },
     "execution_count": 7,
     "metadata": {},
     "output_type": "execute_result"
    }
   ],
   "source": [
    "result"
   ]
  },
  {
   "cell_type": "markdown",
   "metadata": {},
   "source": [
    "The usual task is to write the dataset to a file (in preparation for indexing), not to retain it in memory (amenable to visualisation).\n",
    "\n",
    "Now, to visualise that data!"
   ]
  },
  {
   "cell_type": "code",
   "execution_count": null,
   "metadata": {
    "collapsed": true
   },
   "outputs": [],
   "source": []
  },
  {
   "cell_type": "code",
   "execution_count": null,
   "metadata": {
    "collapsed": true
   },
   "outputs": [],
   "source": []
  },
  {
   "cell_type": "code",
   "execution_count": null,
   "metadata": {
    "collapsed": true
   },
   "outputs": [],
   "source": []
  },
  {
   "cell_type": "markdown",
   "metadata": {},
   "source": [
    "## Postage-stamp\n",
    "Concept is to patch into the core science algorithm. So must provide NBAR, PQ and DSM data.\n",
    "\n",
    "For example, Minindee lakes."
   ]
  },
  {
   "cell_type": "code",
   "execution_count": 8,
   "metadata": {
    "collapsed": false
   },
   "outputs": [
    {
     "data": {
      "text/plain": [
       "8"
      ]
     },
     "execution_count": 8,
     "metadata": {},
     "output_type": "execute_result"
    }
   ],
   "source": [
    "timerange = ('2015-01-01','2015-02-01')\n",
    "spatialquery = dict(lat=(-32.72,-32.17), lon=(141.99, 142.68))\n",
    "nbar = dc.load(product='ls8_nbar_albers', time=timerange, **spatialquery)\n",
    "len(nbar.time)"
   ]
  },
  {
   "cell_type": "code",
   "execution_count": 9,
   "metadata": {
    "collapsed": false
   },
   "outputs": [
    {
     "data": {
      "text/plain": [
       "True"
      ]
     },
     "execution_count": 9,
     "metadata": {},
     "output_type": "execute_result"
    }
   ],
   "source": [
    "pq = dc.load(product='ls8_pq_albers', time=timerange, like=nbar)\n",
    "len(pq.time) == len(nbar.time)"
   ]
  },
  {
   "cell_type": "code",
   "execution_count": 10,
   "metadata": {
    "collapsed": false
   },
   "outputs": [],
   "source": [
    "dsm = dc.load(product='dsm1sv10', like=nbar, time=('1900-01-01','2100-01-01'))"
   ]
  },
  {
   "cell_type": "code",
   "execution_count": 12,
   "metadata": {
    "collapsed": false
   },
   "outputs": [
    {
     "name": "stderr",
     "output_type": "stream",
     "text": [
      "../wofs/classifier.py:67: RuntimeWarning: divide by zero encountered in true_divide\n",
      "  c = (a - b) / (a + b)\n"
     ]
    }
   ],
   "source": [
    "import wofs.wofls\n",
    "w = [wofs.wofls.woffles(nbar.isel(time=i), pq.isel(time=i), dsm.isel(time=0)) for i in range(nbar.time.size)]"
   ]
  },
  {
   "cell_type": "code",
   "execution_count": 23,
   "metadata": {
    "collapsed": false
   },
   "outputs": [
    {
     "name": "stderr",
     "output_type": "stream",
     "text": [
      "/g/data1/u46/users/brl654/tools/python/anaconda/install/envs/pyramid/lib/python3.5/site-packages/xarray-0.8.2-py3.5.egg/xarray/core/variable.py:1046: RuntimeWarning: invalid value encountered in true_divide\n",
      "  if not reflexive\n"
     ]
    },
    {
     "data": {
      "text/plain": [
       "<xarray.DataArray (y: 2660, x: 2765)>\n",
       "array([[ nan,  nan,  nan, ...,  nan,  nan,  nan],\n",
       "       [ nan,  nan,  nan, ...,  nan,  nan,  nan],\n",
       "       [ nan,  nan,  nan, ...,  nan,  nan,  nan],\n",
       "       ..., \n",
       "       [ nan,  nan,  nan, ...,  nan,  nan,  nan],\n",
       "       [ nan,  nan,  nan, ...,  nan,  nan,  nan],\n",
       "       [ nan,  nan,  nan, ...,  nan,  nan,  nan]])\n",
       "Coordinates:\n",
       "  * x        (x) float64 9.284e+05 9.284e+05 9.284e+05 9.284e+05 9.285e+05 ...\n",
       "  * y        (y) float64 -3.543e+06 -3.543e+06 -3.543e+06 -3.543e+06 ..."
      ]
     },
     "execution_count": 23,
     "metadata": {},
     "output_type": "execute_result"
    }
   ],
   "source": [
    "import xarray\n",
    "water = xarray.concat(w, nbar.time)\n",
    "dry = (water==0)\n",
    "wet = (water==128)\n",
    "clear = wet | dry\n",
    "freq = wet.sum(dim='time') / clear.sum(dim='time')\n",
    "freq"
   ]
  },
  {
   "cell_type": "code",
   "execution_count": 21,
   "metadata": {
    "collapsed": false
   },
   "outputs": [
    {
     "data": {
      "text/plain": [
       "<matplotlib.image.AxesImage at 0x7efccf571048>"
      ]
     },
     "execution_count": 21,
     "metadata": {},
     "output_type": "execute_result"
    },
    {
     "data": {
      "image/png": "[encoded data removed]",
      "text/plain": [
       "<matplotlib.figure.Figure at 0x7efd43c9fef0>"
      ]
     },
     "metadata": {},
     "output_type": "display_data"
    }
   ],
   "source": [
    "%matplotlib inline\n",
    "import matplotlib.pyplot as plt\n",
    "plt.imshow(freq.data)"
   ]
  }
 ],
 "metadata": {
  "anaconda-cloud": {},
  "kernelspec": {
   "display_name": "Python [default]",
   "language": "python",
   "name": "python3"
  },
  "language_info": {
   "codemirror_mode": {
    "name": "ipython",
    "version": 3
   },
   "file_extension": ".py",
   "mimetype": "text/x-python",
   "name": "python",
   "nbconvert_exporter": "python",
   "pygments_lexer": "ipython3",
   "version": "3.5.2"
  }
 },
 "nbformat": 4,
 "nbformat_minor": 1
}
