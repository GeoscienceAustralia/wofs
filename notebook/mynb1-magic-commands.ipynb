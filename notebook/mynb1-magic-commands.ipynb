{
 "cells": [
  {
   "cell_type": "markdown",
   "metadata": {},
   "source": [
    "# Magic commands start with %"
   ]
  },
  {
   "cell_type": "code",
   "execution_count": 3,
   "metadata": {
    "collapsed": false
   },
   "outputs": [
    {
     "data": {
      "text/plain": [
       "u'/home/547/fxz547/github/PyLabz/Zupyternotez'"
      ]
     },
     "execution_count": 3,
     "metadata": {},
     "output_type": "execute_result"
    }
   ],
   "source": [
    "%pwd"
   ]
  },
  {
   "cell_type": "markdown",
   "metadata": {},
   "source": [
    "# Any Linux Commands prefix with !"
   ]
  },
  {
   "cell_type": "code",
   "execution_count": 4,
   "metadata": {
    "collapsed": false
   },
   "outputs": [
    {
     "name": "stdout",
     "output_type": "stream",
     "text": [
      "Python 2.7.11 :: Anaconda 2.4.1 (64-bit)\r\n"
     ]
    }
   ],
   "source": [
    "!python -V"
   ]
  },
  {
   "cell_type": "code",
   "execution_count": 5,
   "metadata": {
    "collapsed": false
   },
   "outputs": [
    {
     "name": "stdout",
     "output_type": "stream",
     "text": [
      "Currently Loaded Modulefiles:\r\n",
      "  1) pbs\r\n"
     ]
    }
   ],
   "source": [
    "!module list"
   ]
  },
  {
   "cell_type": "code",
   "execution_count": 6,
   "metadata": {
    "collapsed": false
   },
   "outputs": [
    {
     "name": "stdout",
     "output_type": "stream",
     "text": [
      "  PID TTY          TIME CMD\r\n",
      "  329 ?        00:00:00 python\r\n",
      "  811 pts/28   00:00:00 ps\r\n",
      "18637 ?        00:00:01 python\r\n",
      "28537 ?        00:00:04 jupyter-noteboo\r\n",
      "31625 ?        00:00:01 python\r\n"
     ]
    }
   ],
   "source": [
    "!ps -u $USER\n"
   ]
  },
  {
   "cell_type": "code",
   "execution_count": 7,
   "metadata": {
    "collapsed": false
   },
   "outputs": [
    {
     "name": "stdout",
     "output_type": "stream",
     "text": [
      "\u001b[33mYou are using pip version 6.0.8, however version 7.1.2 is available.\n",
      "You should consider upgrading via the 'pip install --upgrade pip' command.\u001b[0m\n",
      "abstract-rendering==0.5.1\n",
      "affine==1.2.0\n",
      "alabaster==0.7.6\n",
      "anaconda-client==1.2.1\n",
      "argcomplete==1.0.0\n",
      "astroid==1.3.4\n",
      "astropy==1.0.6\n",
      "auxil==1.1\n",
      "Babel==2.1.1\n",
      "backports-abc==0.4\n",
      "backports.ssl-match-hostname==3.4.0.2\n",
      "beautifulsoup4==4.4.1\n",
      "bitarray==0.8.1\n",
      "blaze==0.8.3\n",
      "bokeh==0.10.0\n",
      "boto==2.38.0\n",
      "Bottleneck==1.0.0\n",
      "cachetools==1.1.5\n",
      "cdecimal==2.3\n",
      "cffi==1.2.1\n",
      "click==4.1\n",
      "cligj==0.2.0\n",
      "clyent==1.2.0\n",
      "colorama==0.3.3\n",
      "conda==3.18.8\n",
      "conda-build==1.18.1\n",
      "conda-env==2.4.5\n",
      "configobj==5.0.6\n",
      "cryptography==0.9.1\n",
      "cycler==0.9.0\n",
      "Cython==0.23.4\n",
      "cytoolz==0.7.4\n",
      "datashape==0.4.7\n",
      "decorator==4.0.4\n",
      "docutils==0.12\n",
      "dynd==9b63882\n",
      "enum34==1.0.4\n",
      "fastcache==1.0.2\n",
      "Flask==0.10.1\n",
      "funcsigs==0.4\n",
      "GDAL==2.0.0\n",
      "gevent==1.0.1\n",
      "gevent-websocket==0.9.3\n",
      "greenlet==0.4.9\n",
      "grin==1.2.1\n",
      "h5py==2.5.0\n",
      "idna==2.0\n",
      "ipaddress==1.0.14\n",
      "ipykernel==4.1.1\n",
      "ipython==4.0.1\n",
      "ipython-genutils==0.1.0\n",
      "ipywidgets==4.1.0\n",
      "itsdangerous==0.24\n",
      "jdcal==1.0\n",
      "jedi==0.9.0\n",
      "Jinja2==2.8\n",
      "jsonschema==2.4.0\n",
      "jupyter==1.0.0\n",
      "jupyter-client==4.1.1\n",
      "jupyter-console==4.0.3\n",
      "jupyter-core==4.0.6\n",
      "llvmlite==0.8.0\n",
      "logilab-common==0.63.2\n",
      "lxml==3.4.4\n",
      "MarkupSafe==0.23\n",
      "matplotlib==1.5.0\n",
      "mistune==0.7.1\n",
      "mock==1.3.0\n",
      "multipledispatch==0.4.8\n",
      "nbconvert==4.0.0\n",
      "nbformat==4.0.1\n",
      "netCDF4==1.1.9\n",
      "networkx==1.10\n",
      "nltk==3.1\n",
      "nose==1.3.7\n",
      "notebook==4.0.6\n",
      "numba==0.22.1\n",
      "numexpr==2.4.4\n",
      "numpy==1.10.1\n",
      "odo==0.3.4\n",
      "openpyxl==2.2.6\n",
      "pandas==0.17.1\n",
      "path.py==0.0.0\n",
      "pathlib==1.0.1\n",
      "patsy==0.4.0\n",
      "pbr==0.10.8\n",
      "pep8==1.6.2\n",
      "pexpect==3.3\n",
      "pickleshare==0.5\n",
      "Pillow==3.0.0\n",
      "ply==3.8\n",
      "psutil==3.3.0\n",
      "psycopg2==2.6.1\n",
      "ptyprocess==0.5\n",
      "py==1.4.30\n",
      "pyasn1==0.1.9\n",
      "pycairo==1.10.0\n",
      "pycosat==0.6.1\n",
      "pycparser==2.14\n",
      "pycrypto==2.6.1\n",
      "pycurl==7.19.5.1\n",
      "pyflakes==1.0.0\n",
      "Pygments==2.0.2\n",
      "pylint==1.4.2\n",
      "pyOpenSSL==0.15.1\n",
      "pyparsing==2.0.3\n",
      "pytest==2.8.1\n",
      "python-dateutil==2.4.2\n",
      "pytz==2015.7\n",
      "PyYAML==3.11\n",
      "pyzmq==14.7.0\n",
      "qtconsole==4.1.1\n",
      "rasterio==0.25.0\n",
      "redis==2.10.3\n",
      "requests==2.8.1\n",
      "rope==0.9.4\n",
      "scikit-image==0.11.3\n",
      "scikit-learn==0.17\n",
      "scipy==0.16.0\n",
      "simplegeneric==0.8.1\n",
      "singledispatch==3.4.0.3\n",
      "six==1.9.0\n",
      "snowballstemmer==1.2.0\n",
      "snuggs==1.3.1\n",
      "sockjs-tornado==1.0.1\n",
      "Sphinx==1.3.1\n",
      "sphinx-rtd-theme==0.1.7\n",
      "spyder==2.3.8\n",
      "SQLAlchemy==1.0.9\n",
      "statsmodels==0.6.1\n",
      "stevedore==1.3.0\n",
      "sympy==0.7.6.1\n",
      "tables==3.2.2\n",
      "terminado==0.5\n",
      "Theano==0.7.0\n",
      "toolz==0.7.4\n",
      "tornado==4.3\n",
      "traitlets==4.0.0\n",
      "ujson==1.33\n",
      "unicodecsv==0.14.1\n",
      "virtualenv==12.0.7\n",
      "virtualenv-clone==0.2.5\n",
      "virtualenvwrapper==4.3.2\n",
      "Werkzeug==0.11.2\n",
      "wheel==0.26.0\n",
      "xlrd==0.9.4\n",
      "XlsxWriter==0.7.7\n",
      "xlwt==1.0.0\n"
     ]
    }
   ],
   "source": [
    "!pip freeze\n"
   ]
  },
  {
   "cell_type": "code",
   "execution_count": 8,
   "metadata": {
    "collapsed": false
   },
   "outputs": [
    {
     "name": "stdout",
     "output_type": "stream",
     "text": [
      "Python 2.7.11 :: Anaconda 2.4.1 (64-bit)\r\n"
     ]
    }
   ],
   "source": [
    "!python -V"
   ]
  },
  {
   "cell_type": "code",
   "execution_count": 9,
   "metadata": {
    "collapsed": false
   },
   "outputs": [
    {
     "name": "stdout",
     "output_type": "stream",
     "text": [
      "Currently Loaded Modulefiles:\r\n",
      "  1) pbs\r\n"
     ]
    }
   ],
   "source": [
    "!module list"
   ]
  },
  {
   "cell_type": "code",
   "execution_count": 10,
   "metadata": {
    "collapsed": false
   },
   "outputs": [
    {
     "name": "stdout",
     "output_type": "stream",
     "text": [
      "matplotfin.py  mynb1-magic-commands.ipynb  mynb2-postgres.ipynb\r\n"
     ]
    }
   ],
   "source": [
    "!"
   ]
  }
 ],
 "metadata": {
  "kernelspec": {
   "display_name": "Python 2",
   "language": "python",
   "name": "python2"
  },
  "language_info": {
   "codemirror_mode": {
    "name": "ipython",
    "version": 2
   },
   "file_extension": ".py",
   "mimetype": "text/x-python",
   "name": "python",
   "nbconvert_exporter": "python",
   "pygments_lexer": "ipython2",
   "version": "2.7.11"
  }
 },
 "nbformat": 4,
 "nbformat_minor": 0
}
