{
 "cells": [
  {
   "cell_type": "markdown",
   "metadata": {},
   "source": [
    "# Compare Raster Files (numerically and visually) to reveal their differences"
   ]
  },
  {
   "cell_type": "code",
   "execution_count": null,
   "metadata": {
    "collapsed": false
   },
   "outputs": [],
   "source": [
    "import os, sys\n",
    "\n",
    "import gdal\n",
    "from gdalconst import *\n",
    "import numpy as np\n",
    "\n",
    "def read_raster_bands(geofile):\n",
    "# replaced def readtiff(geofile):\n",
    "    \"\"\" read raster bands into numpy array\n",
    "    input param rasterfile: geofile\n",
    "    return: a list of[ numpy ]\n",
    "    \"\"\"\n",
    "\n",
    "\n",
    "    # Register drivers\n",
    "    gdal.AllRegister()\n",
    "\n",
    "    # Open image\n",
    "    ds = gdal.Open(geofile, GA_ReadOnly)\n",
    "\n",
    "    if ds is None:\n",
    "        raise Exception('Could not open image file %s' %(geofile))\n",
    "        \n",
    "\n",
    "    # get image size\n",
    "    rows = ds.RasterYSize\n",
    "    cols = ds.RasterXSize\n",
    "    numbands = ds.RasterCount\n",
    "\n",
    "#     print 'rows= %s, cols= %s, number of bands = %s' %(str(rows), str(cols), str(numbands))\n",
    "#     print (\"********************\")\n",
    "\n",
    "    # get projection and resolution info of the raster\n",
    "    proj = ds.GetProjection()\n",
    "\n",
    "    transform = ds.GetGeoTransform()\n",
    "    xOrigin = transform[0]\n",
    "    yOrigin = transform[3]\n",
    "    pixelWidth = transform[1]\n",
    "    pixelHeight = transform[5]\n",
    "\n",
    "#     print (\"Projection Info = %s\"%(proj))\n",
    "#     print (\"xOrigin = %s,  yOrigin = %s \"%(xOrigin, yOrigin))\n",
    "#     print (\"pixelWidth = %s,  pixelHeight = %s \"%(pixelWidth, pixelHeight))\n",
    "    \n",
    "    # Read the data into numpy array\n",
    "    numarray=[]\n",
    "    for i in range(1,numbands+1):\n",
    "        band =ds.GetRasterBand(i)  # the very first band is i=1\n",
    "        data = band.ReadAsArray(0,0,cols,rows) #.astype('float32')\n",
    "        numarray.append(data)\n",
    "    \n",
    "    # Once we're done, close properly the dataset\n",
    "    ds = None\n",
    "    \n",
    "    return numarray\n",
    "\n",
    "%matplotlib inline\n",
    "import matplotlib.pyplot as plt\n",
    "import matplotlib.image as mpimg\n",
    "import scipy.stats as spys\n",
    "\n",
    "def showimages(rastfile_a,rastfile_b=None):\n",
    "    \"\"\" Display side-by-side two geo-raster files.\n",
    "    \n",
    "    \"\"\"\n",
    "    numalist_a = read_raster_bands(rastfile_a)\n",
    "    band0a=numalist_a[0]\n",
    "    \n",
    "    if rastfile_b is not None:\n",
    "        numalist_b = read_raster_bands(rastfile_b)\n",
    "        band0b=numalist_b[0]\n",
    "        \n",
    "    plt.imshow(band0a)\n",
    "\n",
    "#if __name__ == \"__main__\":\n",
    "#    infile = sys.argv[1]\n",
    "#    nparlist = readtiff(infile)\n",
    "\n"
   ]
  },
  {
   "cell_type": "code",
   "execution_count": null,
   "metadata": {
    "collapsed": false
   },
   "outputs": [],
   "source": [
    "# Display an image\n",
    "\n",
    "PyramidClearWaterObsTif='/g/data/u46/wofs/water_FZ20160203/pyramids/ClearObservations/7/clear_obs_143_-033_1_1.tif'\n",
    "\n",
    "showimages(PyramidClearWaterObsTif)"
   ]
  },
  {
   "cell_type": "code",
   "execution_count": null,
   "metadata": {
    "collapsed": false
   },
   "outputs": [],
   "source": [
    "# Complete Rerun Wofs\n",
    "\n",
    "PyramidClearWaterObs6Tif='/g/data/u46/wofs/water_FZ20160203/pyramids/ClearObservations/6/clear_obs_143_-033_1_1.tif'\n",
    "PyramidClearWaterObs7Tif='/g/data/u46/wofs/water_FZ20160203/pyramids/ClearObservations/7/clear_obs_143_-033_1_1.tif'\n",
    "\n",
    "    \n",
    "imga=read_raster_bands(PyramidClearWaterObs6Tif)\n",
    "imgb=read_raster_bands(PyramidClearWaterObs7Tif)\n",
    "\n",
    "f, ax = plt.subplots(1,2,figsize=(20,10))\n",
    "ax[0].imshow(imga[0], cmap='Greys')\n",
    "ax[0].set_title('%s\\n'%('Clear Observations Pyramid 6'))\n",
    "#plt.show()    \n",
    "\n",
    "ax[1].imshow(imgb[0], cmap='Greys')\n",
    "ax[1].set_title('%s\\n'%('Clear Observations  Pyramid 7')) \n",
    "\n",
    "plt.show()"
   ]
  },
  {
   "cell_type": "code",
   "execution_count": null,
   "metadata": {
    "collapsed": false
   },
   "outputs": [],
   "source": [
    "# Double counting-problem Clear Obs\n",
    "\n",
    "PyramidClearWaterObs6Tif='/g/data/u46/wofs/WOFS_OLD_RUNS/water_zf2/pyramids/ClearObservations/6/clear_obs_143_-033_1_1.tif'\n",
    "PyramidClearWaterObs7Tif='/g/data/u46/wofs/WOFS_OLD_RUNS/water_zf2/pyramids/ClearObservations/7/clear_obs_143_-033_1_1.tif'\n",
    "\n",
    "    \n",
    "imga=read_raster_bands(PyramidClearWaterObs6Tif)\n",
    "imgb=read_raster_bands(PyramidClearWaterObs7Tif)\n",
    "\n",
    "f, ax = plt.subplots(1,2,figsize=(20,10))\n",
    "ax[0].imshow(imga[0], cmap='Greys')\n",
    "ax[0].set_title('%s\\n'%('Double Cunting Problem Clear Observations Pyramid 6'))\n",
    "#plt.show()    \n",
    "\n",
    "ax[1].imshow(imgb[0], cmap='Greys')\n",
    "ax[1].set_title('%s\\n'%('Clear Observations  Pyramid 7')) \n",
    "\n",
    "plt.show()"
   ]
  },
  {
   "cell_type": "code",
   "execution_count": null,
   "metadata": {
    "collapsed": false
   },
   "outputs": [],
   "source": [
    "\n",
    "#Published \n",
    "tifa='/g/data/fk4/wofs/water_f7q/pyramids/ClearObservations/6/obscount_111_-028_1_1.tif'\n",
    "#Rerun\n",
    "tifb='/g/data/u46/wofs/water_FZ20160203/pyramids/ClearObservations/6/clear_obs_143_-033_1_1.tif'\n",
    "\n",
    "    \n",
    "imga=read_raster_bands(tifa)\n",
    "imgb=read_raster_bands(tifb)\n",
    "\n",
    "f, ax = plt.subplots(1,2,figsize=(20,10))\n",
    "ax[0].imshow(imga[0]) #, cmap='Greys')\n",
    "ax[0].set_title('%s\\n'%('Previous Published good Clear Observations Pyramid 6'))\n",
    "#plt.show()    \n",
    "\n",
    "ax[1].imshow(imgb[0]) #, cmap='Greys')\n",
    "ax[1].set_title('%s\\n'%('Rerun Clear Observations  Pyramid 6')) \n",
    "\n",
    "plt.show()"
   ]
  },
  {
   "cell_type": "code",
   "execution_count": null,
   "metadata": {
    "collapsed": true
   },
   "outputs": [],
   "source": [
    "def compare_two_files_pixels(rastfile_a,rastfile_b):\n",
    "    \"\"\" Compare pixel values data of two geo-raster files.\n",
    "    The result could be raster pixel values equal, but metadata differ\n",
    "    return True if idenitcal, False if not\n",
    "    \"\"\"\n",
    "    numalist_a = read_raster_bands(rastfile_a)\n",
    "    numalist_b = read_raster_bands(rastfile_b)\n",
    "\n",
    "    print \"The number of bands in each raster files:\"\n",
    "    print len(numalist_a) , len(numalist_b)\n",
    "\n",
    "    if len(numalist_a) != len(numalist_b):\n",
    "        return False\n",
    "    \n",
    "    for n in range(0,len(numalist_a) ):\n",
    "        print \"The numerical sums of the band \", n, \"in each raster files: \"\n",
    "        print np.sum(numalist_a[n]), np.sum(numalist_b[n])\n",
    "    \n",
    "        is_all_eq = (numalist_a[n]==numalist_b[n]).all()\n",
    "        \n",
    "        if is_all_eq is False:\n",
    "            print \"Not all are equal in the band \", n\n",
    "            \n",
    "            return is_all_eq\n",
    "        \n",
    "    print \"Comparison of the two files pixel values result in:\"\n",
    "    \n",
    "    return True"
   ]
  },
  {
   "cell_type": "code",
   "execution_count": null,
   "metadata": {
    "collapsed": false
   },
   "outputs": [],
   "source": [
    "WATER_EXTENTS_DIR='/g/data/u46/wofs/extents'\n",
    "WATER_EXTENTS_DIR_OLD='/g/data/u46/wofs/extents_OLD_540GB_02Feb2016'  # Backup\n",
    "cell_index='144_-026'\n",
    "a_water_extent_file='LS8_OLI_TIRS_WATER_144_-026_2015-06-15T00-17-29.tif'\n",
    "\n",
    "rastfile_a=os.path.join(WATER_EXTENTS_DIR,cell_index, a_water_extent_file)\n",
    "rastfile_b=os.path.join(WATER_EXTENTS_DIR_OLD,cell_index, a_water_extent_file)\n",
    "\n",
    "numalist_a = read_raster_bands(rastfile_a)\n",
    "numalist_b = read_raster_bands(rastfile_b)\n",
    "\n",
    "bo=compare_two_files_pixels(rastfile_a, rastfile_b)\n",
    "\n",
    "print bo"
   ]
  },
  {
   "cell_type": "code",
   "execution_count": null,
   "metadata": {
    "collapsed": true
   },
   "outputs": [],
   "source": [
    "def compare_two_dirs_rasterfiles(dir_a, dir_b):\n",
    "    \"\"\"Compare two directory's tiff files, \n",
    "    if they have the same number of tif files, same named, same pixel values for every tif pair\"\n",
    "    \"\"\"\n",
    "    \n",
    "    # loop over dir_a's files to compare each with dir_b's same named file\n",
    "    \n",
    "    import glob\n",
    "\n",
    "    #filelist= glob.glob(self.extentdir + \"/LS8*.tif\") #os.listdir(self.extentdir)\n",
    "    filelist= glob.glob(dir_a+ \"/*.tif\") #os.listdir(self.extentdir)\n",
    "\n",
    "    for afile in filelist:\n",
    "        \n",
    "        fname=os.path.basename(afile)\n",
    "        bfile =os.path.join(dir_b, fname)\n",
    "        print (\"comparing file %s and %s\" %(afile, bfile))\n",
    "        \n",
    "        res = compare_two_files_pixels(afile,bfile)\n",
    "        print res\n",
    "        \n"
   ]
  },
  {
   "cell_type": "code",
   "execution_count": null,
   "metadata": {
    "collapsed": false
   },
   "outputs": [],
   "source": [
    "compare_two_dirs_rasterfiles(WATER_EXTENTS_DIR+'/'+cell_index, WATER_EXTENTS_DIR_OLD+'/'+cell_index)\n"
   ]
  },
  {
   "cell_type": "code",
   "execution_count": null,
   "metadata": {
    "collapsed": true
   },
   "outputs": [],
   "source": [
    "%matplotlib inline\n",
    "import matplotlib.pyplot as plt\n",
    "import matplotlib.image as mpimg\n",
    "import scipy.stats as spys\n"
   ]
  }
 ],
 "metadata": {
  "kernelspec": {
   "display_name": "Python 2",
   "language": "python",
   "name": "python2"
  },
  "language_info": {
   "codemirror_mode": {
    "name": "ipython",
    "version": 2
   },
   "file_extension": ".py",
   "mimetype": "text/x-python",
   "name": "python",
   "nbconvert_exporter": "python",
   "pygments_lexer": "ipython2",
   "version": "2.7.11"
  }
 },
 "nbformat": 4,
 "nbformat_minor": 0
}
