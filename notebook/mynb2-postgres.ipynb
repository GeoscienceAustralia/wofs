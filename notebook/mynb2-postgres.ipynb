{
 "cells": [
  {
   "cell_type": "markdown",
   "metadata": {},
   "source": [
    "# git@github.com:mortcanty/CRCPython.git"
   ]
  },
  {
   "cell_type": "code",
   "execution_count": 4,
   "metadata": {
    "collapsed": false
   },
   "outputs": [
    {
     "name": "stdout",
     "output_type": "stream",
     "text": [
      "[ (datetime.date(2015, 10, 1), 2015, 10, 1, 735872.0, 73.39, 74.355, 72.66, 74.27, 3277200.0, 74.27)\n",
      " (datetime.date(2015, 10, 2), 2015, 10, 2, 735873.0, 73.39, 74.44, 73.11, 73.39, 2392400.0, 73.39)\n",
      " (datetime.date(2015, 10, 5), 2015, 10, 5, 735876.0, 74.44, 74.84, 74.2, 74.36, 1619800.0, 74.36)\n",
      " (datetime.date(2015, 10, 6), 2015, 10, 6, 735877.0, 75.25, 75.83, 74.78, 74.96, 2595200.0, 74.96)\n",
      " (datetime.date(2015, 10, 7), 2015, 10, 7, 735878.0, 75.0, 75.28, 73.71, 75.0, 2523400.0, 75.0)\n",
      " (datetime.date(2015, 10, 8), 2015, 10, 8, 735879.0, 75.7, 75.9, 75.03, 75.37, 1998100.0, 75.37)\n",
      " (datetime.date(2015, 10, 9), 2015, 10, 9, 735880.0, 76.0, 76.25, 75.0, 75.53, 2428900.0, 75.53)\n",
      " (datetime.date(2015, 10, 12), 2015, 10, 12, 735883.0, 75.5, 75.53, 74.33, 74.65, 2185100.0, 74.65)\n",
      " (datetime.date(2015, 10, 13), 2015, 10, 13, 735884.0, 74.5, 74.88, 73.27, 74.23, 2371600.0, 74.23)\n",
      " (datetime.date(2015, 10, 14), 2015, 10, 14, 735885.0, 73.45, 75.0, 73.45, 74.56, 2682800.0, 74.56)]\n"
     ]
    }
   ],
   "source": [
    "\n",
    "from matplotlib.finance import quotes_historical_yahoo_ohlc\n",
    "import numpy as np\n",
    "import pandas as pd\n",
    "ticker='CBA.AX' #'DELL'\n",
    "begdate=(2015,10,1)\n",
    "enddate=(2016,12,31)\n",
    "p=quotes_historical_yahoo_ohlc(ticker,begdate,enddate,asobject=True,adjusted=True)\n",
    "print p[:10]\n"
   ]
  },
  {
   "cell_type": "code",
   "execution_count": 5,
   "metadata": {
    "collapsed": false
   },
   "outputs": [
    {
     "name": "stdout",
     "output_type": "stream",
     "text": [
      "[ (datetime.date(2015, 12, 31), 2015, 12, 31, 735963.0, 85.49, 85.85, 85.1, 85.53, 1800600.0, 85.53)\n",
      " (datetime.date(2016, 1, 1), 2016, 1, 1, 735964.0, 85.53, 85.53, 85.53, 85.53, 0.0, 85.53)\n",
      " (datetime.date(2016, 1, 4), 2016, 1, 4, 735967.0, 85.44, 85.53, 84.23, 84.46, 2230000.0, 84.46)\n",
      " (datetime.date(2016, 1, 5), 2016, 1, 5, 735968.0, 83.18, 83.63, 83.01, 83.11, 2761600.0, 83.11)\n",
      " (datetime.date(2016, 1, 6), 2016, 1, 6, 735969.0, 83.13, 83.34, 81.89, 82.11, 2477000.0, 82.11)\n",
      " (datetime.date(2016, 1, 7), 2016, 1, 7, 735970.0, 81.7, 82.3, 79.91, 80.41, 3320900.0, 80.41)\n",
      " (datetime.date(2016, 1, 8), 2016, 1, 8, 735971.0, 79.0, 80.35, 77.65, 79.42, 3791300.0, 79.42)\n",
      " (datetime.date(2016, 1, 11), 2016, 1, 11, 735974.0, 78.48, 79.2, 77.73, 78.64, 2588200.0, 78.64)\n",
      " (datetime.date(2016, 1, 12), 2016, 1, 12, 735975.0, 79.0, 80.35, 78.96, 79.39, 2927000.0, 79.39)\n",
      " (datetime.date(2016, 1, 13), 2016, 1, 13, 735976.0, 80.11, 81.27, 79.58, 81.0, 3143900.0, 81.0)]\n"
     ]
    }
   ],
   "source": [
    "print p[-10:]"
   ]
  },
  {
   "cell_type": "code",
   "execution_count": 6,
   "metadata": {
    "collapsed": false
   },
   "outputs": [
    {
     "name": "stdout",
     "output_type": "stream",
     "text": [
      "matplotfin.py  mynb1-magic-commands.ipynb  mynb2-postgres.ipynb\n",
      "/home/547/fxz547/github\n"
     ]
    }
   ],
   "source": [
    "# security: can run any command !unix_cmd\n",
    "# !rm -rf luigi\n",
    "!ls\n",
    "%cd ~/github"
   ]
  },
  {
   "cell_type": "code",
   "execution_count": 5,
   "metadata": {
    "collapsed": false
   },
   "outputs": [
    {
     "name": "stdout",
     "output_type": "stream",
     "text": [
      "Opened database successfully\n",
      "('PostgreSQL 9.4.5 on x86_64-unknown-linux-gnu, compiled by gcc (GCC) 4.4.7 20120313 (Red Hat 4.4.7-16), 64-bit',)\n",
      "----------\n"
     ]
    },
    {
     "name": "stderr",
     "output_type": "stream",
     "text": [
      "ERROR: An unexpected error occurred while tokenizing input\n",
      "The following traceback may be corrupted or invalid\n",
      "The error message is: ('EOF in multi-line string', (1, 28))\n",
      "\n"
     ]
    },
    {
     "ename": "ProgrammingError",
     "evalue": "syntax error at or near \"if\"\nLINE 1: CREATE TABLE COMPANY if not exists\n                             ^\n",
     "output_type": "error",
     "traceback": [
      "\u001b[1;31m---------------------------------------------------------------------------\u001b[0m",
      "\u001b[1;31mProgrammingError\u001b[0m                          Traceback (most recent call last)",
      "\u001b[1;32m<ipython-input-5-5b260cbf0dab>\u001b[0m in \u001b[0;36m<module>\u001b[1;34m()\u001b[0m\n\u001b[0;32m     15\u001b[0m        \u001b[0mAGE\u001b[0m            \u001b[0mINT\u001b[0m     \u001b[0mNOT\u001b[0m \u001b[0mNULL\u001b[0m\u001b[1;33m,\u001b[0m\u001b[1;33m\u001b[0m\u001b[0m\n\u001b[0;32m     16\u001b[0m        \u001b[0mADDRESS\u001b[0m        \u001b[0mCHAR\u001b[0m\u001b[1;33m(\u001b[0m\u001b[1;36m50\u001b[0m\u001b[1;33m)\u001b[0m\u001b[1;33m,\u001b[0m\u001b[1;33m\u001b[0m\u001b[0m\n\u001b[1;32m---> 17\u001b[1;33m        SALARY         REAL);''')\n\u001b[0m\u001b[0;32m     18\u001b[0m \u001b[1;32mprint\u001b[0m \u001b[1;34m\"Table created successfully\"\u001b[0m\u001b[1;33m\u001b[0m\u001b[0m\n\u001b[0;32m     19\u001b[0m \u001b[1;33m\u001b[0m\u001b[0m\n",
      "\u001b[1;31mProgrammingError\u001b[0m: syntax error at or near \"if\"\nLINE 1: CREATE TABLE COMPANY if not exists\n                             ^\n"
     ]
    }
   ],
   "source": [
    "import psycopg2\n",
    "conn = psycopg2.connect(database=\"demo\", user=\"cube_user\", password=\"GAcube0\", host=\"130.56.244.227\", port=\"5432\")\n",
    "print \"Opened database successfully\"\n",
    "\n",
    "\n",
    "cur = conn.cursor()\n",
    "cur.execute('SELECT version()')\n",
    "ver = cur.fetchone()\n",
    "print (ver)\n",
    "print (\"----------\")\n",
    "    \n",
    "cur.execute('''CREATE TABLE COMPANY if not exists\n",
    "       (ID INT PRIMARY KEY     NOT NULL,\n",
    "       NAME           TEXT    NOT NULL,\n",
    "       AGE            INT     NOT NULL,\n",
    "       ADDRESS        CHAR(50),\n",
    "       SALARY         REAL);''')\n",
    "print \"Table created successfully\"\n",
    "\n",
    "conn.commit()\n",
    "conn.close()\n"
   ]
  },
  {
   "cell_type": "code",
   "execution_count": 1,
   "metadata": {
    "collapsed": false
   },
   "outputs": [
    {
     "name": "stdout",
     "output_type": "stream",
     "text": [
      "('PostgreSQL 9.4.5 on x86_64-unknown-linux-gnu, compiled by gcc (GCC) 4.4.7 20120313 (Red Hat 4.4.7-16), 64-bit',)\n",
      "----------\n",
      "('SELECT * from agdc.collection', ' results == ', [(1, 'eo', 1, {}, 9999, {u'metadata_type': u'eo', u'name': u'eo', u'match': {u'priority': 9999, u'metadata': {}}, u'description': u'Earth Observation datasets.\\n\\nDefault, fallback collection accepting datasets produced by the eodatasets library.\\n(or of similar structure).\\n\\nhttps://github.com/GeoscienceAustralia/eo-datasets\\n'}, datetime.datetime(2016, 1, 28, 11, 43, 51, 394186, tzinfo=psycopg2.tz.FixedOffsetTimezone(offset=660, name=None)), 'cube_admin')])\n",
      "('select count(*) from agdc.dataset', ' results == ', [(48L,)])\n"
     ]
    }
   ],
   "source": [
    "import psycopg2\n",
    "import sys\n",
    "\n",
    "\n",
    "con = None\n",
    "\n",
    "try:\n",
    "    #con = psycopg2.connect(database=\"demo\", user=\"cube_user\", host=\"130.56.244.227\", port=\"5432\")\n",
    "    con = psycopg2.connect(database=\"demo\", user=\"cube_admin\", password=\"GAcube!\", host=\"130.56.244.227\", port=\"5432\")\n",
    "    cur = con.cursor()\n",
    "    cur.execute('SELECT version()')\n",
    "    ver = cur.fetchone()\n",
    "    print (ver)\n",
    "    print (\"----------\")\n",
    "    \n",
    "    sqlstatements=['SELECT * from agdc.collection', 'select count(*) from agdc.dataset']\n",
    "    \n",
    "    for sql in sqlstatements:\n",
    "        cur.execute(sql)\n",
    "        collects = cur.fetchall()\n",
    "        print (sql, \" results == \", collects)\n",
    "    \n",
    "\n",
    "except psycopg2.DatabaseError, e:\n",
    "    print 'Error %s' % e\n",
    "    sys.exit(1)\n",
    "\n",
    "finally:\n",
    "    if con:\n",
    "        con.close()\n"
   ]
  },
  {
   "cell_type": "code",
   "execution_count": 2,
   "metadata": {
    "collapsed": false
   },
   "outputs": [
    {
     "name": "stdout",
     "output_type": "stream",
     "text": [
      "Currently Loaded Modulefiles:\r\n",
      "  1) pbs\r\n"
     ]
    }
   ],
   "source": [
    "!module list"
   ]
  },
  {
   "cell_type": "code",
   "execution_count": 11,
   "metadata": {
    "collapsed": false
   },
   "outputs": [
    {
     "data": {
      "text/plain": [
       "u'/home/547/fxz547/github'"
      ]
     },
     "execution_count": 11,
     "metadata": {},
     "output_type": "execute_result"
    }
   ],
   "source": [
    "%pwd"
   ]
  },
  {
   "cell_type": "code",
   "execution_count": 4,
   "metadata": {
    "collapsed": false
   },
   "outputs": [
    {
     "data": {
      "text/plain": [
       "u'/home/547/fxz547/github/PyLabz/Zupyternotez'"
      ]
     },
     "execution_count": 4,
     "metadata": {},
     "output_type": "execute_result"
    }
   ],
   "source": [
    "%pwd\n"
   ]
  },
  {
   "cell_type": "code",
   "execution_count": 5,
   "metadata": {
    "collapsed": false
   },
   "outputs": [
    {
     "name": "stdout",
     "output_type": "stream",
     "text": [
      "\r\n",
      "r-man2: \r\n",
      "                                                            Req'd  Req'd   Elap\r\n",
      "Job ID          Username Queue    Jobname    SessID NDS TSK Memory Time  S Time\r\n",
      "--------------- -------- -------- ---------- ------ --- --- ------ ----- - -----\r\n",
      "4480924.r-man2  fxz547   express- daemon_job  21436   1   1  500mb 01:10 R 00:36\r\n",
      "4481062.r-man2  fxz547   normal-d wofs_summa    --  100 160 3200gb 05:00 Q   -- \r\n"
     ]
    }
   ],
   "source": [
    "!qstat -u $USER"
   ]
  }
 ],
 "metadata": {
  "kernelspec": {
   "display_name": "Python 2",
   "language": "python",
   "name": "python2"
  },
  "language_info": {
   "codemirror_mode": {
    "name": "ipython",
    "version": 2
   },
   "file_extension": ".py",
   "mimetype": "text/x-python",
   "name": "python",
   "nbconvert_exporter": "python",
   "pygments_lexer": "ipython2",
   "version": "2.7.11"
  }
 },
 "nbformat": 4,
 "nbformat_minor": 0
}
