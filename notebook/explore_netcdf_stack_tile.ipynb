{
 "cells": [
  {
   "cell_type": "code",
   "execution_count": null,
   "metadata": {
    "collapsed": true
   },
   "outputs": [],
   "source": [
    "#  Python Notebook Example\n",
    "Fei Zhang \n",
    "@GeoscienceAustralia 2016\n",
    "\n",
    "\n",
    "#### Objectives:\n",
    "- Access netCDF data directly from /g/data  \n",
    "- Access netCDF data using OPeNDAP\n"
   ]
  },
  {
   "cell_type": "markdown",
   "metadata": {},
   "source": [
    "### Import libraries"
   ]
  },
  {
   "cell_type": "code",
   "execution_count": 1,
   "metadata": {
    "collapsed": false
   },
   "outputs": [],
   "source": [
    "# Only 2 required for this demo\n",
    "from netCDF4 import Dataset, num2date, date2num\n",
    "from ipywidgets import *\n",
    "import matplotlib.pyplot as plt\n",
    "#%matplotlib inline"
   ]
  },
  {
   "cell_type": "markdown",
   "metadata": {},
   "source": [
    "### Accessing a file directly on /g/data\n",
    "- Note: This does not yet load/extract data"
   ]
  },
  {
   "cell_type": "code",
   "execution_count": 2,
   "metadata": {
    "collapsed": false
   },
   "outputs": [
    {
     "name": "stdout",
     "output_type": "stream",
     "text": [
      "/g/data/rs0/tiles/EPSG3577/LS5_TM_NBAR/LS5_TM_NBAR_3577_15_-40_2006.nc\r\n"
     ]
    }
   ],
   "source": [
    "!ls /g/data/rs0/tiles/EPSG3577/LS5_TM_NBAR/LS5_TM_NBAR_3577_15_-40_2006.nc"
   ]
  },
  {
   "cell_type": "code",
   "execution_count": 2,
   "metadata": {
    "collapsed": false
   },
   "outputs": [],
   "source": [
    "f = Dataset('/g/data/rs0/tiles/EPSG3577/LS5_TM_NBAR/LS5_TM_NBAR_3577_15_-40_2006.nc', 'r')\n",
    "#f = Dataset('/Softdata/data/water_extents/149_-036/py_stacked_CF.nc', 'r')"
   ]
  },
  {
   "cell_type": "markdown",
   "metadata": {},
   "source": [
    "#### Can use the netCDF4 library to see information about the file\n",
    "The dimension and variables can be also shown by ncdump -h"
   ]
  },
  {
   "cell_type": "code",
   "execution_count": 3,
   "metadata": {
    "collapsed": false,
    "scrolled": true
   },
   "outputs": [
    {
     "name": "stdout",
     "output_type": "stream",
     "text": [
      "y <type 'netCDF4._netCDF4.Dimension'>: name = 'y', size = 4000\n",
      "\n",
      "x <type 'netCDF4._netCDF4.Dimension'>: name = 'x', size = 4000\n",
      "\n",
      "time <type 'netCDF4._netCDF4.Dimension'>: name = 'time', size = 88\n",
      "\n",
      "extra_metadata_nchar <type 'netCDF4._netCDF4.Dimension'>: name = 'extra_metadata_nchar', size = 30000\n",
      "\n"
     ]
    }
   ],
   "source": [
    "## Display dimensions for file\n",
    "for item in f.dimensions:\n",
    "    print item, f.dimensions[item]"
   ]
  },
  {
   "cell_type": "code",
   "execution_count": 4,
   "metadata": {
    "collapsed": false
   },
   "outputs": [
    {
     "name": "stdout",
     "output_type": "stream",
     "text": [
      "Variable: \ty\n",
      "Dimensions: \t(u'y',)\n",
      "Shape:    \t(4000,) \n",
      "\n",
      "Variable: \tx\n",
      "Dimensions: \t(u'x',)\n",
      "Shape:    \t(4000,) \n",
      "\n",
      "Variable: \ttime\n",
      "Dimensions: \t(u'time',)\n",
      "Shape:    \t(88,) \n",
      "\n",
      "Variable: \tcrs\n",
      "Dimensions: \t()\n",
      "Shape:    \t() \n",
      "\n",
      "Variable: \tband_7\n",
      "Dimensions: \t(u'time', u'y', u'x')\n",
      "Shape:    \t(88, 4000, 4000) \n",
      "\n",
      "Variable: \tband_4\n",
      "Dimensions: \t(u'time', u'y', u'x')\n",
      "Shape:    \t(88, 4000, 4000) \n",
      "\n",
      "Variable: \tband_5\n",
      "Dimensions: \t(u'time', u'y', u'x')\n",
      "Shape:    \t(88, 4000, 4000) \n",
      "\n",
      "Variable: \tband_2\n",
      "Dimensions: \t(u'time', u'y', u'x')\n",
      "Shape:    \t(88, 4000, 4000) \n",
      "\n",
      "Variable: \tband_3\n",
      "Dimensions: \t(u'time', u'y', u'x')\n",
      "Shape:    \t(88, 4000, 4000) \n",
      "\n",
      "Variable: \tband_1\n",
      "Dimensions: \t(u'time', u'y', u'x')\n",
      "Shape:    \t(88, 4000, 4000) \n",
      "\n",
      "Variable: \textra_metadata\n",
      "Dimensions: \t(u'time', u'extra_metadata_nchar')\n",
      "Shape:    \t(88, 30000) \n",
      "\n"
     ]
    }
   ],
   "source": [
    "## Look at variables\n",
    "vars = f.variables.keys()\n",
    "for item in vars:\n",
    "    print 'Variable: \\t', item\n",
    "    print 'Dimensions: \\t', f[item].dimensions\n",
    "    print 'Shape:    \\t', f[item].shape, '\\n'"
   ]
  },
  {
   "cell_type": "code",
   "execution_count": 5,
   "metadata": {
    "collapsed": false
   },
   "outputs": [
    {
     "name": "stdout",
     "output_type": "stream",
     "text": [
      "<type 'netCDF4._netCDF4.Variable'>\n",
      "int32 crs()\n",
      "    grid_mapping_name: albers_conical_equal_area\n",
      "    standard_parallel: [-18. -36.]\n",
      "    longitude_of_central_meridian: 132.0\n",
      "    latitude_of_projection_origin: 0.0\n",
      "    false_easting: 0.0\n",
      "    false_northing: 0.0\n",
      "    long_name: GDA94 / Australian Albers\n",
      "    semi_major_axis: 6378137.0\n",
      "    semi_minor_axis: 6356752.31414\n",
      "    inverse_flattening: 298.257222101\n",
      "    crs_wkt: PROJCS[\"GDA94 / Australian Albers\",GEOGCS[\"GDA94\",DATUM[\"Geocentric_Datum_of_Australia_1994\",SPHEROID[\"GRS 1980\",6378137,298.257222101,AUTHORITY[\"EPSG\",\"7019\"]],TOWGS84[0,0,0,0,0,0,0],AUTHORITY[\"EPSG\",\"6283\"]],PRIMEM[\"Greenwich\",0,AUTHORITY[\"EPSG\",\"8901\"]],UNIT[\"degree\",0.01745329251994328,AUTHORITY[\"EPSG\",\"9122\"]],AUTHORITY[\"EPSG\",\"4283\"]],UNIT[\"metre\",1,AUTHORITY[\"EPSG\",\"9001\"]],PROJECTION[\"Albers_Conic_Equal_Area\"],PARAMETER[\"standard_parallel_1\",-18],PARAMETER[\"standard_parallel_2\",-36],PARAMETER[\"latitude_of_center\",0],PARAMETER[\"longitude_of_center\",132],PARAMETER[\"false_easting\",0],PARAMETER[\"false_northing\",0],AUTHORITY[\"EPSG\",\"3577\"],AXIS[\"Easting\",EAST],AXIS[\"Northing\",NORTH]]\n",
      "    spatial_ref: PROJCS[\"GDA94 / Australian Albers\",GEOGCS[\"GDA94\",DATUM[\"Geocentric_Datum_of_Australia_1994\",SPHEROID[\"GRS 1980\",6378137,298.257222101,AUTHORITY[\"EPSG\",\"7019\"]],TOWGS84[0,0,0,0,0,0,0],AUTHORITY[\"EPSG\",\"6283\"]],PRIMEM[\"Greenwich\",0,AUTHORITY[\"EPSG\",\"8901\"]],UNIT[\"degree\",0.01745329251994328,AUTHORITY[\"EPSG\",\"9122\"]],AUTHORITY[\"EPSG\",\"4283\"]],UNIT[\"metre\",1,AUTHORITY[\"EPSG\",\"9001\"]],PROJECTION[\"Albers_Conic_Equal_Area\"],PARAMETER[\"standard_parallel_1\",-18],PARAMETER[\"standard_parallel_2\",-36],PARAMETER[\"latitude_of_center\",0],PARAMETER[\"longitude_of_center\",132],PARAMETER[\"false_easting\",0],PARAMETER[\"false_northing\",0],AUTHORITY[\"EPSG\",\"3577\"],AXIS[\"Easting\",EAST],AXIS[\"Northing\",NORTH]]\n",
      "    GeoTransform: [  1.50000000e+06   2.50000000e+01   0.00000000e+00  -3.90000000e+06\n",
      "   0.00000000e+00  -2.50000000e+01]\n",
      "unlimited dimensions: \n",
      "current shape = ()\n",
      "filling on, default _FillValue of -2147483647 used\n",
      "\n"
     ]
    }
   ],
   "source": [
    "# Extract Metadata\n",
    "\n",
    "geocrs=f.variables['crs']\n",
    "print geocrs"
   ]
  },
  {
   "cell_type": "code",
   "execution_count": 6,
   "metadata": {
    "collapsed": false
   },
   "outputs": [
    {
     "name": "stdout",
     "output_type": "stream",
     "text": [
      "<type 'netCDF4._netCDF4.Variable'>\n",
      "|S1 extra_metadata(time, extra_metadata_nchar)\n",
      "unlimited dimensions: \n",
      "current shape = (88, 30000)\n",
      "filling on, default _FillValue of \u0000 used\n",
      "\n"
     ]
    }
   ],
   "source": [
    "extrameta=f.variables['extra_metadata']\n",
    "print extrameta"
   ]
  },
  {
   "cell_type": "code",
   "execution_count": 7,
   "metadata": {
    "collapsed": false
   },
   "outputs": [
    {
     "name": "stdout",
     "output_type": "stream",
     "text": [
      "acquisition:\n",
      "  groundstation: {code: ASA, eods_domain_code: '002', label: Alice Springs}\n",
      "browse:\n",
      "  full:\n",
      "    blue_band: '1'\n",
      "    cell_size: 25.0\n",
      "    file_type: image/jpg\n",
      "    green_band: '4'\n",
      "    path: browse.fr.jpg\n",
      "    red_band: '7'\n",
      "    shape: {x: 9803, y: 8710}\n",
      "  medium:\n",
      "    blue_band: '1'\n",
      "    cell_size: 239.3310546875\n",
      "    file_type: image/jpg\n",
      "    green_band: '4'\n",
      "    path: browse.jpg\n",
      "    red_band: '7'\n",
      "    shape: {x: 1024, y: 910}\n",
      "checksum_path: package.sha1\n",
      "creation_dt: '2016-03-03T00:25:01'\n",
      "extent:\n",
      "  center_dt: '2006-01-25T23:40:22.225006'\n",
      "  coord:\n",
      "    ll: {lat: -35.616936, lon: 148.510381}\n",
      "    lr: {lat: -35.552749, lon: 151.211734}\n",
      "    ul: {lat: -33.654164, lon: 148.475205}\n",
      "    ur: {lat: -33.594484, lon: 151.113942}\n",
      "  from_dt: '2006-01-25T23:40:08'\n",
      "  to_dt: '2006-01-25T23:40:35'\n",
      "format: {name: GeoTIFF}\n",
      "ga_label: LS5_TM_NBAR_P54_GANBAR01-002_090_084_20060125\n",
      "ga_level: P54\n",
      "grid_spatial:\n",
      "  projection:\n",
      "    datum: GDA94\n",
      "    ellipsoid: GRS80\n",
      "    geo_ref_points:\n",
      "      ll: {x: 636787.5, y: 6057487.5}\n",
      "      lr: {x: 881837.5, y: 6057487.5}\n",
      "      ul: {x: 636787.5, y: 6275212.5}\n",
      "      ur: {x: 881837.5, y: 6275212.5}\n",
      "    map_projection: UTM\n",
      "    orientation: NORTH_UP\n",
      "    resampling_option: CUBIC_CONVOLUTION\n",
      "    zone: -55\n",
      "id: c44cf2b2-e1d0-11e5-b75a-a0000100fe80\n",
      "image:\n",
      "  bands:\n",
      "    '1': {cell_size: 25.0, label: Visible Blue, number: '1', path: product/LS5_TM_NBAR_P54_GANBAR01-002_090_084_20060125_B1.tif,\n",
      "      type: reflective}\n",
      "    '2': {cell_size: 25.0, label: Visible Green, number: '2', path: product/LS5_TM_NBAR_P54_GANBAR01-002_090_084_20060125_B2.tif,\n",
      "      type: reflective}\n",
      "    '3': {cell_size: 25.0, label: Visible Red, number: '3', path: product/LS5_TM_NBAR_P54_GANBAR01-002_090_084_20060125_B3.tif,\n",
      "      type: reflective}\n",
      "    '4': {cell_size: 25.0, label: Near Infrared, number: '4', path: product/LS5_TM_NBAR_P54_GANBAR01-002_090_084_20060125_B4.tif,\n",
      "      type: reflective}\n",
      "    '5': {cell_size: 25.0, label: Middle Infrared 1, number: '5', path: product/LS5_TM_NBAR_P54_GANBAR01-002_090_084_20060125_B5.tif,\n",
      "      type: reflective}\n",
      "    '7': {cell_size: 25.0, label: Middle Infrared 2, number: '7', path: product/LS5_TM_NBAR_P54_GANBAR01-002_090_084_20060125_B7.tif,\n",
      "      type: reflective}\n",
      "  satellite_ref_point_start: {x: 90, y: 84}\n",
      "instrument: {name: TM, operation_mode: BUMPER}\n",
      "lineage:\n",
      "  algorithm:\n",
      "    doi: http://dx.doi.org/10.1109/JSTARS.2010.2042281\n",
      "    name: brdf\n",
      "    parameters: {aerosol: 0.046512, band_1_brdf_geo: 0.006433380326526899, band_1_brdf_iso: 0.04384313975169403,\n",
      "      band_1_brdf_vol: 0.024671385692846427, band_2_brdf_geo: 0.011587864539042569,\n",
      "      band_2_brdf_iso: 0.07514314623398712, band_2_brdf_vol: 0.05164551320821642,\n",
      "      band_3_brdf_geo: 0.014805464212455712, band_3_brdf_iso: 0.08639020407791984,\n",
      "      band_3_brdf_vol: 0.04821942810881124, band_4_brdf_geo: 0.019546410533171202,\n",
      "      band_4_brdf_iso: 0.24393460489222266, band_4_brdf_vol: 0.21121612402253465,\n",
      "      band_5_brdf_geo: 0.04529586078637329, band_5_brdf_iso: 0.2660488084357565, band_5_brdf_vol: 0.10446456227463499,\n",
      "      band_7_brdf_geo: 0.03348789393036907, band_7_brdf_iso: 0.15519539764744397,\n",
      "      band_7_brdf_vol: 0.04124807780622104, elevation: 0.40900000000000003, ozone: 0.271,\n",
      "      solar_distance: 0.98449, water_vapour: 2.85}\n",
      "    version: '2.0'\n",
      "  ancillary:\n",
      "    aerosol: {access_dt: '2016-03-02T23:05:57', file_owner: Roger Edberg, modification_dt: '2012-07-12T01:19:43',\n",
      "      name: aot_mean_Jan_2006_All_Aerosols.cmp, type: aerosol, uri: /g/data/v10/eoancillarydata/aerosol/AATSR/2.0/aot_mean_Jan_2006_All_Aerosols.cmp}\n",
      "    band_1_brdf_geo: {access_dt: '2016-03-02T23:05:59', file_owner: Matt Paget, modification_dt: '2008-11-02T01:09:59',\n",
      "      name: MCD43A1.2006.017.aust.005.b09.500m_0459_0479nm_brdf_par_fgeo.hdf.gz, type: band_1_brdf_geo,\n",
      "      uri: /g/data/u39/public/data/modis/lpdaac-mosaics-cmar/v1-hdf4/aust/MCD43A1.005/2006.01.17/MCD43A1.2006.017.aust.005.b09.500m_0459_0479nm_brdf_par_fgeo.hdf.gz}\n",
      "    band_1_brdf_iso: {access_dt: '2016-03-02T23:06:01', file_owner: Matt Paget, modification_dt: '2008-11-02T01:09:57',\n",
      "      name: MCD43A1.2006.017.aust.005.b07.500m_0459_0479nm_brdf_par_fiso.hdf.gz, type: band_1_brdf_iso,\n",
      "      uri: /g/data/u39/public/data/modis/lpdaac-mosaics-cmar/v1-hdf4/aust/MCD43A1.005/2006.01.17/MCD43A1.2006.017.aust.005.b07.500m_0459_0479nm_brdf_par_fiso.hdf.gz}\n",
      "    band_1_brdf_vol: {access_dt: '2016-03-02T23:06:04', file_owner: Matt Paget, modification_dt: '2008-11-02T01:09:58',\n",
      "      name: MCD43A1.2006.017.aust.005.b08.500m_0459_0479nm_brdf_par_fvol.hdf.gz, type: band_1_brdf_vol,\n",
      "      uri: /g/data/u39/public/data/modis/lpdaac-mosaics-cmar/v1-hdf4/aust/MCD43A1.005/2006.01.17/MCD43A1.2006.017.aust.005.b08.500m_0459_0479nm_brdf_par_fvol.hdf.gz}\n",
      "    band_2_brdf_geo: {access_dt: '2016-03-02T23:06:06', file_owner: Matt Paget, modification_dt: '2008-11-02T01:10:02',\n",
      "      name: MCD43A1.2006.017.aust.005.b12.500m_0545_0565nm_brdf_par_fgeo.hdf.gz, type: band_2_brdf_geo,\n",
      "      uri: /g/data/u39/public/data/modis/lpdaac-mosaics-cmar/v1-hdf4/aust/MCD43A1.005/2006.01.17/MCD43A1.2006.017.aust.005.b12.500m_0545_0565nm_brdf_par_fgeo.hdf.gz}\n",
      "    band_2_brdf_iso: {access_dt: '2016-03-02T23:06:09', file_owner: Matt Paget, modification_dt: '2008-11-02T01:10:00',\n",
      "      name: MCD43A1.2006.017.aust.005.b10.500m_0545_0565nm_brdf_par_fiso.hdf.gz, type: band_2_brdf_iso,\n",
      "      uri: /g/data/u39/public/data/modis/lpdaac-mosaics-cmar/v1-hdf4/aust/MCD43A1.005/2006.01.17/MCD43A1.2006.017.aust.005.b10.500m_0545_0565nm_brdf_par_fiso.hdf.gz}\n",
      "    band_2_brdf_vol: {access_dt: '2016-03-02T23:06:11', file_owner: Matt Paget, modification_dt: '2008-11-02T01:10:01',\n",
      "      name: MCD43A1.2006.017.aust.005.b11.500m_0545_0565nm_brdf_par_fvol.hdf.gz, type: band_2_brdf_vol,\n",
      "      uri: /g/data/u39/public/data/modis/lpdaac-mosaics-cmar/v1-hdf4/aust/MCD43A1.005/2006.01.17/MCD43A1.2006.017.aust.005.b11.500m_0545_0565nm_brdf_par_fvol.hdf.gz}\n",
      "    band_3_brdf_geo: {access_dt: '2016-03-02T23:06:14', file_owner: Matt Paget, modification_dt: '2008-11-02T01:09:53',\n",
      "      name: MCD43A1.2006.017.aust.005.b03.500m_0620_0670nm_brdf_par_fgeo.hdf.gz, type: band_3_brdf_geo,\n",
      "      uri: /g/data/u39/public/data/modis/lpdaac-mosaics-cmar/v1-hdf4/aust/MCD43A1.005/2006.01.17/MCD43A1.2006.017.aust.005.b03.500m_0620_0670nm_brdf_par_fgeo.hdf.gz}\n",
      "    band_3_brdf_iso: {access_dt: '2016-03-02T23:06:17', file_owner: Matt Paget, modification_dt: '2008-11-02T01:09:51',\n",
      "      name: MCD43A1.2006.017.aust.005.b01.500m_0620_0670nm_brdf_par_fiso.hdf.gz, type: band_3_brdf_iso,\n",
      "      uri: /g/data/u39/public/data/modis/lpdaac-mosaics-cmar/v1-hdf4/aust/MCD43A1.005/2006.01.17/MCD43A1.2006.017.aust.005.b01.500m_0620_0670nm_brdf_par_fiso.hdf.gz}\n",
      "    band_3_brdf_vol: {access_dt: '2016-03-02T23:06:19', file_owner: Matt Paget, modification_dt: '2008-11-02T01:09:52',\n",
      "      name: MCD43A1.2006.017.aust.005.b02.500m_0620_0670nm_brdf_par_fvol.hdf.gz, type: band_3_brdf_vol,\n",
      "      uri: /g/data/u39/public/data/modis/lpdaac-mosaics-cmar/v1-hdf4/aust/MCD43A1.005/2006.01.17/MCD43A1.2006.017.aust.005.b02.500m_0620_0670nm_brdf_par_fvol.hdf.gz}\n",
      "    band_4_brdf_geo: {access_dt: '2016-03-02T23:06:22', file_owner: Matt Paget, modification_dt: '2008-11-02T01:09:56',\n",
      "      name: MCD43A1.2006.017.aust.005.b06.500m_0841_0876nm_brdf_par_fgeo.hdf.gz, type: band_4_brdf_geo,\n",
      "      uri: /g/data/u39/public/data/modis/lpdaac-mosaics-cmar/v1-hdf4/aust/MCD43A1.005/2006.01.17/MCD43A1.2006.017.aust.005.b06.500m_0841_0876nm_brdf_par_fgeo.hdf.gz}\n",
      "    band_4_brdf_iso: {access_dt: '2016-03-02T23:06:25', file_owner: Matt Paget, modification_dt: '2008-11-02T01:09:54',\n",
      "      name: MCD43A1.2006.017.aust.005.b04.500m_0841_0876nm_brdf_par_fiso.hdf.gz, type: band_4_brdf_iso,\n",
      "      uri: /g/data/u39/public/data/modis/lpdaac-mosaics-cmar/v1-hdf4/aust/MCD43A1.005/2006.01.17/MCD43A1.2006.017.aust.005.b04.500m_0841_0876nm_brdf_par_fiso.hdf.gz}\n",
      "    band_4_brdf_vol: {access_dt: '2016-03-02T23:06:28', file_owner: Matt Paget, modification_dt: '2008-11-02T01:09:55',\n",
      "      name: MCD43A1.2006.017.aust.005.b05.500m_0841_0876nm_brdf_par_fvol.hdf.gz, type: band_4_brdf_vol,\n",
      "      uri: /g/data/u39/public/data/modis/lpdaac-mosaics-cmar/v1-hdf4/aust/MCD43A1.005/2006.01.17/MCD43A1.2006.017.aust.005.b05.500m_0841_0876nm_brdf_par_fvol.hdf.gz}\n",
      "    band_5_brdf_geo: {access_dt: '2016-03-02T23:06:30', file_owner: Matt Paget, modification_dt: '2008-11-02T01:10:09',\n",
      "      name: MCD43A1.2006.017.aust.005.b18.500m_1628_1652nm_brdf_par_fgeo.hdf.gz, type: band_5_brdf_geo,\n",
      "      uri: /g/data/u39/public/data/modis/lpdaac-mosaics-cmar/v1-hdf4/aust/MCD43A1.005/2006.01.17/MCD43A1.2006.017.aust.005.b18.500m_1628_1652nm_brdf_par_fgeo.hdf.gz}\n",
      "    band_5_brdf_iso: {access_dt: '2016-03-02T23:06:33', file_owner: Matt Paget, modification_dt: '2008-11-02T01:10:07',\n",
      "      name: MCD43A1.2006.017.aust.005.b16.500m_1628_1652nm_brdf_par_fiso.hdf.gz, type: band_5_brdf_iso,\n",
      "      uri: /g/data/u39/public/data/modis/lpdaac-mosaics-cmar/v1-hdf4/aust/MCD43A1.005/2006.01.17/MCD43A1.2006.017.aust.005.b16.500m_1628_1652nm_brdf_par_fiso.hdf.gz}\n",
      "    band_5_brdf_vol: {access_dt: '2016-03-02T23:06:36', file_owner: Matt Paget, modification_dt: '2008-11-02T01:10:08',\n",
      "      name: MCD43A1.2006.017.aust.005.b17.500m_1628_1652nm_brdf_par_fvol.hdf.gz, type: band_5_brdf_vol,\n",
      "      uri: /g/data/u39/public/data/modis/lpdaac-mosaics-cmar/v1-hdf4/aust/MCD43A1.005/2006.01.17/MCD43A1.2006.017.aust.005.b17.500m_1628_1652nm_brdf_par_fvol.hdf.gz}\n",
      "    band_7_brdf_geo: {access_dt: '2016-03-02T23:06:38', file_owner: Matt Paget, modification_dt: '2008-11-02T01:10:12',\n",
      "      name: MCD43A1.2006.017.aust.005.b21.500m_2105_2155nm_brdf_par_fgeo.hdf.gz, type: band_7_brdf_geo,\n",
      "      uri: /g/data/u39/public/data/modis/lpdaac-mosaics-cmar/v1-hdf4/aust/MCD43A1.005/2006.01.17/MCD43A1.2006.017.aust.005.b21.500m_2105_2155nm_brdf_par_fgeo.hdf.gz}\n",
      "    band_7_brdf_iso: {access_dt: '2016-03-02T23:06:41', file_owner: Matt Paget, modification_dt: '2008-11-02T01:10:10',\n",
      "      name: MCD43A1.2006.017.aust.005.b19.500m_2105_2155nm_brdf_par_fiso.hdf.gz, type: band_7_brdf_iso,\n",
      "      uri: /g/data/u39/public/data/modis/lpdaac-mosaics-cmar/v1-hdf4/aust/MCD43A1.005/2006.01.17/MCD43A1.2006.017.aust.005.b19.500m_2105_2155nm_brdf_par_fiso.hdf.gz}\n",
      "    band_7_brdf_vol: {access_dt: '2016-03-02T23:06:44', file_owner: Matt Paget, modification_dt: '2008-11-02T01:10:11',\n",
      "      name: MCD43A1.2006.017.aust.005.b20.500m_2105_2155nm_brdf_par_fvol.hdf.gz, type: band_7_brdf_vol,\n",
      "      uri: /g/data/u39/public/data/modis/lpdaac-mosaics-cmar/v1-hdf4/aust/MCD43A1.005/2006.01.17/MCD43A1.2006.017.aust.005.b20.500m_2105_2155nm_brdf_par_fvol.hdf.gz}\n",
      "    elevation: {access_dt: '2016-03-02T23:05:57', file_owner: Roger Edberg, modification_dt: '2010-02-23T21:59:29',\n",
      "      name: DEM_one_deg.tif, type: elevation, uri: /g/data/v10/eoancillarydata/elevation/world_1deg/DEM_one_deg.tif}\n",
      "    ozone: {access_dt: '2016-03-02T23:05:57', file_owner: Roger Edberg, modification_dt: '2010-02-23T22:00:21',\n",
      "      name: jan.tif, type: ozone, uri: /g/data/v10/eoancillarydata/lookup_tables/ozone/jan.tif}\n",
      "    solar_distance: {access_dt: '2016-03-02T23:05:56', file_owner: Roger Edberg, modification_dt: '2012-05-21T02:04:01',\n",
      "      name: EarthSun_distanceLUT.txt, type: solar_distance, uri: /g/data/v10/eoancillarydata/lookup_tables/earthsun_distance/EarthSun_distanceLUT.txt}\n",
      "    water_vapour: {access_dt: '2016-03-02T23:05:57', file_owner: Landsat Processing,\n",
      "      modification_dt: '2016-03-01T14:17:29', name: pr_wtr.eatm.2006.tif, type: water_vapour,\n",
      "      uri: /g/data/v10/eoancillarydata/water_vapour/pr_wtr.eatm.2006.tif}\n",
      "  machine:\n",
      "    software_versions: {eodatasets: 0.2.1, nbar: 4.0rc1+dirty}\n",
      "  source_datasets: null\n",
      "platform: {code: LANDSAT_5}\n",
      "product_doi: http://dx.doi.org/10.4225/25/5487CC0D4F40B\n",
      "product_type: nbar\n",
      "size_bytes: 642658715\n"
     ]
    }
   ],
   "source": [
    "#print \"\".join(extrameta[0,:])   # not OK. How to determin the magic number 11771?\n",
    "print \"\".join(extrameta[0,:11770])  #OK\n"
   ]
  },
  {
   "cell_type": "markdown",
   "metadata": {},
   "source": [
    "#### Extracting data\n",
    "- A really nice feature of netCDF/HDF files is that you can extract subsets without having to load entire file into memory"
   ]
  },
  {
   "cell_type": "code",
   "execution_count": 8,
   "metadata": {
    "collapsed": false
   },
   "outputs": [],
   "source": [
    "## %%timeit\n",
    "\n",
    "i1 = 4000\n",
    "i2 = 4000\n",
    "\n",
    "t=f.variables['time']\n",
    "y = f.variables['y'][:i1]\n",
    "x = f.variables['x'][:i2]\n"
   ]
  },
  {
   "cell_type": "code",
   "execution_count": 10,
   "metadata": {
    "collapsed": true
   },
   "outputs": [],
   "source": [
    "band1 = f['band_1'][:, :, :]\n",
    "band2 = f['band_2'][:, :, :]\n",
    "band3 = f['band_3']"
   ]
  },
  {
   "cell_type": "code",
   "execution_count": 58,
   "metadata": {
    "collapsed": false
   },
   "outputs": [
    {
     "name": "stdout",
     "output_type": "stream",
     "text": [
      "<class 'numpy.ma.core.MaskedArray'> <type 'netCDF4._netCDF4.Variable'>\n"
     ]
    }
   ],
   "source": [
    "print type(band1),type (band3)"
   ]
  },
  {
   "cell_type": "code",
   "execution_count": 11,
   "metadata": {
    "collapsed": false
   },
   "outputs": [
    {
     "name": "stdout",
     "output_type": "stream",
     "text": [
      "(88, 4000, 4000)\n"
     ]
    }
   ],
   "source": [
    "print band1.shape"
   ]
  },
  {
   "cell_type": "code",
   "execution_count": 12,
   "metadata": {
    "collapsed": false
   },
   "outputs": [
    {
     "name": "stdout",
     "output_type": "stream",
     "text": [
      "(88, 4000, 4000)\n"
     ]
    }
   ],
   "source": [
    "#\n",
    "print band3.shape"
   ]
  },
  {
   "cell_type": "code",
   "execution_count": 13,
   "metadata": {
    "collapsed": false
   },
   "outputs": [
    {
     "name": "stdout",
     "output_type": "stream",
     "text": [
      "<type 'netCDF4._netCDF4.Variable'>\n",
      "int16 band_3(time, y, x)\n",
      "    _FillValue: -999\n",
      "    grid_mapping: crs\n",
      "    units: 1\n",
      "    long_name: Nadir BRDF Adjusted Reflectance 0.63-0.69 microns (Red)\n",
      "    standard_name: surface_bidirectional_reflectance\n",
      "unlimited dimensions: \n",
      "current shape = (88, 4000, 4000)\n",
      "filling on\n"
     ]
    }
   ],
   "source": [
    "#do not do this:   print band1   too_big\n",
    "print band3"
   ]
  },
  {
   "cell_type": "code",
   "execution_count": 14,
   "metadata": {
    "collapsed": false
   },
   "outputs": [
    {
     "data": {
      "text/plain": [
       "dtype('int16')"
      ]
     },
     "execution_count": 14,
     "metadata": {},
     "output_type": "execute_result"
    }
   ],
   "source": [
    "band3.datatype"
   ]
  },
  {
   "cell_type": "code",
   "execution_count": 15,
   "metadata": {
    "collapsed": false
   },
   "outputs": [
    {
     "data": {
      "text/plain": [
       "1408000000"
      ]
     },
     "execution_count": 15,
     "metadata": {},
     "output_type": "execute_result"
    }
   ],
   "source": [
    "band1.size"
   ]
  },
  {
   "cell_type": "code",
   "execution_count": null,
   "metadata": {
    "collapsed": true
   },
   "outputs": [],
   "source": []
  },
  {
   "cell_type": "code",
   "execution_count": null,
   "metadata": {
    "collapsed": true
   },
   "outputs": [],
   "source": []
  },
  {
   "cell_type": "raw",
   "metadata": {},
   "source": []
  },
  {
   "cell_type": "code",
   "execution_count": 34,
   "metadata": {
    "collapsed": false
   },
   "outputs": [
    {
     "data": {
      "text/plain": [
       "<type 'netCDF4._netCDF4.Variable'>\n",
       "float64 time(time)\n",
       "    units: seconds since 1970-01-01 00:00:00\n",
       "    long_name: Time, unix time-stamp\n",
       "    standard_name: time\n",
       "    calendar: standard\n",
       "    axis: T\n",
       "unlimited dimensions: \n",
       "current shape = (88,)\n",
       "filling on, default _FillValue of 9.96920996839e+36 used"
      ]
     },
     "execution_count": 34,
     "metadata": {},
     "output_type": "execute_result"
    }
   ],
   "source": [
    "t"
   ]
  },
  {
   "cell_type": "code",
   "execution_count": 52,
   "metadata": {
    "collapsed": false
   },
   "outputs": [
    {
     "data": {
      "text/plain": [
       "numpy.ma.core.MaskedArray"
      ]
     },
     "execution_count": 52,
     "metadata": {},
     "output_type": "execute_result"
    }
   ],
   "source": [
    "type (band1)"
   ]
  },
  {
   "cell_type": "code",
   "execution_count": 35,
   "metadata": {
    "collapsed": false
   },
   "outputs": [],
   "source": [
    "delta_t= t[1:]-t[:-1]"
   ]
  },
  {
   "cell_type": "code",
   "execution_count": 36,
   "metadata": {
    "collapsed": false
   },
   "outputs": [
    {
     "name": "stdout",
     "output_type": "stream",
     "text": [
      "[  4.01917617e-01   1.00859463e+04   3.99549882e-01   1.29536214e+04\n",
      "   3.99534802e-01   1.00859296e+04   3.99549898e-01   1.29540090e+04\n",
      "   1.00859268e+04   3.99550001e-01   2.86767870e+03   1.00863225e+04\n",
      "   3.31262139e+04   4.01917720e-01   2.86767395e+03   1.00859008e+04\n",
      "   3.99550001e-01   1.00858929e+04   3.99550001e-01   2.86767158e+03\n",
      "   1.00858865e+04   3.99550001e-01   1.00858756e+04   2.86806575e+03\n",
      "   1.00858623e+04   3.99549882e-01   1.00858737e+04   3.99550001e-01\n",
      "   2.86766878e+03   1.00859017e+04   3.99549997e-01   1.00862896e+04\n",
      "   2.86766682e+03   1.00858864e+04   3.99550001e-01   1.00858931e+04\n",
      "   3.99550001e-01   2.86766862e+03   1.00858845e+04   3.99550116e-01\n",
      "   1.00858784e+04   3.99549997e-01   2.86766643e+03   1.00858717e+04\n",
      "   3.99550096e-01   1.00858755e+04   3.99550215e-01   2.86766445e+03\n",
      "   1.00858718e+04   3.99550100e-01   1.00858709e+04   3.99550100e-01\n",
      "   1.29535336e+04   3.99550100e-01   1.00858685e+04   3.99550215e-01\n",
      "   2.86766400e+03   2.01721331e+04   4.01932915e-01   2.86766142e+03\n",
      "   1.00858628e+04   3.99565101e-01   1.00858584e+04   3.99549997e-01\n",
      "   2.86766127e+03   1.00858549e+04   3.99549898e-01   1.00858495e+04\n",
      "   3.99550001e-01   1.29535070e+04   3.99549882e-01   1.00858463e+04\n",
      "   3.99549898e-01   1.29535021e+04   3.99549898e-01   1.00858415e+04\n",
      "   3.99534798e-01   2.86765690e+03   1.00858422e+04   3.99549782e-01\n",
      "   1.00858415e+04   3.99549882e-01   2.86765492e+03   2.01720757e+04\n",
      "   3.99549802e-01   1.29534867e+04   3.99549798e-01]\n"
     ]
    }
   ],
   "source": [
    "print delta_t/60"
   ]
  },
  {
   "cell_type": "code",
   "execution_count": 37,
   "metadata": {
    "collapsed": false
   },
   "outputs": [
    {
     "data": {
      "text/plain": [
       "(87,)"
      ]
     },
     "execution_count": 37,
     "metadata": {},
     "output_type": "execute_result"
    }
   ],
   "source": [
    "delta_t.shape"
   ]
  },
  {
   "cell_type": "code",
   "execution_count": 38,
   "metadata": {
    "collapsed": false
   },
   "outputs": [
    {
     "data": {
      "text/plain": [
       "DescribeResult(nobs=87, minmax=(23.972087860107422, 1987572.8329999447), mean=333686.27833369956, variance=137814979499.63312, skewness=1.283737050869461, kurtosis=2.881452540175138)"
      ]
     },
     "execution_count": 38,
     "metadata": {},
     "output_type": "execute_result"
    }
   ],
   "source": [
    "from scipy import stats\n",
    "stats.describe(delta_t)"
   ]
  },
  {
   "cell_type": "code",
   "execution_count": 46,
   "metadata": {
    "collapsed": false
   },
   "outputs": [
    {
     "data": {
      "image/png": "[encoded data removed]",
      "text/plain": [
       "<matplotlib.figure.Figure at 0x7fc051ce0050>"
      ]
     },
     "metadata": {},
     "output_type": "display_data"
    }
   ],
   "source": [
    "\n",
    "plt.plot(t, \"r*\")\n",
    "plt.show()"
   ]
  },
  {
   "cell_type": "code",
   "execution_count": 49,
   "metadata": {
    "collapsed": false
   },
   "outputs": [
    {
     "data": {
      "image/png": "[encoded data removed]",
      "text/plain": [
       "<matplotlib.figure.Figure at 0x7fc051cba750>"
      ]
     },
     "metadata": {},
     "output_type": "display_data"
    }
   ],
   "source": [
    "plt.plot(delta_t/60.0, 'b*-')\n",
    "plt.show()"
   ]
  },
  {
   "cell_type": "markdown",
   "metadata": {},
   "source": [
    "### Plotting  with user input parameter\n",
    "Interactive visualization\n",
    "\n",
    "- http://blog.dominodatalab.com/interactive-dashboards-in-jupyter/\n",
    "\n",
    "- http://earthpy.org/pyncview_pm.html"
   ]
  },
  {
   "cell_type": "code",
   "execution_count": 12,
   "metadata": {
    "collapsed": false
   },
   "outputs": [
    {
     "data": {
      "text/plain": [
       "<matplotlib.contour.QuadContourSet at 0x7f28fe8dcc10>"
      ]
     },
     "execution_count": 12,
     "metadata": {},
     "output_type": "execute_result"
    },
    {
     "data": {
      "image/png": "[encoded data removed]",
      "text/plain": [
       "<matplotlib.figure.Figure at 0x7f2903a96ed0>"
      ]
     },
     "metadata": {},
     "output_type": "display_data"
    }
   ],
   "source": [
    "#%matplotlib inline \n",
    "plt.contourf(x, y, band3[0,:,:])"
   ]
  },
  {
   "cell_type": "code",
   "execution_count": 17,
   "metadata": {
    "collapsed": false
   },
   "outputs": [
    {
     "data": {
      "text/plain": [
       "<matplotlib.image.AxesImage at 0x7f2782489250>"
      ]
     },
     "execution_count": 17,
     "metadata": {},
     "output_type": "execute_result"
    },
    {
     "data": {
      "image/png": "[encoded data removed]",
      "text/plain": [
       "<matplotlib.figure.Figure at 0x7f278258ec50>"
      ]
     },
     "metadata": {},
     "output_type": "display_data"
    }
   ],
   "source": [
    "plt.imshow(band3[0,:,:])"
   ]
  },
  {
   "cell_type": "code",
   "execution_count": 21,
   "metadata": {
    "collapsed": true
   },
   "outputs": [],
   "source": [
    "def show(time):\n",
    "    plt.imshow(band1[time,:,:])\n",
    "    plt.show()"
   ]
  },
  {
   "cell_type": "code",
   "execution_count": 22,
   "metadata": {
    "collapsed": false
   },
   "outputs": [],
   "source": [
    "interact(show, time=(1,80,1));"
   ]
  },
  {
   "cell_type": "code",
   "execution_count": null,
   "metadata": {
    "collapsed": false
   },
   "outputs": [
    {
     "name": "stdout",
     "output_type": "stream",
     "text": [
      "1\n",
      "2\n",
      "3\n",
      "4\n",
      "5"
     ]
    }
   ],
   "source": [
    "import matplotlib.animation as animation\n",
    "import numpy as np\n",
    "import matplotlib.pyplot as plt\n",
    "\n",
    "fig = plt.figure()\n",
    "\n",
    "time=0\n",
    "im = plt.imshow(band1[time,:,:], cmap=plt.get_cmap('viridis'), animated=True)\n",
    "\n",
    "\n",
    "def updatefig(*args):\n",
    "    global time\n",
    "    time += 1\n",
    "    print time\n",
    "\n",
    "    im.set_array(band1[time,:,:])\n",
    "    return im,\n",
    "\n",
    "ani = animation.FuncAnimation(fig, updatefig, interval=50, blit=True)\n",
    "plt.show()"
   ]
  },
  {
   "cell_type": "code",
   "execution_count": null,
   "metadata": {
    "collapsed": true
   },
   "outputs": [],
   "source": []
  },
  {
   "cell_type": "code",
   "execution_count": null,
   "metadata": {
    "collapsed": true
   },
   "outputs": [],
   "source": []
  },
  {
   "cell_type": "code",
   "execution_count": null,
   "metadata": {
    "collapsed": true
   },
   "outputs": [],
   "source": []
  },
  {
   "cell_type": "code",
   "execution_count": null,
   "metadata": {
    "collapsed": true
   },
   "outputs": [],
   "source": []
  },
  {
   "cell_type": "code",
   "execution_count": null,
   "metadata": {
    "collapsed": true
   },
   "outputs": [],
   "source": []
  },
  {
   "cell_type": "code",
   "execution_count": null,
   "metadata": {
    "collapsed": true
   },
   "outputs": [],
   "source": []
  },
  {
   "cell_type": "code",
   "execution_count": null,
   "metadata": {
    "collapsed": true
   },
   "outputs": [],
   "source": []
  },
  {
   "cell_type": "code",
   "execution_count": null,
   "metadata": {
    "collapsed": true
   },
   "outputs": [],
   "source": []
  },
  {
   "cell_type": "code",
   "execution_count": null,
   "metadata": {
    "collapsed": true
   },
   "outputs": [],
   "source": []
  },
  {
   "cell_type": "markdown",
   "metadata": {},
   "source": [
    "### Accessing a file using OPeNDAP\n",
    "- Advantage: If dataset available, you can access from anywhere just as you'd call a local file. \n",
    "- Disadvantage: Not as fast as having the file locally. \n",
    "\n",
    "Note: You can see how fast the data extraction was with the '%%timeit' function in the cell above and compare it to the length of time OPeNDAP method takes in the cell below. "
   ]
  },
  {
   "cell_type": "code",
   "execution_count": 19,
   "metadata": {
    "collapsed": true
   },
   "outputs": [],
   "source": [
    "f = Dataset('http://dapds00.nci.org.au/thredds/dodsC/rr5/satellite/obs/himawari8/FLDK/2016/01/03/0030/20160103003000-P1S-ABOM_BRF_B02-PRJ_GEOS141_2000-HIMAWARI8-AHI.nc', 'r')"
   ]
  },
  {
   "cell_type": "markdown",
   "metadata": {},
   "source": [
    "#### After opening the file with the OPeNDAP address, the file can be handled no differently to the above in situ example. "
   ]
  },
  {
   "cell_type": "code",
   "execution_count": 20,
   "metadata": {
    "collapsed": false,
    "scrolled": true
   },
   "outputs": [
    {
     "name": "stdout",
     "output_type": "stream",
     "text": [
      "time <type 'netCDF4._netCDF4.Dimension'> (unlimited): name = 'time', size = 1\n",
      "\n",
      "x <type 'netCDF4._netCDF4.Dimension'>: name = 'x', size = 5500\n",
      "\n",
      "y <type 'netCDF4._netCDF4.Dimension'>: name = 'y', size = 5500\n",
      "\n"
     ]
    }
   ],
   "source": [
    "## Display dimensions for file\n",
    "for item in f.dimensions:\n",
    "    print item, f.dimensions[item]"
   ]
  },
  {
   "cell_type": "code",
   "execution_count": 21,
   "metadata": {
    "collapsed": false
   },
   "outputs": [],
   "source": [
    "##    %%timeit\n",
    "\n",
    "i1 = 1000\n",
    "i2 = 4000\n",
    "ch02 = f['channel_0002_brf'][0, i1:i2, i1:i2]\n",
    "y = f.variables['y'][i1:i2]\n",
    "x = f.variables['x'][i1:i2]"
   ]
  },
  {
   "cell_type": "code",
   "execution_count": 22,
   "metadata": {
    "collapsed": false
   },
   "outputs": [
    {
     "data": {
      "text/plain": [
       "<matplotlib.contour.QuadContourSet at 0x7eff2d32e290>"
      ]
     },
     "execution_count": 22,
     "metadata": {},
     "output_type": "execute_result"
    },
    {
     "data": {
      "image/png": "[encoded data removed]",
      "text/plain": [
       "<matplotlib.figure.Figure at 0x7efed75d99d0>"
      ]
     },
     "metadata": {},
     "output_type": "display_data"
    }
   ],
   "source": [
    "#%matplotlib inline \n",
    "plt.contourf(x, y, ch02)"
   ]
  },
  {
   "cell_type": "code",
   "execution_count": 23,
   "metadata": {
    "collapsed": false
   },
   "outputs": [
    {
     "name": "stdout",
     "output_type": "stream",
     "text": [
      "Unidata Dataset Discovery v1.0 4.2.1.1 of May 10 2013 10:38:04 $ 79.2637 degree_north\n",
      "<type 'builtin_function_or_method'>\n"
     ]
    }
   ],
   "source": [
    "print f.Metadata_Conventions, f.netCDF_version, f.geospatial_lat_max, f.geospatial_lat_units\n",
    "\n",
    "attrib=f.ncattrs\n",
    "\n",
    "print type(attrib)"
   ]
  },
  {
   "cell_type": "code",
   "execution_count": 1,
   "metadata": {
    "collapsed": false
   },
   "outputs": [
    {
     "data": {
      "text/plain": [
       "16000000"
      ]
     },
     "execution_count": 1,
     "metadata": {},
     "output_type": "execute_result"
    }
   ],
   "source": [
    "15729193 + 270807"
   ]
  }
 ],
 "metadata": {
  "kernelspec": {
   "display_name": "Python 2",
   "language": "python",
   "name": "python2"
  },
  "language_info": {
   "codemirror_mode": {
    "name": "ipython",
    "version": 2
   },
   "file_extension": ".py",
   "mimetype": "text/x-python",
   "name": "python",
   "nbconvert_exporter": "python",
   "pygments_lexer": "ipython2",
   "version": "2.7.11"
  }
 },
 "nbformat": 4,
 "nbformat_minor": 0
}
