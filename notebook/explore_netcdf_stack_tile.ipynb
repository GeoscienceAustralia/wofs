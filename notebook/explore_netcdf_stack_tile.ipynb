{
 "cells": [
  {
   "cell_type": "markdown",
   "metadata": {},
   "source": [
    "#  Python Notebook Example\n",
    "Fei Zhang \n",
    "@GeoscienceAustralia 2016\n",
    "\n",
    "\n",
    "#### Objectives:\n",
    "- Access netCDF data directly from /g/data  \n",
    "- Access netCDF data using OPeNDAP\n"
   ]
  },
  {
   "cell_type": "markdown",
   "metadata": {},
   "source": [
    "### Import libraries"
   ]
  },
  {
   "cell_type": "code",
   "execution_count": 1,
   "metadata": {
    "collapsed": true
   },
   "outputs": [],
   "source": [
    "# Only 2 required for this demo\n",
    "from netCDF4 import Dataset\n",
    "import matplotlib.pyplot as plt"
   ]
  },
  {
   "cell_type": "markdown",
   "metadata": {},
   "source": [
    "### Accessing a file directly on /g/data\n",
    "- Note: This does not yet load/extract data"
   ]
  },
  {
   "cell_type": "code",
   "execution_count": 3,
   "metadata": {
    "collapsed": false
   },
   "outputs": [
    {
     "name": "stdout",
     "output_type": "stream",
     "text": [
      "/g/data/rs0/tiles/EPSG3577/LS5_TM_NBAR/LS5_TM_NBAR_3577_15_-40_2006.nc\r\n"
     ]
    }
   ],
   "source": [
    "!ls /g/data/rs0/tiles/EPSG3577/LS5_TM_NBAR/LS5_TM_NBAR_3577_15_-40_2006.nc"
   ]
  },
  {
   "cell_type": "code",
   "execution_count": 2,
   "metadata": {
    "collapsed": false
   },
   "outputs": [],
   "source": [
    "#f = Dataset('/g/data/rs0/tiles/EPSG3577/LS5_TM_NBAR/LS5_TM_NBAR_3577_15_-40_2006.nc', 'r')\n",
    "f = Dataset('/Softdata/data/water_extents/149_-036/py_stacked_CF.nc', 'r')"
   ]
  },
  {
   "cell_type": "markdown",
   "metadata": {},
   "source": [
    "#### Can use the netCDF4 library to see information about the file\n",
    "The dimension and variables can be also shown by ncdump -h"
   ]
  },
  {
   "cell_type": "code",
   "execution_count": 12,
   "metadata": {
    "collapsed": false,
    "scrolled": true
   },
   "outputs": [
    {
     "name": "stdout",
     "output_type": "stream",
     "text": [
      "latitude <type 'netCDF4._netCDF4.Dimension'>: name = 'latitude', size = 4000\n",
      "\n",
      "longitude <type 'netCDF4._netCDF4.Dimension'>: name = 'longitude', size = 4000\n",
      "\n",
      "time <type 'netCDF4._netCDF4.Dimension'>: name = 'time', size = 1787\n",
      "\n"
     ]
    }
   ],
   "source": [
    "## Display dimensions for file\n",
    "for item in f.dimensions:\n",
    "    print item, f.dimensions[item]"
   ]
  },
  {
   "cell_type": "code",
   "execution_count": 13,
   "metadata": {
    "collapsed": false
   },
   "outputs": [
    {
     "name": "stdout",
     "output_type": "stream",
     "text": [
      "Variable: \tcrs\n",
      "Dimensions: \t()\n",
      "Shape:    \t() \n",
      "\n",
      "Variable: \tlatitude\n",
      "Dimensions: \t(u'latitude',)\n",
      "Shape:    \t(4000,) \n",
      "\n",
      "Variable: \tlongitude\n",
      "Dimensions: \t(u'longitude',)\n",
      "Shape:    \t(4000,) \n",
      "\n",
      "Variable: \ttime\n",
      "Dimensions: \t(u'time',)\n",
      "Shape:    \t(1787,) \n",
      "\n",
      "Variable: \tData\n",
      "Dimensions: \t(u'time', u'latitude', u'longitude')\n",
      "Shape:    \t(1787, 4000, 4000) \n",
      "\n"
     ]
    }
   ],
   "source": [
    "## Look at variables\n",
    "vars = f.variables.keys()\n",
    "for item in vars:\n",
    "    print 'Variable: \\t', item\n",
    "    print 'Dimensions: \\t', f[item].dimensions\n",
    "    print 'Shape:    \\t', f[item].shape, '\\n'"
   ]
  },
  {
   "cell_type": "markdown",
   "metadata": {},
   "source": [
    "#### Extracting data\n",
    "- A really nice feature of netCDF/HDF files is that you can extract subsets without having to load entire file into memory"
   ]
  },
  {
   "cell_type": "code",
   "execution_count": 11,
   "metadata": {
    "collapsed": false
   },
   "outputs": [],
   "source": [
    "## %%timeit\n",
    "\n",
    "i1 = 4000\n",
    "i2 = 4000\n",
    "\n",
    "t=f.variables['time']\n",
    "#y = f.variables['y'][:i1]\n",
    "#x = f.variables['x'][:i2]\n",
    "\n",
    "#band1 = f['band_1'][0:10, :, :]"
   ]
  },
  {
   "cell_type": "code",
   "execution_count": 14,
   "metadata": {
    "collapsed": false
   },
   "outputs": [
    {
     "data": {
      "text/plain": [
       "<type 'netCDF4._netCDF4.Variable'>\n",
       "float64 time(time)\n",
       "    standard_name: epochtime\n",
       "    long_name: Time, unix time-stamp\n",
       "    axis: T\n",
       "    calendar: standard\n",
       "    units: seconds since 1970-01-01 00:00:00\n",
       "unlimited dimensions: \n",
       "current shape = (1787,)\n",
       "filling on, default _FillValue of 9.96920996839e+36 used"
      ]
     },
     "execution_count": 14,
     "metadata": {},
     "output_type": "execute_result"
    }
   ],
   "source": [
    "t"
   ]
  },
  {
   "cell_type": "code",
   "execution_count": 15,
   "metadata": {
    "collapsed": false
   },
   "outputs": [
    {
     "data": {
      "text/plain": [
       "numpy.ma.core.MaskedArray"
      ]
     },
     "execution_count": 15,
     "metadata": {},
     "output_type": "execute_result"
    }
   ],
   "source": [
    "type (b1)"
   ]
  },
  {
   "cell_type": "code",
   "execution_count": 15,
   "metadata": {
    "collapsed": false
   },
   "outputs": [],
   "source": [
    "delta_t= t[1:]-t[:-1]"
   ]
  },
  {
   "cell_type": "code",
   "execution_count": 18,
   "metadata": {
    "collapsed": false
   },
   "outputs": [
    {
     "name": "stdout",
     "output_type": "stream",
     "text": [
      "[ 79206.95        56167.7         12953.65       ...,  10086.3\n",
      "  12953.91666667  33126.53333333]\n"
     ]
    }
   ],
   "source": [
    "print delta_t/60"
   ]
  },
  {
   "cell_type": "code",
   "execution_count": 20,
   "metadata": {
    "collapsed": false
   },
   "outputs": [
    {
     "data": {
      "text/plain": [
       "(1786,)"
      ]
     },
     "execution_count": 20,
     "metadata": {},
     "output_type": "execute_result"
    }
   ],
   "source": [
    "delta_t.shape"
   ]
  },
  {
   "cell_type": "code",
   "execution_count": 22,
   "metadata": {
    "collapsed": false
   },
   "outputs": [
    {
     "data": {
      "text/plain": [
       "DescribeResult(nobs=1786, minmax=(24.0, 8294380.0), mean=506501.10806270997, variance=297278471018.13116, skewness=4.056896503260127, kurtosis=36.36598304336962)"
      ]
     },
     "execution_count": 22,
     "metadata": {},
     "output_type": "execute_result"
    }
   ],
   "source": [
    "from scipy import stats\n",
    "stats.describe(delta_t)"
   ]
  },
  {
   "cell_type": "code",
   "execution_count": 23,
   "metadata": {
    "collapsed": false
   },
   "outputs": [
    {
     "data": {
      "text/plain": [
       "[<matplotlib.lines.Line2D at 0x7f797c297f50>]"
      ]
     },
     "execution_count": 23,
     "metadata": {},
     "output_type": "execute_result"
    }
   ],
   "source": [
    "plt.plot(delta_t)"
   ]
  },
  {
   "cell_type": "code",
   "execution_count": 25,
   "metadata": {
    "collapsed": false
   },
   "outputs": [],
   "source": [
    "plt.show()"
   ]
  },
  {
   "cell_type": "markdown",
   "metadata": {},
   "source": [
    "### Plotting  with user input parameter\n",
    "Interactive visualization"
   ]
  },
  {
   "cell_type": "code",
   "execution_count": 18,
   "metadata": {
    "collapsed": false
   },
   "outputs": [
    {
     "data": {
      "text/plain": [
       "<matplotlib.contour.QuadContourSet at 0x7efed76a9290>"
      ]
     },
     "execution_count": 18,
     "metadata": {},
     "output_type": "execute_result"
    },
    {
     "data": {
      "image/png": "[encoded data removed]",
      "text/plain": [
       "<matplotlib.figure.Figure at 0x7eff1ddb5d50>"
      ]
     },
     "metadata": {},
     "output_type": "display_data"
    }
   ],
   "source": [
    "%matplotlib inline \n",
    "plt.contourf(x, y, b1[2,:,:])"
   ]
  },
  {
   "cell_type": "markdown",
   "metadata": {},
   "source": [
    "### Accessing a file using OPeNDAP\n",
    "- Advantage: If dataset available, you can access from anywhere just as you'd call a local file. \n",
    "- Disadvantage: Not as fast as having the file locally. \n",
    "\n",
    "Note: You can see how fast the data extraction was with the '%%timeit' function in the cell above and compare it to the length of time OPeNDAP method takes in the cell below. "
   ]
  },
  {
   "cell_type": "code",
   "execution_count": 19,
   "metadata": {
    "collapsed": true
   },
   "outputs": [],
   "source": [
    "f = Dataset('http://dapds00.nci.org.au/thredds/dodsC/rr5/satellite/obs/himawari8/FLDK/2016/01/03/0030/20160103003000-P1S-ABOM_BRF_B02-PRJ_GEOS141_2000-HIMAWARI8-AHI.nc', 'r')"
   ]
  },
  {
   "cell_type": "markdown",
   "metadata": {},
   "source": [
    "#### After opening the file with the OPeNDAP address, the file can be handled no differently to the above in situ example. "
   ]
  },
  {
   "cell_type": "code",
   "execution_count": 20,
   "metadata": {
    "collapsed": false,
    "scrolled": true
   },
   "outputs": [
    {
     "name": "stdout",
     "output_type": "stream",
     "text": [
      "time <type 'netCDF4._netCDF4.Dimension'> (unlimited): name = 'time', size = 1\n",
      "\n",
      "x <type 'netCDF4._netCDF4.Dimension'>: name = 'x', size = 5500\n",
      "\n",
      "y <type 'netCDF4._netCDF4.Dimension'>: name = 'y', size = 5500\n",
      "\n"
     ]
    }
   ],
   "source": [
    "## Display dimensions for file\n",
    "for item in f.dimensions:\n",
    "    print item, f.dimensions[item]"
   ]
  },
  {
   "cell_type": "code",
   "execution_count": 21,
   "metadata": {
    "collapsed": false
   },
   "outputs": [],
   "source": [
    "##    %%timeit\n",
    "\n",
    "i1 = 1000\n",
    "i2 = 4000\n",
    "ch02 = f['channel_0002_brf'][0, i1:i2, i1:i2]\n",
    "y = f.variables['y'][i1:i2]\n",
    "x = f.variables['x'][i1:i2]"
   ]
  },
  {
   "cell_type": "code",
   "execution_count": 22,
   "metadata": {
    "collapsed": false
   },
   "outputs": [
    {
     "data": {
      "text/plain": [
       "<matplotlib.contour.QuadContourSet at 0x7eff2d32e290>"
      ]
     },
     "execution_count": 22,
     "metadata": {},
     "output_type": "execute_result"
    },
    {
     "data": {
      "image/png": "[encoded data removed]",
      "text/plain": [
       "<matplotlib.figure.Figure at 0x7efed75d99d0>"
      ]
     },
     "metadata": {},
     "output_type": "display_data"
    }
   ],
   "source": [
    "%matplotlib inline \n",
    "plt.contourf(x, y, ch02)"
   ]
  },
  {
   "cell_type": "code",
   "execution_count": 23,
   "metadata": {
    "collapsed": false
   },
   "outputs": [
    {
     "name": "stdout",
     "output_type": "stream",
     "text": [
      "Unidata Dataset Discovery v1.0 4.2.1.1 of May 10 2013 10:38:04 $ 79.2637 degree_north\n",
      "<type 'builtin_function_or_method'>\n"
     ]
    }
   ],
   "source": [
    "print f.Metadata_Conventions, f.netCDF_version, f.geospatial_lat_max, f.geospatial_lat_units\n",
    "\n",
    "attrib=f.ncattrs\n",
    "\n",
    "print type(attrib)"
   ]
  }
 ],
 "metadata": {
  "kernelspec": {
   "display_name": "Python 2",
   "language": "python",
   "name": "python2"
  },
  "language_info": {
   "codemirror_mode": {
    "name": "ipython",
    "version": 2
   },
   "file_extension": ".py",
   "mimetype": "text/x-python",
   "name": "python",
   "nbconvert_exporter": "python",
   "pygments_lexer": "ipython2",
   "version": "2.7.11"
  }
 },
 "nbformat": 4,
 "nbformat_minor": 0
}
