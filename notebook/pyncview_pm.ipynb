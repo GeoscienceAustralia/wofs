{
 "cells": [
  {
   "cell_type": "markdown",
   "metadata": {},
   "source": [
    "**Task:**\n",
    "\n",
    "    Work with data interactively\n",
    "   \n",
    "**Solution:**\n",
    "\n",
    "    IPython widgets, interact"
   ]
  },
  {
   "cell_type": "markdown",
   "metadata": {},
   "source": [
    "[Notebook file](http://nbviewer.ipython.org/urls/raw.github.com/koldunovn/earthpy.org/master/content/notebooks/pyncview_pm.ipynb)"
   ]
  },
  {
   "cell_type": "markdown",
   "metadata": {},
   "source": [
    "I always wanted to write a GUI to explore my data. This is probably one of the things that you can't get rid of as a former hardcore Windows user. You need all this buttons and sliders and check boxes, or at least you think you do. But every time I looked at GUI toolkits for python I was bored after 10 minutes of reading. I just want to show the plot and control couple of variables, and in order to do so I have to learn first how to place elements on the canvas, create handlers and so on and so forth. Boring and not worth it.\n",
    "\n",
    "Now with IPython 2.0 widgets and `interact` command my dream come true - I can build a GUI for my data visualisation basically with one line of code. Below I will show how to create simple interactive visualization of geophysical variables from netCDF files. It is sort of quick and dirty replacement for great [ncview program](http://meteora.ucsd.edu/~pierce/ncview_home_page.html), but at the same time it allows you to have much more control over how and what to display.\n",
    "\n",
    "**This notebook is going to work properly only in IPython >= 2.0, and you would have to run it on your computer - web version will not be able to show you the widgets.**"
   ]
  },
  {
   "cell_type": "markdown",
   "metadata": {},
   "source": [
    "Necessary inputs:"
   ]
  },
  {
   "cell_type": "code",
   "execution_count": null,
   "metadata": {
    "collapsed": false
   },
   "outputs": [],
   "source": [
    "from netCDF4 import Dataset, num2date, date2num\n",
    "from IPython.html.widgets import *\n",
    "%matplotlib inline\n",
    "import matplotlib.pyplot as plt\n",
    "from numpy import linspace\n",
    "import numpy as np"
   ]
  },
  {
   "cell_type": "markdown",
   "metadata": {},
   "source": [
    "First let's have a look at simple sine wave with frequency `f`"
   ]
  },
  {
   "cell_type": "code",
   "execution_count": null,
   "metadata": {
    "collapsed": false
   },
   "outputs": [],
   "source": [
    "x=linspace(0,1,100)\n",
    "f=2"
   ]
  },
  {
   "cell_type": "code",
   "execution_count": null,
   "metadata": {
    "collapsed": false
   },
   "outputs": [],
   "source": [
    "plt.plot(x,np.sin(2*np.pi*x*f));"
   ]
  },
  {
   "cell_type": "markdown",
   "metadata": {},
   "source": [
    "We can also create a function out of this line and provide frequency as an argument:"
   ]
  },
  {
   "cell_type": "code",
   "execution_count": null,
   "metadata": {
    "collapsed": false
   },
   "outputs": [],
   "source": [
    "def pltsin(f):\n",
    "    plt.plot(x,np.sin(2*np.pi*x*f))"
   ]
  },
  {
   "cell_type": "markdown",
   "metadata": {},
   "source": [
    "In order to plot with different frequencies we have to always change the value of input argument:"
   ]
  },
  {
   "cell_type": "code",
   "execution_count": null,
   "metadata": {
    "collapsed": false
   },
   "outputs": [],
   "source": [
    "pltsin(9)"
   ]
  },
  {
   "cell_type": "markdown",
   "metadata": {},
   "source": [
    "Bet there is a better way to do this - use `interact`. You give it the name of the function as a first argument, and parameter that you would like to vary (`f` in our case) with some limits (from 1 to 10) and step (0.1)."
   ]
  },
  {
   "cell_type": "code",
   "execution_count": null,
   "metadata": {
    "collapsed": false
   },
   "outputs": [],
   "source": [
    "interact(pltsin, f=(1,10,0.1));"
   ]
  },
  {
   "cell_type": "markdown",
   "metadata": {},
   "source": [
    "Now you can interactively change frequency and immediately see the result. This slider will work with both mouse and arrow keys."
   ]
  },
  {
   "cell_type": "markdown",
   "metadata": {},
   "source": [
    "Let’s add another parameter - amplitude (`a`):"
   ]
  },
  {
   "cell_type": "markdown",
   "metadata": {},
   "source": [
    "Now we have to sliders, and we can vary two parameters independently."
   ]
  },
  {
   "cell_type": "markdown",
   "metadata": {},
   "source": [
    "Now for something completely different. We going to explore netCDF data with `interact`, but first we have to download them. Here is a little script, that will download daily air temperature, relative humidity, and wind components from NCEP reanalysis:"
   ]
  },
  {
   "cell_type": "code",
   "execution_count": null,
   "metadata": {
    "collapsed": false
   },
   "outputs": [],
   "source": [
    "variabs = ['air', 'uwnd', 'vwnd', 'rhum']\n",
    "for vvv in variabs:\n",
    "    for i in range(2000,2001):\n",
    "        !wget ftp://ftp.cdc.noaa.gov/Datasets/ncep.reanalysis.dailyavgs/surface/{vvv}.sig995.{i}.nc"
   ]
  },
  {
   "cell_type": "markdown",
   "metadata": {},
   "source": [
    "First consider simplest one file case. We open the file:"
   ]
  },
  {
   "cell_type": "code",
   "execution_count": null,
   "metadata": {
    "collapsed": false
   },
   "outputs": [],
   "source": [
    "f = Dataset('air.sig995.2000.nc')"
   ]
  },
  {
   "cell_type": "markdown",
   "metadata": {},
   "source": [
    "Get our variable:"
   ]
  },
  {
   "cell_type": "code",
   "execution_count": null,
   "metadata": {
    "collapsed": false
   },
   "outputs": [],
   "source": [
    "air = f.variables['air']"
   ]
  },
  {
   "cell_type": "markdown",
   "metadata": {},
   "source": [
    "And display first time step:"
   ]
  },
  {
   "cell_type": "code",
   "execution_count": null,
   "metadata": {
    "collapsed": false
   },
   "outputs": [],
   "source": [
    "plt.imshow(air[0,:,:])"
   ]
  },
  {
   "cell_type": "markdown",
   "metadata": {},
   "source": [
    "Obvious thing to do is to browse through days. We make our plotting function:"
   ]
  },
  {
   "cell_type": "code",
   "execution_count": null,
   "metadata": {
    "collapsed": false
   },
   "outputs": [],
   "source": [
    "def sh(time):\n",
    "    plt.imshow(air[time,:,:])"
   ]
  },
  {
   "cell_type": "markdown",
   "metadata": {},
   "source": [
    "That will take day's number as an argument:"
   ]
  },
  {
   "cell_type": "code",
   "execution_count": null,
   "metadata": {
    "collapsed": false
   },
   "outputs": [],
   "source": [
    "sh(0)"
   ]
  },
  {
   "cell_type": "markdown",
   "metadata": {},
   "source": [
    "And make it interactive:"
   ]
  },
  {
   "cell_type": "code",
   "execution_count": null,
   "metadata": {
    "collapsed": false
   },
   "outputs": [],
   "source": [
    "interact(sh, time=(0,355,1));"
   ]
  },
  {
   "cell_type": "markdown",
   "metadata": {},
   "source": [
    "But what if we would like to switch between variables? We can do this by adding another argument (we just open different files):"
   ]
  },
  {
   "cell_type": "code",
   "execution_count": null,
   "metadata": {
    "collapsed": false
   },
   "outputs": [],
   "source": [
    "def sh(var='air', time=0):\n",
    "    f = Dataset(var+'.sig995.2000.nc')\n",
    "    vv = f.variables[var]\n",
    "    plt.imshow(vv[time,:,:])"
   ]
  },
  {
   "cell_type": "markdown",
   "metadata": {},
   "source": [
    "For our `interact` function we also have to have list of all possible variables:"
   ]
  },
  {
   "cell_type": "code",
   "execution_count": null,
   "metadata": {
    "collapsed": false
   },
   "outputs": [],
   "source": [
    "variabs = ['air', 'uwnd', 'vwnd', 'rhum']"
   ]
  },
  {
   "cell_type": "code",
   "execution_count": null,
   "metadata": {
    "collapsed": false
   },
   "outputs": [],
   "source": [
    "interact(sh, time=(0,355,1), var=variabs);"
   ]
  },
  {
   "cell_type": "markdown",
   "metadata": {},
   "source": [
    "Since we give is a list, `interact` creates not a slider, but drop-down list."
   ]
  },
  {
   "cell_type": "markdown",
   "metadata": {},
   "source": [
    "Let's add years to the picture:"
   ]
  },
  {
   "cell_type": "code",
   "execution_count": null,
   "metadata": {
    "collapsed": false
   },
   "outputs": [],
   "source": [
    "def sh(year='2000',var='air', time=0):\n",
    "    f = Dataset(var+'.sig995.'+year+'.nc')\n",
    "    vv = f.variables[var]\n",
    "    plt.imshow(vv[time,:,:])"
   ]
  },
  {
   "cell_type": "markdown",
   "metadata": {},
   "source": [
    "I don't want to select years with slider, I want them to be also a drop down list, so I form the the list with years: "
   ]
  },
  {
   "cell_type": "code",
   "execution_count": null,
   "metadata": {
    "collapsed": false
   },
   "outputs": [],
   "source": [
    "years = [str(x) for x in range(2000,2010)]"
   ]
  },
  {
   "cell_type": "code",
   "execution_count": null,
   "metadata": {
    "collapsed": false
   },
   "outputs": [],
   "source": [
    "interact(sh, year=years, time=(0,355,1), var=variabs);"
   ]
  },
  {
   "cell_type": "markdown",
   "metadata": {},
   "source": [
    "Two drop-down lists and a slider. Already looks pretty much like a serious GUI and all in just a few lines of code."
   ]
  },
  {
   "cell_type": "markdown",
   "metadata": {},
   "source": [
    "The problem with previous versions is that color scale is jumping together with data. This is not always nice, especially if we want to compare things. So let's add a check-box (boolean variable) that will switch from \"jumping\" to constant color scale, and upper and lower limits:"
   ]
  },
  {
   "cell_type": "code",
   "execution_count": null,
   "metadata": {
    "collapsed": false
   },
   "outputs": [],
   "source": [
    "def sh(year='2000',var='air', FixedColor=False, vm=-3., vma=0., time=0):\n",
    "    f = Dataset(var+'.sig995.'+year+'.nc')\n",
    "    vv = f.variables[var]\n",
    "    if FixedColor==False:\n",
    "        plt.imshow(vv[time,:,:])\n",
    "        colorbar()\n",
    "    else:\n",
    "        plt.imshow(vv[time,:,:], vmin=vm, vmax=vma)\n",
    "        colorbar()"
   ]
  },
  {
   "cell_type": "code",
   "execution_count": null,
   "metadata": {
    "collapsed": false
   },
   "outputs": [],
   "source": [
    "interact(sh, year=years, time=(0,355,1), var=variabs,\\\n",
    "         vm=FloatTextWidget(value=250), vma=FloatTextWidget(value=300));"
   ]
  },
  {
   "cell_type": "markdown",
   "metadata": {},
   "source": [
    "Here in case of the limits it is not clear what widget `interact` should use, so you can provide the name of it directly. The list of widgets is quite long and can be obtained like this: "
   ]
  },
  {
   "cell_type": "code",
   "execution_count": null,
   "metadata": {
    "collapsed": false
   },
   "outputs": [],
   "source": [
    "from IPython.html import widgets\n",
    "[widget for widget in dir(widgets) if widget.endswith('Widget')]"
   ]
  },
  {
   "cell_type": "markdown",
   "metadata": {},
   "source": [
    "Often you want to have not just simple *heat-map* representation of your data, but really the map. You can do this with help of Basemap. It will work surprisingly fast (at least in case of this small data)."
   ]
  },
  {
   "cell_type": "code",
   "execution_count": null,
   "metadata": {
    "collapsed": false
   },
   "outputs": [],
   "source": [
    "from mpl_toolkits.basemap import Basemap"
   ]
  },
  {
   "cell_type": "code",
   "execution_count": null,
   "metadata": {
    "collapsed": false
   },
   "outputs": [],
   "source": [
    "m = Basemap(projection='npstere',boundinglat=60,lon_0=0,resolution='l')"
   ]
  },
  {
   "cell_type": "code",
   "execution_count": null,
   "metadata": {
    "collapsed": false
   },
   "outputs": [],
   "source": [
    "lon = f.variables['lon'][:]\n",
    "lat = f.variables['lat'][:]\n",
    "lon, lat = np.meshgrid(lon, lat)\n",
    "x, y = m(lon, lat)"
   ]
  },
  {
   "cell_type": "code",
   "execution_count": null,
   "metadata": {
    "collapsed": false
   },
   "outputs": [],
   "source": [
    "def sh(year='2000',var='air', FixedColor=False, vm=-3., vma=0., inte=10, time=0):\n",
    "    f = Dataset(var+'.sig995.'+year+'.nc')\n",
    "    vv = f.variables[var]\n",
    "    tt = f.variables['time']\n",
    "    dd = num2date(tt[time], tt.units)\n",
    "    if FixedColor==False:\n",
    "        m.fillcontinents(color='gray',lake_color='gray')\n",
    "        m.drawparallels(np.arange(-80.,81.,20.))\n",
    "        m.drawmeridians(np.arange(-180.,181.,20.))\n",
    "        m.drawmapboundary(fill_color='white')\n",
    "        cs = m.contourf(x,y,vv[time,:,:]-273.15)\n",
    "        #imshow(vv[time,:,:])\n",
    "        colorbar()\n",
    "        title(str(dd))\n",
    "        \n",
    "    else:\n",
    "        m.fillcontinents(color='gray',lake_color='gray')\n",
    "        m.drawparallels(np.arange(-80.,81.,20.))\n",
    "        m.drawmeridians(np.arange(-180.,181.,20.))\n",
    "        m.drawmapboundary(fill_color='white')\n",
    "        cs = m.contourf(x,y,vv[time,:,:]-273.15, levels = linspace(vm,vma,inte))\n",
    "        #imshow(vv[time,:,:])\n",
    "        colorbar()\n",
    "        title(str(dd))"
   ]
  },
  {
   "cell_type": "code",
   "execution_count": null,
   "metadata": {
    "collapsed": false
   },
   "outputs": [],
   "source": [
    "interact(sh, year=years, time=(0,355,1), var=variabs,\\\n",
    "         vm=FloatTextWidget(value=250), vma=FloatTextWidget(value=300), inte=FloatTextWidget(value=10));"
   ]
  }
 ],
 "metadata": {
  "kernelspec": {
   "display_name": "Python 2",
   "language": "python",
   "name": "python2"
  },
  "language_info": {
   "codemirror_mode": {
    "name": "ipython",
    "version": 2
   },
   "file_extension": ".py",
   "mimetype": "text/x-python",
   "name": "python",
   "nbconvert_exporter": "python",
   "pygments_lexer": "ipython2",
   "version": "2.7.11"
  }
 },
 "nbformat": 4,
 "nbformat_minor": 0
}
